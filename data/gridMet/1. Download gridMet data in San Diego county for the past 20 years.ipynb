{
 "cells": [
  {
   "cell_type": "code",
   "execution_count": 1,
   "metadata": {},
   "outputs": [],
   "source": [
    "import pydap.client\n",
    "import numpy as np\n",
    "import pandas as pd\n",
    "import datetime\n",
    "from tqdm.notebook import tqdm\n",
    "End_Year = 2019\n",
    "Start_Year = 2018"
   ]
  },
  {
   "cell_type": "code",
   "execution_count": 2,
   "metadata": {},
   "outputs": [],
   "source": [
    "url_dict = {}\n",
    "url_dict['Precip']='http://thredds.northwestknowledge.net:8080/thredds/dodsC/MET/pr/pr_'\n",
    "url_dict['Rhumiditymax']='http://thredds.northwestknowledge.net:8080/thredds/dodsC/MET/rmax/rmax_'\n",
    "# url_dict['Rhumiditymin']='http://thredds.northwestknowledge.net:8080/thredds/dodsC/MET/rmin/rmin_'\n",
    "# url_dict['Shumidit']='http://thredds.northwestknowledge.net:8080/thredds/dodsC/MET/sph/sph_'\n",
    "# url_dict['Sradiation']='http://thredds.northwestknowledge.net:8080/thredds/dodsC/MET/srad/srad_'\n",
    "# url_dict['WindFromDir']='http://thredds.northwestknowledge.net:8080/thredds/dodsC/MET/th/th_'\n",
    "# url_dict['WindVelocity']='http://thredds.northwestknowledge.net:8080/thredds/dodsC/MET/vs/vs_'\n",
    "# url_dict['Tempmax']='http://thredds.northwestknowledge.net:8080/thredds/dodsC/MET/tmmx/tmmx_'\n",
    "# url_dict['Tempmin']='http://thredds.northwestknowledge.net:8080/thredds/dodsC/MET/tmmn/tmmn_'\n",
    "# url_dict['BurningIndex']='http://thredds.northwestknowledge.net:8080/thredds/dodsC/MET/bi/bi_'\n",
    "# url_dict['FuelMoist100']='http://thredds.northwestknowledge.net:8080/thredds/dodsC/MET/fm100/fm100_'\n",
    "# url_dict['FuelMoist1000']='http://thredds.northwestknowledge.net:8080/thredds/dodsC/MET/fm1000/fm1000_'\n",
    "# url_dict['EnergyRelease']='http://thredds.northwestknowledge.net:8080/thredds/dodsC/MET/erc/erc_'\n",
    "# url_dict['DroughtSeverity']='http://thredds.northwestknowledge.net:8080/thredds/dodsC/MET/pdsi/pdsi_'\n",
    "# url_dict['EvapoTranspiration']='http://thredds.northwestknowledge.net:8080/thredds/dodsC/MET/etr/etr_'\n",
    "# url_dict['EvapoTranspir_G']='http://thredds.northwestknowledge.net:8080/thredds/dodsC/MET/pet/pet_'\n",
    "# url_dict['VaporPressDeficit']='http://thredds.northwestknowledge.net:8080/thredds/dodsC/MET/vpd/vpd_'"
   ]
  },
  {
   "cell_type": "code",
   "execution_count": 3,
   "metadata": {},
   "outputs": [],
   "source": [
    "base_url_part = 'http://thredds.northwestknowledge.net:8080/thredds/dodsC/MET/pr/pr_'\n",
    "url = base_url_part + str(End_Year) + '.nc'\n",
    "dataset = pydap.client.open_url(url)"
   ]
  },
  {
   "cell_type": "code",
   "execution_count": 4,
   "metadata": {},
   "outputs": [
    {
     "data": {
      "text/plain": [
       "((585,), (1386,))"
      ]
     },
     "execution_count": 4,
     "metadata": {},
     "output_type": "execute_result"
    }
   ],
   "source": [
    "#Slice the Bounding Box we wanted here.\n",
    "lon_ = dataset['lon']\n",
    "lon = lon_[:].data\n",
    "lat_ = dataset['lat']\n",
    "lat = lat_[:].data\n",
    "\n",
    "import numpy as np\n",
    "SD_county_lats = np.where((lat<33.6) & (lat>32.4))[0]\n",
    "SD_county_lons = np.where((lon<-116.0) & (lon>-118))[0]\n",
    "\n",
    "lat.shape, lon.shape"
   ]
  },
  {
   "cell_type": "code",
   "execution_count": 5,
   "metadata": {},
   "outputs": [
    {
     "data": {
      "text/plain": [
       "(380, 408, 163, 210)"
      ]
     },
     "execution_count": 5,
     "metadata": {},
     "output_type": "execute_result"
    }
   ],
   "source": [
    "lat_begin, lat_end = SD_county_lats[0], SD_county_lats[-1]\n",
    "lon_begin, lon_end = SD_county_lons[0], SD_county_lons[-1]\n",
    "lat_begin, lat_end, lon_begin, lon_end "
   ]
  },
  {
   "cell_type": "code",
   "execution_count": 6,
   "metadata": {},
   "outputs": [
    {
     "data": {
      "application/vnd.jupyter.widget-view+json": {
       "model_id": "67ac4f61e3d0483fb4f459af29ecb34d",
       "version_major": 2,
       "version_minor": 0
      },
      "text/plain": [
       "HBox(children=(FloatProgress(value=0.0, max=2.0), HTML(value='')))"
      ]
     },
     "metadata": {},
     "output_type": "display_data"
    },
    {
     "name": "stdout",
     "output_type": "stream",
     "text": [
      "Downloading data for year 2019\n"
     ]
    },
    {
     "data": {
      "application/vnd.jupyter.widget-view+json": {
       "model_id": "43a8804fb1df4e35bb15214600d68862",
       "version_major": 2,
       "version_minor": 0
      },
      "text/plain": [
       "HBox(children=(FloatProgress(value=0.0, max=2.0), HTML(value='')))"
      ]
     },
     "metadata": {},
     "output_type": "display_data"
    },
    {
     "name": "stdout",
     "output_type": "stream",
     "text": [
      "Processing for http://thredds.northwestknowledge.net:8080/thredds/dodsC/MET/pr/pr_\n",
      "http://thredds.northwestknowledge.net:8080/thredds/dodsC/MET/pr/pr_2019.nc\n",
      "precipitation_amount\n",
      "Data downloaded\n",
      "Processing for http://thredds.northwestknowledge.net:8080/thredds/dodsC/MET/rmax/rmax_\n",
      "http://thredds.northwestknowledge.net:8080/thredds/dodsC/MET/rmax/rmax_2019.nc\n",
      "relative_humidity\n",
      "Data downloaded\n",
      "\n"
     ]
    },
    {
     "data": {
      "text/html": [
       "<div>\n",
       "<style scoped>\n",
       "    .dataframe tbody tr th:only-of-type {\n",
       "        vertical-align: middle;\n",
       "    }\n",
       "\n",
       "    .dataframe tbody tr th {\n",
       "        vertical-align: top;\n",
       "    }\n",
       "\n",
       "    .dataframe thead th {\n",
       "        text-align: right;\n",
       "    }\n",
       "</style>\n",
       "<table border=\"1\" class=\"dataframe\">\n",
       "  <thead>\n",
       "    <tr style=\"text-align: right;\">\n",
       "      <th></th>\n",
       "      <th></th>\n",
       "      <th></th>\n",
       "      <th>precipitation_amount_mm</th>\n",
       "      <th>relative_humidity_%</th>\n",
       "    </tr>\n",
       "    <tr>\n",
       "      <th>date</th>\n",
       "      <th>latitude</th>\n",
       "      <th>longitude</th>\n",
       "      <th></th>\n",
       "      <th></th>\n",
       "    </tr>\n",
       "  </thead>\n",
       "  <tbody>\n",
       "    <tr>\n",
       "      <th rowspan=\"3\" valign=\"top\">2019-01-01</th>\n",
       "      <th rowspan=\"3\" valign=\"top\">33.566667</th>\n",
       "      <th>-117.975000</th>\n",
       "      <td>0.0</td>\n",
       "      <td>496.0</td>\n",
       "    </tr>\n",
       "    <tr>\n",
       "      <th>-117.933333</th>\n",
       "      <td>0.0</td>\n",
       "      <td>478.0</td>\n",
       "    </tr>\n",
       "    <tr>\n",
       "      <th>-117.891667</th>\n",
       "      <td>0.0</td>\n",
       "      <td>470.0</td>\n",
       "    </tr>\n",
       "  </tbody>\n",
       "</table>\n",
       "</div>"
      ],
      "text/plain": [
       "                                  precipitation_amount_mm  relative_humidity_%\n",
       "date       latitude  longitude                                                \n",
       "2019-01-01 33.566667 -117.975000                      0.0                496.0\n",
       "                     -117.933333                      0.0                478.0\n",
       "                     -117.891667                      0.0                470.0"
      ]
     },
     "metadata": {},
     "output_type": "display_data"
    },
    {
     "name": "stdout",
     "output_type": "stream",
     "text": [
      "Downloading data for year 2018\n"
     ]
    },
    {
     "data": {
      "application/vnd.jupyter.widget-view+json": {
       "model_id": "ba0a9abc04554dd0a84ee9625aaaf263",
       "version_major": 2,
       "version_minor": 0
      },
      "text/plain": [
       "HBox(children=(FloatProgress(value=0.0, max=2.0), HTML(value='')))"
      ]
     },
     "metadata": {},
     "output_type": "display_data"
    },
    {
     "name": "stdout",
     "output_type": "stream",
     "text": [
      "Processing for http://thredds.northwestknowledge.net:8080/thredds/dodsC/MET/pr/pr_\n",
      "http://thredds.northwestknowledge.net:8080/thredds/dodsC/MET/pr/pr_2018.nc\n",
      "precipitation_amount\n",
      "Data downloaded\n",
      "Processing for http://thredds.northwestknowledge.net:8080/thredds/dodsC/MET/rmax/rmax_\n",
      "http://thredds.northwestknowledge.net:8080/thredds/dodsC/MET/rmax/rmax_2018.nc\n",
      "relative_humidity\n",
      "Data downloaded\n",
      "\n"
     ]
    },
    {
     "data": {
      "text/html": [
       "<div>\n",
       "<style scoped>\n",
       "    .dataframe tbody tr th:only-of-type {\n",
       "        vertical-align: middle;\n",
       "    }\n",
       "\n",
       "    .dataframe tbody tr th {\n",
       "        vertical-align: top;\n",
       "    }\n",
       "\n",
       "    .dataframe thead th {\n",
       "        text-align: right;\n",
       "    }\n",
       "</style>\n",
       "<table border=\"1\" class=\"dataframe\">\n",
       "  <thead>\n",
       "    <tr style=\"text-align: right;\">\n",
       "      <th></th>\n",
       "      <th></th>\n",
       "      <th></th>\n",
       "      <th>precipitation_amount_mm</th>\n",
       "      <th>relative_humidity_%</th>\n",
       "    </tr>\n",
       "    <tr>\n",
       "      <th>date</th>\n",
       "      <th>latitude</th>\n",
       "      <th>longitude</th>\n",
       "      <th></th>\n",
       "      <th></th>\n",
       "    </tr>\n",
       "  </thead>\n",
       "  <tbody>\n",
       "    <tr>\n",
       "      <th rowspan=\"3\" valign=\"top\">2018-01-01</th>\n",
       "      <th rowspan=\"3\" valign=\"top\">33.566667</th>\n",
       "      <th>-117.975000</th>\n",
       "      <td>0.0</td>\n",
       "      <td>968.0</td>\n",
       "    </tr>\n",
       "    <tr>\n",
       "      <th>-117.933333</th>\n",
       "      <td>0.0</td>\n",
       "      <td>954.0</td>\n",
       "    </tr>\n",
       "    <tr>\n",
       "      <th>-117.891667</th>\n",
       "      <td>0.0</td>\n",
       "      <td>941.0</td>\n",
       "    </tr>\n",
       "  </tbody>\n",
       "</table>\n",
       "</div>"
      ],
      "text/plain": [
       "                                  precipitation_amount_mm  relative_humidity_%\n",
       "date       latitude  longitude                                                \n",
       "2018-01-01 33.566667 -117.975000                      0.0                968.0\n",
       "                     -117.933333                      0.0                954.0\n",
       "                     -117.891667                      0.0                941.0"
      ]
     },
     "metadata": {},
     "output_type": "display_data"
    },
    {
     "name": "stdout",
     "output_type": "stream",
     "text": [
      "\n"
     ]
    }
   ],
   "source": [
    "flag=0\n",
    "final_df = pd.DataFrame()\n",
    "for Year in tqdm(range(End_Year,Start_Year-1,-1)):\n",
    "    print(\"Downloading data for year {}\".format(Year))\n",
    "    url = base_url_part + str(Year) + '.nc'\n",
    "    dataset = pydap.client.open_url(url)\n",
    "    #Create the Base DataFrame with Days and Co-ordinates\n",
    "    days = pd.to_timedelta(dataset['day'].data[:], unit='days')\n",
    "    days = days + pd.to_datetime(\"19000101\", format=\"%Y%m%d\")\n",
    "    index = pd.MultiIndex.from_product([days.values,\n",
    "                                        lat[SD_county_lats].astype('f8'),\n",
    "                                        lon[SD_county_lons].astype('f8')],\n",
    "                                       names=['date', 'latitude', 'longitude'])\n",
    "    base_df = pd.DataFrame(index=index) \n",
    "    ##Load each Attriubute below\n",
    "    for item in tqdm(url_dict.values()):\n",
    "        print (\"Processing for\", item)\n",
    "        url = item + str(Year) + '.nc'\n",
    "        print (url)\n",
    "        dataset = pydap.client.open_url(url)\n",
    "        for column in dataset.keys():\n",
    "            if column in ('lat', 'lon', 'crs', 'day'):\n",
    "                continue\n",
    "            print(column)\n",
    "            #Here is where the Data Download happens\n",
    "            raw_data = dataset[column][:, lat_begin:lat_end, lon_begin:lon_end]\n",
    "            base_date = pd.to_datetime(\"19000101\", format=\"%Y%m%d\")\n",
    "            values, days, lats, lons = raw_data.data\n",
    "            print(\"Data downloaded\")\n",
    "            days = base_date + pd.to_timedelta(days, unit=\"days\")\n",
    "            col_name = column + \"_\" + dataset[column].units\n",
    "            base_df.loc[(days, lats, lons), col_name] = values.ravel()\n",
    "    display(base_df.head(3))\n",
    "    final_df = pd.concat([final_df, base_df])"
   ]
  },
  {
   "cell_type": "code",
   "execution_count": 10,
   "metadata": {},
   "outputs": [
    {
     "name": "stdout",
     "output_type": "stream",
     "text": [
      "Wall time: 230 ms\n"
     ]
    }
   ],
   "source": [
    "%%time\n",
    "final_df.to_parquet(\"gridMet.parquet.gz\", compression='gzip')"
   ]
  }
 ],
 "metadata": {
  "kernelspec": {
   "display_name": "Python 3",
   "language": "python",
   "name": "python3"
  },
  "language_info": {
   "codemirror_mode": {
    "name": "ipython",
    "version": 3
   },
   "file_extension": ".py",
   "mimetype": "text/x-python",
   "name": "python",
   "nbconvert_exporter": "python",
   "pygments_lexer": "ipython3",
   "version": "3.7.6"
  }
 },
 "nbformat": 4,
 "nbformat_minor": 2
}
