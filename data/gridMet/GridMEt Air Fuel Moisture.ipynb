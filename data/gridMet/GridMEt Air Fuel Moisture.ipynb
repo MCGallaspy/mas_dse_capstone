{
 "cells": [
  {
   "cell_type": "code",
   "execution_count": 1,
   "metadata": {},
   "outputs": [
    {
     "name": "stdout",
     "output_type": "stream",
     "text": [
      "<class 'netCDF4._netCDF4.Dataset'>\n",
      "root group (NETCDF4 data model, file format HDF5):\n",
      "    geospatial_bounds_crs: EPSG:4326\n",
      "    Conventions: CF-1.6\n",
      "    geospatial_bounds: POLYGON((-124.7666666333333 49.400000000000000, -124.7666666333333 25.066666666666666, -67.058333300000015 25.066666666666666, -67.058333300000015 49.400000000000000, -124.7666666333333 49.400000000000000))\n",
      "    geospatial_lat_min: 25.066666666666666\n",
      "    geospatial_lat_max: 49.40000000000000\n",
      "    geospatial_lon_min: -124.7666666333333\n",
      "    geospatial_lon_max: -67.058333300000015\n",
      "    geospatial_lon_resolution: 0.041666666666666\n",
      "    geospatial_lat_resolution: 0.041666666666666\n",
      "    geospatial_lat_units: decimal_degrees north\n",
      "    geospatial_lon_units: decimal_degrees east\n",
      "    coordinate_system: EPSG:4326\n",
      "    author: John Abatzoglou - University of Idaho, jabatzoglou@uidaho.edu\n",
      "    date: 30 January 2020\n",
      "    note1: The projection information for this file is: GCS WGS 1984.\n",
      "    note2: Citation: Abatzoglou, J.T., 2013, Development of gridded surface meteorological data for ecological applications and modeling, International Journal of Climatology, DOI: 10.1002/joc.3413\n",
      "    last_permanent_slice: 305\n",
      "    last_early_slice: 365\n",
      "    last_provisional_slice: 359\n",
      "    note3: Data in slices after last_permanent_slice (1-based) are considered provisional and subject to change with subsequent updates\n",
      "    note4: Data in slices after last_provisional_slice (1-based) are considered early and subject to change with subsequent updates\n",
      "    note5: Days correspond approximately to calendar days ending at midnight, Mountain Standard Time (7 UTC the next calendar day)\n",
      "    dimensions(sizes): lon(1386), lat(585), day(365), crs(1)\n",
      "    variables(dimensions): float64 lon(lon), float64 lat(lat), float64 day(day), uint16 crs(crs), uint16 dead_fuel_moisture_100hr(day,lat,lon)\n",
      "    groups: \n"
     ]
    }
   ],
   "source": [
    "import netCDF4\n",
    "url=r\"C:\\Users\\sathishm\\OneDrive - Qualcomm\\Desktop\\fm100_2019.nc\"\n",
    "dataset = netCDF4.Dataset(url)\n",
    "print(dataset)"
   ]
  },
  {
   "cell_type": "code",
   "execution_count": 2,
   "metadata": {},
   "outputs": [
    {
     "name": "stdout",
     "output_type": "stream",
     "text": [
      "dict_keys(['lon', 'lat', 'day', 'crs', 'dead_fuel_moisture_100hr'])\n"
     ]
    }
   ],
   "source": [
    "print(dataset.variables.keys())"
   ]
  },
  {
   "cell_type": "code",
   "execution_count": 3,
   "metadata": {},
   "outputs": [
    {
     "name": "stdout",
     "output_type": "stream",
     "text": [
      "<class 'netCDF4._netCDF4.Variable'>\n",
      "uint16 dead_fuel_moisture_100hr(day, lat, lon)\n",
      "    _FillValue: 32767\n",
      "    units: Percent\n",
      "    description: 100 hour fuel moisture\n",
      "    long_name: fm100\n",
      "    standard_name: fm100\n",
      "    missing_value: 32767\n",
      "    dimensions: lon lat time\n",
      "    grid_mapping: crs\n",
      "    coordinate_system: WGS84,EPSG:4326\n",
      "    scale_factor: 0.1\n",
      "    add_offset: 0.0\n",
      "    coordinates: lon lat\n",
      "    _Unsigned: true\n",
      "unlimited dimensions: \n",
      "current shape = (365, 585, 1386)\n",
      "filling on\n"
     ]
    }
   ],
   "source": [
    "print(dataset.variables['dead_fuel_moisture_100hr'])"
   ]
  },
  {
   "cell_type": "code",
   "execution_count": 4,
   "metadata": {},
   "outputs": [
    {
     "name": "stdout",
     "output_type": "stream",
     "text": [
      "('lon', <class 'netCDF4._netCDF4.Dimension'>: name = 'lon', size = 1386)\n",
      "('lat', <class 'netCDF4._netCDF4.Dimension'>: name = 'lat', size = 585)\n",
      "('day', <class 'netCDF4._netCDF4.Dimension'>: name = 'day', size = 365)\n",
      "('crs', <class 'netCDF4._netCDF4.Dimension'>: name = 'crs', size = 1)\n"
     ]
    }
   ],
   "source": [
    "for d in dataset.dimensions.items():\n",
    "    print(d)"
   ]
  },
  {
   "cell_type": "code",
   "execution_count": 5,
   "metadata": {},
   "outputs": [],
   "source": [
    "dead_fuel_mois_100 = dataset.variables['dead_fuel_moisture_100hr']"
   ]
  },
  {
   "cell_type": "code",
   "execution_count": 6,
   "metadata": {},
   "outputs": [],
   "source": [
    "temp = dead_fuel_mois_100[322].data"
   ]
  },
  {
   "cell_type": "code",
   "execution_count": 7,
   "metadata": {},
   "outputs": [
    {
     "data": {
      "text/plain": [
       "(585, 1386)"
      ]
     },
     "metadata": {},
     "output_type": "display_data"
    }
   ],
   "source": [
    "display(temp.shape)"
   ]
  },
  {
   "cell_type": "code",
   "execution_count": 8,
   "metadata": {},
   "outputs": [],
   "source": [
    "lon = dataset.variables['lon'][:].data"
   ]
  },
  {
   "cell_type": "code",
   "execution_count": 9,
   "metadata": {},
   "outputs": [],
   "source": [
    "lat = dataset.variables['lat'][:].data"
   ]
  },
  {
   "cell_type": "code",
   "execution_count": 10,
   "metadata": {},
   "outputs": [],
   "source": [
    "import numpy as np\n",
    "SD_county_lats = np.where((lat<33.6) & (lat>32.4))\n",
    "SD_county_lons = np.where((lon<-116.0) & (lon>-118))"
   ]
  },
  {
   "cell_type": "code",
   "execution_count": 17,
   "metadata": {},
   "outputs": [],
   "source": [
    "SD_county_dead_fuel_mois_100_summer = dead_fuel_mois_100[220][SD_county_lats[0][0]:SD_county_lats[0][-1],SD_county_lons[0][0]:SD_county_lons[0][-1]]"
   ]
  },
  {
   "cell_type": "code",
   "execution_count": 18,
   "metadata": {},
   "outputs": [
    {
     "data": {
      "text/plain": [
       "masked_array(\n",
       "  data=[[15.8, 15.8, 15.5, ..., 4.6000000000000005, 4.7, 4.7],\n",
       "        [--, --, 15.700000000000001, ..., 4.6000000000000005, 4.7,\n",
       "         4.800000000000001],\n",
       "        [--, --, --, ..., 4.5, 4.7, 4.800000000000001],\n",
       "        ...,\n",
       "        [--, --, --, ..., --, --, --],\n",
       "        [--, --, --, ..., --, --, --],\n",
       "        [--, --, --, ..., --, --, --]],\n",
       "  mask=[[False, False, False, ..., False, False, False],\n",
       "        [ True,  True, False, ..., False, False, False],\n",
       "        [ True,  True,  True, ..., False, False, False],\n",
       "        ...,\n",
       "        [ True,  True,  True, ...,  True,  True,  True],\n",
       "        [ True,  True,  True, ...,  True,  True,  True],\n",
       "        [ True,  True,  True, ...,  True,  True,  True]],\n",
       "  fill_value=32767)"
      ]
     },
     "execution_count": 18,
     "metadata": {},
     "output_type": "execute_result"
    }
   ],
   "source": [
    "SD_county_dead_fuel_mois_100_summer"
   ]
  },
  {
   "cell_type": "code",
   "execution_count": 15,
   "metadata": {},
   "outputs": [
    {
     "data": {
      "image/png": "[encoded data removed]",
      "text/plain": [
       "<Figure size 432x288 with 1 Axes>"
      ]
     },
     "metadata": {
      "needs_background": "light"
     },
     "output_type": "display_data"
    }
   ],
   "source": [
    "plt.imshow(~SD_county_dead_fuel_mois_100.mask, cmap='inferno', interpolation='nearest')\n",
    "plt.xlabel(\"SD county Lat\")\n",
    "plt.ylabel(\"SD county Long\")\n",
    "plt.title(\"Data Availability over regions\")\n",
    "plt.show()"
   ]
  },
  {
   "cell_type": "code",
   "execution_count": 167,
   "metadata": {},
   "outputs": [
    {
     "data": {
      "text/plain": [
       "array([ True,  True,  True,  True,  True,  True,  True,  True,  True,\n",
       "        True,  True,  True,  True,  True,  True,  True, False, False,\n",
       "       False, False, False, False, False, False, False, False, False,\n",
       "       False, False, False, False, False, False, False, False, False,\n",
       "       False, False, False, False, False, False, False, False, False,\n",
       "       False, False])"
      ]
     },
     "execution_count": 167,
     "metadata": {},
     "output_type": "execute_result"
    }
   ],
   "source": [
    "SD_county_max_air_temp.mask[15]"
   ]
  },
  {
   "cell_type": "code",
   "execution_count": 28,
   "metadata": {},
   "outputs": [
    {
     "data": {
      "image/png": "[encoded data removed]",
      "text/plain": [
       "<Figure size 432x288 with 1 Axes>"
      ]
     },
     "metadata": {
      "needs_background": "light"
     },
     "output_type": "display_data"
    }
   ],
   "source": [
    "plt.imshow(SD_county_dead_fuel_mois_100_summer, cmap='bone', interpolation='nearest')\n",
    "plt.xlabel(\"SD county Lat\")\n",
    "plt.ylabel(\"SD county Long\")\n",
    "plt.title(\"Fuel Moisture 100-hrs on a Typical Summer Day\")\n",
    "plt.show()"
   ]
  },
  {
   "cell_type": "code",
   "execution_count": 21,
   "metadata": {},
   "outputs": [],
   "source": [
    "SD_county_dead_fuel_mois_100_winter = dead_fuel_mois_100[40][SD_county_lats[0][0]:SD_county_lats[0][-1],SD_county_lons[0][0]:SD_county_lons[0][-1]]"
   ]
  },
  {
   "cell_type": "code",
   "execution_count": 29,
   "metadata": {},
   "outputs": [
    {
     "data": {
      "image/png": "[encoded data removed]",
      "text/plain": [
       "<Figure size 432x288 with 1 Axes>"
      ]
     },
     "metadata": {
      "needs_background": "light"
     },
     "output_type": "display_data"
    }
   ],
   "source": [
    "plt.imshow(SD_county_dead_fuel_mois_100_winter, cmap='bone', interpolation='nearest')\n",
    "plt.xlabel(\"SD county Lat\")\n",
    "plt.ylabel(\"SD county Long\")\n",
    "plt.title(\"Fuel Moisture 100-hrs on a Typical Winter Day\")\n",
    "plt.show()"
   ]
  },
  {
   "cell_type": "code",
   "execution_count": null,
   "metadata": {},
   "outputs": [],
   "source": []
  }
 ],
 "metadata": {
  "kernelspec": {
   "display_name": "Python 3",
   "language": "python",
   "name": "python3"
  },
  "language_info": {
   "codemirror_mode": {
    "name": "ipython",
    "version": 3
   },
   "file_extension": ".py",
   "mimetype": "text/x-python",
   "name": "python",
   "nbconvert_exporter": "python",
   "pygments_lexer": "ipython3",
   "version": "3.7.3"
  }
 },
 "nbformat": 4,
 "nbformat_minor": 2
}
