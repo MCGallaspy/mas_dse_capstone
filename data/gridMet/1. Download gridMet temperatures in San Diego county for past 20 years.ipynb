{
 "cells": [
  {
   "cell_type": "code",
   "execution_count": 14,
   "metadata": {},
   "outputs": [],
   "source": [
    "import pydap.client\n",
    "import numpy as np\n",
    "import pandas as pd\n",
    "import datetime\n",
    "from pprint import pprint"
   ]
  },
  {
   "cell_type": "code",
   "execution_count": 6,
   "metadata": {},
   "outputs": [],
   "source": [
    "temp_max = pydap.client.open_url('http://thredds.northwestknowledge.net:8080/thredds/dodsC/agg_met_tmmx_1979_CurrentYear_CONUS.nc')"
   ]
  },
  {
   "cell_type": "code",
   "execution_count": 7,
   "metadata": {},
   "outputs": [
    {
     "data": {
      "text/plain": [
       "KeysView(<DatasetType with children 'lat', 'crs', 'lon', 'daily_maximum_temperature', 'day'>)"
      ]
     },
     "execution_count": 7,
     "metadata": {},
     "output_type": "execute_result"
    }
   ],
   "source": [
    "temp_max.keys()"
   ]
  },
  {
   "cell_type": "code",
   "execution_count": 15,
   "metadata": {},
   "outputs": [
    {
     "name": "stdout",
     "output_type": "stream",
     "text": [
      "lat <class 'pydap.model.BaseType'>\n",
      "(585,)\n",
      "{'_ChunkSizes': 585,\n",
      " 'axis': 'Y',\n",
      " 'description': 'latitude',\n",
      " 'long_name': 'latitude',\n",
      " 'standard_name': 'latitude',\n",
      " 'units': 'degrees_north'}\n",
      "********************************************************************************\n",
      "crs <class 'pydap.model.BaseType'>\n",
      "(1,)\n",
      "{'GeoTransform': '-124.7666666333333 0.041666666666666 0  49.400000000000000 '\n",
      "                 '-0.041666666666666',\n",
      " '_ChunkSizes': 1,\n",
      " '_FillValue': -1,\n",
      " '_Unsigned': 'true',\n",
      " 'grid_mapping_name': 'latitude_longitude',\n",
      " 'inverse_flattening': 298.257223563,\n",
      " 'long_name': 'WGS 84',\n",
      " 'longitude_of_prime_meridian': 0.0,\n",
      " 'semi_major_axis': 6378137.0,\n",
      " 'spatial_ref': 'GEOGCS[\\\\\"WGS 84\\\\\",DATUM[\\\\\"WGS_1984\\\\\",SPHEROID[\\\\\"WGS '\n",
      "                '84\\\\\",6378137,298.257223563,AUTHORITY[\\\\\"EPSG\\\\\",\\\\\"7030\\\\\"]],AUTHORITY[\\\\\"EPSG\\\\\",\\\\\"6326\\\\\"]],PRIMEM[\\\\\"Greenwich\\\\\",0,AUTHORITY[\\\\\"EPSG\\\\\",\\\\\"8901\\\\\"]],UNIT[\\\\\"degree\\\\\",0.0174532925199433,AUTHORITY[\\\\\"EPSG\\\\\",\\\\\"9122\\\\\"]],AUTHORITY[\\\\\"EPSG\\\\\",\\\\\"4326\\\\\"]]'}\n",
      "********************************************************************************\n",
      "lon <class 'pydap.model.BaseType'>\n",
      "(1386,)\n",
      "{'_ChunkSizes': 1386,\n",
      " 'axis': 'X',\n",
      " 'description': 'longitude',\n",
      " 'long_name': 'longitude',\n",
      " 'standard_name': 'longitude',\n",
      " 'units': 'degrees_east'}\n",
      "********************************************************************************\n",
      "daily_maximum_temperature <class 'pydap.model.GridType'>\n",
      "(15019, 585, 1386)\n",
      "{'_ChunkSizes': [61, 98, 231],\n",
      " '_FillValue': 32767,\n",
      " '_Unsigned': 'true',\n",
      " 'add_offset': 220.0,\n",
      " 'coordinate_system': 'WGS84,EPSG:4326',\n",
      " 'coordinates': 'lat lon day',\n",
      " 'description': 'Daily Maximum Temperature',\n",
      " 'dimensions': 'lon lat time',\n",
      " 'grid_mapping': 'crs',\n",
      " 'long_name': 'tmmx',\n",
      " 'missing_value': 32767,\n",
      " 'scale_factor': 0.1,\n",
      " 'standard_name': 'tmmx',\n",
      " 'units': 'K'}\n",
      "********************************************************************************\n",
      "day <class 'pydap.model.BaseType'>\n",
      "(15019,)\n",
      "{'_ChunkSizes': 365,\n",
      " 'calendar': 'gregorian',\n",
      " 'description': 'days since 1900-01-01',\n",
      " 'long_name': 'time',\n",
      " 'standard_name': 'time',\n",
      " 'units': 'days since 1900-01-01 00:00:00'}\n",
      "********************************************************************************\n"
     ]
    }
   ],
   "source": [
    "for key in temp_max.keys():\n",
    "    print(key, type(temp_max[key]))\n",
    "    print(temp_max[key].shape)\n",
    "    pprint(temp_max[key].attributes)\n",
    "    print(\"*\" * 80)"
   ]
  },
  {
   "cell_type": "code",
   "execution_count": 30,
   "metadata": {},
   "outputs": [
    {
     "data": {
      "text/plain": [
       "((29,), (48,))"
      ]
     },
     "execution_count": 30,
     "metadata": {},
     "output_type": "execute_result"
    }
   ],
   "source": [
    "lon = temp_max['lon'][:].data\n",
    "lat = temp_max['lat'][:].data\n",
    "SD_county_lats = np.asarray((lat<33.6) & (lat>32.4)).nonzero()[0]\n",
    "SD_county_lons = np.asarray((lon<-116.0) & (lon>-118)).nonzero()[0]\n",
    "SD_county_lats.shape, SD_county_lons.shape"
   ]
  },
  {
   "cell_type": "code",
   "execution_count": 42,
   "metadata": {},
   "outputs": [
    {
     "data": {
      "text/plain": [
       "(DatetimeIndex(['1979-01-01', '1979-01-02', '1979-01-03', '1979-01-04',\n",
       "                '1979-01-05'],\n",
       "               dtype='datetime64[ns]', freq=None),\n",
       " (15019,),\n",
       " 7348)"
      ]
     },
     "execution_count": 42,
     "metadata": {},
     "output_type": "execute_result"
    }
   ],
   "source": [
    "# Days are # of days since 1900, so convert to easier datetimes\n",
    "days = temp_max['day'][:].data\n",
    "base_date = pd.to_datetime(\"19000101\", format=\"%Y%m%d\")\n",
    "days = pd.to_timedelta(days, unit='days') + base_date\n",
    "# How many entries correspond to days since 2000?\n",
    "days[:5], days.shape, np.sum(days > pd.to_datetime(\"20000101\", format=\"%Y%m%d\"))"
   ]
  }
 ],
 "metadata": {
  "kernelspec": {
   "display_name": "Python 3",
   "language": "python",
   "name": "python3"
  },
  "language_info": {
   "codemirror_mode": {
    "name": "ipython",
    "version": 3
   },
   "file_extension": ".py",
   "mimetype": "text/x-python",
   "name": "python",
   "nbconvert_exporter": "python",
   "pygments_lexer": "ipython3",
   "version": "3.7.6"
  }
 },
 "nbformat": 4,
 "nbformat_minor": 2
}
