{
 "cells": [
  {
   "cell_type": "code",
   "execution_count": 1,
   "metadata": {},
   "outputs": [],
   "source": [
    "%matplotlib inline\n",
    "import numpy as np\n",
    "import pandas as pd\n",
    "import geopandas as gpd\n",
    "from matplotlib import pyplot as plt\n",
    "import contextily as ctx\n",
    "import datetime"
   ]
  },
  {
   "cell_type": "code",
   "execution_count": 2,
   "metadata": {},
   "outputs": [
    {
     "name": "stdout",
     "output_type": "stream",
     "text": [
      "(92531, 14)\n",
      "(92474, 14)\n"
     ]
    }
   ],
   "source": [
    "perimeters = gpd.read_file('./hist.shp')\n",
    "print(perimeters.shape)\n",
    "perimeters = perimeters[~perimeters.year.isna()]\n",
    "perimeters.year = perimeters.year.astype(int)\n",
    "print(perimeters.shape)"
   ]
  },
  {
   "cell_type": "code",
   "execution_count": 3,
   "metadata": {},
   "outputs": [
    {
     "data": {
      "text/html": [
       "<div>\n",
       "<style scoped>\n",
       "    .dataframe tbody tr th:only-of-type {\n",
       "        vertical-align: middle;\n",
       "    }\n",
       "\n",
       "    .dataframe tbody tr th {\n",
       "        vertical-align: top;\n",
       "    }\n",
       "\n",
       "    .dataframe thead th {\n",
       "        text-align: right;\n",
       "    }\n",
       "</style>\n",
       "<table border=\"1\" class=\"dataframe\">\n",
       "  <thead>\n",
       "    <tr style=\"text-align: right;\">\n",
       "      <th></th>\n",
       "      <th>id</th>\n",
       "      <th>year</th>\n",
       "      <th>fire_name</th>\n",
       "      <th>agency</th>\n",
       "      <th>acres</th>\n",
       "      <th>mapmethod</th>\n",
       "      <th>inciwebid</th>\n",
       "      <th>alarm_date</th>\n",
       "      <th>cont_date</th>\n",
       "      <th>comments</th>\n",
       "      <th>complex_na</th>\n",
       "      <th>perimeter_</th>\n",
       "      <th>cause</th>\n",
       "      <th>geometry</th>\n",
       "    </tr>\n",
       "  </thead>\n",
       "  <tbody>\n",
       "    <tr>\n",
       "      <th>0</th>\n",
       "      <td>view_historical_fires.fid--6c64548_17013a0304a...</td>\n",
       "      <td>2006</td>\n",
       "      <td>Bar Complex</td>\n",
       "      <td>USFS</td>\n",
       "      <td>8549.790</td>\n",
       "      <td>None</td>\n",
       "      <td>None</td>\n",
       "      <td>None</td>\n",
       "      <td>None</td>\n",
       "      <td>Pigeon Fire</td>\n",
       "      <td>None</td>\n",
       "      <td>2006-09-09</td>\n",
       "      <td>None</td>\n",
       "      <td>MULTIPOLYGON (((-123.13544 40.80920, -123.1350...</td>\n",
       "    </tr>\n",
       "    <tr>\n",
       "      <th>1</th>\n",
       "      <td>view_historical_fires.fid--6c64548_17013a0304a...</td>\n",
       "      <td>2006</td>\n",
       "      <td>Ralston</td>\n",
       "      <td>USFS</td>\n",
       "      <td>4260.292</td>\n",
       "      <td>None</td>\n",
       "      <td>None</td>\n",
       "      <td>None</td>\n",
       "      <td>None</td>\n",
       "      <td>None</td>\n",
       "      <td>None</td>\n",
       "      <td>2006-09-09</td>\n",
       "      <td>None</td>\n",
       "      <td>POLYGON ((-120.66164 39.02016, -120.66182 39.0...</td>\n",
       "    </tr>\n",
       "    <tr>\n",
       "      <th>2</th>\n",
       "      <td>view_historical_fires.fid--6c64548_17013a0304a...</td>\n",
       "      <td>2006</td>\n",
       "      <td>Uncles Complex</td>\n",
       "      <td>USFS</td>\n",
       "      <td>12385.665</td>\n",
       "      <td>None</td>\n",
       "      <td>None</td>\n",
       "      <td>None</td>\n",
       "      <td>None</td>\n",
       "      <td>Hancock Fire</td>\n",
       "      <td>None</td>\n",
       "      <td>2006-09-09</td>\n",
       "      <td>None</td>\n",
       "      <td>MULTIPOLYGON (((-123.24093 41.48353, -123.2409...</td>\n",
       "    </tr>\n",
       "    <tr>\n",
       "      <th>3</th>\n",
       "      <td>view_historical_fires.fid--6c64548_17013a0304a...</td>\n",
       "      <td>2006</td>\n",
       "      <td>Red Mountain</td>\n",
       "      <td>USFS</td>\n",
       "      <td>32828.199</td>\n",
       "      <td>None</td>\n",
       "      <td>None</td>\n",
       "      <td>None</td>\n",
       "      <td>None</td>\n",
       "      <td>None</td>\n",
       "      <td>None</td>\n",
       "      <td>2006-09-08</td>\n",
       "      <td>None</td>\n",
       "      <td>MULTIPOLYGON (((-115.28717 44.40964, -115.2884...</td>\n",
       "    </tr>\n",
       "    <tr>\n",
       "      <th>4</th>\n",
       "      <td>view_historical_fires.fid--6c64548_17013a0304a...</td>\n",
       "      <td>2006</td>\n",
       "      <td>Derby</td>\n",
       "      <td>USFS</td>\n",
       "      <td>204864.145</td>\n",
       "      <td>None</td>\n",
       "      <td>None</td>\n",
       "      <td>None</td>\n",
       "      <td>None</td>\n",
       "      <td>None</td>\n",
       "      <td>None</td>\n",
       "      <td>2006-09-08</td>\n",
       "      <td>None</td>\n",
       "      <td>POLYGON ((-110.10493 45.60148, -110.10340 45.6...</td>\n",
       "    </tr>\n",
       "  </tbody>\n",
       "</table>\n",
       "</div>"
      ],
      "text/plain": [
       "                                                  id  year       fire_name  \\\n",
       "0  view_historical_fires.fid--6c64548_17013a0304a...  2006     Bar Complex   \n",
       "1  view_historical_fires.fid--6c64548_17013a0304a...  2006         Ralston   \n",
       "2  view_historical_fires.fid--6c64548_17013a0304a...  2006  Uncles Complex   \n",
       "3  view_historical_fires.fid--6c64548_17013a0304a...  2006    Red Mountain   \n",
       "4  view_historical_fires.fid--6c64548_17013a0304a...  2006           Derby   \n",
       "\n",
       "  agency       acres mapmethod inciwebid alarm_date cont_date      comments  \\\n",
       "0   USFS    8549.790      None      None       None      None   Pigeon Fire   \n",
       "1   USFS    4260.292      None      None       None      None          None   \n",
       "2   USFS   12385.665      None      None       None      None  Hancock Fire   \n",
       "3   USFS   32828.199      None      None       None      None          None   \n",
       "4   USFS  204864.145      None      None       None      None          None   \n",
       "\n",
       "  complex_na  perimeter_ cause  \\\n",
       "0       None  2006-09-09  None   \n",
       "1       None  2006-09-09  None   \n",
       "2       None  2006-09-09  None   \n",
       "3       None  2006-09-08  None   \n",
       "4       None  2006-09-08  None   \n",
       "\n",
       "                                            geometry  \n",
       "0  MULTIPOLYGON (((-123.13544 40.80920, -123.1350...  \n",
       "1  POLYGON ((-120.66164 39.02016, -120.66182 39.0...  \n",
       "2  MULTIPOLYGON (((-123.24093 41.48353, -123.2409...  \n",
       "3  MULTIPOLYGON (((-115.28717 44.40964, -115.2884...  \n",
       "4  POLYGON ((-110.10493 45.60148, -110.10340 45.6...  "
      ]
     },
     "execution_count": 3,
     "metadata": {},
     "output_type": "execute_result"
    }
   ],
   "source": [
    "perimeters.head()"
   ]
  },
  {
   "cell_type": "code",
   "execution_count": 4,
   "metadata": {},
   "outputs": [
    {
     "data": {
      "text/plain": [
       "True"
      ]
     },
     "execution_count": 4,
     "metadata": {},
     "output_type": "execute_result"
    }
   ],
   "source": [
    "# Do we have unique fires?\n",
    "len(perimeters.id.unique())==perimeters.shape[0]"
   ]
  },
  {
   "cell_type": "code",
   "execution_count": 5,
   "metadata": {},
   "outputs": [
    {
     "name": "stdout",
     "output_type": "stream",
     "text": [
      "(2004, 14)\n"
     ]
    },
    {
     "name": "stderr",
     "output_type": "stream",
     "text": [
      "C:\\Users\\Mike\\AppData\\Local\\Continuum\\anaconda3\\envs\\geo\\lib\\site-packages\\pyproj\\crs.py:77: FutureWarning: '+init=<authority>:<code>' syntax is deprecated. '<authority>:<code>' is the preferred initialization method.\n",
      "  return _prepare_from_string(\" \".join(pjargs))\n"
     ]
    },
    {
     "data": {
      "text/html": [
       "<div>\n",
       "<style scoped>\n",
       "    .dataframe tbody tr th:only-of-type {\n",
       "        vertical-align: middle;\n",
       "    }\n",
       "\n",
       "    .dataframe tbody tr th {\n",
       "        vertical-align: top;\n",
       "    }\n",
       "\n",
       "    .dataframe thead th {\n",
       "        text-align: right;\n",
       "    }\n",
       "</style>\n",
       "<table border=\"1\" class=\"dataframe\">\n",
       "  <thead>\n",
       "    <tr style=\"text-align: right;\">\n",
       "      <th></th>\n",
       "      <th>id</th>\n",
       "      <th>year</th>\n",
       "      <th>fire_name</th>\n",
       "      <th>agency</th>\n",
       "      <th>acres</th>\n",
       "      <th>mapmethod</th>\n",
       "      <th>inciwebid</th>\n",
       "      <th>alarm_date</th>\n",
       "      <th>cont_date</th>\n",
       "      <th>comments</th>\n",
       "      <th>complex_na</th>\n",
       "      <th>perimeter_</th>\n",
       "      <th>cause</th>\n",
       "      <th>geometry</th>\n",
       "    </tr>\n",
       "  </thead>\n",
       "  <tbody>\n",
       "    <tr>\n",
       "      <th>230</th>\n",
       "      <td>view_historical_fires.fid--6c64548_17013a0304a...</td>\n",
       "      <td>2006</td>\n",
       "      <td>Bonny</td>\n",
       "      <td>BLM</td>\n",
       "      <td>35.437000</td>\n",
       "      <td>None</td>\n",
       "      <td>None</td>\n",
       "      <td>None</td>\n",
       "      <td>None</td>\n",
       "      <td>None</td>\n",
       "      <td>None</td>\n",
       "      <td>2006-06-06</td>\n",
       "      <td>None</td>\n",
       "      <td>POLYGON ((-12995890.859 3957307.752, -12995871...</td>\n",
       "    </tr>\n",
       "    <tr>\n",
       "      <th>272</th>\n",
       "      <td>view_historical_fires.fid--6c64548_17013a0304a...</td>\n",
       "      <td>2006</td>\n",
       "      <td>BORDER 15</td>\n",
       "      <td>CDF</td>\n",
       "      <td>19.854897</td>\n",
       "      <td>None</td>\n",
       "      <td>None</td>\n",
       "      <td>None</td>\n",
       "      <td>None</td>\n",
       "      <td>GPS Ground; No entry in FireCode</td>\n",
       "      <td>None</td>\n",
       "      <td>2006-07-15</td>\n",
       "      <td>None</td>\n",
       "      <td>POLYGON ((-12979988.108 3839621.915, -12979959...</td>\n",
       "    </tr>\n",
       "    <tr>\n",
       "      <th>285</th>\n",
       "      <td>view_historical_fires.fid--6c64548_17013a0304a...</td>\n",
       "      <td>2006</td>\n",
       "      <td>CAMINO</td>\n",
       "      <td>CDF</td>\n",
       "      <td>2.808180</td>\n",
       "      <td>None</td>\n",
       "      <td>None</td>\n",
       "      <td>None</td>\n",
       "      <td>None</td>\n",
       "      <td>No entry in FireCode</td>\n",
       "      <td>None</td>\n",
       "      <td>2006-02-09</td>\n",
       "      <td>None</td>\n",
       "      <td>POLYGON ((-13043399.240 3931031.704, -13043396...</td>\n",
       "    </tr>\n",
       "    <tr>\n",
       "      <th>589</th>\n",
       "      <td>view_historical_fires.fid--6c64548_17013a0304a...</td>\n",
       "      <td>2006</td>\n",
       "      <td>Horse Fire</td>\n",
       "      <td>USFS</td>\n",
       "      <td>7041.781000</td>\n",
       "      <td>None</td>\n",
       "      <td>None</td>\n",
       "      <td>None</td>\n",
       "      <td>None</td>\n",
       "      <td>None</td>\n",
       "      <td>None</td>\n",
       "      <td>2006-07-24</td>\n",
       "      <td>None</td>\n",
       "      <td>POLYGON ((-12987535.465 3863086.369, -12987437...</td>\n",
       "    </tr>\n",
       "    <tr>\n",
       "      <th>673</th>\n",
       "      <td>view_historical_fires.fid--6c64548_17013a0304a...</td>\n",
       "      <td>2006</td>\n",
       "      <td>Cottonwood</td>\n",
       "      <td>BLM</td>\n",
       "      <td>24.682000</td>\n",
       "      <td>None</td>\n",
       "      <td>None</td>\n",
       "      <td>None</td>\n",
       "      <td>None</td>\n",
       "      <td>None</td>\n",
       "      <td>None</td>\n",
       "      <td>2006-05-03</td>\n",
       "      <td>None</td>\n",
       "      <td>POLYGON ((-12950472.197 3869481.934, -12950496...</td>\n",
       "    </tr>\n",
       "  </tbody>\n",
       "</table>\n",
       "</div>"
      ],
      "text/plain": [
       "                                                    id  year   fire_name  \\\n",
       "230  view_historical_fires.fid--6c64548_17013a0304a...  2006       Bonny   \n",
       "272  view_historical_fires.fid--6c64548_17013a0304a...  2006   BORDER 15   \n",
       "285  view_historical_fires.fid--6c64548_17013a0304a...  2006      CAMINO   \n",
       "589  view_historical_fires.fid--6c64548_17013a0304a...  2006  Horse Fire   \n",
       "673  view_historical_fires.fid--6c64548_17013a0304a...  2006  Cottonwood   \n",
       "\n",
       "    agency        acres mapmethod inciwebid alarm_date cont_date  \\\n",
       "230    BLM    35.437000      None      None       None      None   \n",
       "272    CDF    19.854897      None      None       None      None   \n",
       "285    CDF     2.808180      None      None       None      None   \n",
       "589   USFS  7041.781000      None      None       None      None   \n",
       "673    BLM    24.682000      None      None       None      None   \n",
       "\n",
       "                             comments complex_na  perimeter_ cause  \\\n",
       "230                              None       None  2006-06-06  None   \n",
       "272  GPS Ground; No entry in FireCode       None  2006-07-15  None   \n",
       "285              No entry in FireCode       None  2006-02-09  None   \n",
       "589                              None       None  2006-07-24  None   \n",
       "673                              None       None  2006-05-03  None   \n",
       "\n",
       "                                              geometry  \n",
       "230  POLYGON ((-12995890.859 3957307.752, -12995871...  \n",
       "272  POLYGON ((-12979988.108 3839621.915, -12979959...  \n",
       "285  POLYGON ((-13043399.240 3931031.704, -13043396...  \n",
       "589  POLYGON ((-12987535.465 3863086.369, -12987437...  \n",
       "673  POLYGON ((-12950472.197 3869481.934, -12950496...  "
      ]
     },
     "execution_count": 5,
     "metadata": {},
     "output_type": "execute_result"
    }
   ],
   "source": [
    "from shapely.geometry import Point\n",
    "MIN_LAT, MAX_LAT = 32.4, 33.6\n",
    "MIN_LONG, MAX_LONG = -118, -116\n",
    "sd_perimeters = perimeters.cx[MIN_LONG:MAX_LONG, MIN_LAT:MAX_LAT]\n",
    "print(sd_perimeters.shape)\n",
    "sd_perimeters.crs = {'init' :'epsg:4326'}\n",
    "sd_perimeters = sd_perimeters.to_crs(epsg=3857)\n",
    "sd_perimeters.head()"
   ]
  },
  {
   "cell_type": "code",
   "execution_count": 6,
   "metadata": {},
   "outputs": [
    {
     "name": "stdout",
     "output_type": "stream",
     "text": [
      "(599, 14)\n"
     ]
    },
    {
     "data": {
      "text/html": [
       "<div>\n",
       "<style scoped>\n",
       "    .dataframe tbody tr th:only-of-type {\n",
       "        vertical-align: middle;\n",
       "    }\n",
       "\n",
       "    .dataframe tbody tr th {\n",
       "        vertical-align: top;\n",
       "    }\n",
       "\n",
       "    .dataframe thead th {\n",
       "        text-align: right;\n",
       "    }\n",
       "</style>\n",
       "<table border=\"1\" class=\"dataframe\">\n",
       "  <thead>\n",
       "    <tr style=\"text-align: right;\">\n",
       "      <th></th>\n",
       "      <th>id</th>\n",
       "      <th>year</th>\n",
       "      <th>fire_name</th>\n",
       "      <th>agency</th>\n",
       "      <th>acres</th>\n",
       "      <th>mapmethod</th>\n",
       "      <th>inciwebid</th>\n",
       "      <th>alarm_date</th>\n",
       "      <th>cont_date</th>\n",
       "      <th>comments</th>\n",
       "      <th>complex_na</th>\n",
       "      <th>perimeter_</th>\n",
       "      <th>cause</th>\n",
       "      <th>geometry</th>\n",
       "    </tr>\n",
       "  </thead>\n",
       "  <tbody>\n",
       "    <tr>\n",
       "      <th>0</th>\n",
       "      <td>view_historical_fires.fid--6c64548_17013a0304a...</td>\n",
       "      <td>2006</td>\n",
       "      <td>Bonny</td>\n",
       "      <td>BLM</td>\n",
       "      <td>35.437000</td>\n",
       "      <td>None</td>\n",
       "      <td>None</td>\n",
       "      <td>None</td>\n",
       "      <td>None</td>\n",
       "      <td>None</td>\n",
       "      <td>None</td>\n",
       "      <td>2006-06-06</td>\n",
       "      <td>None</td>\n",
       "      <td>POLYGON ((-12995890.859 3957307.752, -12995871...</td>\n",
       "    </tr>\n",
       "    <tr>\n",
       "      <th>1</th>\n",
       "      <td>view_historical_fires.fid--6c64548_17013a0304a...</td>\n",
       "      <td>2006</td>\n",
       "      <td>BORDER 15</td>\n",
       "      <td>CDF</td>\n",
       "      <td>19.854897</td>\n",
       "      <td>None</td>\n",
       "      <td>None</td>\n",
       "      <td>None</td>\n",
       "      <td>None</td>\n",
       "      <td>GPS Ground; No entry in FireCode</td>\n",
       "      <td>None</td>\n",
       "      <td>2006-07-15</td>\n",
       "      <td>None</td>\n",
       "      <td>POLYGON ((-12979988.108 3839621.915, -12979959...</td>\n",
       "    </tr>\n",
       "    <tr>\n",
       "      <th>2</th>\n",
       "      <td>view_historical_fires.fid--6c64548_17013a0304a...</td>\n",
       "      <td>2006</td>\n",
       "      <td>CAMINO</td>\n",
       "      <td>CDF</td>\n",
       "      <td>2.808180</td>\n",
       "      <td>None</td>\n",
       "      <td>None</td>\n",
       "      <td>None</td>\n",
       "      <td>None</td>\n",
       "      <td>No entry in FireCode</td>\n",
       "      <td>None</td>\n",
       "      <td>2006-02-09</td>\n",
       "      <td>None</td>\n",
       "      <td>POLYGON ((-13043399.240 3931031.704, -13043396...</td>\n",
       "    </tr>\n",
       "    <tr>\n",
       "      <th>3</th>\n",
       "      <td>view_historical_fires.fid--6c64548_17013a0304a...</td>\n",
       "      <td>2006</td>\n",
       "      <td>Horse Fire</td>\n",
       "      <td>USFS</td>\n",
       "      <td>7041.781000</td>\n",
       "      <td>None</td>\n",
       "      <td>None</td>\n",
       "      <td>None</td>\n",
       "      <td>None</td>\n",
       "      <td>None</td>\n",
       "      <td>None</td>\n",
       "      <td>2006-07-24</td>\n",
       "      <td>None</td>\n",
       "      <td>POLYGON ((-12987535.465 3863086.369, -12987437...</td>\n",
       "    </tr>\n",
       "    <tr>\n",
       "      <th>4</th>\n",
       "      <td>view_historical_fires.fid--6c64548_17013a0304a...</td>\n",
       "      <td>2006</td>\n",
       "      <td>Cottonwood</td>\n",
       "      <td>BLM</td>\n",
       "      <td>24.682000</td>\n",
       "      <td>None</td>\n",
       "      <td>None</td>\n",
       "      <td>None</td>\n",
       "      <td>None</td>\n",
       "      <td>None</td>\n",
       "      <td>None</td>\n",
       "      <td>2006-05-03</td>\n",
       "      <td>None</td>\n",
       "      <td>POLYGON ((-12950472.197 3869481.934, -12950496...</td>\n",
       "    </tr>\n",
       "  </tbody>\n",
       "</table>\n",
       "</div>"
      ],
      "text/plain": [
       "                                                  id  year   fire_name agency  \\\n",
       "0  view_historical_fires.fid--6c64548_17013a0304a...  2006       Bonny    BLM   \n",
       "1  view_historical_fires.fid--6c64548_17013a0304a...  2006   BORDER 15    CDF   \n",
       "2  view_historical_fires.fid--6c64548_17013a0304a...  2006      CAMINO    CDF   \n",
       "3  view_historical_fires.fid--6c64548_17013a0304a...  2006  Horse Fire   USFS   \n",
       "4  view_historical_fires.fid--6c64548_17013a0304a...  2006  Cottonwood    BLM   \n",
       "\n",
       "         acres mapmethod inciwebid alarm_date cont_date  \\\n",
       "0    35.437000      None      None       None      None   \n",
       "1    19.854897      None      None       None      None   \n",
       "2     2.808180      None      None       None      None   \n",
       "3  7041.781000      None      None       None      None   \n",
       "4    24.682000      None      None       None      None   \n",
       "\n",
       "                           comments complex_na  perimeter_ cause  \\\n",
       "0                              None       None  2006-06-06  None   \n",
       "1  GPS Ground; No entry in FireCode       None  2006-07-15  None   \n",
       "2              No entry in FireCode       None  2006-02-09  None   \n",
       "3                              None       None  2006-07-24  None   \n",
       "4                              None       None  2006-05-03  None   \n",
       "\n",
       "                                            geometry  \n",
       "0  POLYGON ((-12995890.859 3957307.752, -12995871...  \n",
       "1  POLYGON ((-12979988.108 3839621.915, -12979959...  \n",
       "2  POLYGON ((-13043399.240 3931031.704, -13043396...  \n",
       "3  POLYGON ((-12987535.465 3863086.369, -12987437...  \n",
       "4  POLYGON ((-12950472.197 3869481.934, -12950496...  "
      ]
     },
     "execution_count": 6,
     "metadata": {},
     "output_type": "execute_result"
    }
   ],
   "source": [
    "sd_perimeters = sd_perimeters[sd_perimeters['year']>2000].reset_index(drop=True)\n",
    "print(sd_perimeters.shape)\n",
    "sd_perimeters.head()"
   ]
  },
  {
   "cell_type": "code",
   "execution_count": 7,
   "metadata": {},
   "outputs": [
    {
     "data": {
      "image/png": "[encoded data removed]",
      "text/plain": [
       "<Figure size 432x288 with 1 Axes>"
      ]
     },
     "metadata": {
      "needs_background": "light"
     },
     "output_type": "display_data"
    }
   ],
   "source": [
    "sd_perimeters.year.value_counts().sort_index().plot.bar()\n",
    "plt.title(\"SD Fires Over Time\");"
   ]
  },
  {
   "cell_type": "code",
   "execution_count": 8,
   "metadata": {},
   "outputs": [
    {
     "data": {
      "text/plain": [
       "id              0.000000\n",
       "year            0.000000\n",
       "fire_name       0.500835\n",
       "agency          0.834725\n",
       "acres           0.000000\n",
       "mapmethod      89.816361\n",
       "inciwebid      95.993322\n",
       "alarm_date     56.093489\n",
       "cont_date      57.762938\n",
       "comments       61.769616\n",
       "complex_na    100.000000\n",
       "perimeter_     44.407346\n",
       "cause          56.260434\n",
       "geometry        0.000000\n",
       "dtype: float64"
      ]
     },
     "execution_count": 8,
     "metadata": {},
     "output_type": "execute_result"
    }
   ],
   "source": [
    "# Percent missingness\n",
    "(sd_perimeters.isna().sum()/sd_perimeters.shape[0])*100"
   ]
  },
  {
   "cell_type": "code",
   "execution_count": 9,
   "metadata": {},
   "outputs": [
    {
     "data": {
      "text/plain": [
       "<matplotlib.axes._subplots.AxesSubplot at 0x2218ac09248>"
      ]
     },
     "execution_count": 9,
     "metadata": {},
     "output_type": "execute_result"
    },
    {
     "data": {
      "image/png": "[encoded data removed]",
      "text/plain": [
       "<Figure size 432x288 with 1 Axes>"
      ]
     },
     "metadata": {
      "needs_background": "light"
     },
     "output_type": "display_data"
    }
   ],
   "source": [
    "# Fair amount of missing data, year and acres are reliable:\n",
    "sd_perimeters.acres.plot.density()"
   ]
  },
  {
   "cell_type": "code",
   "execution_count": 10,
   "metadata": {},
   "outputs": [],
   "source": [
    "sd_perimeters['final_date'] = sd_perimeters['alarm_date'].combine_first(sd_perimeters['perimeter_'])\n",
    "sd_perimeters['final_date'] = pd.to_datetime(sd_perimeters['final_date'])\n",
    "sd_perimeters['cont_date'] = pd.to_datetime(sd_perimeters['cont_date'])"
   ]
  },
  {
   "cell_type": "code",
   "execution_count": 11,
   "metadata": {},
   "outputs": [
    {
     "data": {
      "text/plain": [
       "<matplotlib.axes._subplots.AxesSubplot at 0x2218ac89b88>"
      ]
     },
     "execution_count": 11,
     "metadata": {},
     "output_type": "execute_result"
    },
    {
     "data": {
      "image/png": "[encoded data removed]",
      "text/plain": [
       "<Figure size 432x288 with 1 Axes>"
      ]
     },
     "metadata": {
      "needs_background": "light"
     },
     "output_type": "display_data"
    }
   ],
   "source": [
    "sd_perimeters.final_date.map(lambda x: x.month).value_counts().sort_index().plot.bar()"
   ]
  },
  {
   "cell_type": "code",
   "execution_count": 12,
   "metadata": {},
   "outputs": [
    {
     "data": {
      "text/plain": [
       "<matplotlib.axes._subplots.AxesSubplot at 0x2218afdef88>"
      ]
     },
     "execution_count": 12,
     "metadata": {},
     "output_type": "execute_result"
    },
    {
     "data": {
      "image/png": "[encoded data removed]",
      "text/plain": [
       "<Figure size 432x288 with 1 Axes>"
      ]
     },
     "metadata": {
      "needs_background": "light"
     },
     "output_type": "display_data"
    }
   ],
   "source": [
    "sd_perimeters.cause.value_counts().plot.bar()\n",
    "# Looks like the causes are by a cause key, which I am not sure we have"
   ]
  },
  {
   "cell_type": "code",
   "execution_count": 13,
   "metadata": {},
   "outputs": [],
   "source": [
    "sd_perimeters['burn_days'] = (sd_perimeters['cont_date'] - sd_perimeters['final_date']).dt.days"
   ]
  },
  {
   "cell_type": "code",
   "execution_count": 14,
   "metadata": {},
   "outputs": [
    {
     "data": {
      "image/png": "[encoded data removed]",
      "text/plain": [
       "<Figure size 432x288 with 1 Axes>"
      ]
     },
     "metadata": {
      "needs_background": "light"
     },
     "output_type": "display_data"
    }
   ],
   "source": [
    "plt.scatter(sd_perimeters.burn_days, sd_perimeters.acres,s=20)\n",
    "plt.xlabel('Days Burned')\n",
    "plt.ylabel('Acres Burned');"
   ]
  },
  {
   "cell_type": "code",
   "execution_count": 15,
   "metadata": {},
   "outputs": [
    {
     "data": {
      "text/html": [
       "<div>\n",
       "<style scoped>\n",
       "    .dataframe tbody tr th:only-of-type {\n",
       "        vertical-align: middle;\n",
       "    }\n",
       "\n",
       "    .dataframe tbody tr th {\n",
       "        vertical-align: top;\n",
       "    }\n",
       "\n",
       "    .dataframe thead th {\n",
       "        text-align: right;\n",
       "    }\n",
       "</style>\n",
       "<table border=\"1\" class=\"dataframe\">\n",
       "  <thead>\n",
       "    <tr style=\"text-align: right;\">\n",
       "      <th></th>\n",
       "      <th>id</th>\n",
       "      <th>year</th>\n",
       "      <th>fire_name</th>\n",
       "      <th>agency</th>\n",
       "      <th>acres</th>\n",
       "      <th>mapmethod</th>\n",
       "      <th>inciwebid</th>\n",
       "      <th>alarm_date</th>\n",
       "      <th>cont_date</th>\n",
       "      <th>comments</th>\n",
       "      <th>complex_na</th>\n",
       "      <th>perimeter_</th>\n",
       "      <th>cause</th>\n",
       "      <th>geometry</th>\n",
       "      <th>final_date</th>\n",
       "      <th>burn_days</th>\n",
       "    </tr>\n",
       "  </thead>\n",
       "  <tbody>\n",
       "    <tr>\n",
       "      <th>164</th>\n",
       "      <td>view_historical_fires.fid--6c64548_17013a0304a...</td>\n",
       "      <td>2012</td>\n",
       "      <td>Vallecito Lightning Complex</td>\n",
       "      <td>State Agency</td>\n",
       "      <td>519.4</td>\n",
       "      <td>None</td>\n",
       "      <td>None</td>\n",
       "      <td>None</td>\n",
       "      <td>NaT</td>\n",
       "      <td>None</td>\n",
       "      <td>None</td>\n",
       "      <td>2012-08-15</td>\n",
       "      <td>None</td>\n",
       "      <td>POLYGON ((-12970126.513 3897030.356, -12970141...</td>\n",
       "      <td>2012-08-15</td>\n",
       "      <td>NaN</td>\n",
       "    </tr>\n",
       "    <tr>\n",
       "      <th>173</th>\n",
       "      <td>view_historical_fires.fid--6c64548_17013a0304a...</td>\n",
       "      <td>2012</td>\n",
       "      <td>Vallecito Lightning Complex</td>\n",
       "      <td>State Agency</td>\n",
       "      <td>519.4</td>\n",
       "      <td>None</td>\n",
       "      <td>None</td>\n",
       "      <td>None</td>\n",
       "      <td>NaT</td>\n",
       "      <td>None</td>\n",
       "      <td>None</td>\n",
       "      <td>2012-08-18</td>\n",
       "      <td>None</td>\n",
       "      <td>POLYGON ((-12970126.513 3897030.356, -12970141...</td>\n",
       "      <td>2012-08-18</td>\n",
       "      <td>NaN</td>\n",
       "    </tr>\n",
       "    <tr>\n",
       "      <th>180</th>\n",
       "      <td>view_historical_fires.fid--6c64548_17013a0304a...</td>\n",
       "      <td>2012</td>\n",
       "      <td>Vallecito Lightning Complex</td>\n",
       "      <td>State Agency</td>\n",
       "      <td>519.4</td>\n",
       "      <td>None</td>\n",
       "      <td>None</td>\n",
       "      <td>None</td>\n",
       "      <td>NaT</td>\n",
       "      <td>None</td>\n",
       "      <td>None</td>\n",
       "      <td>2012-08-19</td>\n",
       "      <td>None</td>\n",
       "      <td>POLYGON ((-12970126.513 3897030.356, -12970141...</td>\n",
       "      <td>2012-08-19</td>\n",
       "      <td>NaN</td>\n",
       "    </tr>\n",
       "  </tbody>\n",
       "</table>\n",
       "</div>"
      ],
      "text/plain": [
       "                                                    id  year  \\\n",
       "164  view_historical_fires.fid--6c64548_17013a0304a...  2012   \n",
       "173  view_historical_fires.fid--6c64548_17013a0304a...  2012   \n",
       "180  view_historical_fires.fid--6c64548_17013a0304a...  2012   \n",
       "\n",
       "                       fire_name        agency  acres mapmethod inciwebid  \\\n",
       "164  Vallecito Lightning Complex  State Agency  519.4      None      None   \n",
       "173  Vallecito Lightning Complex  State Agency  519.4      None      None   \n",
       "180  Vallecito Lightning Complex  State Agency  519.4      None      None   \n",
       "\n",
       "    alarm_date cont_date comments complex_na  perimeter_ cause  \\\n",
       "164       None       NaT     None       None  2012-08-15  None   \n",
       "173       None       NaT     None       None  2012-08-18  None   \n",
       "180       None       NaT     None       None  2012-08-19  None   \n",
       "\n",
       "                                              geometry final_date  burn_days  \n",
       "164  POLYGON ((-12970126.513 3897030.356, -12970141... 2012-08-15        NaN  \n",
       "173  POLYGON ((-12970126.513 3897030.356, -12970141... 2012-08-18        NaN  \n",
       "180  POLYGON ((-12970126.513 3897030.356, -12970141... 2012-08-19        NaN  "
      ]
     },
     "execution_count": 15,
     "metadata": {},
     "output_type": "execute_result"
    }
   ],
   "source": [
    "sd_perimeters[(sd_perimeters['fire_name']=='Vallecito Lightning Complex')& (sd_perimeters['acres']== 519.4)]"
   ]
  },
  {
   "cell_type": "code",
   "execution_count": 16,
   "metadata": {},
   "outputs": [],
   "source": [
    "sd_perimeters.drop(['id'], axis=1,inplace=True)\n",
    "sd_perimeters.drop_duplicates(inplace=True)"
   ]
  },
  {
   "cell_type": "code",
   "execution_count": 17,
   "metadata": {},
   "outputs": [
    {
     "data": {
      "text/plain": [
       "Border 3                      17\n",
       "Basilone Complex              13\n",
       "Eagle                         10\n",
       "Poomacha                       9\n",
       "LILAC 5                        9\n",
       "                              ..\n",
       "PINES                          1\n",
       "TOMAHAWK- BASILONE COMPLEX     1\n",
       "PINE                           1\n",
       "POOMACHA                       1\n",
       "COMBAT-BASILONE COMPLEX        1\n",
       "Name: fire_name, Length: 71, dtype: int64"
      ]
     },
     "execution_count": 17,
     "metadata": {},
     "output_type": "execute_result"
    }
   ],
   "source": [
    "sd_perimeters = sd_perimeters[sd_perimeters['acres']>1000]\n",
    "sd_perimeters.fire_name.value_counts()"
   ]
  },
  {
   "cell_type": "code",
   "execution_count": 18,
   "metadata": {},
   "outputs": [],
   "source": [
    "fire_src = sd_perimeters[['fire_name','acres','final_date']].sort_values(by=['fire_name', 'acres','final_date'])"
   ]
  },
  {
   "cell_type": "code",
   "execution_count": 19,
   "metadata": {},
   "outputs": [],
   "source": [
    "fire_lookup = fire_src.groupby((['fire_name','acres']),as_index=False).final_date.min()"
   ]
  },
  {
   "cell_type": "code",
   "execution_count": 20,
   "metadata": {},
   "outputs": [],
   "source": [
    "fire_final = pd.merge(fire_lookup,sd_perimeters, how='inner', left_on=['fire_name','acres','final_date'], right_on = ['fire_name','acres','final_date'])"
   ]
  },
  {
   "cell_type": "code",
   "execution_count": 21,
   "metadata": {},
   "outputs": [],
   "source": [
    "# Convert back to geoPandas\n",
    "fire_finalg = gpd.GeoDataFrame(fire_final)\n",
    "fire_finalg.drop(['alarm_date','cont_date','perimeter_','year'],axis=1,inplace=True)\n",
    "fire_finalg['final_date'] = fire_finalg['final_date'].astype(str)"
   ]
  },
  {
   "cell_type": "code",
   "execution_count": 22,
   "metadata": {},
   "outputs": [],
   "source": [
    "fire_finalg.to_file(\"sd_fire_final_dedupe.shp\")"
   ]
  }
 ],
 "metadata": {
  "kernelspec": {
   "display_name": "Python 3",
   "language": "python",
   "name": "python3"
  },
  "language_info": {
   "codemirror_mode": {
    "name": "ipython",
    "version": 3
   },
   "file_extension": ".py",
   "mimetype": "text/x-python",
   "name": "python",
   "nbconvert_exporter": "python",
   "pygments_lexer": "ipython3",
   "version": "3.7.6"
  }
 },
 "nbformat": 4,
 "nbformat_minor": 2
}
