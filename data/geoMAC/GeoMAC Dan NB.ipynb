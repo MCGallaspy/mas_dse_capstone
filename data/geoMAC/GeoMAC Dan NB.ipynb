{
 "cells": [
  {
   "cell_type": "code",
   "execution_count": null,
   "metadata": {},
   "outputs": [],
   "source": [
    "%matplotlib inline\n",
    "import numpy as np\n",
    "import pandas as pd\n",
    "import geopandas as gpd\n",
    "from matplotlib import pyplot as plt\n",
    "import contextily as ctx\n",
    "import datetime"
   ]
  },
  {
   "cell_type": "code",
   "execution_count": null,
   "metadata": {},
   "outputs": [],
   "source": [
    "perimeters = gpd.read_file('./hist/hist.shp')\n",
    "print(perimeters.shape)\n",
    "perimeters = perimeters[~perimeters.year.isna()]\n",
    "perimeters.year = perimeters.year.astype(int)\n",
    "print(perimeters.shape)"
   ]
  },
  {
   "cell_type": "code",
   "execution_count": null,
   "metadata": {},
   "outputs": [],
   "source": [
    "perimeters.head()"
   ]
  },
  {
   "cell_type": "code",
   "execution_count": null,
   "metadata": {},
   "outputs": [],
   "source": [
    "# Do we have unique fires?\n",
    "len(perimeters.id.unique())==perimeters.shape[0]"
   ]
  },
  {
   "cell_type": "code",
   "execution_count": null,
   "metadata": {},
   "outputs": [],
   "source": [
    "from shapely.geometry import Point\n",
    "MIN_LAT, MAX_LAT = 32.4, 33.6\n",
    "MIN_LONG, MAX_LONG = -118, -116\n",
    "sd_perimeters = perimeters.cx[MIN_LONG:MAX_LONG, MIN_LAT:MAX_LAT]\n",
    "print(sd_perimeters.shape)\n",
    "sd_perimeters.crs = {'init' :'epsg:4326'}\n",
    "sd_perimeters = sd_perimeters.to_crs(epsg=3857)\n",
    "sd_perimeters.head()"
   ]
  },
  {
   "cell_type": "code",
   "execution_count": null,
   "metadata": {},
   "outputs": [],
   "source": [
    "sd_perimeters = sd_perimeters[sd_perimeters['year']>2000].reset_index(drop=True)\n",
    "print(sd_perimeters.shape)\n",
    "sd_perimeters.head()"
   ]
  },
  {
   "cell_type": "code",
   "execution_count": null,
   "metadata": {},
   "outputs": [],
   "source": [
    "sd_perimeters.year.value_counts().sort_index().plot.bar()\n",
    "plt.title(\"SD Fires Over Time\");"
   ]
  },
  {
   "cell_type": "code",
   "execution_count": null,
   "metadata": {},
   "outputs": [],
   "source": [
    "# Percent missingness\n",
    "(sd_perimeters.isna().sum()/sd_perimeters.shape[0])*100"
   ]
  },
  {
   "cell_type": "code",
   "execution_count": null,
   "metadata": {},
   "outputs": [],
   "source": [
    "# Fair amount of missing data, year and acres are reliable:\n",
    "sd_perimeters.acres.plot.density()"
   ]
  },
  {
   "cell_type": "code",
   "execution_count": null,
   "metadata": {},
   "outputs": [],
   "source": [
    "sd_perimeters['final_date'] = sd_perimeters['alarm_date'].combine_first(sd_perimeters['perimeter_'])\n",
    "sd_perimeters['final_date'] = pd.to_datetime(sd_perimeters['final_date'])\n",
    "sd_perimeters['cont_date'] = pd.to_datetime(sd_perimeters['cont_date'])"
   ]
  },
  {
   "cell_type": "code",
   "execution_count": null,
   "metadata": {},
   "outputs": [],
   "source": [
    "sd_perimeters.final_date.map(lambda x: x.month).value_counts().sort_index().plot.bar()"
   ]
  },
  {
   "cell_type": "code",
   "execution_count": null,
   "metadata": {},
   "outputs": [],
   "source": [
    "sd_perimeters.cause.value_counts().plot.bar()\n",
    "# Looks like the causes are by a cause key, which I am not sure we have"
   ]
  },
  {
   "cell_type": "code",
   "execution_count": null,
   "metadata": {},
   "outputs": [],
   "source": [
    "sd_perimeters['burn_days'] = (sd_perimeters['cont_date'] - sd_perimeters['final_date']).dt.days"
   ]
  },
  {
   "cell_type": "code",
   "execution_count": null,
   "metadata": {},
   "outputs": [],
   "source": [
    "plt.scatter(sd_perimeters.burn_days, sd_perimeters.acres,s=20)\n",
    "plt.xlabel('Days Burned')\n",
    "plt.ylabel('Acres Burned');"
   ]
  },
  {
   "cell_type": "code",
   "execution_count": null,
   "metadata": {},
   "outputs": [],
   "source": [
    "sd_perimeters[(sd_perimeters['fire_name']=='Vallecito Lightning Complex')& (sd_perimeters['acres']== 519.4)]"
   ]
  },
  {
   "cell_type": "code",
   "execution_count": null,
   "metadata": {},
   "outputs": [],
   "source": [
    "sd_perimeters.drop(['id'], axis=1,inplace=True)\n",
    "sd_perimeters.drop_duplicates(inplace=True)"
   ]
  },
  {
   "cell_type": "code",
   "execution_count": null,
   "metadata": {},
   "outputs": [],
   "source": [
    "sd_perimeters = sd_perimeters[sd_perimeters['acres']>1000]\n",
    "sd_perimeters.fire_name.value_counts()"
   ]
  },
  {
   "cell_type": "code",
   "execution_count": null,
   "metadata": {},
   "outputs": [],
   "source": [
    "fire_src = sd_perimeters[['fire_name','acres','final_date']].sort_values(by=['fire_name', 'acres','final_date'])"
   ]
  },
  {
   "cell_type": "code",
   "execution_count": null,
   "metadata": {},
   "outputs": [],
   "source": [
    "fire_lookup = fire_src.groupby((['fire_name','acres']),as_index=False).final_date.min()"
   ]
  },
  {
   "cell_type": "code",
   "execution_count": null,
   "metadata": {},
   "outputs": [],
   "source": [
    "fire_final = pd.merge(fire_lookup,sd_perimeters, how='inner', left_on=['fire_name','acres','final_date'], right_on = ['fire_name','acres','final_date'])"
   ]
  },
  {
   "cell_type": "code",
   "execution_count": null,
   "metadata": {},
   "outputs": [],
   "source": [
    "# Convert back to geoPandas\n",
    "fire_finalg = gpd.GeoDataFrame(fire_final)\n",
    "fire_finalg.drop(['alarm_date','cont_date','perimeter_','year'],axis=1,inplace=True)\n",
    "fire_finalg['final_date'] = fire_finalg['final_date'].astype(str)"
   ]
  },
  {
   "cell_type": "code",
   "execution_count": null,
   "metadata": {},
   "outputs": [],
   "source": [
    "fire_finalg.to_file(\"sd_fire_final_dedupe.shp\")"
   ]
  }
 ],
 "metadata": {
  "kernelspec": {
   "display_name": "Python 3",
   "language": "python",
   "name": "python3"
  },
  "language_info": {
   "codemirror_mode": {
    "name": "ipython",
    "version": 3
   },
   "file_extension": ".py",
   "mimetype": "text/x-python",
   "name": "python",
   "nbconvert_exporter": "python",
   "pygments_lexer": "ipython3",
   "version": "3.6.9"
  }
 },
 "nbformat": 4,
 "nbformat_minor": 2
}
