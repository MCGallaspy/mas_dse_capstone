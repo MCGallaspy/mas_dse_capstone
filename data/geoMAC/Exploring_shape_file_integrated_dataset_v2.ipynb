{
 "cells": [
  {
   "cell_type": "code",
   "execution_count": 1,
   "metadata": {},
   "outputs": [],
   "source": [
    "%matplotlib inline\n",
    "import numpy as np\n",
    "import pandas as pd\n",
    "import geopandas as gpd\n",
    "from matplotlib import pyplot as plt\n",
    "import contextily as ctx"
   ]
  },
  {
   "cell_type": "code",
   "execution_count": 2,
   "metadata": {},
   "outputs": [],
   "source": [
    "perimeters = gpd.read_file('hist.shp')"
   ]
  },
  {
   "cell_type": "code",
   "execution_count": 3,
   "metadata": {},
   "outputs": [
    {
     "name": "stdout",
     "output_type": "stream",
     "text": [
      "(92531, 14)\n"
     ]
    }
   ],
   "source": [
    "print(perimeters.shape)"
   ]
  },
  {
   "cell_type": "code",
   "execution_count": 4,
   "metadata": {},
   "outputs": [
    {
     "name": "stdout",
     "output_type": "stream",
     "text": [
      "(2004, 14)\n"
     ]
    },
    {
     "data": {
      "text/html": [
       "<div>\n",
       "<style scoped>\n",
       "    .dataframe tbody tr th:only-of-type {\n",
       "        vertical-align: middle;\n",
       "    }\n",
       "\n",
       "    .dataframe tbody tr th {\n",
       "        vertical-align: top;\n",
       "    }\n",
       "\n",
       "    .dataframe thead th {\n",
       "        text-align: right;\n",
       "    }\n",
       "</style>\n",
       "<table border=\"1\" class=\"dataframe\">\n",
       "  <thead>\n",
       "    <tr style=\"text-align: right;\">\n",
       "      <th></th>\n",
       "      <th>id</th>\n",
       "      <th>year</th>\n",
       "      <th>fire_name</th>\n",
       "      <th>agency</th>\n",
       "      <th>acres</th>\n",
       "      <th>mapmethod</th>\n",
       "      <th>inciwebid</th>\n",
       "      <th>alarm_date</th>\n",
       "      <th>cont_date</th>\n",
       "      <th>comments</th>\n",
       "      <th>complex_na</th>\n",
       "      <th>perimeter_</th>\n",
       "      <th>cause</th>\n",
       "      <th>geometry</th>\n",
       "    </tr>\n",
       "  </thead>\n",
       "  <tbody>\n",
       "    <tr>\n",
       "      <td>230</td>\n",
       "      <td>view_historical_fires.fid--6c64548_17013a0304a...</td>\n",
       "      <td>2006.0</td>\n",
       "      <td>Bonny</td>\n",
       "      <td>BLM</td>\n",
       "      <td>35.437000</td>\n",
       "      <td>None</td>\n",
       "      <td>None</td>\n",
       "      <td>None</td>\n",
       "      <td>None</td>\n",
       "      <td>None</td>\n",
       "      <td>None</td>\n",
       "      <td>2006-06-06</td>\n",
       "      <td>None</td>\n",
       "      <td>POLYGON ((-12995890.859 3957307.752, -12995871...</td>\n",
       "    </tr>\n",
       "    <tr>\n",
       "      <td>272</td>\n",
       "      <td>view_historical_fires.fid--6c64548_17013a0304a...</td>\n",
       "      <td>2006.0</td>\n",
       "      <td>BORDER 15</td>\n",
       "      <td>CDF</td>\n",
       "      <td>19.854897</td>\n",
       "      <td>None</td>\n",
       "      <td>None</td>\n",
       "      <td>None</td>\n",
       "      <td>None</td>\n",
       "      <td>GPS Ground; No entry in FireCode</td>\n",
       "      <td>None</td>\n",
       "      <td>2006-07-15</td>\n",
       "      <td>None</td>\n",
       "      <td>POLYGON ((-12979988.108 3839621.915, -12979959...</td>\n",
       "    </tr>\n",
       "    <tr>\n",
       "      <td>285</td>\n",
       "      <td>view_historical_fires.fid--6c64548_17013a0304a...</td>\n",
       "      <td>2006.0</td>\n",
       "      <td>CAMINO</td>\n",
       "      <td>CDF</td>\n",
       "      <td>2.808180</td>\n",
       "      <td>None</td>\n",
       "      <td>None</td>\n",
       "      <td>None</td>\n",
       "      <td>None</td>\n",
       "      <td>No entry in FireCode</td>\n",
       "      <td>None</td>\n",
       "      <td>2006-02-09</td>\n",
       "      <td>None</td>\n",
       "      <td>POLYGON ((-13043399.240 3931031.704, -13043396...</td>\n",
       "    </tr>\n",
       "    <tr>\n",
       "      <td>589</td>\n",
       "      <td>view_historical_fires.fid--6c64548_17013a0304a...</td>\n",
       "      <td>2006.0</td>\n",
       "      <td>Horse Fire</td>\n",
       "      <td>USFS</td>\n",
       "      <td>7041.781000</td>\n",
       "      <td>None</td>\n",
       "      <td>None</td>\n",
       "      <td>None</td>\n",
       "      <td>None</td>\n",
       "      <td>None</td>\n",
       "      <td>None</td>\n",
       "      <td>2006-07-24</td>\n",
       "      <td>None</td>\n",
       "      <td>POLYGON ((-12987535.465 3863086.369, -12987437...</td>\n",
       "    </tr>\n",
       "    <tr>\n",
       "      <td>673</td>\n",
       "      <td>view_historical_fires.fid--6c64548_17013a0304a...</td>\n",
       "      <td>2006.0</td>\n",
       "      <td>Cottonwood</td>\n",
       "      <td>BLM</td>\n",
       "      <td>24.682000</td>\n",
       "      <td>None</td>\n",
       "      <td>None</td>\n",
       "      <td>None</td>\n",
       "      <td>None</td>\n",
       "      <td>None</td>\n",
       "      <td>None</td>\n",
       "      <td>2006-05-03</td>\n",
       "      <td>None</td>\n",
       "      <td>POLYGON ((-12950472.197 3869481.934, -12950496...</td>\n",
       "    </tr>\n",
       "  </tbody>\n",
       "</table>\n",
       "</div>"
      ],
      "text/plain": [
       "                                                    id    year   fire_name  \\\n",
       "230  view_historical_fires.fid--6c64548_17013a0304a...  2006.0       Bonny   \n",
       "272  view_historical_fires.fid--6c64548_17013a0304a...  2006.0   BORDER 15   \n",
       "285  view_historical_fires.fid--6c64548_17013a0304a...  2006.0      CAMINO   \n",
       "589  view_historical_fires.fid--6c64548_17013a0304a...  2006.0  Horse Fire   \n",
       "673  view_historical_fires.fid--6c64548_17013a0304a...  2006.0  Cottonwood   \n",
       "\n",
       "    agency        acres mapmethod inciwebid alarm_date cont_date  \\\n",
       "230    BLM    35.437000      None      None       None      None   \n",
       "272    CDF    19.854897      None      None       None      None   \n",
       "285    CDF     2.808180      None      None       None      None   \n",
       "589   USFS  7041.781000      None      None       None      None   \n",
       "673    BLM    24.682000      None      None       None      None   \n",
       "\n",
       "                             comments complex_na  perimeter_ cause  \\\n",
       "230                              None       None  2006-06-06  None   \n",
       "272  GPS Ground; No entry in FireCode       None  2006-07-15  None   \n",
       "285              No entry in FireCode       None  2006-02-09  None   \n",
       "589                              None       None  2006-07-24  None   \n",
       "673                              None       None  2006-05-03  None   \n",
       "\n",
       "                                              geometry  \n",
       "230  POLYGON ((-12995890.859 3957307.752, -12995871...  \n",
       "272  POLYGON ((-12979988.108 3839621.915, -12979959...  \n",
       "285  POLYGON ((-13043399.240 3931031.704, -13043396...  \n",
       "589  POLYGON ((-12987535.465 3863086.369, -12987437...  \n",
       "673  POLYGON ((-12950472.197 3869481.934, -12950496...  "
      ]
     },
     "execution_count": 4,
     "metadata": {},
     "output_type": "execute_result"
    }
   ],
   "source": [
    "# lets focus on San Diego county \n",
    "# Latitude and longitude bounding box for San Diego county\n",
    "from shapely.geometry import Point\n",
    "MIN_LAT, MAX_LAT = 32.4, 33.6\n",
    "MIN_LONG, MAX_LONG = -118, -116\n",
    "sd_perimeters = perimeters.cx[MIN_LONG:MAX_LONG, MIN_LAT:MAX_LAT]\n",
    "print(sd_perimeters.shape)\n",
    "sd_perimeters.crs = {'init' :'epsg:4326'}\n",
    "sd_perimeters = sd_perimeters.to_crs(epsg=3857)\n",
    "sd_perimeters.head()"
   ]
  },
  {
   "cell_type": "code",
   "execution_count": 5,
   "metadata": {},
   "outputs": [
    {
     "data": {
      "text/plain": [
       "pandas.core.series.Series"
      ]
     },
     "execution_count": 5,
     "metadata": {},
     "output_type": "execute_result"
    }
   ],
   "source": [
    "type(sd_perimeters.year.value_counts())"
   ]
  },
  {
   "cell_type": "code",
   "execution_count": 6,
   "metadata": {},
   "outputs": [
    {
     "name": "stdout",
     "output_type": "stream",
     "text": [
      "[1900 1910 1911 1912 1913 1914 1915 1916 1917 1918 1919 1920 1921 1922\n",
      " 1923 1924 1925 1926 1927 1928 1929 1930 1931 1932 1933 1934 1935 1936\n",
      " 1937 1938 1939 1940 1941 1942 1943 1944 1945 1946 1947 1948 1949 1950\n",
      " 1951 1952 1953 1954 1955 1956 1957 1958 1959 1960 1961 1962 1963 1964\n",
      " 1965 1966 1967 1968 1969 1970 1971 1972 1973 1974 1975 1976 1977 1978\n",
      " 1979 1980 1981 1982 1983 1984 1985 1986 1987 1988 1989 1990 1991 1992\n",
      " 1993 1994 1995 1996 1997 1998 1999 2000 2001 2002 2003 2004 2005 2006\n",
      " 2007 2008 2009 2010 2011 2012 2013 2014 2015 2016 2017 2018]\n",
      "The oldest year is 1900 and recent year is 2018\n"
     ]
    }
   ],
   "source": [
    "# Range of years that cover by this dataset\n",
    "print(sd_perimeters.year.sort_values().unique().astype(int))\n",
    "print ('The oldest year is {} and recent year is {}'.format(sd_perimeters.year.unique().astype(int).min(),sd_perimeters.year.unique().astype(int).max()))\n"
   ]
  },
  {
   "cell_type": "code",
   "execution_count": 8,
   "metadata": {},
   "outputs": [
    {
     "name": "stdout",
     "output_type": "stream",
     "text": [
      "(2004, 14)\n"
     ]
    }
   ],
   "source": [
    "print(sd_perimeters.shape)"
   ]
  },
  {
   "cell_type": "code",
   "execution_count": 10,
   "metadata": {},
   "outputs": [
    {
     "name": "stdout",
     "output_type": "stream",
     "text": [
      "(609, 14)\n"
     ]
    }
   ],
   "source": [
    "# How many fires are reported after year of 2000\n",
    "sd= sd_perimeters[sd_perimeters['year']>=2000]\n",
    "print(sd.shape)"
   ]
  },
  {
   "cell_type": "code",
   "execution_count": 11,
   "metadata": {},
   "outputs": [
    {
     "name": "stdout",
     "output_type": "stream",
     "text": [
      "[2000 2001 2002 2003 2004 2005 2006 2007 2008 2009 2010 2011 2012 2013\n",
      " 2014 2015 2016 2017 2018]\n",
      "[80 77 56 51 43 36 33 31 25 23 21 20 18 15 12 10  4]\n",
      "555\n"
     ]
    }
   ],
   "source": [
    "# check how many fires \n",
    "print(sd.year.sort_values().unique().astype(int))\n",
    "print(sd.year.value_counts().unique())\n",
    "print(sd.year.value_counts().unique().sum())"
   ]
  },
  {
   "cell_type": "code",
   "execution_count": 12,
   "metadata": {},
   "outputs": [
    {
     "data": {
      "text/plain": [
       "609"
      ]
     },
     "execution_count": 12,
     "metadata": {},
     "output_type": "execute_result"
    }
   ],
   "source": [
    "sd.year.count()"
   ]
  },
  {
   "cell_type": "code",
   "execution_count": 15,
   "metadata": {},
   "outputs": [
    {
     "data": {
      "text/plain": [
       "2007.0    80\n",
       "2012.0    77\n",
       "2014.0    56\n",
       "2013.0    51\n",
       "2006.0    43\n",
       "2010.0    36\n",
       "2005.0    36\n",
       "2011.0    33\n",
       "2004.0    31\n",
       "2008.0    25\n",
       "2016.0    23\n",
       "2009.0    21\n",
       "2017.0    20\n",
       "2002.0    18\n",
       "2018.0    18\n",
       "2003.0    15\n",
       "2015.0    12\n",
       "2000.0    10\n",
       "2001.0     4\n",
       "Name: year, dtype: int64"
      ]
     },
     "execution_count": 15,
     "metadata": {},
     "output_type": "execute_result"
    }
   ],
   "source": [
    "# how many fires per year \n",
    "sd['year'].value_counts()"
   ]
  },
  {
   "cell_type": "code",
   "execution_count": 222,
   "metadata": {},
   "outputs": [
    {
     "data": {
      "text/plain": [
       "3"
      ]
     },
     "execution_count": 222,
     "metadata": {},
     "output_type": "execute_result"
    }
   ],
   "source": [
    "\n",
    "sd[sd['year'] == 2001.0]['cont_date'].isnull().sum()"
   ]
  },
  {
   "cell_type": "code",
   "execution_count": 223,
   "metadata": {},
   "outputs": [
    {
     "data": {
      "text/plain": [
       "352"
      ]
     },
     "execution_count": 223,
     "metadata": {},
     "output_type": "execute_result"
    }
   ],
   "source": [
    "# Checking none values for each attributes \n",
    "sd['cont_date'].isnull().sum()"
   ]
  },
  {
   "cell_type": "code",
   "execution_count": 224,
   "metadata": {},
   "outputs": [
    {
     "data": {
      "text/plain": [
       "336"
      ]
     },
     "execution_count": 224,
     "metadata": {},
     "output_type": "execute_result"
    }
   ],
   "source": [
    "sd['alarm_date'].isnull().sum()"
   ]
  },
  {
   "cell_type": "code",
   "execution_count": 225,
   "metadata": {},
   "outputs": [
    {
     "data": {
      "text/plain": [
       "276"
      ]
     },
     "execution_count": 225,
     "metadata": {},
     "output_type": "execute_result"
    }
   ],
   "source": [
    "sd['perimeter_'].isnull().sum()"
   ]
  },
  {
   "cell_type": "code",
   "execution_count": 226,
   "metadata": {},
   "outputs": [
    {
     "data": {
      "text/plain": [
       "3"
      ]
     },
     "execution_count": 226,
     "metadata": {},
     "output_type": "execute_result"
    }
   ],
   "source": [
    "sd['fire_name'].isnull().sum()"
   ]
  },
  {
   "cell_type": "code",
   "execution_count": 227,
   "metadata": {},
   "outputs": [
    {
     "data": {
      "text/plain": [
       "0"
      ]
     },
     "execution_count": 227,
     "metadata": {},
     "output_type": "execute_result"
    }
   ],
   "source": [
    "sd['geometry'].isnull().sum()"
   ]
  },
  {
   "cell_type": "code",
   "execution_count": 228,
   "metadata": {},
   "outputs": [
    {
     "data": {
      "text/plain": [
       "0"
      ]
     },
     "execution_count": 228,
     "metadata": {},
     "output_type": "execute_result"
    }
   ],
   "source": [
    "sd['acres'].isnull().sum()"
   ]
  },
  {
   "cell_type": "code",
   "execution_count": 229,
   "metadata": {},
   "outputs": [
    {
     "data": {
      "text/plain": [
       "276"
      ]
     },
     "execution_count": 229,
     "metadata": {},
     "output_type": "execute_result"
    }
   ],
   "source": [
    "sd.perimeter_.isnull().sum()"
   ]
  },
  {
   "cell_type": "code",
   "execution_count": 230,
   "metadata": {},
   "outputs": [
    {
     "data": {
      "text/plain": [
       "0    2006-06-06\n",
       "1    2006-07-15\n",
       "dtype: object"
      ]
     },
     "execution_count": 230,
     "metadata": {},
     "output_type": "execute_result"
    }
   ],
   "source": [
    "y=  '2006-06-06'\n",
    "y.split(\"-\")[2]\n",
    "#q=y.apply(lambda x:(x.split(\"-\") if x in not None else x))\n",
    "data = np.array(['2006-06-06','2006-07-15']) \n",
    "ser = pd.Series(data) \n",
    "ser"
   ]
  },
  {
   "cell_type": "code",
   "execution_count": 231,
   "metadata": {},
   "outputs": [
    {
     "name": "stdout",
     "output_type": "stream",
     "text": [
      "230    2006-06-06\n",
      "272    2006-07-15\n",
      "285    2006-02-09\n",
      "589    2006-07-24\n",
      "673    2006-05-03\n",
      "Name: perimeter_, dtype: object\n",
      "count     333.000000\n",
      "mean     2011.579580\n",
      "std         3.610202\n",
      "min      2006.000000\n",
      "25%      2008.000000\n",
      "50%      2012.000000\n",
      "75%      2014.000000\n",
      "max      2018.000000\n",
      "Name: perimeter_, dtype: float64\n"
     ]
    }
   ],
   "source": [
    "# checking oldest and newer year \n",
    "print(sd.perimeter_.head())\n",
    "m= sd.perimeter_.isnull()\n",
    "n =~m \n",
    "splitter = sd[n].perimeter_.apply(lambda x: (x.split(\"-\") if x is not None else x))\n",
    "y,m,d= splitter.apply(lambda x:x[0]), splitter.apply(lambda x:x[1]), splitter.apply(lambda x:x[2])\n",
    "print(y.astype(int).describe())"
   ]
  },
  {
   "cell_type": "code",
   "execution_count": 232,
   "metadata": {},
   "outputs": [
    {
     "data": {
      "text/html": [
       "<div>\n",
       "<style scoped>\n",
       "    .dataframe tbody tr th:only-of-type {\n",
       "        vertical-align: middle;\n",
       "    }\n",
       "\n",
       "    .dataframe tbody tr th {\n",
       "        vertical-align: top;\n",
       "    }\n",
       "\n",
       "    .dataframe thead th {\n",
       "        text-align: right;\n",
       "    }\n",
       "</style>\n",
       "<table border=\"1\" class=\"dataframe\">\n",
       "  <thead>\n",
       "    <tr style=\"text-align: right;\">\n",
       "      <th></th>\n",
       "      <th>id</th>\n",
       "      <th>year</th>\n",
       "      <th>fire_name</th>\n",
       "      <th>agency</th>\n",
       "      <th>acres</th>\n",
       "      <th>mapmethod</th>\n",
       "      <th>inciwebid</th>\n",
       "      <th>alarm_date</th>\n",
       "      <th>cont_date</th>\n",
       "      <th>comments</th>\n",
       "      <th>complex_na</th>\n",
       "      <th>perimeter_</th>\n",
       "      <th>cause</th>\n",
       "      <th>geometry</th>\n",
       "    </tr>\n",
       "  </thead>\n",
       "  <tbody>\n",
       "    <tr>\n",
       "      <td>230</td>\n",
       "      <td>view_historical_fires.fid--6c64548_17013a0304a...</td>\n",
       "      <td>2006.0</td>\n",
       "      <td>Bonny</td>\n",
       "      <td>BLM</td>\n",
       "      <td>35.437000</td>\n",
       "      <td>None</td>\n",
       "      <td>None</td>\n",
       "      <td>None</td>\n",
       "      <td>None</td>\n",
       "      <td>None</td>\n",
       "      <td>None</td>\n",
       "      <td>2006-06-06</td>\n",
       "      <td>None</td>\n",
       "      <td>POLYGON ((-12995890.859 3957307.752, -12995871...</td>\n",
       "    </tr>\n",
       "    <tr>\n",
       "      <td>272</td>\n",
       "      <td>view_historical_fires.fid--6c64548_17013a0304a...</td>\n",
       "      <td>2006.0</td>\n",
       "      <td>BORDER 15</td>\n",
       "      <td>CDF</td>\n",
       "      <td>19.854897</td>\n",
       "      <td>None</td>\n",
       "      <td>None</td>\n",
       "      <td>None</td>\n",
       "      <td>None</td>\n",
       "      <td>GPS Ground; No entry in FireCode</td>\n",
       "      <td>None</td>\n",
       "      <td>2006-07-15</td>\n",
       "      <td>None</td>\n",
       "      <td>POLYGON ((-12979988.108 3839621.915, -12979959...</td>\n",
       "    </tr>\n",
       "    <tr>\n",
       "      <td>285</td>\n",
       "      <td>view_historical_fires.fid--6c64548_17013a0304a...</td>\n",
       "      <td>2006.0</td>\n",
       "      <td>CAMINO</td>\n",
       "      <td>CDF</td>\n",
       "      <td>2.808180</td>\n",
       "      <td>None</td>\n",
       "      <td>None</td>\n",
       "      <td>None</td>\n",
       "      <td>None</td>\n",
       "      <td>No entry in FireCode</td>\n",
       "      <td>None</td>\n",
       "      <td>2006-02-09</td>\n",
       "      <td>None</td>\n",
       "      <td>POLYGON ((-13043399.240 3931031.704, -13043396...</td>\n",
       "    </tr>\n",
       "    <tr>\n",
       "      <td>589</td>\n",
       "      <td>view_historical_fires.fid--6c64548_17013a0304a...</td>\n",
       "      <td>2006.0</td>\n",
       "      <td>Horse Fire</td>\n",
       "      <td>USFS</td>\n",
       "      <td>7041.781000</td>\n",
       "      <td>None</td>\n",
       "      <td>None</td>\n",
       "      <td>None</td>\n",
       "      <td>None</td>\n",
       "      <td>None</td>\n",
       "      <td>None</td>\n",
       "      <td>2006-07-24</td>\n",
       "      <td>None</td>\n",
       "      <td>POLYGON ((-12987535.465 3863086.369, -12987437...</td>\n",
       "    </tr>\n",
       "    <tr>\n",
       "      <td>673</td>\n",
       "      <td>view_historical_fires.fid--6c64548_17013a0304a...</td>\n",
       "      <td>2006.0</td>\n",
       "      <td>Cottonwood</td>\n",
       "      <td>BLM</td>\n",
       "      <td>24.682000</td>\n",
       "      <td>None</td>\n",
       "      <td>None</td>\n",
       "      <td>None</td>\n",
       "      <td>None</td>\n",
       "      <td>None</td>\n",
       "      <td>None</td>\n",
       "      <td>2006-05-03</td>\n",
       "      <td>None</td>\n",
       "      <td>POLYGON ((-12950472.197 3869481.934, -12950496...</td>\n",
       "    </tr>\n",
       "  </tbody>\n",
       "</table>\n",
       "</div>"
      ],
      "text/plain": [
       "                                                    id    year   fire_name  \\\n",
       "230  view_historical_fires.fid--6c64548_17013a0304a...  2006.0       Bonny   \n",
       "272  view_historical_fires.fid--6c64548_17013a0304a...  2006.0   BORDER 15   \n",
       "285  view_historical_fires.fid--6c64548_17013a0304a...  2006.0      CAMINO   \n",
       "589  view_historical_fires.fid--6c64548_17013a0304a...  2006.0  Horse Fire   \n",
       "673  view_historical_fires.fid--6c64548_17013a0304a...  2006.0  Cottonwood   \n",
       "\n",
       "    agency        acres mapmethod inciwebid alarm_date cont_date  \\\n",
       "230    BLM    35.437000      None      None       None      None   \n",
       "272    CDF    19.854897      None      None       None      None   \n",
       "285    CDF     2.808180      None      None       None      None   \n",
       "589   USFS  7041.781000      None      None       None      None   \n",
       "673    BLM    24.682000      None      None       None      None   \n",
       "\n",
       "                             comments complex_na  perimeter_ cause  \\\n",
       "230                              None       None  2006-06-06  None   \n",
       "272  GPS Ground; No entry in FireCode       None  2006-07-15  None   \n",
       "285              No entry in FireCode       None  2006-02-09  None   \n",
       "589                              None       None  2006-07-24  None   \n",
       "673                              None       None  2006-05-03  None   \n",
       "\n",
       "                                              geometry  \n",
       "230  POLYGON ((-12995890.859 3957307.752, -12995871...  \n",
       "272  POLYGON ((-12979988.108 3839621.915, -12979959...  \n",
       "285  POLYGON ((-13043399.240 3931031.704, -13043396...  \n",
       "589  POLYGON ((-12987535.465 3863086.369, -12987437...  \n",
       "673  POLYGON ((-12950472.197 3869481.934, -12950496...  "
      ]
     },
     "execution_count": 232,
     "metadata": {},
     "output_type": "execute_result"
    }
   ],
   "source": [
    "# check for yers where alarm data_date/cont_date has been use\n",
    "sd.head()"
   ]
  },
  {
   "cell_type": "code",
   "execution_count": 16,
   "metadata": {},
   "outputs": [
    {
     "name": "stderr",
     "output_type": "stream",
     "text": [
      "C:\\Users\\seafu\\AppData\\Local\\Continuum\\anaconda3\\lib\\site-packages\\ipykernel_launcher.py:2: SettingWithCopyWarning: \n",
      "A value is trying to be set on a copy of a slice from a DataFrame.\n",
      "Try using .loc[row_indexer,col_indexer] = value instead\n",
      "\n",
      "See the caveats in the documentation: http://pandas.pydata.org/pandas-docs/stable/user_guide/indexing.html#returning-a-view-versus-a-copy\n",
      "  \n"
     ]
    }
   ],
   "source": [
    "# Filing missing alarm date values with perimeter_ values .As result, get complete alarm_date \n",
    "sd['alarm_date']= sd['alarm_date'].fillna(sd['perimeter_'])"
   ]
  },
  {
   "cell_type": "code",
   "execution_count": 17,
   "metadata": {},
   "outputs": [
    {
     "name": "stdout",
     "output_type": "stream",
     "text": [
      "230    2006-06-06\n",
      "272    2006-07-15\n",
      "285    2006-02-09\n",
      "589    2006-07-24\n",
      "673    2006-05-03\n",
      "Name: alarm_date, dtype: object\n"
     ]
    }
   ],
   "source": [
    "print(sd.alarm_date.head())"
   ]
  },
  {
   "cell_type": "code",
   "execution_count": 18,
   "metadata": {},
   "outputs": [
    {
     "name": "stdout",
     "output_type": "stream",
     "text": [
      "count     606.000000\n",
      "mean     2009.693069\n",
      "std         4.377423\n",
      "min      2000.000000\n",
      "25%      2006.000000\n",
      "50%      2010.000000\n",
      "75%      2013.000000\n",
      "max      2018.000000\n",
      "Name: alarm_date, dtype: float64\n"
     ]
    }
   ],
   "source": [
    "m= sd.alarm_date.isnull()\n",
    "n =~m \n",
    "splitter = sd[n].alarm_date.apply(lambda x: (x.split(\"-\") if x is not None else x))\n",
    "y,m,d= splitter.apply(lambda x:x[0]), splitter.apply(lambda x:x[1]), splitter.apply(lambda x:x[2])\n",
    "print(y.astype(int).describe())"
   ]
  },
  {
   "cell_type": "code",
   "execution_count": 19,
   "metadata": {},
   "outputs": [
    {
     "name": "stderr",
     "output_type": "stream",
     "text": [
      "C:\\Users\\seafu\\AppData\\Local\\Continuum\\anaconda3\\lib\\site-packages\\ipykernel_launcher.py:1: SettingWithCopyWarning: \n",
      "A value is trying to be set on a copy of a slice from a DataFrame.\n",
      "Try using .loc[row_indexer,col_indexer] = value instead\n",
      "\n",
      "See the caveats in the documentation: http://pandas.pydata.org/pandas-docs/stable/user_guide/indexing.html#returning-a-view-versus-a-copy\n",
      "  \"\"\"Entry point for launching an IPython kernel.\n",
      "C:\\Users\\seafu\\AppData\\Local\\Continuum\\anaconda3\\lib\\site-packages\\ipykernel_launcher.py:2: SettingWithCopyWarning: \n",
      "A value is trying to be set on a copy of a slice from a DataFrame.\n",
      "Try using .loc[row_indexer,col_indexer] = value instead\n",
      "\n",
      "See the caveats in the documentation: http://pandas.pydata.org/pandas-docs/stable/user_guide/indexing.html#returning-a-view-versus-a-copy\n",
      "  \n",
      "C:\\Users\\seafu\\AppData\\Local\\Continuum\\anaconda3\\lib\\site-packages\\ipykernel_launcher.py:3: SettingWithCopyWarning: \n",
      "A value is trying to be set on a copy of a slice from a DataFrame.\n",
      "Try using .loc[row_indexer,col_indexer] = value instead\n",
      "\n",
      "See the caveats in the documentation: http://pandas.pydata.org/pandas-docs/stable/user_guide/indexing.html#returning-a-view-versus-a-copy\n",
      "  This is separate from the ipykernel package so we can avoid doing imports until\n"
     ]
    }
   ],
   "source": [
    "sd['Year'] = y\n",
    "sd['month'] = m\n",
    "sd['day'] = d"
   ]
  },
  {
   "cell_type": "code",
   "execution_count": 20,
   "metadata": {},
   "outputs": [
    {
     "name": "stdout",
     "output_type": "stream",
     "text": [
      "3\n",
      "(609, 17)\n"
     ]
    }
   ],
   "source": [
    "# only three dates are missing \n",
    "print(sd['alarm_date'].isnull().sum())\n",
    "# Shape of SD dataset for san diego from 2000 to 2020\n",
    "print(sd.shape)"
   ]
  },
  {
   "cell_type": "code",
   "execution_count": 21,
   "metadata": {},
   "outputs": [
    {
     "data": {
      "text/html": [
       "<div>\n",
       "<style scoped>\n",
       "    .dataframe tbody tr th:only-of-type {\n",
       "        vertical-align: middle;\n",
       "    }\n",
       "\n",
       "    .dataframe tbody tr th {\n",
       "        vertical-align: top;\n",
       "    }\n",
       "\n",
       "    .dataframe thead th {\n",
       "        text-align: right;\n",
       "    }\n",
       "</style>\n",
       "<table border=\"1\" class=\"dataframe\">\n",
       "  <thead>\n",
       "    <tr style=\"text-align: right;\">\n",
       "      <th></th>\n",
       "      <th>id</th>\n",
       "      <th>year</th>\n",
       "      <th>fire_name</th>\n",
       "      <th>agency</th>\n",
       "      <th>acres</th>\n",
       "      <th>mapmethod</th>\n",
       "      <th>inciwebid</th>\n",
       "      <th>alarm_date</th>\n",
       "      <th>cont_date</th>\n",
       "      <th>comments</th>\n",
       "      <th>complex_na</th>\n",
       "      <th>perimeter_</th>\n",
       "      <th>cause</th>\n",
       "      <th>geometry</th>\n",
       "      <th>Year</th>\n",
       "      <th>month</th>\n",
       "      <th>day</th>\n",
       "    </tr>\n",
       "  </thead>\n",
       "  <tbody>\n",
       "    <tr>\n",
       "      <td>230</td>\n",
       "      <td>view_historical_fires.fid--6c64548_17013a0304a...</td>\n",
       "      <td>2006.0</td>\n",
       "      <td>Bonny</td>\n",
       "      <td>BLM</td>\n",
       "      <td>35.437000</td>\n",
       "      <td>None</td>\n",
       "      <td>None</td>\n",
       "      <td>2006-06-06</td>\n",
       "      <td>None</td>\n",
       "      <td>None</td>\n",
       "      <td>None</td>\n",
       "      <td>2006-06-06</td>\n",
       "      <td>None</td>\n",
       "      <td>POLYGON ((-12995890.859 3957307.752, -12995871...</td>\n",
       "      <td>2006</td>\n",
       "      <td>06</td>\n",
       "      <td>06</td>\n",
       "    </tr>\n",
       "    <tr>\n",
       "      <td>272</td>\n",
       "      <td>view_historical_fires.fid--6c64548_17013a0304a...</td>\n",
       "      <td>2006.0</td>\n",
       "      <td>BORDER 15</td>\n",
       "      <td>CDF</td>\n",
       "      <td>19.854897</td>\n",
       "      <td>None</td>\n",
       "      <td>None</td>\n",
       "      <td>2006-07-15</td>\n",
       "      <td>None</td>\n",
       "      <td>GPS Ground; No entry in FireCode</td>\n",
       "      <td>None</td>\n",
       "      <td>2006-07-15</td>\n",
       "      <td>None</td>\n",
       "      <td>POLYGON ((-12979988.108 3839621.915, -12979959...</td>\n",
       "      <td>2006</td>\n",
       "      <td>07</td>\n",
       "      <td>15</td>\n",
       "    </tr>\n",
       "    <tr>\n",
       "      <td>285</td>\n",
       "      <td>view_historical_fires.fid--6c64548_17013a0304a...</td>\n",
       "      <td>2006.0</td>\n",
       "      <td>CAMINO</td>\n",
       "      <td>CDF</td>\n",
       "      <td>2.808180</td>\n",
       "      <td>None</td>\n",
       "      <td>None</td>\n",
       "      <td>2006-02-09</td>\n",
       "      <td>None</td>\n",
       "      <td>No entry in FireCode</td>\n",
       "      <td>None</td>\n",
       "      <td>2006-02-09</td>\n",
       "      <td>None</td>\n",
       "      <td>POLYGON ((-13043399.240 3931031.704, -13043396...</td>\n",
       "      <td>2006</td>\n",
       "      <td>02</td>\n",
       "      <td>09</td>\n",
       "    </tr>\n",
       "    <tr>\n",
       "      <td>589</td>\n",
       "      <td>view_historical_fires.fid--6c64548_17013a0304a...</td>\n",
       "      <td>2006.0</td>\n",
       "      <td>Horse Fire</td>\n",
       "      <td>USFS</td>\n",
       "      <td>7041.781000</td>\n",
       "      <td>None</td>\n",
       "      <td>None</td>\n",
       "      <td>2006-07-24</td>\n",
       "      <td>None</td>\n",
       "      <td>None</td>\n",
       "      <td>None</td>\n",
       "      <td>2006-07-24</td>\n",
       "      <td>None</td>\n",
       "      <td>POLYGON ((-12987535.465 3863086.369, -12987437...</td>\n",
       "      <td>2006</td>\n",
       "      <td>07</td>\n",
       "      <td>24</td>\n",
       "    </tr>\n",
       "    <tr>\n",
       "      <td>673</td>\n",
       "      <td>view_historical_fires.fid--6c64548_17013a0304a...</td>\n",
       "      <td>2006.0</td>\n",
       "      <td>Cottonwood</td>\n",
       "      <td>BLM</td>\n",
       "      <td>24.682000</td>\n",
       "      <td>None</td>\n",
       "      <td>None</td>\n",
       "      <td>2006-05-03</td>\n",
       "      <td>None</td>\n",
       "      <td>None</td>\n",
       "      <td>None</td>\n",
       "      <td>2006-05-03</td>\n",
       "      <td>None</td>\n",
       "      <td>POLYGON ((-12950472.197 3869481.934, -12950496...</td>\n",
       "      <td>2006</td>\n",
       "      <td>05</td>\n",
       "      <td>03</td>\n",
       "    </tr>\n",
       "  </tbody>\n",
       "</table>\n",
       "</div>"
      ],
      "text/plain": [
       "                                                    id    year   fire_name  \\\n",
       "230  view_historical_fires.fid--6c64548_17013a0304a...  2006.0       Bonny   \n",
       "272  view_historical_fires.fid--6c64548_17013a0304a...  2006.0   BORDER 15   \n",
       "285  view_historical_fires.fid--6c64548_17013a0304a...  2006.0      CAMINO   \n",
       "589  view_historical_fires.fid--6c64548_17013a0304a...  2006.0  Horse Fire   \n",
       "673  view_historical_fires.fid--6c64548_17013a0304a...  2006.0  Cottonwood   \n",
       "\n",
       "    agency        acres mapmethod inciwebid  alarm_date cont_date  \\\n",
       "230    BLM    35.437000      None      None  2006-06-06      None   \n",
       "272    CDF    19.854897      None      None  2006-07-15      None   \n",
       "285    CDF     2.808180      None      None  2006-02-09      None   \n",
       "589   USFS  7041.781000      None      None  2006-07-24      None   \n",
       "673    BLM    24.682000      None      None  2006-05-03      None   \n",
       "\n",
       "                             comments complex_na  perimeter_ cause  \\\n",
       "230                              None       None  2006-06-06  None   \n",
       "272  GPS Ground; No entry in FireCode       None  2006-07-15  None   \n",
       "285              No entry in FireCode       None  2006-02-09  None   \n",
       "589                              None       None  2006-07-24  None   \n",
       "673                              None       None  2006-05-03  None   \n",
       "\n",
       "                                              geometry  Year month day  \n",
       "230  POLYGON ((-12995890.859 3957307.752, -12995871...  2006    06  06  \n",
       "272  POLYGON ((-12979988.108 3839621.915, -12979959...  2006    07  15  \n",
       "285  POLYGON ((-13043399.240 3931031.704, -13043396...  2006    02  09  \n",
       "589  POLYGON ((-12987535.465 3863086.369, -12987437...  2006    07  24  \n",
       "673  POLYGON ((-12950472.197 3869481.934, -12950496...  2006    05  03  "
      ]
     },
     "execution_count": 21,
     "metadata": {},
     "output_type": "execute_result"
    }
   ],
   "source": [
    "sd.head()"
   ]
  },
  {
   "cell_type": "code",
   "execution_count": 22,
   "metadata": {},
   "outputs": [
    {
     "name": "stdout",
     "output_type": "stream",
     "text": [
      "(609, 17)\n",
      "276\n"
     ]
    }
   ],
   "source": [
    "print(sd.shape)\n",
    "print(sd.perimeter_.isnull().sum())\n"
   ]
  },
  {
   "cell_type": "code",
   "execution_count": 23,
   "metadata": {},
   "outputs": [],
   "source": [
    "# Remove none values\n",
    "sd = sd.dropna(axis=0, subset=['alarm_date'])"
   ]
  },
  {
   "cell_type": "code",
   "execution_count": 24,
   "metadata": {},
   "outputs": [
    {
     "data": {
      "text/plain": [
       "0"
      ]
     },
     "execution_count": 24,
     "metadata": {},
     "output_type": "execute_result"
    }
   ],
   "source": [
    "sd.alarm_date.isnull().sum()"
   ]
  },
  {
   "cell_type": "code",
   "execution_count": 29,
   "metadata": {},
   "outputs": [
    {
     "data": {
      "text/plain": [
       "array([False,  True])"
      ]
     },
     "execution_count": 29,
     "metadata": {},
     "output_type": "execute_result"
    }
   ],
   "source": [
    "\n",
    "o =[sd['year'].astype(int) == sd['Year'].astype(int)]\n",
    "oo=np.array(o)\n",
    "np.unique(oo)"
   ]
  },
  {
   "cell_type": "code",
   "execution_count": 30,
   "metadata": {},
   "outputs": [
    {
     "data": {
      "text/html": [
       "<div>\n",
       "<style scoped>\n",
       "    .dataframe tbody tr th:only-of-type {\n",
       "        vertical-align: middle;\n",
       "    }\n",
       "\n",
       "    .dataframe tbody tr th {\n",
       "        vertical-align: top;\n",
       "    }\n",
       "\n",
       "    .dataframe thead th {\n",
       "        text-align: right;\n",
       "    }\n",
       "</style>\n",
       "<table border=\"1\" class=\"dataframe\">\n",
       "  <thead>\n",
       "    <tr style=\"text-align: right;\">\n",
       "      <th></th>\n",
       "      <th>id</th>\n",
       "      <th>year</th>\n",
       "      <th>fire_name</th>\n",
       "      <th>agency</th>\n",
       "      <th>acres</th>\n",
       "      <th>mapmethod</th>\n",
       "      <th>inciwebid</th>\n",
       "      <th>alarm_date</th>\n",
       "      <th>cont_date</th>\n",
       "      <th>comments</th>\n",
       "      <th>complex_na</th>\n",
       "      <th>perimeter_</th>\n",
       "      <th>cause</th>\n",
       "      <th>geometry</th>\n",
       "      <th>Year</th>\n",
       "      <th>month</th>\n",
       "      <th>day</th>\n",
       "    </tr>\n",
       "  </thead>\n",
       "  <tbody>\n",
       "    <tr>\n",
       "      <td>230</td>\n",
       "      <td>view_historical_fires.fid--6c64548_17013a0304a...</td>\n",
       "      <td>2006.0</td>\n",
       "      <td>Bonny</td>\n",
       "      <td>BLM</td>\n",
       "      <td>35.437000</td>\n",
       "      <td>None</td>\n",
       "      <td>None</td>\n",
       "      <td>2006-06-06</td>\n",
       "      <td>None</td>\n",
       "      <td>None</td>\n",
       "      <td>None</td>\n",
       "      <td>2006-06-06</td>\n",
       "      <td>None</td>\n",
       "      <td>POLYGON ((-12995890.859 3957307.752, -12995871...</td>\n",
       "      <td>2006</td>\n",
       "      <td>06</td>\n",
       "      <td>06</td>\n",
       "    </tr>\n",
       "    <tr>\n",
       "      <td>272</td>\n",
       "      <td>view_historical_fires.fid--6c64548_17013a0304a...</td>\n",
       "      <td>2006.0</td>\n",
       "      <td>BORDER 15</td>\n",
       "      <td>CDF</td>\n",
       "      <td>19.854897</td>\n",
       "      <td>None</td>\n",
       "      <td>None</td>\n",
       "      <td>2006-07-15</td>\n",
       "      <td>None</td>\n",
       "      <td>GPS Ground; No entry in FireCode</td>\n",
       "      <td>None</td>\n",
       "      <td>2006-07-15</td>\n",
       "      <td>None</td>\n",
       "      <td>POLYGON ((-12979988.108 3839621.915, -12979959...</td>\n",
       "      <td>2006</td>\n",
       "      <td>07</td>\n",
       "      <td>15</td>\n",
       "    </tr>\n",
       "    <tr>\n",
       "      <td>285</td>\n",
       "      <td>view_historical_fires.fid--6c64548_17013a0304a...</td>\n",
       "      <td>2006.0</td>\n",
       "      <td>CAMINO</td>\n",
       "      <td>CDF</td>\n",
       "      <td>2.808180</td>\n",
       "      <td>None</td>\n",
       "      <td>None</td>\n",
       "      <td>2006-02-09</td>\n",
       "      <td>None</td>\n",
       "      <td>No entry in FireCode</td>\n",
       "      <td>None</td>\n",
       "      <td>2006-02-09</td>\n",
       "      <td>None</td>\n",
       "      <td>POLYGON ((-13043399.240 3931031.704, -13043396...</td>\n",
       "      <td>2006</td>\n",
       "      <td>02</td>\n",
       "      <td>09</td>\n",
       "    </tr>\n",
       "    <tr>\n",
       "      <td>589</td>\n",
       "      <td>view_historical_fires.fid--6c64548_17013a0304a...</td>\n",
       "      <td>2006.0</td>\n",
       "      <td>Horse Fire</td>\n",
       "      <td>USFS</td>\n",
       "      <td>7041.781000</td>\n",
       "      <td>None</td>\n",
       "      <td>None</td>\n",
       "      <td>2006-07-24</td>\n",
       "      <td>None</td>\n",
       "      <td>None</td>\n",
       "      <td>None</td>\n",
       "      <td>2006-07-24</td>\n",
       "      <td>None</td>\n",
       "      <td>POLYGON ((-12987535.465 3863086.369, -12987437...</td>\n",
       "      <td>2006</td>\n",
       "      <td>07</td>\n",
       "      <td>24</td>\n",
       "    </tr>\n",
       "    <tr>\n",
       "      <td>673</td>\n",
       "      <td>view_historical_fires.fid--6c64548_17013a0304a...</td>\n",
       "      <td>2006.0</td>\n",
       "      <td>Cottonwood</td>\n",
       "      <td>BLM</td>\n",
       "      <td>24.682000</td>\n",
       "      <td>None</td>\n",
       "      <td>None</td>\n",
       "      <td>2006-05-03</td>\n",
       "      <td>None</td>\n",
       "      <td>None</td>\n",
       "      <td>None</td>\n",
       "      <td>2006-05-03</td>\n",
       "      <td>None</td>\n",
       "      <td>POLYGON ((-12950472.197 3869481.934, -12950496...</td>\n",
       "      <td>2006</td>\n",
       "      <td>05</td>\n",
       "      <td>03</td>\n",
       "    </tr>\n",
       "  </tbody>\n",
       "</table>\n",
       "</div>"
      ],
      "text/plain": [
       "                                                    id    year   fire_name  \\\n",
       "230  view_historical_fires.fid--6c64548_17013a0304a...  2006.0       Bonny   \n",
       "272  view_historical_fires.fid--6c64548_17013a0304a...  2006.0   BORDER 15   \n",
       "285  view_historical_fires.fid--6c64548_17013a0304a...  2006.0      CAMINO   \n",
       "589  view_historical_fires.fid--6c64548_17013a0304a...  2006.0  Horse Fire   \n",
       "673  view_historical_fires.fid--6c64548_17013a0304a...  2006.0  Cottonwood   \n",
       "\n",
       "    agency        acres mapmethod inciwebid  alarm_date cont_date  \\\n",
       "230    BLM    35.437000      None      None  2006-06-06      None   \n",
       "272    CDF    19.854897      None      None  2006-07-15      None   \n",
       "285    CDF     2.808180      None      None  2006-02-09      None   \n",
       "589   USFS  7041.781000      None      None  2006-07-24      None   \n",
       "673    BLM    24.682000      None      None  2006-05-03      None   \n",
       "\n",
       "                             comments complex_na  perimeter_ cause  \\\n",
       "230                              None       None  2006-06-06  None   \n",
       "272  GPS Ground; No entry in FireCode       None  2006-07-15  None   \n",
       "285              No entry in FireCode       None  2006-02-09  None   \n",
       "589                              None       None  2006-07-24  None   \n",
       "673                              None       None  2006-05-03  None   \n",
       "\n",
       "                                              geometry  Year month day  \n",
       "230  POLYGON ((-12995890.859 3957307.752, -12995871...  2006    06  06  \n",
       "272  POLYGON ((-12979988.108 3839621.915, -12979959...  2006    07  15  \n",
       "285  POLYGON ((-13043399.240 3931031.704, -13043396...  2006    02  09  \n",
       "589  POLYGON ((-12987535.465 3863086.369, -12987437...  2006    07  24  \n",
       "673  POLYGON ((-12950472.197 3869481.934, -12950496...  2006    05  03  "
      ]
     },
     "execution_count": 30,
     "metadata": {},
     "output_type": "execute_result"
    }
   ],
   "source": [
    "sd.head()"
   ]
  },
  {
   "cell_type": "code",
   "execution_count": 33,
   "metadata": {},
   "outputs": [
    {
     "name": "stdout",
     "output_type": "stream",
     "text": [
      "0    2006-09-09\n",
      "1    2006-09-09\n",
      "2    2006-09-09\n",
      "3    2006-09-08\n",
      "4    2006-09-08\n",
      "Name: perimeter_, dtype: object\n"
     ]
    }
   ],
   "source": [
    "# in order to identify quality issues.\n",
    "print(perimeters.perimeter_.head())\n",
    "mask = ~perimeters.perimeter_.isna()\n",
    "splitter = perimeters[mask].perimeter_.apply(lambda x: (x.split(\"-\") if x is not None else x))\n",
    "y, m, d = splitter.apply(lambda x: x[0]), splitter.apply(lambda x: x[1]), splitter.apply(lambda x: x[2])"
   ]
  },
  {
   "cell_type": "code",
   "execution_count": 34,
   "metadata": {},
   "outputs": [
    {
     "data": {
      "text/plain": [
       "Index(['id', 'year', 'fire_name', 'agency', 'acres', 'mapmethod', 'inciwebid',\n",
       "       'alarm_date', 'cont_date', 'comments', 'complex_na', 'perimeter_',\n",
       "       'cause', 'geometry', 'Year', 'month', 'day'],\n",
       "      dtype='object')"
      ]
     },
     "execution_count": 34,
     "metadata": {},
     "output_type": "execute_result"
    }
   ],
   "source": [
    "sd.columns"
   ]
  },
  {
   "cell_type": "code",
   "execution_count": 35,
   "metadata": {},
   "outputs": [
    {
     "data": {
      "text/plain": [
       "68607    2001-12-08\n",
       "71806    2001-07-09\n",
       "71807    2001-01-03\n",
       "Name: alarm_date, dtype: object"
      ]
     },
     "execution_count": 35,
     "metadata": {},
     "output_type": "execute_result"
    }
   ],
   "source": [
    "sd[sd['year'] == 2001.0]['alarm_date']"
   ]
  },
  {
   "cell_type": "code",
   "execution_count": 39,
   "metadata": {},
   "outputs": [
    {
     "data": {
      "text/plain": [
       "<matplotlib.axes._subplots.AxesSubplot at 0x220b470c9c8>"
      ]
     },
     "execution_count": 39,
     "metadata": {},
     "output_type": "execute_result"
    },
    {
     "data": {
      "image/png": "[encoded data removed]",
      "text/plain": [
       "<Figure size 864x576 with 1 Axes>"
      ]
     },
     "metadata": {
      "needs_background": "light"
     },
     "output_type": "display_data"
    }
   ],
   "source": [
    "#Check fire distrubtion over months/seasons \n",
    "fig_dims = (12, 8)\n",
    "fig, ax = plt.subplots(figsize=fig_dims)\n",
    "sd.month.sort_values().hist(bins=12, log=True)"
   ]
  },
  {
   "cell_type": "code",
   "execution_count": 301,
   "metadata": {
    "scrolled": true
   },
   "outputs": [
    {
     "data": {
      "image/png": "[encoded data removed]",
      "text/plain": [
       "<Figure size 864x576 with 1 Axes>"
      ]
     },
     "metadata": {
      "needs_background": "light"
     },
     "output_type": "display_data"
    }
   ],
   "source": [
    "#Check number of fires during period of 2000 to 2018 \n",
    "n_bins = len(sd.year.astype(int).value_counts())\n",
    "fig_dims = (12, 8)\n",
    "fig, ax = plt.subplots(figsize=fig_dims)\n",
    "ax = sd.year.astype(int).hist(ax=ax, bins=n_bins)\n",
    "low, hi  = sd.year.astype(int).min(), sd.year.astype(int).max()\n",
    "ax.set_xticks(range(low, hi + 1));"
   ]
  },
  {
   "cell_type": "code",
   "execution_count": 51,
   "metadata": {
    "scrolled": true
   },
   "outputs": [
    {
     "data": {
      "text/plain": [
       "<matplotlib.axes._subplots.AxesSubplot at 0x220b359e748>"
      ]
     },
     "execution_count": 51,
     "metadata": {},
     "output_type": "execute_result"
    },
    {
     "data": {
      "image/png": "[encoded data removed]",
      "text/plain": [
       "<Figure size 864x576 with 1 Axes>"
      ]
     },
     "metadata": {
      "needs_background": "light"
     },
     "output_type": "display_data"
    }
   ],
   "source": [
    "# check acres distrubiton \n",
    "fig_dims = (12, 8)\n",
    "fig, ax = plt.subplots(figsize=fig_dims)\n",
    "mask = sd.acres < 50000\n",
    "sd[mask].acres.hist(bins=100, log=True)"
   ]
  },
  {
   "cell_type": "code",
   "execution_count": 52,
   "metadata": {
    "scrolled": true
   },
   "outputs": [
    {
     "data": {
      "text/plain": [
       "<matplotlib.axes._subplots.AxesSubplot at 0x220b472b908>"
      ]
     },
     "execution_count": 52,
     "metadata": {},
     "output_type": "execute_result"
    },
    {
     "data": {
      "image/png": "[encoded data removed]",
      "text/plain": [
       "<Figure size 864x576 with 1 Axes>"
      ]
     },
     "metadata": {
      "needs_background": "light"
     },
     "output_type": "display_data"
    }
   ],
   "source": [
    "# check the most important fires which assumed the burn is greater 1000\n",
    "fig_dims = (12, 8)\n",
    "fig, ax = plt.subplots(figsize=fig_dims)\n",
    "mask = sd.acres  > 1000\n",
    "sd[mask].acres.hist(bins=100, log=True)"
   ]
  },
  {
   "cell_type": "code",
   "execution_count": null,
   "metadata": {},
   "outputs": [],
   "source": [
    "# Check if there is any duplication. Some fires has the same date but different agency or acres or...\n",
    "# My assumption of duplication where these attributes are matching "
   ]
  },
  {
   "cell_type": "code",
   "execution_count": 40,
   "metadata": {},
   "outputs": [
    {
     "data": {
      "text/plain": [
       "Index(['id', 'year', 'fire_name', 'agency', 'acres', 'mapmethod', 'inciwebid',\n",
       "       'alarm_date', 'cont_date', 'comments', 'complex_na', 'perimeter_',\n",
       "       'cause', 'geometry', 'Year', 'month', 'day'],\n",
       "      dtype='object')"
      ]
     },
     "execution_count": 40,
     "metadata": {},
     "output_type": "execute_result"
    }
   ],
   "source": [
    "sd.columns "
   ]
  },
  {
   "cell_type": "code",
   "execution_count": 86,
   "metadata": {},
   "outputs": [
    {
     "data": {
      "text/plain": [
       "(606, 17)"
      ]
     },
     "execution_count": 86,
     "metadata": {},
     "output_type": "execute_result"
    }
   ],
   "source": [
    "sd.shape"
   ]
  },
  {
   "cell_type": "code",
   "execution_count": 89,
   "metadata": {},
   "outputs": [
    {
     "data": {
      "text/plain": [
       "(606,)"
      ]
     },
     "execution_count": 89,
     "metadata": {},
     "output_type": "execute_result"
    }
   ],
   "source": [
    "sd_unique =sd[['year', 'fire_name', 'agency', 'acres', 'mapmethod', 'inciwebid',\n",
    "       'alarm_date','geometry']]\n",
    "sd_unique.duplicated().shape"
   ]
  },
  {
   "cell_type": "code",
   "execution_count": 90,
   "metadata": {},
   "outputs": [
    {
     "data": {
      "text/plain": [
       "(606,)"
      ]
     },
     "execution_count": 90,
     "metadata": {},
     "output_type": "execute_result"
    }
   ],
   "source": [
    "sd_unique =sd[['year', 'fire_name', 'agency', 'acres',\n",
    "       'alarm_date','geometry']]\n",
    "sd_unique.duplicated().shape"
   ]
  },
  {
   "cell_type": "code",
   "execution_count": 92,
   "metadata": {},
   "outputs": [
    {
     "data": {
      "text/plain": [
       "(606,)"
      ]
     },
     "execution_count": 92,
     "metadata": {},
     "output_type": "execute_result"
    }
   ],
   "source": [
    "sd_unique =sd[['alarm_date']]\n",
    "sd_unique.duplicated().shape"
   ]
  },
  {
   "cell_type": "code",
   "execution_count": 113,
   "metadata": {},
   "outputs": [
    {
     "data": {
      "text/plain": [
       "52816    False\n",
       "52922    False\n",
       "53091    False\n",
       "53493    False\n",
       "53589    False\n",
       "53844    False\n",
       "54179    False\n",
       "54247    False\n",
       "54289    False\n",
       "54515    False\n",
       "54522    False\n",
       "54671    False\n",
       "55106     True\n",
       "55112     True\n",
       "55116    False\n",
       "55286    False\n",
       "55624    False\n",
       "55671    False\n",
       "dtype: bool"
      ]
     },
     "execution_count": 113,
     "metadata": {},
     "output_type": "execute_result"
    }
   ],
   "source": [
    "# Check if there is any duplication values /rows \n",
    "s18 = sd[sd['Year'] == '2018']\n",
    "s18c = s18[['alarm_date','acres','fire_name', 'geometry','mapmethod','inciwebid']]\n",
    "s18c.duplicated()"
   ]
  },
  {
   "cell_type": "code",
   "execution_count": 114,
   "metadata": {},
   "outputs": [
    {
     "data": {
      "text/html": [
       "<div>\n",
       "<style scoped>\n",
       "    .dataframe tbody tr th:only-of-type {\n",
       "        vertical-align: middle;\n",
       "    }\n",
       "\n",
       "    .dataframe tbody tr th {\n",
       "        vertical-align: top;\n",
       "    }\n",
       "\n",
       "    .dataframe thead th {\n",
       "        text-align: right;\n",
       "    }\n",
       "</style>\n",
       "<table border=\"1\" class=\"dataframe\">\n",
       "  <thead>\n",
       "    <tr style=\"text-align: right;\">\n",
       "      <th></th>\n",
       "      <th>alarm_date</th>\n",
       "      <th>acres</th>\n",
       "      <th>fire_name</th>\n",
       "      <th>geometry</th>\n",
       "      <th>mapmethod</th>\n",
       "      <th>inciwebid</th>\n",
       "    </tr>\n",
       "  </thead>\n",
       "  <tbody>\n",
       "    <tr>\n",
       "      <td>52816</td>\n",
       "      <td>2018-07-06</td>\n",
       "      <td>687.971375</td>\n",
       "      <td>WEST</td>\n",
       "      <td>POLYGON ((-12996380.974 3871787.180, -12996940...</td>\n",
       "      <td>Hand Sketch</td>\n",
       "      <td>None</td>\n",
       "    </tr>\n",
       "    <tr>\n",
       "      <td>52922</td>\n",
       "      <td>2018-07-08</td>\n",
       "      <td>509.281330</td>\n",
       "      <td>WEST</td>\n",
       "      <td>POLYGON ((-12997184.005 3871787.996, -12997363...</td>\n",
       "      <td>GPS-Walked</td>\n",
       "      <td>None</td>\n",
       "    </tr>\n",
       "    <tr>\n",
       "      <td>53091</td>\n",
       "      <td>2018-07-28</td>\n",
       "      <td>327.586114</td>\n",
       "      <td>PASQUAL</td>\n",
       "      <td>POLYGON ((-13015305.226 3904875.049, -13015306...</td>\n",
       "      <td>Hand Sketch</td>\n",
       "      <td>None</td>\n",
       "    </tr>\n",
       "    <tr>\n",
       "      <td>53493</td>\n",
       "      <td>2018-05-09</td>\n",
       "      <td>7.243643</td>\n",
       "      <td>MONTE</td>\n",
       "      <td>POLYGON ((-12998169.350 3881263.407, -12998171...</td>\n",
       "      <td>Other</td>\n",
       "      <td>None</td>\n",
       "    </tr>\n",
       "    <tr>\n",
       "      <td>53589</td>\n",
       "      <td>2018-06-03</td>\n",
       "      <td>176.242850</td>\n",
       "      <td>ALISO</td>\n",
       "      <td>POLYGON ((-13106886.403 3968107.052, -13106967...</td>\n",
       "      <td>Mixed Methods</td>\n",
       "      <td>None</td>\n",
       "    </tr>\n",
       "    <tr>\n",
       "      <td>53844</td>\n",
       "      <td>2018-07-28</td>\n",
       "      <td>222.283035</td>\n",
       "      <td>RIBBON</td>\n",
       "      <td>MULTIPOLYGON (((-12972634.933 3974013.432, -12...</td>\n",
       "      <td>Infrared Image</td>\n",
       "      <td>None</td>\n",
       "    </tr>\n",
       "    <tr>\n",
       "      <td>54179</td>\n",
       "      <td>2018-06-05</td>\n",
       "      <td>175.718593</td>\n",
       "      <td>ALISO</td>\n",
       "      <td>POLYGON ((-13107531.116 3968695.883, -13107535...</td>\n",
       "      <td>Infrared Image</td>\n",
       "      <td>None</td>\n",
       "    </tr>\n",
       "    <tr>\n",
       "      <td>54247</td>\n",
       "      <td>2018-06-03</td>\n",
       "      <td>175.718593</td>\n",
       "      <td>ALISO</td>\n",
       "      <td>POLYGON ((-13107531.116 3968695.883, -13107535...</td>\n",
       "      <td>Mixed Methods</td>\n",
       "      <td>None</td>\n",
       "    </tr>\n",
       "    <tr>\n",
       "      <td>54289</td>\n",
       "      <td>2018-06-04</td>\n",
       "      <td>175.718593</td>\n",
       "      <td>ALISO</td>\n",
       "      <td>POLYGON ((-13107531.116 3968695.883, -13107535...</td>\n",
       "      <td>Mixed Methods</td>\n",
       "      <td>None</td>\n",
       "    </tr>\n",
       "    <tr>\n",
       "      <td>54515</td>\n",
       "      <td>2018-06-07</td>\n",
       "      <td>217.477791</td>\n",
       "      <td>RECYCLE</td>\n",
       "      <td>POLYGON ((-12962822.569 3848264.181, -12962850...</td>\n",
       "      <td>Hand Sketch</td>\n",
       "      <td>None</td>\n",
       "    </tr>\n",
       "    <tr>\n",
       "      <td>54522</td>\n",
       "      <td>2018-06-07</td>\n",
       "      <td>248.380684</td>\n",
       "      <td>RECYCLE</td>\n",
       "      <td>POLYGON ((-12962043.153 3850109.584, -12962029...</td>\n",
       "      <td>GPS-Walked</td>\n",
       "      <td>None</td>\n",
       "    </tr>\n",
       "    <tr>\n",
       "      <td>54671</td>\n",
       "      <td>2018-07-30</td>\n",
       "      <td>336.163285</td>\n",
       "      <td>ROCK</td>\n",
       "      <td>MULTIPOLYGON (((-13050611.759 3951939.294, -13...</td>\n",
       "      <td>Mixed Methods</td>\n",
       "      <td>None</td>\n",
       "    </tr>\n",
       "    <tr>\n",
       "      <td>55106</td>\n",
       "      <td>2018-07-06</td>\n",
       "      <td>687.971375</td>\n",
       "      <td>WEST</td>\n",
       "      <td>POLYGON ((-12996380.974 3871787.180, -12996940...</td>\n",
       "      <td>Hand Sketch</td>\n",
       "      <td>None</td>\n",
       "    </tr>\n",
       "    <tr>\n",
       "      <td>55112</td>\n",
       "      <td>2018-07-08</td>\n",
       "      <td>509.281330</td>\n",
       "      <td>WEST</td>\n",
       "      <td>POLYGON ((-12997184.005 3871787.996, -12997363...</td>\n",
       "      <td>GPS-Walked</td>\n",
       "      <td>None</td>\n",
       "    </tr>\n",
       "    <tr>\n",
       "      <td>55116</td>\n",
       "      <td>2018-07-13</td>\n",
       "      <td>505.335084</td>\n",
       "      <td>WEST</td>\n",
       "      <td>POLYGON ((-12997185.316 3871788.623, -12997364...</td>\n",
       "      <td>GPS-Walked/ Driven</td>\n",
       "      <td>None</td>\n",
       "    </tr>\n",
       "    <tr>\n",
       "      <td>55286</td>\n",
       "      <td>2018-07-28</td>\n",
       "      <td>364.093872</td>\n",
       "      <td>PASQUAL</td>\n",
       "      <td>POLYGON ((-13015746.444 3906492.906, -13015748...</td>\n",
       "      <td>GPS-Flight</td>\n",
       "      <td>None</td>\n",
       "    </tr>\n",
       "    <tr>\n",
       "      <td>55624</td>\n",
       "      <td>2018-07-29</td>\n",
       "      <td>234.830552</td>\n",
       "      <td>ROCK</td>\n",
       "      <td>MULTIPOLYGON (((-13050729.861 3950881.093, -13...</td>\n",
       "      <td>Mixed Methods</td>\n",
       "      <td>None</td>\n",
       "    </tr>\n",
       "    <tr>\n",
       "      <td>55671</td>\n",
       "      <td>2018-07-25</td>\n",
       "      <td>24.775326</td>\n",
       "      <td>Martinez</td>\n",
       "      <td>POLYGON ((-12929579.436 3970114.739, -12929550...</td>\n",
       "      <td>Mixed Methods</td>\n",
       "      <td>None</td>\n",
       "    </tr>\n",
       "  </tbody>\n",
       "</table>\n",
       "</div>"
      ],
      "text/plain": [
       "       alarm_date       acres fire_name  \\\n",
       "52816  2018-07-06  687.971375      WEST   \n",
       "52922  2018-07-08  509.281330      WEST   \n",
       "53091  2018-07-28  327.586114   PASQUAL   \n",
       "53493  2018-05-09    7.243643     MONTE   \n",
       "53589  2018-06-03  176.242850     ALISO   \n",
       "53844  2018-07-28  222.283035    RIBBON   \n",
       "54179  2018-06-05  175.718593     ALISO   \n",
       "54247  2018-06-03  175.718593     ALISO   \n",
       "54289  2018-06-04  175.718593     ALISO   \n",
       "54515  2018-06-07  217.477791   RECYCLE   \n",
       "54522  2018-06-07  248.380684   RECYCLE   \n",
       "54671  2018-07-30  336.163285      ROCK   \n",
       "55106  2018-07-06  687.971375      WEST   \n",
       "55112  2018-07-08  509.281330      WEST   \n",
       "55116  2018-07-13  505.335084      WEST   \n",
       "55286  2018-07-28  364.093872   PASQUAL   \n",
       "55624  2018-07-29  234.830552      ROCK   \n",
       "55671  2018-07-25   24.775326  Martinez   \n",
       "\n",
       "                                                geometry           mapmethod  \\\n",
       "52816  POLYGON ((-12996380.974 3871787.180, -12996940...         Hand Sketch   \n",
       "52922  POLYGON ((-12997184.005 3871787.996, -12997363...          GPS-Walked   \n",
       "53091  POLYGON ((-13015305.226 3904875.049, -13015306...         Hand Sketch   \n",
       "53493  POLYGON ((-12998169.350 3881263.407, -12998171...               Other   \n",
       "53589  POLYGON ((-13106886.403 3968107.052, -13106967...       Mixed Methods   \n",
       "53844  MULTIPOLYGON (((-12972634.933 3974013.432, -12...      Infrared Image   \n",
       "54179  POLYGON ((-13107531.116 3968695.883, -13107535...      Infrared Image   \n",
       "54247  POLYGON ((-13107531.116 3968695.883, -13107535...       Mixed Methods   \n",
       "54289  POLYGON ((-13107531.116 3968695.883, -13107535...       Mixed Methods   \n",
       "54515  POLYGON ((-12962822.569 3848264.181, -12962850...         Hand Sketch   \n",
       "54522  POLYGON ((-12962043.153 3850109.584, -12962029...          GPS-Walked   \n",
       "54671  MULTIPOLYGON (((-13050611.759 3951939.294, -13...       Mixed Methods   \n",
       "55106  POLYGON ((-12996380.974 3871787.180, -12996940...         Hand Sketch   \n",
       "55112  POLYGON ((-12997184.005 3871787.996, -12997363...          GPS-Walked   \n",
       "55116  POLYGON ((-12997185.316 3871788.623, -12997364...  GPS-Walked/ Driven   \n",
       "55286  POLYGON ((-13015746.444 3906492.906, -13015748...          GPS-Flight   \n",
       "55624  MULTIPOLYGON (((-13050729.861 3950881.093, -13...       Mixed Methods   \n",
       "55671  POLYGON ((-12929579.436 3970114.739, -12929550...       Mixed Methods   \n",
       "\n",
       "      inciwebid  \n",
       "52816      None  \n",
       "52922      None  \n",
       "53091      None  \n",
       "53493      None  \n",
       "53589      None  \n",
       "53844      None  \n",
       "54179      None  \n",
       "54247      None  \n",
       "54289      None  \n",
       "54515      None  \n",
       "54522      None  \n",
       "54671      None  \n",
       "55106      None  \n",
       "55112      None  \n",
       "55116      None  \n",
       "55286      None  \n",
       "55624      None  \n",
       "55671      None  "
      ]
     },
     "execution_count": 114,
     "metadata": {},
     "output_type": "execute_result"
    }
   ],
   "source": [
    "s18c"
   ]
  },
  {
   "cell_type": "code",
   "execution_count": 303,
   "metadata": {},
   "outputs": [
    {
     "data": {
      "text/plain": [
       "5"
      ]
     },
     "execution_count": 303,
     "metadata": {},
     "output_type": "execute_result"
    }
   ],
   "source": [
    "# Check if there is any none values for each attributes . Importanly alarm_date, gemotry and acres dont have none values \n",
    "sd.agency.isnull().sum()"
   ]
  },
  {
   "cell_type": "code",
   "execution_count": 48,
   "metadata": {},
   "outputs": [
    {
     "data": {
      "text/plain": [
       "0"
      ]
     },
     "execution_count": 48,
     "metadata": {},
     "output_type": "execute_result"
    }
   ],
   "source": [
    "sd.alarm_date.isnull().sum()"
   ]
  },
  {
   "cell_type": "code",
   "execution_count": 49,
   "metadata": {},
   "outputs": [
    {
     "data": {
      "text/plain": [
       "0"
      ]
     },
     "execution_count": 49,
     "metadata": {},
     "output_type": "execute_result"
    }
   ],
   "source": [
    "sd.acres.isnull().sum()"
   ]
  },
  {
   "cell_type": "code",
   "execution_count": 50,
   "metadata": {},
   "outputs": [
    {
     "data": {
      "text/plain": [
       "0"
      ]
     },
     "execution_count": 50,
     "metadata": {},
     "output_type": "execute_result"
    }
   ],
   "source": [
    "sd.geometry.isnull().sum()"
   ]
  },
  {
   "cell_type": "code",
   "execution_count": 41,
   "metadata": {},
   "outputs": [
    {
     "data": {
      "text/plain": [
       "2"
      ]
     },
     "execution_count": 41,
     "metadata": {},
     "output_type": "execute_result"
    }
   ],
   "source": [
    "sd.fire_name.isnull().sum()"
   ]
  },
  {
   "cell_type": "code",
   "execution_count": 42,
   "metadata": {},
   "outputs": [
    {
     "data": {
      "text/plain": [
       "0"
      ]
     },
     "execution_count": 42,
     "metadata": {},
     "output_type": "execute_result"
    }
   ],
   "source": [
    "sd.acres.isnull().sum()"
   ]
  },
  {
   "cell_type": "code",
   "execution_count": 43,
   "metadata": {},
   "outputs": [
    {
     "data": {
      "text/plain": [
       "545"
      ]
     },
     "execution_count": 43,
     "metadata": {},
     "output_type": "execute_result"
    }
   ],
   "source": [
    "sd.mapmethod.isnull().sum()"
   ]
  },
  {
   "cell_type": "code",
   "execution_count": 44,
   "metadata": {},
   "outputs": [
    {
     "data": {
      "text/plain": [
       "582"
      ]
     },
     "execution_count": 44,
     "metadata": {},
     "output_type": "execute_result"
    }
   ],
   "source": [
    "sd.inciwebid.isnull().sum()\n"
   ]
  },
  {
   "cell_type": "code",
   "execution_count": 45,
   "metadata": {},
   "outputs": [
    {
     "data": {
      "text/plain": [
       "378"
      ]
     },
     "execution_count": 45,
     "metadata": {},
     "output_type": "execute_result"
    }
   ],
   "source": [
    "sd.comments.isnull().sum()\n"
   ]
  },
  {
   "cell_type": "code",
   "execution_count": 46,
   "metadata": {},
   "outputs": [
    {
     "data": {
      "text/plain": [
       "606"
      ]
     },
     "execution_count": 46,
     "metadata": {},
     "output_type": "execute_result"
    }
   ],
   "source": [
    "sd.complex_na.isnull().sum()\n"
   ]
  },
  {
   "cell_type": "code",
   "execution_count": 47,
   "metadata": {},
   "outputs": [
    {
     "data": {
      "text/plain": [
       "337"
      ]
     },
     "execution_count": 47,
     "metadata": {},
     "output_type": "execute_result"
    }
   ],
   "source": [
    "sd.cause.isnull().sum()\n"
   ]
  },
  {
   "cell_type": "code",
   "execution_count": 308,
   "metadata": {},
   "outputs": [
    {
     "data": {
      "text/plain": [
       "(606, 17)"
      ]
     },
     "execution_count": 308,
     "metadata": {},
     "output_type": "execute_result"
    }
   ],
   "source": [
    "sd.shape"
   ]
  },
  {
   "cell_type": "code",
   "execution_count": 67,
   "metadata": {},
   "outputs": [
    {
     "data": {
      "text/plain": [
       "array(['2018-07-06', '2018-07-08', '2018-07-28', '2018-05-09',\n",
       "       '2018-06-03', '2018-06-05', '2018-06-04', '2018-06-07',\n",
       "       '2018-07-30', '2018-07-13', '2018-07-29', '2018-07-25'],\n",
       "      dtype=object)"
      ]
     },
     "execution_count": 67,
     "metadata": {},
     "output_type": "execute_result"
    }
   ],
   "source": []
  },
  {
   "cell_type": "code",
   "execution_count": 81,
   "metadata": {},
   "outputs": [
    {
     "data": {
      "text/plain": [
       "array([False])"
      ]
     },
     "execution_count": 81,
     "metadata": {},
     "output_type": "execute_result"
    }
   ],
   "source": []
  },
  {
   "cell_type": "code",
   "execution_count": 84,
   "metadata": {},
   "outputs": [],
   "source": [
    "s18c=s18[['fire_name','agency','acres']]"
   ]
  }
 ],
 "metadata": {
  "kernelspec": {
   "display_name": "Python 3",
   "language": "python",
   "name": "python3"
  },
  "language_info": {
   "codemirror_mode": {
    "name": "ipython",
    "version": 3
   },
   "file_extension": ".py",
   "mimetype": "text/x-python",
   "name": "python",
   "nbconvert_exporter": "python",
   "pygments_lexer": "ipython3",
   "version": "3.7.4"
  }
 },
 "nbformat": 4,
 "nbformat_minor": 2
}
