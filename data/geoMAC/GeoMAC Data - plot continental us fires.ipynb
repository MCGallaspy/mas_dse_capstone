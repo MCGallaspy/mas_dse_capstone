{
 "cells": [
  {
   "cell_type": "code",
   "execution_count": 3,
   "metadata": {},
   "outputs": [],
   "source": [
    "import numpy as np\n",
    "import pandas as pd\n",
    "import matplotlib.pyplot as plt\n",
    "import geopandas as gpd\n",
    "from shapely.geometry import shape\n",
    "import shapefile\n",
    "import requests\n",
    "from urllib import request\n",
    "from zipfile import ZipFile\n",
    "from io import BytesIO\n",
    "from datetime import date\n",
    "import osr"
   ]
  },
  {
   "cell_type": "code",
   "execution_count": 4,
   "metadata": {},
   "outputs": [],
   "source": [
    "year_list = pd.date_range('2002-01-01',date.today(), \n",
    "              freq='YS').strftime(\"%Y\").tolist()\n",
    "site_url = 'https://rmgsc.cr.usgs.gov/outgoing/GeoMAC/historic_fire_data/'\n",
    "perimeter_url = 'https://rmgsc.cr.usgs.gov/outgoing/GeoMAC/historic_fire_data/US_HIST_FIRE_PERIMTRS_DD83.zip'"
   ]
  },
  {
   "cell_type": "code",
   "execution_count": 123,
   "metadata": {},
   "outputs": [
    {
     "name": "stdout",
     "output_type": "stream",
     "text": [
      "Wall time: 10.2 s\n"
     ]
    }
   ],
   "source": [
    "%%time\n",
    "geo_list = list()\n",
    "for year in year_list[:-1]:\n",
    "    zip_file_url = site_url+year+\"_sit_rep_pts_dd83.zip\"\n",
    "    zipfile = ZipFile(BytesIO(request.urlopen(zip_file_url).read()))\n",
    "    filenames = [y for y in sorted(zipfile.namelist()) for ending in ['dbf', 'prj', 'shp', 'shx'] if y.endswith(ending)] \n",
    "    dbf, prj, shp, shx = [BytesIO(zipfile.read(filename)) for filename in filenames]\n",
    "    r = shapefile.Reader(shp=shp, shx=shx, dbf=dbf)\n",
    "    attributes, geometry = [], []\n",
    "    field_names = [field[0] for field in r.fields[1:]]  \n",
    "    for row in r.shapeRecords():  \n",
    "        geometry.append(shape(row.shape.__geo_interface__))  \n",
    "        record = [r.decode('utf-8') if type(r) == bytes else r for r in row.record]\n",
    "        attributes.append(dict(zip(field_names, record)))\n",
    "        \n",
    "    try:\n",
    "        proj4_string = osr.SpatialReference(str(prj.read())).ExportToProj4()\n",
    "        year_data = gpd.GeoDataFrame(data = attributes, geometry = geometry, crs = proj4_string)\n",
    "    except:\n",
    "        year_data = gpd.GeoDataFrame(data = attributes, geometry = geometry)\n",
    "    \n",
    "    geo_list.append(year_data)"
   ]
  },
  {
   "cell_type": "code",
   "execution_count": 124,
   "metadata": {},
   "outputs": [
    {
     "name": "stdout",
     "output_type": "stream",
     "text": [
      "18\n",
      "['OBJECTID_1', 'REPDATE', 'REPDATE_FM', 'EVENT_ID', 'ENAME', 'ITYPE', 'DPRIORITY', 'ACTIVE', 'ACRES', 'PERSONNEL', 'LOCATE', 'EDAMAGE', 'ECOSTS', 'F_CONTAIN', 'LATDD', 'LONGDD', 'TEAMTYPE', 'TEAMNAME', 'GPRIORITY', 'CAUSE', 'STARTDATE', 'NEWACRES', 'UN_UNITID', 'UN_USTATE', 'HOTLINK', 'INTERNAL_I', 'OBJECTID', 'geometry']\n"
     ]
    },
    {
     "data": {
      "text/html": [
       "<div>\n",
       "<style scoped>\n",
       "    .dataframe tbody tr th:only-of-type {\n",
       "        vertical-align: middle;\n",
       "    }\n",
       "\n",
       "    .dataframe tbody tr th {\n",
       "        vertical-align: top;\n",
       "    }\n",
       "\n",
       "    .dataframe thead th {\n",
       "        text-align: right;\n",
       "    }\n",
       "</style>\n",
       "<table border=\"1\" class=\"dataframe\">\n",
       "  <thead>\n",
       "    <tr style=\"text-align: right;\">\n",
       "      <th></th>\n",
       "      <th>OBJECTID_1</th>\n",
       "      <th>REPDATE</th>\n",
       "      <th>REPDATE_FM</th>\n",
       "      <th>EVENT_ID</th>\n",
       "      <th>ENAME</th>\n",
       "      <th>ITYPE</th>\n",
       "      <th>DPRIORITY</th>\n",
       "      <th>ACTIVE</th>\n",
       "      <th>ACRES</th>\n",
       "      <th>PERSONNEL</th>\n",
       "      <th>...</th>\n",
       "      <th>GPRIORITY</th>\n",
       "      <th>CAUSE</th>\n",
       "      <th>STARTDATE</th>\n",
       "      <th>NEWACRES</th>\n",
       "      <th>UN_UNITID</th>\n",
       "      <th>UN_USTATE</th>\n",
       "      <th>HOTLINK</th>\n",
       "      <th>INTERNAL_I</th>\n",
       "      <th>OBJECTID</th>\n",
       "      <th>geometry</th>\n",
       "    </tr>\n",
       "  </thead>\n",
       "  <tbody>\n",
       "    <tr>\n",
       "      <td>0</td>\n",
       "      <td>1</td>\n",
       "      <td>07/27/2002</td>\n",
       "      <td>2002-07-27 00:00:00</td>\n",
       "      <td>CA-SHF-6350</td>\n",
       "      <td>'Jim''S Creek'</td>\n",
       "      <td>WF</td>\n",
       "      <td></td>\n",
       "      <td>N</td>\n",
       "      <td>45.0</td>\n",
       "      <td>45.0</td>\n",
       "      <td>...</td>\n",
       "      <td></td>\n",
       "      <td>L</td>\n",
       "      <td>07/22/2002</td>\n",
       "      <td>45.0</td>\n",
       "      <td>SHF</td>\n",
       "      <td>CA</td>\n",
       "      <td>http://www.nifc.gov/fireinfo/nfn.html</td>\n",
       "      <td>'07/27/2002:0800CA-SHF-6350JIM''S CREEKN'</td>\n",
       "      <td>8575</td>\n",
       "      <td>POINT (-123.39142 40.48042)</td>\n",
       "    </tr>\n",
       "    <tr>\n",
       "      <td>1</td>\n",
       "      <td>2</td>\n",
       "      <td>07/27/2002</td>\n",
       "      <td>2002-07-27 00:00:00</td>\n",
       "      <td>CA-SHF-6350</td>\n",
       "      <td>'Jim''S Creek'</td>\n",
       "      <td>WF</td>\n",
       "      <td></td>\n",
       "      <td>N</td>\n",
       "      <td>45.0</td>\n",
       "      <td>45.0</td>\n",
       "      <td>...</td>\n",
       "      <td></td>\n",
       "      <td>L</td>\n",
       "      <td>07/22/2002</td>\n",
       "      <td>45.0</td>\n",
       "      <td>SHF</td>\n",
       "      <td>CA</td>\n",
       "      <td>http://www.nifc.gov/fireinfo/nfn.html</td>\n",
       "      <td>'07/27/2002:0800CA-SHF-6350JIM''S CREEKN'</td>\n",
       "      <td>8611</td>\n",
       "      <td>POINT (-123.39142 40.48042)</td>\n",
       "    </tr>\n",
       "    <tr>\n",
       "      <td>2</td>\n",
       "      <td>3</td>\n",
       "      <td>07/27/2002</td>\n",
       "      <td>2002-07-27 00:00:00</td>\n",
       "      <td>CA-SHF-6350</td>\n",
       "      <td>'Jim''S Creek'</td>\n",
       "      <td>WF</td>\n",
       "      <td></td>\n",
       "      <td>N</td>\n",
       "      <td>45.0</td>\n",
       "      <td>45.0</td>\n",
       "      <td>...</td>\n",
       "      <td></td>\n",
       "      <td>L</td>\n",
       "      <td>07/22/2002</td>\n",
       "      <td>45.0</td>\n",
       "      <td>SHF</td>\n",
       "      <td>CA</td>\n",
       "      <td>http://www.nifc.gov/fireinfo/nfn.html</td>\n",
       "      <td>'07/27/2002:0800CA-SHF-6350JIM''S CREEKN'</td>\n",
       "      <td>8612</td>\n",
       "      <td>POINT (-123.39142 40.48042)</td>\n",
       "    </tr>\n",
       "    <tr>\n",
       "      <td>3</td>\n",
       "      <td>4</td>\n",
       "      <td>08/29/2002</td>\n",
       "      <td>2002-08-29 00:00:00</td>\n",
       "      <td>CA-MVU-006542</td>\n",
       "      <td>Woodland</td>\n",
       "      <td>WF</td>\n",
       "      <td></td>\n",
       "      <td>N</td>\n",
       "      <td>275.0</td>\n",
       "      <td>275.0</td>\n",
       "      <td>...</td>\n",
       "      <td></td>\n",
       "      <td>U</td>\n",
       "      <td>08/27/2002</td>\n",
       "      <td>275.0</td>\n",
       "      <td>MVU</td>\n",
       "      <td>CA</td>\n",
       "      <td>http://www.nifc.gov/fireinfo/nfn.html</td>\n",
       "      <td>08/29/2002:1800CA-MVU-006542WOODLANDN</td>\n",
       "      <td>8246</td>\n",
       "      <td>POINT (-116.59807 33.07504)</td>\n",
       "    </tr>\n",
       "    <tr>\n",
       "      <td>4</td>\n",
       "      <td>5</td>\n",
       "      <td>07/27/2002</td>\n",
       "      <td>2002-07-27 00:00:00</td>\n",
       "      <td>CA-SHF-6350</td>\n",
       "      <td>'Jim''S Creek'</td>\n",
       "      <td>WF</td>\n",
       "      <td></td>\n",
       "      <td>N</td>\n",
       "      <td>45.0</td>\n",
       "      <td>45.0</td>\n",
       "      <td>...</td>\n",
       "      <td></td>\n",
       "      <td>L</td>\n",
       "      <td>07/22/2002</td>\n",
       "      <td>45.0</td>\n",
       "      <td>SHF</td>\n",
       "      <td>CA</td>\n",
       "      <td>http://www.nifc.gov/fireinfo/nfn.html</td>\n",
       "      <td>'07/27/2002:0800CA-SHF-6350JIM''S CREEKN'</td>\n",
       "      <td>7916</td>\n",
       "      <td>POINT (-123.39142 40.48042)</td>\n",
       "    </tr>\n",
       "    <tr>\n",
       "      <td>...</td>\n",
       "      <td>...</td>\n",
       "      <td>...</td>\n",
       "      <td>...</td>\n",
       "      <td>...</td>\n",
       "      <td>...</td>\n",
       "      <td>...</td>\n",
       "      <td>...</td>\n",
       "      <td>...</td>\n",
       "      <td>...</td>\n",
       "      <td>...</td>\n",
       "      <td>...</td>\n",
       "      <td>...</td>\n",
       "      <td>...</td>\n",
       "      <td>...</td>\n",
       "      <td>...</td>\n",
       "      <td>...</td>\n",
       "      <td>...</td>\n",
       "      <td>...</td>\n",
       "      <td>...</td>\n",
       "      <td>...</td>\n",
       "      <td>...</td>\n",
       "    </tr>\n",
       "    <tr>\n",
       "      <td>5674</td>\n",
       "      <td>5675</td>\n",
       "      <td>03/25/2002</td>\n",
       "      <td>2002-03-25 00:00:00</td>\n",
       "      <td>CO-BFP-0054</td>\n",
       "      <td>'Bent''S Old Fort/Old Trail'</td>\n",
       "      <td>WF</td>\n",
       "      <td></td>\n",
       "      <td>N</td>\n",
       "      <td>500.0</td>\n",
       "      <td>500.0</td>\n",
       "      <td>...</td>\n",
       "      <td></td>\n",
       "      <td>H</td>\n",
       "      <td>03/23/2002</td>\n",
       "      <td>500.0</td>\n",
       "      <td>BFP</td>\n",
       "      <td>CO</td>\n",
       "      <td>http://www.nifc.gov/fireinfo/nfn.html</td>\n",
       "      <td>'03/25/2002:0000CO-BFP-0054Bent''s Old Fort/Ol...</td>\n",
       "      <td>17532</td>\n",
       "      <td>POINT (-103.41716 38.03334)</td>\n",
       "    </tr>\n",
       "    <tr>\n",
       "      <td>5675</td>\n",
       "      <td>5676</td>\n",
       "      <td>08/08/2002</td>\n",
       "      <td>2002-08-08 00:00:00</td>\n",
       "      <td>DC-NCP-0205</td>\n",
       "      <td>'Freedom''S Birth'</td>\n",
       "      <td>LE</td>\n",
       "      <td></td>\n",
       "      <td>N</td>\n",
       "      <td>0.0</td>\n",
       "      <td>0.0</td>\n",
       "      <td>...</td>\n",
       "      <td></td>\n",
       "      <td>N</td>\n",
       "      <td>06/29/2002</td>\n",
       "      <td>0.0</td>\n",
       "      <td>HFP</td>\n",
       "      <td>WV</td>\n",
       "      <td>http://www.nifc.gov/fireinfo/nfn.html</td>\n",
       "      <td>'08/08/2002:0000DC-NCP-0205Freedom''s BirthN'</td>\n",
       "      <td>17533</td>\n",
       "      <td>POINT (-77.14970 39.23511)</td>\n",
       "    </tr>\n",
       "    <tr>\n",
       "      <td>5676</td>\n",
       "      <td>5677</td>\n",
       "      <td>07/27/2002</td>\n",
       "      <td>2002-07-27 00:00:00</td>\n",
       "      <td>CA-SHF-6350</td>\n",
       "      <td>'Jim''S Creek'</td>\n",
       "      <td>WF</td>\n",
       "      <td></td>\n",
       "      <td>N</td>\n",
       "      <td>45.0</td>\n",
       "      <td>45.0</td>\n",
       "      <td>...</td>\n",
       "      <td></td>\n",
       "      <td>L</td>\n",
       "      <td>07/22/2002</td>\n",
       "      <td>45.0</td>\n",
       "      <td>SHF</td>\n",
       "      <td>CA</td>\n",
       "      <td>http://www.nifc.gov/fireinfo/nfn.html</td>\n",
       "      <td>'07/27/2002:0800CA-SHF-6350JIM''S CREEKN'</td>\n",
       "      <td>17534</td>\n",
       "      <td>POINT (-123.39142 40.48042)</td>\n",
       "    </tr>\n",
       "    <tr>\n",
       "      <td>5677</td>\n",
       "      <td>5678</td>\n",
       "      <td>03/25/2002</td>\n",
       "      <td>2002-03-25 00:00:00</td>\n",
       "      <td>CO-BFP-0054</td>\n",
       "      <td>'Bent''S Old Fort/Old Trail'</td>\n",
       "      <td>WF</td>\n",
       "      <td></td>\n",
       "      <td>N</td>\n",
       "      <td>500.0</td>\n",
       "      <td>500.0</td>\n",
       "      <td>...</td>\n",
       "      <td></td>\n",
       "      <td>H</td>\n",
       "      <td>03/23/2002</td>\n",
       "      <td>500.0</td>\n",
       "      <td>BFP</td>\n",
       "      <td>CO</td>\n",
       "      <td>http://www.nifc.gov/fireinfo/nfn.html</td>\n",
       "      <td>'03/25/2002:0000CO-BFP-0054Bent''s Old Fort/Ol...</td>\n",
       "      <td>17535</td>\n",
       "      <td>POINT (-103.41716 38.03334)</td>\n",
       "    </tr>\n",
       "    <tr>\n",
       "      <td>5678</td>\n",
       "      <td>5679</td>\n",
       "      <td>08/08/2002</td>\n",
       "      <td>2002-08-08 00:00:00</td>\n",
       "      <td>DC-NCP-0205</td>\n",
       "      <td>'Freedom''S Birth'</td>\n",
       "      <td>LE</td>\n",
       "      <td></td>\n",
       "      <td>N</td>\n",
       "      <td>0.0</td>\n",
       "      <td>0.0</td>\n",
       "      <td>...</td>\n",
       "      <td></td>\n",
       "      <td>N</td>\n",
       "      <td>06/29/2002</td>\n",
       "      <td>0.0</td>\n",
       "      <td>HFP</td>\n",
       "      <td>WV</td>\n",
       "      <td>http://www.nifc.gov/fireinfo/nfn.html</td>\n",
       "      <td>'08/08/2002:0000DC-NCP-0205Freedom''s BirthN'</td>\n",
       "      <td>17536</td>\n",
       "      <td>POINT (-77.14970 39.23511)</td>\n",
       "    </tr>\n",
       "  </tbody>\n",
       "</table>\n",
       "<p>5679 rows × 28 columns</p>\n",
       "</div>"
      ],
      "text/plain": [
       "      OBJECTID_1     REPDATE           REPDATE_FM       EVENT_ID  \\\n",
       "0              1  07/27/2002  2002-07-27 00:00:00    CA-SHF-6350   \n",
       "1              2  07/27/2002  2002-07-27 00:00:00    CA-SHF-6350   \n",
       "2              3  07/27/2002  2002-07-27 00:00:00    CA-SHF-6350   \n",
       "3              4  08/29/2002  2002-08-29 00:00:00  CA-MVU-006542   \n",
       "4              5  07/27/2002  2002-07-27 00:00:00    CA-SHF-6350   \n",
       "...          ...         ...                  ...            ...   \n",
       "5674        5675  03/25/2002  2002-03-25 00:00:00    CO-BFP-0054   \n",
       "5675        5676  08/08/2002  2002-08-08 00:00:00    DC-NCP-0205   \n",
       "5676        5677  07/27/2002  2002-07-27 00:00:00    CA-SHF-6350   \n",
       "5677        5678  03/25/2002  2002-03-25 00:00:00    CO-BFP-0054   \n",
       "5678        5679  08/08/2002  2002-08-08 00:00:00    DC-NCP-0205   \n",
       "\n",
       "                             ENAME ITYPE DPRIORITY ACTIVE  ACRES  PERSONNEL  \\\n",
       "0                   'Jim''S Creek'    WF                N   45.0       45.0   \n",
       "1                   'Jim''S Creek'    WF                N   45.0       45.0   \n",
       "2                   'Jim''S Creek'    WF                N   45.0       45.0   \n",
       "3                         Woodland    WF                N  275.0      275.0   \n",
       "4                   'Jim''S Creek'    WF                N   45.0       45.0   \n",
       "...                            ...   ...       ...    ...    ...        ...   \n",
       "5674  'Bent''S Old Fort/Old Trail'    WF                N  500.0      500.0   \n",
       "5675            'Freedom''S Birth'    LE                N    0.0        0.0   \n",
       "5676                'Jim''S Creek'    WF                N   45.0       45.0   \n",
       "5677  'Bent''S Old Fort/Old Trail'    WF                N  500.0      500.0   \n",
       "5678            'Freedom''S Birth'    LE                N    0.0        0.0   \n",
       "\n",
       "      ... GPRIORITY  CAUSE   STARTDATE NEWACRES  UN_UNITID  UN_USTATE  \\\n",
       "0     ...                L  07/22/2002     45.0        SHF         CA   \n",
       "1     ...                L  07/22/2002     45.0        SHF         CA   \n",
       "2     ...                L  07/22/2002     45.0        SHF         CA   \n",
       "3     ...                U  08/27/2002    275.0        MVU         CA   \n",
       "4     ...                L  07/22/2002     45.0        SHF         CA   \n",
       "...   ...       ...    ...         ...      ...        ...        ...   \n",
       "5674  ...                H  03/23/2002    500.0        BFP         CO   \n",
       "5675  ...                N  06/29/2002      0.0        HFP         WV   \n",
       "5676  ...                L  07/22/2002     45.0        SHF         CA   \n",
       "5677  ...                H  03/23/2002    500.0        BFP         CO   \n",
       "5678  ...                N  06/29/2002      0.0        HFP         WV   \n",
       "\n",
       "                                    HOTLINK  \\\n",
       "0     http://www.nifc.gov/fireinfo/nfn.html   \n",
       "1     http://www.nifc.gov/fireinfo/nfn.html   \n",
       "2     http://www.nifc.gov/fireinfo/nfn.html   \n",
       "3     http://www.nifc.gov/fireinfo/nfn.html   \n",
       "4     http://www.nifc.gov/fireinfo/nfn.html   \n",
       "...                                     ...   \n",
       "5674  http://www.nifc.gov/fireinfo/nfn.html   \n",
       "5675  http://www.nifc.gov/fireinfo/nfn.html   \n",
       "5676  http://www.nifc.gov/fireinfo/nfn.html   \n",
       "5677  http://www.nifc.gov/fireinfo/nfn.html   \n",
       "5678  http://www.nifc.gov/fireinfo/nfn.html   \n",
       "\n",
       "                                             INTERNAL_I OBJECTID  \\\n",
       "0             '07/27/2002:0800CA-SHF-6350JIM''S CREEKN'     8575   \n",
       "1             '07/27/2002:0800CA-SHF-6350JIM''S CREEKN'     8611   \n",
       "2             '07/27/2002:0800CA-SHF-6350JIM''S CREEKN'     8612   \n",
       "3                 08/29/2002:1800CA-MVU-006542WOODLANDN     8246   \n",
       "4             '07/27/2002:0800CA-SHF-6350JIM''S CREEKN'     7916   \n",
       "...                                                 ...      ...   \n",
       "5674  '03/25/2002:0000CO-BFP-0054Bent''s Old Fort/Ol...    17532   \n",
       "5675      '08/08/2002:0000DC-NCP-0205Freedom''s BirthN'    17533   \n",
       "5676          '07/27/2002:0800CA-SHF-6350JIM''S CREEKN'    17534   \n",
       "5677  '03/25/2002:0000CO-BFP-0054Bent''s Old Fort/Ol...    17535   \n",
       "5678      '08/08/2002:0000DC-NCP-0205Freedom''s BirthN'    17536   \n",
       "\n",
       "                         geometry  \n",
       "0     POINT (-123.39142 40.48042)  \n",
       "1     POINT (-123.39142 40.48042)  \n",
       "2     POINT (-123.39142 40.48042)  \n",
       "3     POINT (-116.59807 33.07504)  \n",
       "4     POINT (-123.39142 40.48042)  \n",
       "...                           ...  \n",
       "5674  POINT (-103.41716 38.03334)  \n",
       "5675   POINT (-77.14970 39.23511)  \n",
       "5676  POINT (-123.39142 40.48042)  \n",
       "5677  POINT (-103.41716 38.03334)  \n",
       "5678   POINT (-77.14970 39.23511)  \n",
       "\n",
       "[5679 rows x 28 columns]"
      ]
     },
     "execution_count": 124,
     "metadata": {},
     "output_type": "execute_result"
    }
   ],
   "source": [
    "print(len(geo_list))\n",
    "print([col for col in geo_list[0]])\n",
    "geo_list[0]"
   ]
  },
  {
   "cell_type": "code",
   "execution_count": 125,
   "metadata": {},
   "outputs": [
    {
     "data": {
      "text/plain": [
       "count                    5665\n",
       "unique                    267\n",
       "top       2002-07-27 00:00:00\n",
       "freq                     2932\n",
       "first     2002-01-17 00:00:00\n",
       "last      2002-12-20 00:00:00\n",
       "Name: REPDATE, dtype: object"
      ]
     },
     "execution_count": 125,
     "metadata": {},
     "output_type": "execute_result"
    }
   ],
   "source": [
    "pd.to_datetime(geo_list[0].REPDATE).describe()"
   ]
  },
  {
   "cell_type": "code",
   "execution_count": 126,
   "metadata": {},
   "outputs": [],
   "source": [
    "# Perimeters\n",
    "zipfile = ZipFile(BytesIO(request.urlopen(perimeter_url).read()))\n",
    "filenames = [y for y in sorted(zipfile.namelist()) for ending in ['dbf', 'prj', 'shp', 'shx'] if y.endswith(ending)] \n",
    "dbf, prj, shp, shx = [BytesIO(zipfile.read(filename)) for filename in filenames]\n",
    "r = shapefile.Reader(shp=shp, shx=shx, dbf=dbf)\n",
    "attributes, geometry = [], []\n",
    "field_names = [field[0] for field in r.fields[1:]]  \n",
    "for row in r.shapeRecords():  \n",
    "    geometry.append(shape(row.shape.__geo_interface__))  \n",
    "    attributes.append(dict(zip(field_names, row.record)))\n",
    "        \n",
    "try:\n",
    "    proj4_string = osr.SpatialReference(str(prj.read())).ExportToProj4()\n",
    "    perimeters = gpd.GeoDataFrame(data = attributes, geometry = geometry, crs = proj4_string)\n",
    "except:\n",
    "    perimeters = gpd.GeoDataFrame(data = attributes, geometry = geometry)"
   ]
  },
  {
   "cell_type": "code",
   "execution_count": 127,
   "metadata": {},
   "outputs": [
    {
     "name": "stdout",
     "output_type": "stream",
     "text": [
      "(23473, 10)\n",
      "Index(['objectid', 'year_', 'acres', 'fire_name', 'unit_id', 'irwinid',\n",
      "       'fire_num', 'st_area_sh', 'st_length_', 'geometry'],\n",
      "      dtype='object')\n"
     ]
    },
    {
     "data": {
      "text/html": [
       "<div>\n",
       "<style scoped>\n",
       "    .dataframe tbody tr th:only-of-type {\n",
       "        vertical-align: middle;\n",
       "    }\n",
       "\n",
       "    .dataframe tbody tr th {\n",
       "        vertical-align: top;\n",
       "    }\n",
       "\n",
       "    .dataframe thead th {\n",
       "        text-align: right;\n",
       "    }\n",
       "</style>\n",
       "<table border=\"1\" class=\"dataframe\">\n",
       "  <thead>\n",
       "    <tr style=\"text-align: right;\">\n",
       "      <th></th>\n",
       "      <th>objectid</th>\n",
       "      <th>year_</th>\n",
       "      <th>acres</th>\n",
       "      <th>fire_name</th>\n",
       "      <th>unit_id</th>\n",
       "      <th>irwinid</th>\n",
       "      <th>fire_num</th>\n",
       "      <th>st_area_sh</th>\n",
       "      <th>st_length_</th>\n",
       "      <th>geometry</th>\n",
       "    </tr>\n",
       "  </thead>\n",
       "  <tbody>\n",
       "    <tr>\n",
       "      <td>23468</td>\n",
       "      <td>31039</td>\n",
       "      <td>2015</td>\n",
       "      <td>970.71</td>\n",
       "      <td>231</td>\n",
       "      <td>WA-NES</td>\n",
       "      <td>{00000000-0000-0000-0000-000000000000}</td>\n",
       "      <td>2015-WA-NES-JV5T</td>\n",
       "      <td>0.000473</td>\n",
       "      <td>0.127232</td>\n",
       "      <td>POLYGON ((-117.73109 47.97639, -117.73067 47.9...</td>\n",
       "    </tr>\n",
       "    <tr>\n",
       "      <td>23469</td>\n",
       "      <td>31345</td>\n",
       "      <td>2015</td>\n",
       "      <td>465.67</td>\n",
       "      <td>Crater</td>\n",
       "      <td>ID-IPF</td>\n",
       "      <td>{00000000-0000-0000-0000-000000000000}</td>\n",
       "      <td>2015-ID-IPF-J2SB</td>\n",
       "      <td>0.000223</td>\n",
       "      <td>0.086183</td>\n",
       "      <td>MULTIPOLYGON (((-115.98788 47.04700, -115.9872...</td>\n",
       "    </tr>\n",
       "    <tr>\n",
       "      <td>23470</td>\n",
       "      <td>31570</td>\n",
       "      <td>2015</td>\n",
       "      <td>3273.87</td>\n",
       "      <td>Barker</td>\n",
       "      <td>CA-SHF</td>\n",
       "      <td>{00000000-0000-0000-0000-000000000000}</td>\n",
       "      <td>2015-CA-SHF-J0HS</td>\n",
       "      <td>0.001411</td>\n",
       "      <td>0.259386</td>\n",
       "      <td>MULTIPOLYGON (((-123.10741 40.64041, -123.1081...</td>\n",
       "    </tr>\n",
       "    <tr>\n",
       "      <td>23471</td>\n",
       "      <td>31363</td>\n",
       "      <td>2015</td>\n",
       "      <td>56.16</td>\n",
       "      <td>Barnaby</td>\n",
       "      <td>MT-KNF</td>\n",
       "      <td>{00000000-0000-0000-0000-000000000000}</td>\n",
       "      <td>2015-MT-KNF-J1YR</td>\n",
       "      <td>0.000028</td>\n",
       "      <td>0.022840</td>\n",
       "      <td>POLYGON ((-114.91645 48.92112, -114.91535 48.9...</td>\n",
       "    </tr>\n",
       "    <tr>\n",
       "      <td>23472</td>\n",
       "      <td>31543</td>\n",
       "      <td>2015</td>\n",
       "      <td>1853.15</td>\n",
       "      <td>Bear Ridge</td>\n",
       "      <td>OR-UMF</td>\n",
       "      <td>{00000000-0000-0000-0000-000000000000}</td>\n",
       "      <td>2015-OR-UMF-J1SY</td>\n",
       "      <td>0.000873</td>\n",
       "      <td>0.168638</td>\n",
       "      <td>MULTIPOLYGON (((-117.67884 46.11399, -117.6793...</td>\n",
       "    </tr>\n",
       "  </tbody>\n",
       "</table>\n",
       "</div>"
      ],
      "text/plain": [
       "       objectid year_    acres   fire_name unit_id  \\\n",
       "23468     31039  2015   970.71         231  WA-NES   \n",
       "23469     31345  2015   465.67      Crater  ID-IPF   \n",
       "23470     31570  2015  3273.87      Barker  CA-SHF   \n",
       "23471     31363  2015    56.16     Barnaby  MT-KNF   \n",
       "23472     31543  2015  1853.15  Bear Ridge  OR-UMF   \n",
       "\n",
       "                                      irwinid          fire_num  st_area_sh  \\\n",
       "23468  {00000000-0000-0000-0000-000000000000}  2015-WA-NES-JV5T    0.000473   \n",
       "23469  {00000000-0000-0000-0000-000000000000}  2015-ID-IPF-J2SB    0.000223   \n",
       "23470  {00000000-0000-0000-0000-000000000000}  2015-CA-SHF-J0HS    0.001411   \n",
       "23471  {00000000-0000-0000-0000-000000000000}  2015-MT-KNF-J1YR    0.000028   \n",
       "23472  {00000000-0000-0000-0000-000000000000}  2015-OR-UMF-J1SY    0.000873   \n",
       "\n",
       "       st_length_                                           geometry  \n",
       "23468    0.127232  POLYGON ((-117.73109 47.97639, -117.73067 47.9...  \n",
       "23469    0.086183  MULTIPOLYGON (((-115.98788 47.04700, -115.9872...  \n",
       "23470    0.259386  MULTIPOLYGON (((-123.10741 40.64041, -123.1081...  \n",
       "23471    0.022840  POLYGON ((-114.91645 48.92112, -114.91535 48.9...  \n",
       "23472    0.168638  MULTIPOLYGON (((-117.67884 46.11399, -117.6793...  "
      ]
     },
     "execution_count": 127,
     "metadata": {},
     "output_type": "execute_result"
    }
   ],
   "source": [
    "print(perimeters.shape)\n",
    "print(perimeters.columns)\n",
    "perimeters.tail()"
   ]
  },
  {
   "cell_type": "code",
   "execution_count": 128,
   "metadata": {},
   "outputs": [
    {
     "data": {
      "image/png": "[encoded data removed]",
      "text/plain": [
       "<Figure size 864x576 with 1 Axes>"
      ]
     },
     "metadata": {
      "needs_background": "light"
     },
     "output_type": "display_data"
    }
   ],
   "source": [
    "# Do we have fires for every year?\n",
    "n_bins = len(perimeters.year_.astype(int).value_counts())\n",
    "fig_dims = (12, 8)\n",
    "fig, ax = plt.subplots(figsize=fig_dims)\n",
    "ax = perimeters.year_.astype(int).hist(ax=ax, bins=n_bins)\n",
    "low, hi  = perimeters.year_.astype(int).min(), perimeters.year_.astype(int).max()\n",
    "ax.set_xticks(range(low, hi + 1));"
   ]
  },
  {
   "cell_type": "code",
   "execution_count": 129,
   "metadata": {},
   "outputs": [
    {
     "data": {
      "image/svg+xml": [
       "<svg xmlns=\"http://www.w3.org/2000/svg\" xmlns:xlink=\"http://www.w3.org/1999/xlink\" width=\"100.0\" height=\"100.0\" viewBox=\"-114.9172280974222 48.9160364176235 0.00894876042497117 0.006250323041967931\" preserveAspectRatio=\"xMinYMin meet\"><g transform=\"matrix(1,0,0,-1,0,97.83832315828897)\"><path fill-rule=\"evenodd\" fill=\"#66cc99\" stroke=\"#555555\" stroke-width=\"0.0001789752084994234\" opacity=\"0.6\" d=\"M -114.91644817893973,48.92112189166289 L -114.91535274443305,48.92191699487432 L -114.91486849908136,48.92195530509417 L -114.91419249668581,48.92190462380029 L -114.91334569324857,48.92176686115266 L -114.91316209215626,48.92169305649031 L -114.91286879266005,48.921533649858986 L -114.91191351659495,48.92120090250057 L -114.91167513959545,48.92107821788636 L -114.91145466270194,48.92100423246029 L -114.91040988071086,48.920816794860116 L -114.91016021002508,48.92072902102842 L -114.91001922870385,48.92052838857518 L -114.90991502965431,48.920101540654514 L -114.90993546584849,48.91979790075345 L -114.90983841640923,48.91950503203253 L -114.90953903749602,48.918990030766224 L -114.90899766990594,48.91898021286744 L -114.90861077256852,48.9178663341649 L -114.90867335459103,48.9163678531948 L -114.9093254862816,48.91643652182893 L -114.90941618290992,48.91663783866625 L -114.90942766365515,48.916638928644545 L -114.91012307971579,48.91667811120681 L -114.91059993623747,48.916521380058555 L -114.91075888961046,48.916743415477185 L -114.9111364007237,48.91700463435728 L -114.91185168640561,48.91720054806774 L -114.91308356605316,48.91763155715154 L -114.91344120934377,48.917644618904944 L -114.9138187195577,48.91785359257017 L -114.91411675578308,48.91782747176131 L -114.91435518404393,48.91781441090728 L -114.91509033844778,48.91829766340737 L -114.9151896829569,48.91861112570382 L -114.91570627782187,48.919055196541024 L -114.91643886825858,48.919285036276335 L -114.91658051687676,48.91932947627521 L -114.9168966618509,48.9198697592829 L -114.9167879293189,48.920565424455674 L -114.91644817893973,48.92112189166289 z\" /></g></svg>"
      ],
      "text/plain": [
       "<shapely.geometry.polygon.Polygon at 0x263c05caac8>"
      ]
     },
     "execution_count": 129,
     "metadata": {},
     "output_type": "execute_result"
    }
   ],
   "source": [
    "# Looks like a fire perimeter plot in the Geometry column:\n",
    "perimeters.iloc[23471,9]"
   ]
  },
  {
   "cell_type": "code",
   "execution_count": 130,
   "metadata": {},
   "outputs": [
    {
     "data": {
      "text/plain": [
       "0   -114.333232\n",
       "1   -113.426231\n",
       "2   -114.307999\n",
       "3   -113.181045\n",
       "4   -113.472163\n",
       "dtype: float64"
      ]
     },
     "execution_count": 130,
     "metadata": {},
     "output_type": "execute_result"
    }
   ],
   "source": [
    "perimeters.geometry.head().centroid.x"
   ]
  },
  {
   "cell_type": "code",
   "execution_count": 131,
   "metadata": {},
   "outputs": [
    {
     "data": {
      "text/plain": [
       "<matplotlib.axes._subplots.AxesSubplot at 0x263c05c0cc8>"
      ]
     },
     "execution_count": 131,
     "metadata": {},
     "output_type": "execute_result"
    },
    {
     "data": {
      "image/png": "[encoded data removed]",
      "text/plain": [
       "<Figure size 432x288 with 1 Axes>"
      ]
     },
     "metadata": {
      "needs_background": "light"
     },
     "output_type": "display_data"
    }
   ],
   "source": [
    "perimeters.geometry.centroid.x.hist(bins=100)"
   ]
  },
  {
   "cell_type": "code",
   "execution_count": 132,
   "metadata": {},
   "outputs": [
    {
     "data": {
      "text/plain": [
       "<matplotlib.axes._subplots.AxesSubplot at 0x263057a5d08>"
      ]
     },
     "execution_count": 132,
     "metadata": {},
     "output_type": "execute_result"
    },
    {
     "data": {
      "image/png": "[encoded data removed]",
      "text/plain": [
       "<Figure size 432x288 with 1 Axes>"
      ]
     },
     "metadata": {
      "needs_background": "light"
     },
     "output_type": "display_data"
    }
   ],
   "source": [
    "mask = perimeters.geometry.centroid.x > -130\n",
    "perimeters[mask].geometry.plot()"
   ]
  },
  {
   "cell_type": "code",
   "execution_count": 133,
   "metadata": {},
   "outputs": [
    {
     "data": {
      "text/plain": [
       "{00000000-0000-0000-0000-000000000000}    19108\n",
       "{AF112640-E29E-4896-8CA5-51BF614DA317}        2\n",
       "{943D8086-7DF4-47C7-BB98-A358E962667E}        2\n",
       "{1C7742BC-8C2E-48E4-9B96-57E66C9EB16E}        2\n",
       "{D037CD04-1C32-4444-AAA6-D6F8290CA53E}        2\n",
       "                                          ...  \n",
       "{A70C008B-3EE3-4B90-9D1E-EE4364DB1DD0}        1\n",
       "{56FEAFF6-A992-426F-B0B7-E100E7C288EC}        1\n",
       "{A8938594-8221-4B6C-9C41-3BA11C04AEE5}        1\n",
       "{486904BC-F91C-43F2-93DC-24292B748702}        1\n",
       "{15763091-AB7D-4393-9111-7F72A3148A6A}        1\n",
       "Name: irwinid, Length: 4362, dtype: int64"
      ]
     },
     "execution_count": 133,
     "metadata": {},
     "output_type": "execute_result"
    }
   ],
   "source": [
    "perimeters.irwinid.value_counts()"
   ]
  },
  {
   "cell_type": "code",
   "execution_count": 134,
   "metadata": {},
   "outputs": [
    {
     "data": {
      "image/png": "[encoded data removed]",
      "text/plain": [
       "<Figure size 432x288 with 1 Axes>"
      ]
     },
     "metadata": {
      "needs_background": "light"
     },
     "output_type": "display_data"
    }
   ],
   "source": [
    "mask = perimeters.irwinid == '{AF112640-E29E-4896-8CA5-51BF614DA317}'\n",
    "perimeters[mask].plot();"
   ]
  },
  {
   "cell_type": "code",
   "execution_count": 135,
   "metadata": {},
   "outputs": [
    {
     "data": {
      "text/html": [
       "<div>\n",
       "<style scoped>\n",
       "    .dataframe tbody tr th:only-of-type {\n",
       "        vertical-align: middle;\n",
       "    }\n",
       "\n",
       "    .dataframe tbody tr th {\n",
       "        vertical-align: top;\n",
       "    }\n",
       "\n",
       "    .dataframe thead th {\n",
       "        text-align: right;\n",
       "    }\n",
       "</style>\n",
       "<table border=\"1\" class=\"dataframe\">\n",
       "  <thead>\n",
       "    <tr style=\"text-align: right;\">\n",
       "      <th></th>\n",
       "      <th>objectid</th>\n",
       "      <th>year_</th>\n",
       "      <th>acres</th>\n",
       "      <th>fire_name</th>\n",
       "      <th>unit_id</th>\n",
       "      <th>irwinid</th>\n",
       "      <th>fire_num</th>\n",
       "      <th>st_area_sh</th>\n",
       "      <th>st_length_</th>\n",
       "      <th>geometry</th>\n",
       "    </tr>\n",
       "  </thead>\n",
       "  <tbody>\n",
       "    <tr>\n",
       "      <td>10650</td>\n",
       "      <td>48892</td>\n",
       "      <td>2019</td>\n",
       "      <td>43.502082</td>\n",
       "      <td>Boss Creek</td>\n",
       "      <td>AKSWS</td>\n",
       "      <td>{AF112640-E29E-4896-8CA5-51BF614DA317}</td>\n",
       "      <td>2019-AKSWS-904667</td>\n",
       "      <td>0.000029</td>\n",
       "      <td>0.030880</td>\n",
       "      <td>POLYGON ((-158.37044 61.18017, -158.37000 61.1...</td>\n",
       "    </tr>\n",
       "    <tr>\n",
       "      <td>11932</td>\n",
       "      <td>49663</td>\n",
       "      <td>2019</td>\n",
       "      <td>572.263811</td>\n",
       "      <td>Boss Creek</td>\n",
       "      <td>AKSWS</td>\n",
       "      <td>{AF112640-E29E-4896-8CA5-51BF614DA317}</td>\n",
       "      <td>2019-AKSWS-904667</td>\n",
       "      <td>0.000025</td>\n",
       "      <td>0.024312</td>\n",
       "      <td>POLYGON ((-158.36603 61.17616, -158.36699 61.1...</td>\n",
       "    </tr>\n",
       "  </tbody>\n",
       "</table>\n",
       "</div>"
      ],
      "text/plain": [
       "       objectid year_       acres   fire_name unit_id  \\\n",
       "10650     48892  2019   43.502082  Boss Creek   AKSWS   \n",
       "11932     49663  2019  572.263811  Boss Creek   AKSWS   \n",
       "\n",
       "                                      irwinid           fire_num  st_area_sh  \\\n",
       "10650  {AF112640-E29E-4896-8CA5-51BF614DA317}  2019-AKSWS-904667    0.000029   \n",
       "11932  {AF112640-E29E-4896-8CA5-51BF614DA317}  2019-AKSWS-904667    0.000025   \n",
       "\n",
       "       st_length_                                           geometry  \n",
       "10650    0.030880  POLYGON ((-158.37044 61.18017, -158.37000 61.1...  \n",
       "11932    0.024312  POLYGON ((-158.36603 61.17616, -158.36699 61.1...  "
      ]
     },
     "execution_count": 135,
     "metadata": {},
     "output_type": "execute_result"
    }
   ],
   "source": [
    "perimeters[mask]"
   ]
  },
  {
   "cell_type": "code",
   "execution_count": 136,
   "metadata": {},
   "outputs": [],
   "source": [
    "perimeters.to_file(\"perimeters.shp\")"
   ]
  }
 ],
 "metadata": {
  "kernelspec": {
   "display_name": "Python 3",
   "language": "python",
   "name": "python3"
  },
  "language_info": {
   "codemirror_mode": {
    "name": "ipython",
    "version": 3
   },
   "file_extension": ".py",
   "mimetype": "text/x-python",
   "name": "python",
   "nbconvert_exporter": "python",
   "pygments_lexer": "ipython3",
   "version": "3.7.4"
  }
 },
 "nbformat": 4,
 "nbformat_minor": 2
}
