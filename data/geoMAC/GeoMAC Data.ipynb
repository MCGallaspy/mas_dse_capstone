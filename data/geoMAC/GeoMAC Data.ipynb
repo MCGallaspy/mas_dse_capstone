{
 "cells": [
  {
   "cell_type": "code",
   "execution_count": null,
   "metadata": {},
   "outputs": [],
   "source": [
    "import numpy as np\n",
    "import pandas as pd\n",
    "import matplotlib.pyplot as plt\n",
    "import geopandas as gpd\n",
    "from shapely.geometry import shape\n",
    "import shapefile\n",
    "import requests\n",
    "from urllib import request\n",
    "from zipfile import ZipFile\n",
    "from io import BytesIO\n",
    "from datetime import date\n",
    "import osr"
   ]
  },
  {
   "cell_type": "code",
   "execution_count": null,
   "metadata": {},
   "outputs": [],
   "source": [
    "year_list = pd.date_range('2002-01-01',date.today(), \n",
    "              freq='YS').strftime(\"%Y\").tolist()\n",
    "site_url = 'https://rmgsc.cr.usgs.gov/outgoing/GeoMAC/historic_fire_data/'\n",
    "perimeter_url = 'https://rmgsc.cr.usgs.gov/outgoing/GeoMAC/historic_fire_data/US_HIST_FIRE_PERIMTRS_DD83.zip'"
   ]
  },
  {
   "cell_type": "code",
   "execution_count": null,
   "metadata": {},
   "outputs": [],
   "source": [
    "geo_list = list()\n",
    "for year in year_list[:-1]:\n",
    "    zip_file_url = site_url+year+\"_sit_rep_pts_dd83.zip\"\n",
    "    zipfile = ZipFile(BytesIO(request.urlopen(zip_file_url).read()))\n",
    "    filenames = [y for y in sorted(zipfile.namelist()) for ending in ['dbf', 'prj', 'shp', 'shx'] if y.endswith(ending)] \n",
    "    dbf, prj, shp, shx = [BytesIO(zipfile.read(filename)) for filename in filenames]\n",
    "    r = shapefile.Reader(shp=shp, shx=shx, dbf=dbf)\n",
    "    attributes, geometry = [], []\n",
    "    field_names = [field[0] for field in r.fields[1:]]  \n",
    "    for row in r.shapeRecords():  \n",
    "        geometry.append(shape(row.shape.__geo_interface__))  \n",
    "        attributes.append(dict(zip(field_names, row.record)))\n",
    "        \n",
    "    try:\n",
    "        proj4_string = osr.SpatialReference(str(prj.read())).ExportToProj4()\n",
    "        year_data = gpd.GeoDataFrame(data = attributes, geometry = geometry, crs = proj4_string)\n",
    "    except:\n",
    "        year_data = gpd.GeoDataFrame(data = attributes, geometry = geometry)\n",
    "    \n",
    "    geo_list.append(year_data)"
   ]
  },
  {
   "cell_type": "code",
   "execution_count": null,
   "metadata": {},
   "outputs": [],
   "source": [
    "geo_list[0]"
   ]
  },
  {
   "cell_type": "code",
   "execution_count": null,
   "metadata": {},
   "outputs": [],
   "source": [
    "# Perimeters\n",
    "zipfile = ZipFile(BytesIO(request.urlopen(perimeter_url).read()))\n",
    "filenames = [y for y in sorted(zipfile.namelist()) for ending in ['dbf', 'prj', 'shp', 'shx'] if y.endswith(ending)] \n",
    "dbf, prj, shp, shx = [BytesIO(zipfile.read(filename)) for filename in filenames]\n",
    "r = shapefile.Reader(shp=shp, shx=shx, dbf=dbf)\n",
    "attributes, geometry = [], []\n",
    "field_names = [field[0] for field in r.fields[1:]]  \n",
    "for row in r.shapeRecords():  \n",
    "    geometry.append(shape(row.shape.__geo_interface__))  \n",
    "    attributes.append(dict(zip(field_names, row.record)))\n",
    "        \n",
    "try:\n",
    "    proj4_string = osr.SpatialReference(str(prj.read())).ExportToProj4()\n",
    "    perimeters = gpd.GeoDataFrame(data = attributes, geometry = geometry, crs = proj4_string)\n",
    "except:\n",
    "    perimeters = gpd.GeoDataFrame(data = attributes, geometry = geometry)"
   ]
  },
  {
   "cell_type": "code",
   "execution_count": null,
   "metadata": {},
   "outputs": [],
   "source": [
    "print(perimeters.shape)\n",
    "print(perimeters.columns)\n",
    "perimeters.tail()"
   ]
  },
  {
   "cell_type": "code",
   "execution_count": null,
   "metadata": {},
   "outputs": [],
   "source": [
    "# Do we have fires for every year?\n",
    "perimeters.year_.value_counts()"
   ]
  },
  {
   "cell_type": "code",
   "execution_count": null,
   "metadata": {},
   "outputs": [],
   "source": [
    "# Looks like a fire perimeter plot in the Geometry column:\n",
    "perimeters.iloc[23471,9]"
   ]
  },
  {
   "cell_type": "code",
   "execution_count": null,
   "metadata": {},
   "outputs": [],
   "source": []
  }
 ],
 "metadata": {
  "kernelspec": {
   "display_name": "Python 3",
   "language": "python",
   "name": "python3"
  },
  "language_info": {
   "codemirror_mode": {
    "name": "ipython",
    "version": 3
   },
   "file_extension": ".py",
   "mimetype": "text/x-python",
   "name": "python",
   "nbconvert_exporter": "python",
   "pygments_lexer": "ipython3",
   "version": "3.6.9"
  }
 },
 "nbformat": 4,
 "nbformat_minor": 2
}
