{
 "cells": [
  {
   "cell_type": "code",
   "execution_count": 1,
   "metadata": {},
   "outputs": [],
   "source": [
    "import pandas as pd\n",
    "import ftplib\n",
    "import isd_parse\n",
    "import gzip\n",
    "import io"
   ]
  },
  {
   "cell_type": "code",
   "execution_count": 2,
   "metadata": {},
   "outputs": [
    {
     "data": {
      "text/plain": [
       "'230-****** WARNING ** WARNING ** WARNING ** WARNING ** WARNING ******\\n ** This is a United States Department of Commerce computer     **\\n ** system, which may be accessed and used only for             **\\n ** official Government business by authorized personnel.       **\\n ** Unauthorized access or use of this computer system may      **\\n ** subject violators to criminal, civil, and/or administrative **\\n ** action.  All information on this computer system may be     **\\n ** intercepted, recorded, read, copied, and disclosed by and   **\\n ** to authorized personnel for official purposes, including    **\\n ** criminal investigations.  Access or use of this computer    **\\n ** system by any person, whether authorized or unauthorized,   **\\n ** constitutes consent to these terms.                         **\\n ****** WARNING ** WARNING ** WARNING ** WARNING ** WARNING ******\\n230 Anonymous access granted, restrictions apply'"
      ]
     },
     "execution_count": 2,
     "metadata": {},
     "output_type": "execute_result"
    }
   ],
   "source": [
    "ftp = ftplib.FTP('ftp.ncdc.noaa.gov')\n",
    "ftp.login()"
   ]
  },
  {
   "cell_type": "code",
   "execution_count": 3,
   "metadata": {},
   "outputs": [],
   "source": [
    "def get_file(ftp, fname):\n",
    "    result = bytes()\n",
    "    def append_to_bytes(bs):\n",
    "        nonlocal result\n",
    "        result += bs\n",
    "    ftp.retrbinary('RETR {}'.format(fname), append_to_bytes)\n",
    "    return result"
   ]
  },
  {
   "cell_type": "code",
   "execution_count": 4,
   "metadata": {},
   "outputs": [],
   "source": [
    "ftp.cwd('/pub/data/noaa/')\n",
    "isd_history = get_file(ftp, 'isd-history.csv')"
   ]
  },
  {
   "cell_type": "code",
   "execution_count": 15,
   "metadata": {},
   "outputs": [
    {
     "name": "stdout",
     "output_type": "stream",
     "text": [
      "(29744, 11)\n"
     ]
    },
    {
     "data": {
      "text/html": [
       "<div>\n",
       "<style scoped>\n",
       "    .dataframe tbody tr th:only-of-type {\n",
       "        vertical-align: middle;\n",
       "    }\n",
       "\n",
       "    .dataframe tbody tr th {\n",
       "        vertical-align: top;\n",
       "    }\n",
       "\n",
       "    .dataframe thead th {\n",
       "        text-align: right;\n",
       "    }\n",
       "</style>\n",
       "<table border=\"1\" class=\"dataframe\">\n",
       "  <thead>\n",
       "    <tr style=\"text-align: right;\">\n",
       "      <th></th>\n",
       "      <th>USAF</th>\n",
       "      <th>WBAN</th>\n",
       "      <th>STATION NAME</th>\n",
       "      <th>CTRY</th>\n",
       "      <th>STATE</th>\n",
       "      <th>ICAO</th>\n",
       "      <th>LAT</th>\n",
       "      <th>LON</th>\n",
       "      <th>ELEV(M)</th>\n",
       "      <th>BEGIN</th>\n",
       "      <th>END</th>\n",
       "    </tr>\n",
       "  </thead>\n",
       "  <tbody>\n",
       "    <tr>\n",
       "      <th>0</th>\n",
       "      <td>007018</td>\n",
       "      <td>99999</td>\n",
       "      <td>WXPOD 7018</td>\n",
       "      <td>NaN</td>\n",
       "      <td>NaN</td>\n",
       "      <td>NaN</td>\n",
       "      <td>0.00</td>\n",
       "      <td>0.000</td>\n",
       "      <td>7018.0</td>\n",
       "      <td>20110309</td>\n",
       "      <td>20130730</td>\n",
       "    </tr>\n",
       "    <tr>\n",
       "      <th>1</th>\n",
       "      <td>007026</td>\n",
       "      <td>99999</td>\n",
       "      <td>WXPOD 7026</td>\n",
       "      <td>AF</td>\n",
       "      <td>NaN</td>\n",
       "      <td>NaN</td>\n",
       "      <td>0.00</td>\n",
       "      <td>0.000</td>\n",
       "      <td>7026.0</td>\n",
       "      <td>20120713</td>\n",
       "      <td>20170822</td>\n",
       "    </tr>\n",
       "    <tr>\n",
       "      <th>2</th>\n",
       "      <td>007070</td>\n",
       "      <td>99999</td>\n",
       "      <td>WXPOD 7070</td>\n",
       "      <td>AF</td>\n",
       "      <td>NaN</td>\n",
       "      <td>NaN</td>\n",
       "      <td>0.00</td>\n",
       "      <td>0.000</td>\n",
       "      <td>7070.0</td>\n",
       "      <td>20140923</td>\n",
       "      <td>20150926</td>\n",
       "    </tr>\n",
       "    <tr>\n",
       "      <th>3</th>\n",
       "      <td>008260</td>\n",
       "      <td>99999</td>\n",
       "      <td>WXPOD8270</td>\n",
       "      <td>NaN</td>\n",
       "      <td>NaN</td>\n",
       "      <td>NaN</td>\n",
       "      <td>0.00</td>\n",
       "      <td>0.000</td>\n",
       "      <td>0.0</td>\n",
       "      <td>20050101</td>\n",
       "      <td>20100920</td>\n",
       "    </tr>\n",
       "    <tr>\n",
       "      <th>4</th>\n",
       "      <td>008268</td>\n",
       "      <td>99999</td>\n",
       "      <td>WXPOD8278</td>\n",
       "      <td>AF</td>\n",
       "      <td>NaN</td>\n",
       "      <td>NaN</td>\n",
       "      <td>32.95</td>\n",
       "      <td>65.567</td>\n",
       "      <td>1156.7</td>\n",
       "      <td>20100519</td>\n",
       "      <td>20120323</td>\n",
       "    </tr>\n",
       "  </tbody>\n",
       "</table>\n",
       "</div>"
      ],
      "text/plain": [
       "     USAF   WBAN STATION NAME CTRY STATE ICAO    LAT     LON  ELEV(M)  \\\n",
       "0  007018  99999   WXPOD 7018  NaN   NaN  NaN   0.00   0.000   7018.0   \n",
       "1  007026  99999   WXPOD 7026   AF   NaN  NaN   0.00   0.000   7026.0   \n",
       "2  007070  99999   WXPOD 7070   AF   NaN  NaN   0.00   0.000   7070.0   \n",
       "3  008260  99999    WXPOD8270  NaN   NaN  NaN   0.00   0.000      0.0   \n",
       "4  008268  99999    WXPOD8278   AF   NaN  NaN  32.95  65.567   1156.7   \n",
       "\n",
       "      BEGIN       END  \n",
       "0  20110309  20130730  \n",
       "1  20120713  20170822  \n",
       "2  20140923  20150926  \n",
       "3  20050101  20100920  \n",
       "4  20100519  20120323  "
      ]
     },
     "execution_count": 15,
     "metadata": {},
     "output_type": "execute_result"
    }
   ],
   "source": [
    "with io.StringIO(isd_history.decode()) as f:\n",
    "    stations_df = pd.read_csv(f, dtype={\"USAF\": str, \"WBAN\": str, \"LAT\": float, \"LON\": float})\n",
    "print(stations_df.shape)\n",
    "stations_df.head()"
   ]
  },
  {
   "cell_type": "code",
   "execution_count": 16,
   "metadata": {},
   "outputs": [
    {
     "name": "stdout",
     "output_type": "stream",
     "text": [
      "(58, 11)\n"
     ]
    },
    {
     "data": {
      "text/html": [
       "<div>\n",
       "<style scoped>\n",
       "    .dataframe tbody tr th:only-of-type {\n",
       "        vertical-align: middle;\n",
       "    }\n",
       "\n",
       "    .dataframe tbody tr th {\n",
       "        vertical-align: top;\n",
       "    }\n",
       "\n",
       "    .dataframe thead th {\n",
       "        text-align: right;\n",
       "    }\n",
       "</style>\n",
       "<table border=\"1\" class=\"dataframe\">\n",
       "  <thead>\n",
       "    <tr style=\"text-align: right;\">\n",
       "      <th></th>\n",
       "      <th>USAF</th>\n",
       "      <th>WBAN</th>\n",
       "      <th>STATION NAME</th>\n",
       "      <th>CTRY</th>\n",
       "      <th>STATE</th>\n",
       "      <th>ICAO</th>\n",
       "      <th>LAT</th>\n",
       "      <th>LON</th>\n",
       "      <th>ELEV(M)</th>\n",
       "      <th>BEGIN</th>\n",
       "      <th>END</th>\n",
       "    </tr>\n",
       "  </thead>\n",
       "  <tbody>\n",
       "    <tr>\n",
       "      <th>18777</th>\n",
       "      <td>722859</td>\n",
       "      <td>99999</td>\n",
       "      <td>DANA POINT</td>\n",
       "      <td>US</td>\n",
       "      <td>CA</td>\n",
       "      <td>NaN</td>\n",
       "      <td>33.450</td>\n",
       "      <td>-117.680</td>\n",
       "      <td>15.0</td>\n",
       "      <td>19840607</td>\n",
       "      <td>19960630</td>\n",
       "    </tr>\n",
       "    <tr>\n",
       "      <th>18813</th>\n",
       "      <td>722900</td>\n",
       "      <td>23188</td>\n",
       "      <td>SAN DIEGO INTERNATIONAL AIRPORT</td>\n",
       "      <td>US</td>\n",
       "      <td>CA</td>\n",
       "      <td>KSAN</td>\n",
       "      <td>32.734</td>\n",
       "      <td>-117.183</td>\n",
       "      <td>4.6</td>\n",
       "      <td>19420101</td>\n",
       "      <td>20200213</td>\n",
       "    </tr>\n",
       "    <tr>\n",
       "      <th>18814</th>\n",
       "      <td>722901</td>\n",
       "      <td>99999</td>\n",
       "      <td>SAN DIEGO/MONTGOMER</td>\n",
       "      <td>US</td>\n",
       "      <td>CA</td>\n",
       "      <td>NaN</td>\n",
       "      <td>32.817</td>\n",
       "      <td>-117.133</td>\n",
       "      <td>129.0</td>\n",
       "      <td>19730101</td>\n",
       "      <td>19900206</td>\n",
       "    </tr>\n",
       "    <tr>\n",
       "      <th>18815</th>\n",
       "      <td>722903</td>\n",
       "      <td>03131</td>\n",
       "      <td>MONTGOMERY FIELD AIRPORT</td>\n",
       "      <td>US</td>\n",
       "      <td>CA</td>\n",
       "      <td>KMYF</td>\n",
       "      <td>32.816</td>\n",
       "      <td>-117.139</td>\n",
       "      <td>127.1</td>\n",
       "      <td>20060101</td>\n",
       "      <td>20200213</td>\n",
       "    </tr>\n",
       "    <tr>\n",
       "      <th>18816</th>\n",
       "      <td>722903</td>\n",
       "      <td>99999</td>\n",
       "      <td>MONTGOMERY FLD</td>\n",
       "      <td>US</td>\n",
       "      <td>CA</td>\n",
       "      <td>KMYF</td>\n",
       "      <td>32.816</td>\n",
       "      <td>-117.140</td>\n",
       "      <td>130.0</td>\n",
       "      <td>19900208</td>\n",
       "      <td>20051231</td>\n",
       "    </tr>\n",
       "  </tbody>\n",
       "</table>\n",
       "</div>"
      ],
      "text/plain": [
       "         USAF   WBAN                     STATION NAME CTRY STATE  ICAO  \\\n",
       "18777  722859  99999                       DANA POINT   US    CA   NaN   \n",
       "18813  722900  23188  SAN DIEGO INTERNATIONAL AIRPORT   US    CA  KSAN   \n",
       "18814  722901  99999              SAN DIEGO/MONTGOMER   US    CA   NaN   \n",
       "18815  722903  03131         MONTGOMERY FIELD AIRPORT   US    CA  KMYF   \n",
       "18816  722903  99999                   MONTGOMERY FLD   US    CA  KMYF   \n",
       "\n",
       "          LAT      LON  ELEV(M)     BEGIN       END  \n",
       "18777  33.450 -117.680     15.0  19840607  19960630  \n",
       "18813  32.734 -117.183      4.6  19420101  20200213  \n",
       "18814  32.817 -117.133    129.0  19730101  19900206  \n",
       "18815  32.816 -117.139    127.1  20060101  20200213  \n",
       "18816  32.816 -117.140    130.0  19900208  20051231  "
      ]
     },
     "execution_count": 16,
     "metadata": {},
     "output_type": "execute_result"
    }
   ],
   "source": [
    "MIN_LAT, MAX_LAT = 32.4, 33.6\n",
    "MIN_LONG, MAX_LONG = -118, -116\n",
    "mask = ((stations_df.LAT >= MIN_LAT)\n",
    "         & (stations_df.LAT <= MAX_LAT)\n",
    "         & (stations_df.LON >= MIN_LONG)\n",
    "         & (stations_df.LON <= MAX_LONG))\n",
    "print(stations_df[mask].shape)\n",
    "stations_df[mask].head()"
   ]
  },
  {
   "cell_type": "code",
   "execution_count": 17,
   "metadata": {},
   "outputs": [
    {
     "data": {
      "text/plain": [
       "<matplotlib.axes._subplots.AxesSubplot at 0x1806790f408>"
      ]
     },
     "execution_count": 17,
     "metadata": {},
     "output_type": "execute_result"
    },
    {
     "data": {
      "image/png": "[encoded data removed]",
      "text/plain": [
       "<Figure size 432x288 with 1 Axes>"
      ]
     },
     "metadata": {
      "needs_background": "light"
     },
     "output_type": "display_data"
    }
   ],
   "source": [
    "stations_df.USAF.str.len().hist()"
   ]
  },
  {
   "cell_type": "code",
   "execution_count": 18,
   "metadata": {},
   "outputs": [
    {
     "data": {
      "text/plain": [
       "<matplotlib.axes._subplots.AxesSubplot at 0x18065f21e08>"
      ]
     },
     "execution_count": 18,
     "metadata": {},
     "output_type": "execute_result"
    },
    {
     "data": {
      "image/png": "[encoded data removed]",
      "text/plain": [
       "<Figure size 432x288 with 1 Axes>"
      ]
     },
     "metadata": {
      "needs_background": "light"
     },
     "output_type": "display_data"
    }
   ],
   "source": [
    "stations_df.WBAN.str.len().hist()"
   ]
  },
  {
   "cell_type": "code",
   "execution_count": 20,
   "metadata": {},
   "outputs": [
    {
     "data": {
      "text/plain": [
       "18777    722859-99999\n",
       "18813    722900-23188\n",
       "18814    722901-99999\n",
       "18815    722903-03131\n",
       "18816    722903-99999\n",
       "dtype: object"
      ]
     },
     "execution_count": 20,
     "metadata": {},
     "output_type": "execute_result"
    }
   ],
   "source": [
    "ids = stations_df[mask].USAF.astype(str) \\\n",
    "        + \"-\" + stations_df[mask].WBAN.str.pad(width=5, side='left', fillchar='0')\n",
    "ids.head()"
   ]
  },
  {
   "cell_type": "code",
   "execution_count": 21,
   "metadata": {},
   "outputs": [
    {
     "data": {
      "application/vnd.jupyter.widget-view+json": {
       "model_id": "ad18ff1c1e954e2baa3c0fdfc07ca9d1",
       "version_major": 2,
       "version_minor": 0
      },
      "text/plain": [
       "HBox(children=(FloatProgress(value=0.0, max=21.0), HTML(value='')))"
      ]
     },
     "metadata": {},
     "output_type": "display_data"
    },
    {
     "name": "stdout",
     "output_type": "stream",
     "text": [
      "\n",
      "262525\n",
      "['/pub/data/noaa/2002/011030-99999-2002.gz'\n",
      " '/pub/data/noaa/2002/113570-99999-2002.gz'\n",
      " '/pub/data/noaa/2014/245850-99999-2014.gz'\n",
      " '/pub/data/noaa/2011/720962-00337-2011.gz'\n",
      " '/pub/data/noaa/2006/837780-99999-2006.gz'\n",
      " '/pub/data/noaa/2016/655990-99999-2016.gz'\n",
      " '/pub/data/noaa/2013/167263-99999-2013.gz'\n",
      " '/pub/data/noaa/2020/115020-99999-2020.gz'\n",
      " '/pub/data/noaa/2009/835500-99999-2009.gz'\n",
      " '/pub/data/noaa/2009/037100-99999-2009.gz']\n"
     ]
    }
   ],
   "source": [
    "from tqdm.notebook import tqdm\n",
    "import numpy as np\n",
    "ftp = ftplib.FTP('ftp.ncdc.noaa.gov')\n",
    "ftp.login()\n",
    "files = []\n",
    "for year in tqdm(range(2000, 2021)):\n",
    "    root = '/pub/data/noaa/{}/'.format(year)\n",
    "    ftp.cwd(root)\n",
    "    files.extend([root + f for f in ftp.nlst()])\n",
    "print(len(files))\n",
    "print(np.random.choice(files, size=10))"
   ]
  },
  {
   "cell_type": "code",
   "execution_count": 22,
   "metadata": {},
   "outputs": [
    {
     "name": "stdout",
     "output_type": "stream",
     "text": [
      "['/pub/data/noaa/2004/722927-99999-2004.gz'\n",
      " '/pub/data/noaa/2018/722909-93115-2018.gz'\n",
      " '/pub/data/noaa/2016/722907-53143-2016.gz'\n",
      " '/pub/data/noaa/2015/999999-53151-2015.gz'\n",
      " '/pub/data/noaa/2003/760013-99999-2003.gz'\n",
      " '/pub/data/noaa/2012/722927-03177-2012.gz'\n",
      " '/pub/data/noaa/2017/722904-03178-2017.gz'\n",
      " '/pub/data/noaa/2011/760013-99999-2011.gz'\n",
      " '/pub/data/noaa/2001/722904-99999-2001.gz'\n",
      " '/pub/data/noaa/2008/994018-99999-2008.gz']\n"
     ]
    }
   ],
   "source": [
    "import os\n",
    "ca_files = [fn for fn in files if os.path.basename(fn)[:12] in ids.values]\n",
    "print(np.random.choice(ca_files, size=10))"
   ]
  },
  {
   "cell_type": "code",
   "execution_count": 23,
   "metadata": {},
   "outputs": [
    {
     "name": "stdout",
     "output_type": "stream",
     "text": [
      "Wall time: 17min 30s\n"
     ]
    }
   ],
   "source": [
    "%%time\n",
    "ftp = ftplib.FTP('ftp.ncdc.noaa.gov')\n",
    "ftp.login()\n",
    "raw_files = [get_file(ftp, fname) for fname in ca_files]"
   ]
  },
  {
   "cell_type": "code",
   "execution_count": 24,
   "metadata": {},
   "outputs": [
    {
     "name": "stdout",
     "output_type": "stream",
     "text": [
      "Wall time: 4.93 s\n"
     ]
    }
   ],
   "source": [
    "%%time\n",
    "raw_files = [gzip.decompress(f) for f in raw_files]"
   ]
  },
  {
   "cell_type": "code",
   "execution_count": 25,
   "metadata": {},
   "outputs": [
    {
     "name": "stdout",
     "output_type": "stream",
     "text": [
      "Wall time: 1min 39s\n"
     ]
    }
   ],
   "source": [
    "%%time\n",
    "df = pd.DataFrame(data=[isd_parse.parse_isd_line(line)\n",
    "                        for rf in raw_files\n",
    "                        for line in rf.decode('ascii').split(\"\\n\") if line])"
   ]
  },
  {
   "cell_type": "code",
   "execution_count": 26,
   "metadata": {},
   "outputs": [
    {
     "name": "stdout",
     "output_type": "stream",
     "text": [
      "(4581077, 11)\n"
     ]
    },
    {
     "data": {
      "text/html": [
       "<div>\n",
       "<style scoped>\n",
       "    .dataframe tbody tr th:only-of-type {\n",
       "        vertical-align: middle;\n",
       "    }\n",
       "\n",
       "    .dataframe tbody tr th {\n",
       "        vertical-align: top;\n",
       "    }\n",
       "\n",
       "    .dataframe thead th {\n",
       "        text-align: right;\n",
       "    }\n",
       "</style>\n",
       "<table border=\"1\" class=\"dataframe\">\n",
       "  <thead>\n",
       "    <tr style=\"text-align: right;\">\n",
       "      <th></th>\n",
       "      <th>var_data_len</th>\n",
       "      <th>usaf_station_id</th>\n",
       "      <th>wban_station_id</th>\n",
       "      <th>date</th>\n",
       "      <th>latitude</th>\n",
       "      <th>longitude</th>\n",
       "      <th>report_type</th>\n",
       "      <th>elevation_meters</th>\n",
       "      <th>call_letters</th>\n",
       "      <th>qc_process</th>\n",
       "      <th>air_temp_c</th>\n",
       "    </tr>\n",
       "  </thead>\n",
       "  <tbody>\n",
       "    <tr>\n",
       "      <th>0</th>\n",
       "      <td>71</td>\n",
       "      <td>722903</td>\n",
       "      <td>99999</td>\n",
       "      <td>2000-01-01 00:00:00</td>\n",
       "      <td>32.817</td>\n",
       "      <td>-117.133</td>\n",
       "      <td>NSRDB</td>\n",
       "      <td>129.0</td>\n",
       "      <td>None</td>\n",
       "      <td>V02</td>\n",
       "      <td>NaN</td>\n",
       "    </tr>\n",
       "    <tr>\n",
       "      <th>1</th>\n",
       "      <td>145</td>\n",
       "      <td>722903</td>\n",
       "      <td>99999</td>\n",
       "      <td>2000-01-01 00:53:00</td>\n",
       "      <td>32.820</td>\n",
       "      <td>-117.130</td>\n",
       "      <td>FM-15</td>\n",
       "      <td>129.0</td>\n",
       "      <td>KMYF</td>\n",
       "      <td>V02</td>\n",
       "      <td>12.0</td>\n",
       "    </tr>\n",
       "    <tr>\n",
       "      <th>2</th>\n",
       "      <td>71</td>\n",
       "      <td>722903</td>\n",
       "      <td>99999</td>\n",
       "      <td>2000-01-01 01:00:00</td>\n",
       "      <td>32.817</td>\n",
       "      <td>-117.133</td>\n",
       "      <td>NSRDB</td>\n",
       "      <td>129.0</td>\n",
       "      <td>None</td>\n",
       "      <td>V02</td>\n",
       "      <td>NaN</td>\n",
       "    </tr>\n",
       "    <tr>\n",
       "      <th>3</th>\n",
       "      <td>213</td>\n",
       "      <td>722903</td>\n",
       "      <td>99999</td>\n",
       "      <td>2000-01-01 01:53:00</td>\n",
       "      <td>32.820</td>\n",
       "      <td>-117.130</td>\n",
       "      <td>FM-15</td>\n",
       "      <td>129.0</td>\n",
       "      <td>KMYF</td>\n",
       "      <td>V02</td>\n",
       "      <td>12.0</td>\n",
       "    </tr>\n",
       "    <tr>\n",
       "      <th>4</th>\n",
       "      <td>54</td>\n",
       "      <td>722903</td>\n",
       "      <td>99999</td>\n",
       "      <td>2000-01-01 02:00:00</td>\n",
       "      <td>32.817</td>\n",
       "      <td>-117.133</td>\n",
       "      <td>NSRDB</td>\n",
       "      <td>129.0</td>\n",
       "      <td>None</td>\n",
       "      <td>V02</td>\n",
       "      <td>NaN</td>\n",
       "    </tr>\n",
       "  </tbody>\n",
       "</table>\n",
       "</div>"
      ],
      "text/plain": [
       "   var_data_len usaf_station_id wban_station_id                date  latitude  \\\n",
       "0            71          722903           99999 2000-01-01 00:00:00    32.817   \n",
       "1           145          722903           99999 2000-01-01 00:53:00    32.820   \n",
       "2            71          722903           99999 2000-01-01 01:00:00    32.817   \n",
       "3           213          722903           99999 2000-01-01 01:53:00    32.820   \n",
       "4            54          722903           99999 2000-01-01 02:00:00    32.817   \n",
       "\n",
       "   longitude report_type  elevation_meters call_letters qc_process  air_temp_c  \n",
       "0   -117.133       NSRDB             129.0         None        V02         NaN  \n",
       "1   -117.130       FM-15             129.0        KMYF         V02        12.0  \n",
       "2   -117.133       NSRDB             129.0         None        V02         NaN  \n",
       "3   -117.130       FM-15             129.0        KMYF         V02        12.0  \n",
       "4   -117.133       NSRDB             129.0         None        V02         NaN  "
      ]
     },
     "execution_count": 26,
     "metadata": {},
     "output_type": "execute_result"
    }
   ],
   "source": [
    "print(df.shape)\n",
    "df.head()"
   ]
  },
  {
   "cell_type": "code",
   "execution_count": 27,
   "metadata": {},
   "outputs": [
    {
     "data": {
      "text/plain": [
       "<matplotlib.axes._subplots.AxesSubplot at 0x18065fcea48>"
      ]
     },
     "execution_count": 27,
     "metadata": {},
     "output_type": "execute_result"
    },
    {
     "data": {
      "image/png": "[encoded data removed]",
      "text/plain": [
       "<Figure size 432x288 with 1 Axes>"
      ]
     },
     "metadata": {
      "needs_background": "light"
     },
     "output_type": "display_data"
    }
   ],
   "source": [
    "%matplotlib inline\n",
    "df.sample(10000).air_temp_c.hist()"
   ]
  },
  {
   "cell_type": "code",
   "execution_count": null,
   "metadata": {},
   "outputs": [],
   "source": [
    "%%time\n",
    "df.to_parquet('noaa_isd_data_SD_2000_to_2020.parquet.gzip',\n",
    "              compression='gzip')  "
   ]
  }
 ],
 "metadata": {
  "kernelspec": {
   "display_name": "Python 3",
   "language": "python",
   "name": "python3"
  },
  "language_info": {
   "codemirror_mode": {
    "name": "ipython",
    "version": 3
   },
   "file_extension": ".py",
   "mimetype": "text/x-python",
   "name": "python",
   "nbconvert_exporter": "python",
   "pygments_lexer": "ipython3",
   "version": "3.7.6"
  }
 },
 "nbformat": 4,
 "nbformat_minor": 2
}
