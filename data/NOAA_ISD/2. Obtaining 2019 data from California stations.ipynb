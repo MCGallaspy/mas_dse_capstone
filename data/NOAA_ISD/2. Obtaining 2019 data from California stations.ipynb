{
 "cells": [
  {
   "cell_type": "code",
   "execution_count": 1,
   "metadata": {},
   "outputs": [],
   "source": [
    "import pandas as pd\n",
    "import ftplib\n",
    "import isd_parse\n",
    "import gzip\n",
    "import io"
   ]
  },
  {
   "cell_type": "code",
   "execution_count": 15,
   "metadata": {},
   "outputs": [
    {
     "data": {
      "text/plain": [
       "'230-****** WARNING ** WARNING ** WARNING ** WARNING ** WARNING ******\\n ** This is a United States Department of Commerce computer     **\\n ** system, which may be accessed and used only for             **\\n ** official Government business by authorized personnel.       **\\n ** Unauthorized access or use of this computer system may      **\\n ** subject violators to criminal, civil, and/or administrative **\\n ** action.  All information on this computer system may be     **\\n ** intercepted, recorded, read, copied, and disclosed by and   **\\n ** to authorized personnel for official purposes, including    **\\n ** criminal investigations.  Access or use of this computer    **\\n ** system by any person, whether authorized or unauthorized,   **\\n ** constitutes consent to these terms.                         **\\n ****** WARNING ** WARNING ** WARNING ** WARNING ** WARNING ******\\n230 Anonymous access granted, restrictions apply'"
      ]
     },
     "execution_count": 15,
     "metadata": {},
     "output_type": "execute_result"
    }
   ],
   "source": [
    "ftp = ftplib.FTP('ftp.ncdc.noaa.gov')\n",
    "ftp.login()"
   ]
  },
  {
   "cell_type": "code",
   "execution_count": 3,
   "metadata": {},
   "outputs": [],
   "source": [
    "def get_file(ftp, fname):\n",
    "    result = bytes()\n",
    "    def append_to_bytes(bs):\n",
    "        nonlocal result\n",
    "        result += bs\n",
    "    ftp.retrbinary('RETR {}'.format(fname), append_to_bytes)\n",
    "    return result"
   ]
  },
  {
   "cell_type": "code",
   "execution_count": 4,
   "metadata": {},
   "outputs": [],
   "source": [
    "ftp.cwd('/pub/data/noaa/')\n",
    "isd_history = get_file(ftp, 'isd-history.csv')"
   ]
  },
  {
   "cell_type": "code",
   "execution_count": 5,
   "metadata": {},
   "outputs": [
    {
     "name": "stdout",
     "output_type": "stream",
     "text": [
      "(29744, 11)\n"
     ]
    },
    {
     "data": {
      "text/html": [
       "<div>\n",
       "<style scoped>\n",
       "    .dataframe tbody tr th:only-of-type {\n",
       "        vertical-align: middle;\n",
       "    }\n",
       "\n",
       "    .dataframe tbody tr th {\n",
       "        vertical-align: top;\n",
       "    }\n",
       "\n",
       "    .dataframe thead th {\n",
       "        text-align: right;\n",
       "    }\n",
       "</style>\n",
       "<table border=\"1\" class=\"dataframe\">\n",
       "  <thead>\n",
       "    <tr style=\"text-align: right;\">\n",
       "      <th></th>\n",
       "      <th>USAF</th>\n",
       "      <th>WBAN</th>\n",
       "      <th>STATION NAME</th>\n",
       "      <th>CTRY</th>\n",
       "      <th>STATE</th>\n",
       "      <th>ICAO</th>\n",
       "      <th>LAT</th>\n",
       "      <th>LON</th>\n",
       "      <th>ELEV(M)</th>\n",
       "      <th>BEGIN</th>\n",
       "      <th>END</th>\n",
       "    </tr>\n",
       "  </thead>\n",
       "  <tbody>\n",
       "    <tr>\n",
       "      <th>0</th>\n",
       "      <td>007018</td>\n",
       "      <td>99999</td>\n",
       "      <td>WXPOD 7018</td>\n",
       "      <td>NaN</td>\n",
       "      <td>NaN</td>\n",
       "      <td>NaN</td>\n",
       "      <td>0.00</td>\n",
       "      <td>0.000</td>\n",
       "      <td>7018.0</td>\n",
       "      <td>20110309</td>\n",
       "      <td>20130730</td>\n",
       "    </tr>\n",
       "    <tr>\n",
       "      <th>1</th>\n",
       "      <td>007026</td>\n",
       "      <td>99999</td>\n",
       "      <td>WXPOD 7026</td>\n",
       "      <td>AF</td>\n",
       "      <td>NaN</td>\n",
       "      <td>NaN</td>\n",
       "      <td>0.00</td>\n",
       "      <td>0.000</td>\n",
       "      <td>7026.0</td>\n",
       "      <td>20120713</td>\n",
       "      <td>20170822</td>\n",
       "    </tr>\n",
       "    <tr>\n",
       "      <th>2</th>\n",
       "      <td>007070</td>\n",
       "      <td>99999</td>\n",
       "      <td>WXPOD 7070</td>\n",
       "      <td>AF</td>\n",
       "      <td>NaN</td>\n",
       "      <td>NaN</td>\n",
       "      <td>0.00</td>\n",
       "      <td>0.000</td>\n",
       "      <td>7070.0</td>\n",
       "      <td>20140923</td>\n",
       "      <td>20150926</td>\n",
       "    </tr>\n",
       "    <tr>\n",
       "      <th>3</th>\n",
       "      <td>008260</td>\n",
       "      <td>99999</td>\n",
       "      <td>WXPOD8270</td>\n",
       "      <td>NaN</td>\n",
       "      <td>NaN</td>\n",
       "      <td>NaN</td>\n",
       "      <td>0.00</td>\n",
       "      <td>0.000</td>\n",
       "      <td>0.0</td>\n",
       "      <td>20050101</td>\n",
       "      <td>20100920</td>\n",
       "    </tr>\n",
       "    <tr>\n",
       "      <th>4</th>\n",
       "      <td>008268</td>\n",
       "      <td>99999</td>\n",
       "      <td>WXPOD8278</td>\n",
       "      <td>AF</td>\n",
       "      <td>NaN</td>\n",
       "      <td>NaN</td>\n",
       "      <td>32.95</td>\n",
       "      <td>65.567</td>\n",
       "      <td>1156.7</td>\n",
       "      <td>20100519</td>\n",
       "      <td>20120323</td>\n",
       "    </tr>\n",
       "  </tbody>\n",
       "</table>\n",
       "</div>"
      ],
      "text/plain": [
       "     USAF   WBAN STATION NAME CTRY STATE ICAO    LAT     LON  ELEV(M)  \\\n",
       "0  007018  99999   WXPOD 7018  NaN   NaN  NaN   0.00   0.000   7018.0   \n",
       "1  007026  99999   WXPOD 7026   AF   NaN  NaN   0.00   0.000   7026.0   \n",
       "2  007070  99999   WXPOD 7070   AF   NaN  NaN   0.00   0.000   7070.0   \n",
       "3  008260  99999    WXPOD8270  NaN   NaN  NaN   0.00   0.000      0.0   \n",
       "4  008268  99999    WXPOD8278   AF   NaN  NaN  32.95  65.567   1156.7   \n",
       "\n",
       "      BEGIN       END  \n",
       "0  20110309  20130730  \n",
       "1  20120713  20170822  \n",
       "2  20140923  20150926  \n",
       "3  20050101  20100920  \n",
       "4  20100519  20120323  "
      ]
     },
     "execution_count": 5,
     "metadata": {},
     "output_type": "execute_result"
    }
   ],
   "source": [
    "with io.StringIO(isd_history.decode()) as f:\n",
    "    stations_df = pd.read_csv(f)\n",
    "print(stations_df.shape)\n",
    "stations_df.head()"
   ]
  },
  {
   "cell_type": "code",
   "execution_count": 6,
   "metadata": {},
   "outputs": [
    {
     "name": "stdout",
     "output_type": "stream",
     "text": [
      "(509, 11)\n"
     ]
    },
    {
     "data": {
      "text/html": [
       "<div>\n",
       "<style scoped>\n",
       "    .dataframe tbody tr th:only-of-type {\n",
       "        vertical-align: middle;\n",
       "    }\n",
       "\n",
       "    .dataframe tbody tr th {\n",
       "        vertical-align: top;\n",
       "    }\n",
       "\n",
       "    .dataframe thead th {\n",
       "        text-align: right;\n",
       "    }\n",
       "</style>\n",
       "<table border=\"1\" class=\"dataframe\">\n",
       "  <thead>\n",
       "    <tr style=\"text-align: right;\">\n",
       "      <th></th>\n",
       "      <th>USAF</th>\n",
       "      <th>WBAN</th>\n",
       "      <th>STATION NAME</th>\n",
       "      <th>CTRY</th>\n",
       "      <th>STATE</th>\n",
       "      <th>ICAO</th>\n",
       "      <th>LAT</th>\n",
       "      <th>LON</th>\n",
       "      <th>ELEV(M)</th>\n",
       "      <th>BEGIN</th>\n",
       "      <th>END</th>\n",
       "    </tr>\n",
       "  </thead>\n",
       "  <tbody>\n",
       "    <tr>\n",
       "      <th>14464</th>\n",
       "      <td>690020</td>\n",
       "      <td>93218</td>\n",
       "      <td>JOLON HUNTER LIGGETT MIL RES</td>\n",
       "      <td>US</td>\n",
       "      <td>CA</td>\n",
       "      <td>KHGT</td>\n",
       "      <td>36.000</td>\n",
       "      <td>-121.233</td>\n",
       "      <td>317.0</td>\n",
       "      <td>19640715</td>\n",
       "      <td>19970401</td>\n",
       "    </tr>\n",
       "    <tr>\n",
       "      <th>14465</th>\n",
       "      <td>690020</td>\n",
       "      <td>99999</td>\n",
       "      <td>JOLON HUNTER LIGGETT MIL RES</td>\n",
       "      <td>US</td>\n",
       "      <td>CA</td>\n",
       "      <td>KHGT</td>\n",
       "      <td>36.000</td>\n",
       "      <td>-121.233</td>\n",
       "      <td>317.0</td>\n",
       "      <td>20030702</td>\n",
       "      <td>20030801</td>\n",
       "    </tr>\n",
       "    <tr>\n",
       "      <th>14466</th>\n",
       "      <td>690070</td>\n",
       "      <td>93217</td>\n",
       "      <td>FRITZSCHE AAF</td>\n",
       "      <td>US</td>\n",
       "      <td>CA</td>\n",
       "      <td>KOAR</td>\n",
       "      <td>36.683</td>\n",
       "      <td>-121.767</td>\n",
       "      <td>43.0</td>\n",
       "      <td>19600404</td>\n",
       "      <td>19930831</td>\n",
       "    </tr>\n",
       "    <tr>\n",
       "      <th>14467</th>\n",
       "      <td>690080</td>\n",
       "      <td>99999</td>\n",
       "      <td>TARIN KOWT</td>\n",
       "      <td>AF</td>\n",
       "      <td>CA</td>\n",
       "      <td>KQA7</td>\n",
       "      <td>32.600</td>\n",
       "      <td>65.870</td>\n",
       "      <td>1380.0</td>\n",
       "      <td>20030616</td>\n",
       "      <td>20030624</td>\n",
       "    </tr>\n",
       "    <tr>\n",
       "      <th>14473</th>\n",
       "      <td>690140</td>\n",
       "      <td>93101</td>\n",
       "      <td>EL TORO MCAS</td>\n",
       "      <td>US</td>\n",
       "      <td>CA</td>\n",
       "      <td>KNZJ</td>\n",
       "      <td>33.667</td>\n",
       "      <td>-117.733</td>\n",
       "      <td>116.7</td>\n",
       "      <td>19890101</td>\n",
       "      <td>19990630</td>\n",
       "    </tr>\n",
       "  </tbody>\n",
       "</table>\n",
       "</div>"
      ],
      "text/plain": [
       "         USAF   WBAN                  STATION NAME CTRY STATE  ICAO     LAT  \\\n",
       "14464  690020  93218  JOLON HUNTER LIGGETT MIL RES   US    CA  KHGT  36.000   \n",
       "14465  690020  99999  JOLON HUNTER LIGGETT MIL RES   US    CA  KHGT  36.000   \n",
       "14466  690070  93217                 FRITZSCHE AAF   US    CA  KOAR  36.683   \n",
       "14467  690080  99999                    TARIN KOWT   AF    CA  KQA7  32.600   \n",
       "14473  690140  93101                  EL TORO MCAS   US    CA  KNZJ  33.667   \n",
       "\n",
       "           LON  ELEV(M)     BEGIN       END  \n",
       "14464 -121.233    317.0  19640715  19970401  \n",
       "14465 -121.233    317.0  20030702  20030801  \n",
       "14466 -121.767     43.0  19600404  19930831  \n",
       "14467   65.870   1380.0  20030616  20030624  \n",
       "14473 -117.733    116.7  19890101  19990630  "
      ]
     },
     "execution_count": 6,
     "metadata": {},
     "output_type": "execute_result"
    }
   ],
   "source": [
    "mask = stations_df.STATE == 'CA'\n",
    "print(stations_df[mask].shape)\n",
    "stations_df[mask].head()"
   ]
  },
  {
   "cell_type": "code",
   "execution_count": 7,
   "metadata": {},
   "outputs": [
    {
     "data": {
      "text/plain": [
       "14464    690020-93218\n",
       "14465    690020-99999\n",
       "14466    690070-93217\n",
       "14467    690080-99999\n",
       "14473    690140-93101\n",
       "dtype: object"
      ]
     },
     "execution_count": 7,
     "metadata": {},
     "output_type": "execute_result"
    }
   ],
   "source": [
    "ids = stations_df[mask].USAF.astype(str) + \"-\" + stations_df[mask].WBAN.astype(str)\n",
    "ids.head()"
   ]
  },
  {
   "cell_type": "code",
   "execution_count": 16,
   "metadata": {},
   "outputs": [],
   "source": [
    "ftp.cwd('/pub/data/noaa/2019/')\n",
    "files = list(ftp.nlst())"
   ]
  },
  {
   "cell_type": "code",
   "execution_count": 17,
   "metadata": {},
   "outputs": [
    {
     "name": "stdout",
     "output_type": "stream",
     "text": [
      "13500\n",
      "139\n"
     ]
    }
   ],
   "source": [
    "print(len(files))\n",
    "ca_files = [fn for fn in files if fn[:12] in ids.values]\n",
    "print(len(ca_files))"
   ]
  },
  {
   "cell_type": "code",
   "execution_count": 18,
   "metadata": {},
   "outputs": [
    {
     "name": "stdout",
     "output_type": "stream",
     "text": [
      "Wall time: 3min 57s\n"
     ]
    }
   ],
   "source": [
    "%%time\n",
    "raw_files = [get_file(ftp, fname) for fname in ca_files]"
   ]
  },
  {
   "cell_type": "code",
   "execution_count": 19,
   "metadata": {},
   "outputs": [
    {
     "name": "stdout",
     "output_type": "stream",
     "text": [
      "Wall time: 3.12 s\n"
     ]
    }
   ],
   "source": [
    "%%time\n",
    "raw_files = [gzip.decompress(f) for f in raw_files]"
   ]
  },
  {
   "cell_type": "code",
   "execution_count": 20,
   "metadata": {},
   "outputs": [
    {
     "name": "stdout",
     "output_type": "stream",
     "text": [
      "Wall time: 52.8 s\n"
     ]
    }
   ],
   "source": [
    "%%time\n",
    "lines = [isd_parse.parse_isd_line(line)\n",
    "         for rf in raw_files\n",
    "         for line in rf.decode('ascii').split(\"\\n\") if line]\n",
    "df = pd.DataFrame(data=lines)"
   ]
  },
  {
   "cell_type": "code",
   "execution_count": 21,
   "metadata": {},
   "outputs": [
    {
     "name": "stdout",
     "output_type": "stream",
     "text": [
      "(2128659, 11)\n"
     ]
    },
    {
     "data": {
      "text/html": [
       "<div>\n",
       "<style scoped>\n",
       "    .dataframe tbody tr th:only-of-type {\n",
       "        vertical-align: middle;\n",
       "    }\n",
       "\n",
       "    .dataframe tbody tr th {\n",
       "        vertical-align: top;\n",
       "    }\n",
       "\n",
       "    .dataframe thead th {\n",
       "        text-align: right;\n",
       "    }\n",
       "</style>\n",
       "<table border=\"1\" class=\"dataframe\">\n",
       "  <thead>\n",
       "    <tr style=\"text-align: right;\">\n",
       "      <th></th>\n",
       "      <th>var_data_len</th>\n",
       "      <th>usaf_station_id</th>\n",
       "      <th>wban_station_id</th>\n",
       "      <th>date</th>\n",
       "      <th>latitude</th>\n",
       "      <th>longitude</th>\n",
       "      <th>report_type</th>\n",
       "      <th>elevation_meters</th>\n",
       "      <th>call_letters</th>\n",
       "      <th>qc_process</th>\n",
       "      <th>air_temp_c</th>\n",
       "    </tr>\n",
       "  </thead>\n",
       "  <tbody>\n",
       "    <tr>\n",
       "      <th>0</th>\n",
       "      <td>191</td>\n",
       "      <td>723930</td>\n",
       "      <td>93214</td>\n",
       "      <td>2019-01-01 00:58:00</td>\n",
       "      <td>34.717</td>\n",
       "      <td>-120.566</td>\n",
       "      <td>FM-15</td>\n",
       "      <td>112.0</td>\n",
       "      <td>KVBG</td>\n",
       "      <td>V02</td>\n",
       "      <td>10.4</td>\n",
       "    </tr>\n",
       "    <tr>\n",
       "      <th>1</th>\n",
       "      <td>179</td>\n",
       "      <td>723930</td>\n",
       "      <td>93214</td>\n",
       "      <td>2019-01-01 01:58:00</td>\n",
       "      <td>34.717</td>\n",
       "      <td>-120.566</td>\n",
       "      <td>FM-15</td>\n",
       "      <td>112.0</td>\n",
       "      <td>KVBG</td>\n",
       "      <td>V02</td>\n",
       "      <td>9.0</td>\n",
       "    </tr>\n",
       "    <tr>\n",
       "      <th>2</th>\n",
       "      <td>196</td>\n",
       "      <td>723930</td>\n",
       "      <td>93214</td>\n",
       "      <td>2019-01-01 02:58:00</td>\n",
       "      <td>34.717</td>\n",
       "      <td>-120.566</td>\n",
       "      <td>FM-15</td>\n",
       "      <td>112.0</td>\n",
       "      <td>KVBG</td>\n",
       "      <td>V02</td>\n",
       "      <td>9.2</td>\n",
       "    </tr>\n",
       "    <tr>\n",
       "      <th>3</th>\n",
       "      <td>134</td>\n",
       "      <td>723930</td>\n",
       "      <td>93214</td>\n",
       "      <td>2019-01-01 03:58:00</td>\n",
       "      <td>34.737</td>\n",
       "      <td>-120.584</td>\n",
       "      <td>FM-15</td>\n",
       "      <td>112.0</td>\n",
       "      <td>None</td>\n",
       "      <td>V02</td>\n",
       "      <td>8.5</td>\n",
       "    </tr>\n",
       "    <tr>\n",
       "      <th>4</th>\n",
       "      <td>175</td>\n",
       "      <td>723930</td>\n",
       "      <td>93214</td>\n",
       "      <td>2019-01-01 04:58:00</td>\n",
       "      <td>34.717</td>\n",
       "      <td>-120.566</td>\n",
       "      <td>FM-15</td>\n",
       "      <td>112.0</td>\n",
       "      <td>KVBG</td>\n",
       "      <td>V02</td>\n",
       "      <td>8.1</td>\n",
       "    </tr>\n",
       "  </tbody>\n",
       "</table>\n",
       "</div>"
      ],
      "text/plain": [
       "   var_data_len usaf_station_id wban_station_id                date  latitude  \\\n",
       "0           191          723930           93214 2019-01-01 00:58:00    34.717   \n",
       "1           179          723930           93214 2019-01-01 01:58:00    34.717   \n",
       "2           196          723930           93214 2019-01-01 02:58:00    34.717   \n",
       "3           134          723930           93214 2019-01-01 03:58:00    34.737   \n",
       "4           175          723930           93214 2019-01-01 04:58:00    34.717   \n",
       "\n",
       "   longitude report_type  elevation_meters call_letters qc_process  air_temp_c  \n",
       "0   -120.566       FM-15             112.0        KVBG         V02        10.4  \n",
       "1   -120.566       FM-15             112.0        KVBG         V02         9.0  \n",
       "2   -120.566       FM-15             112.0        KVBG         V02         9.2  \n",
       "3   -120.584       FM-15             112.0         None        V02         8.5  \n",
       "4   -120.566       FM-15             112.0        KVBG         V02         8.1  "
      ]
     },
     "execution_count": 21,
     "metadata": {},
     "output_type": "execute_result"
    }
   ],
   "source": [
    "print(df.shape)\n",
    "df.head()"
   ]
  },
  {
   "cell_type": "code",
   "execution_count": 23,
   "metadata": {},
   "outputs": [
    {
     "data": {
      "text/plain": [
       "<matplotlib.axes._subplots.AxesSubplot at 0x23ff1d9b748>"
      ]
     },
     "execution_count": 23,
     "metadata": {},
     "output_type": "execute_result"
    },
    {
     "data": {
      "image/png": "[encoded data removed]",
      "text/plain": [
       "<Figure size 432x288 with 1 Axes>"
      ]
     },
     "metadata": {
      "needs_background": "light"
     },
     "output_type": "display_data"
    }
   ],
   "source": [
    "%matplotlib inline\n",
    "df.sample(10000).air_temp_c.hist()"
   ]
  },
  {
   "cell_type": "code",
   "execution_count": 24,
   "metadata": {},
   "outputs": [],
   "source": [
    "df.to_csv('noaa_isd_data.csv')"
   ]
  }
 ],
 "metadata": {
  "kernelspec": {
   "display_name": "Python 3",
   "language": "python",
   "name": "python3"
  },
  "language_info": {
   "codemirror_mode": {
    "name": "ipython",
    "version": 3
   },
   "file_extension": ".py",
   "mimetype": "text/x-python",
   "name": "python",
   "nbconvert_exporter": "python",
   "pygments_lexer": "ipython3",
   "version": "3.7.5"
  }
 },
 "nbformat": 4,
 "nbformat_minor": 2
}
