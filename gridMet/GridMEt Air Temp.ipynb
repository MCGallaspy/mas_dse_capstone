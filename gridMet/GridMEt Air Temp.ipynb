{
 "cells": [
  {
   "cell_type": "code",
   "execution_count": 1,
   "metadata": {},
   "outputs": [
    {
     "name": "stdout",
     "output_type": "stream",
     "text": [
      "<class 'netCDF4._netCDF4.Dataset'>\n",
      "root group (NETCDF4 data model, file format HDF5):\n",
      "    geospatial_bounds_crs: EPSG:4326\n",
      "    Conventions: CF-1.6\n",
      "    geospatial_bounds: POLYGON((-124.7666666333333 49.400000000000000, -124.7666666333333 25.066666666666666, -67.058333300000015 25.066666666666666, -67.058333300000015 49.400000000000000, -124.7666666333333 49.400000000000000))\n",
      "    geospatial_lat_min: 25.066666666666666\n",
      "    geospatial_lat_max: 49.40000000000000\n",
      "    geospatial_lon_min: -124.7666666333333\n",
      "    geospatial_lon_max: -67.058333300000015\n",
      "    geospatial_lon_resolution: 0.041666666666666\n",
      "    geospatial_lat_resolution: 0.041666666666666\n",
      "    geospatial_lat_units: decimal_degrees north\n",
      "    geospatial_lon_units: decimal_degrees east\n",
      "    coordinate_system: EPSG:4326\n",
      "    author: John Abatzoglou - University of Idaho, jabatzoglou@uidaho.edu\n",
      "    date: 29 January 2020\n",
      "    note1: The projection information for this file is: GCS WGS 1984.\n",
      "    note2: Citation: Abatzoglou, J.T., 2013, Development of gridded surface meteorological data for ecological applications and modeling, International Journal of Climatology, DOI: 10.1002/joc.3413\n",
      "    note3: Data in slices after last_permanent_slice (1-based) are considered provisional and subject to change with subsequent updates\n",
      "    note4: Data in slices after last_provisional_slice (1-based) are considered early and subject to change with subsequent updates\n",
      "    note5: Days correspond approximately to calendar days ending at midnight, Mountain Standard Time (7 UTC the next calendar day)\n",
      "    dimensions(sizes): lon(1386), lat(585), day(365), crs(1)\n",
      "    variables(dimensions): float64 lon(lon), float64 lat(lat), float64 day(day), uint16 crs(crs), uint16 air_temperature(day,lat,lon)\n",
      "    groups: \n"
     ]
    }
   ],
   "source": [
    "import netCDF4\n",
    "url=r\"C:\\Users\\sathishm\\OneDrive - Qualcomm\\Desktop\\tmmn_2019.nc\"\n",
    "dataset = netCDF4.Dataset(url)\n",
    "print(dataset)"
   ]
  },
  {
   "cell_type": "code",
   "execution_count": 4,
   "metadata": {},
   "outputs": [
    {
     "name": "stdout",
     "output_type": "stream",
     "text": [
      "dict_keys(['lon', 'lat', 'day', 'crs', 'air_temperature'])\n"
     ]
    }
   ],
   "source": [
    "print(dataset.variables.keys())"
   ]
  },
  {
   "cell_type": "code",
   "execution_count": 15,
   "metadata": {},
   "outputs": [
    {
     "name": "stdout",
     "output_type": "stream",
     "text": [
      "<class 'netCDF4._netCDF4.Variable'>\n",
      "uint16 air_temperature(day, lat, lon)\n",
      "    _FillValue: 32767\n",
      "    units: K\n",
      "    description: Daily Minimum Temperature\n",
      "    long_name: tmmn\n",
      "    standard_name: tmmn\n",
      "    missing_value: 32767\n",
      "    dimensions: lon lat time\n",
      "    grid_mapping: crs\n",
      "    coordinate_system: WGS84,EPSG:4326\n",
      "    scale_factor: 0.1\n",
      "    add_offset: 210.0\n",
      "    coordinates: lon lat\n",
      "    _Unsigned: true\n",
      "unlimited dimensions: \n",
      "current shape = (365, 585, 1386)\n",
      "filling on\n"
     ]
    }
   ],
   "source": [
    "print(dataset.variables['air_temperature'])"
   ]
  },
  {
   "cell_type": "code",
   "execution_count": 6,
   "metadata": {},
   "outputs": [
    {
     "name": "stdout",
     "output_type": "stream",
     "text": [
      "('lon', <class 'netCDF4._netCDF4.Dimension'>: name = 'lon', size = 1386)\n",
      "('lat', <class 'netCDF4._netCDF4.Dimension'>: name = 'lat', size = 585)\n",
      "('day', <class 'netCDF4._netCDF4.Dimension'>: name = 'day', size = 365)\n",
      "('crs', <class 'netCDF4._netCDF4.Dimension'>: name = 'crs', size = 1)\n"
     ]
    }
   ],
   "source": [
    "for d in dataset.dimensions.items():\n",
    "    print(d)"
   ]
  },
  {
   "cell_type": "code",
   "execution_count": 23,
   "metadata": {},
   "outputs": [],
   "source": [
    "max_air_temp = dataset.variables['air_temperature']"
   ]
  },
  {
   "cell_type": "code",
   "execution_count": 39,
   "metadata": {},
   "outputs": [],
   "source": [
    "temp = max_air_temp[322].data"
   ]
  },
  {
   "cell_type": "code",
   "execution_count": 43,
   "metadata": {},
   "outputs": [
    {
     "data": {
      "text/plain": [
       "(585, 1386)"
      ]
     },
     "metadata": {},
     "output_type": "display_data"
    }
   ],
   "source": [
    "display(temp.shape)"
   ]
  },
  {
   "cell_type": "code",
   "execution_count": 54,
   "metadata": {},
   "outputs": [],
   "source": [
    "lon = dataset.variables['lon'][:].data"
   ]
  },
  {
   "cell_type": "code",
   "execution_count": 55,
   "metadata": {},
   "outputs": [],
   "source": [
    "lat = dataset.variables['lat'][:].data"
   ]
  },
  {
   "cell_type": "code",
   "execution_count": 83,
   "metadata": {},
   "outputs": [],
   "source": [
    "import numpy as np\n",
    "SD_county_lats = np.where((lat<33.6) & (lat>32.4))\n",
    "SD_county_lons = np.where((lon<-116.0) & (lon>-118))"
   ]
  },
  {
   "cell_type": "code",
   "execution_count": 139,
   "metadata": {},
   "outputs": [],
   "source": [
    "SD_county_max_air_temp = max_air_temp[180][SD_county_lats[0][0]:SD_county_lats[0][-1],SD_county_lons[0][0]:SD_county_lons[0][-1]]"
   ]
  },
  {
   "cell_type": "code",
   "execution_count": 140,
   "metadata": {},
   "outputs": [
    {
     "data": {
      "text/plain": [
       "890"
      ]
     },
     "execution_count": 140,
     "metadata": {},
     "output_type": "execute_result"
    }
   ],
   "source": [
    "#Valid entries are only this much\n",
    "SD_county_max_air_temp[~SD_county_max_air_temp.mask].size"
   ]
  },
  {
   "cell_type": "code",
   "execution_count": 141,
   "metadata": {},
   "outputs": [
    {
     "data": {
      "text/plain": [
       "(28, 47)"
      ]
     },
     "execution_count": 141,
     "metadata": {},
     "output_type": "execute_result"
    }
   ],
   "source": [
    "SD_county_max_air_temp.shape"
   ]
  },
  {
   "cell_type": "code",
   "execution_count": 144,
   "metadata": {},
   "outputs": [
    {
     "data": {
      "text/plain": [
       "numpy.ma.core.MaskedArray"
      ]
     },
     "execution_count": 144,
     "metadata": {},
     "output_type": "execute_result"
    }
   ],
   "source": [
    "type(max_air_temp[0])"
   ]
  },
  {
   "cell_type": "code",
   "execution_count": 145,
   "metadata": {},
   "outputs": [
    {
     "data": {
      "text/plain": [
       "(365, 585, 1386)"
      ]
     },
     "execution_count": 145,
     "metadata": {},
     "output_type": "execute_result"
    }
   ],
   "source": [
    "max_air_temp.shape"
   ]
  },
  {
   "cell_type": "code",
   "execution_count": 153,
   "metadata": {},
   "outputs": [],
   "source": [
    "max_air_temp_mean = []\n",
    "for i in range(max_air_temp.shape[0]):\n",
    "    SD_county_max_air_temp = max_air_temp[i][SD_county_lats[0][0]:SD_county_lats[0][-1],SD_county_lons[0][0]:SD_county_lons[0][-1]]\n",
    "#     print (\"For \", i , \"valid entries available are\", SD_county_max_air_temp[~SD_county_max_air_temp.mask].size)\n",
    "#     print (\"Mean is\", SD_county_max_air_temp.mean())\n",
    "    max_air_temp_mean.append(SD_county_max_air_temp.mean())"
   ]
  },
  {
   "cell_type": "code",
   "execution_count": 154,
   "metadata": {},
   "outputs": [
    {
     "data": {
      "text/plain": [
       "[273.1852808988764,\n",
       " 272.5004494382023,\n",
       " 274.51157303370786,\n",
       " 274.72179775280904,\n",
       " 278.5385393258427,\n",
       " 276.91842696629215,\n",
       " 277.3712359550562,\n",
       " 279.3037078651685,\n",
       " 278.2925842696629,\n",
       " 278.17719101123595,\n",
       " 278.17775280898877,\n",
       " 276.8922471910112,\n",
       " 276.6788764044944,\n",
       " 281.0458426966292,\n",
       " 280.9765168539326,\n",
       " 282.6738202247191,\n",
       " 282.7474157303371,\n",
       " 281.1992134831461,\n",
       " 281.55842696629213,\n",
       " 280.7851685393258,\n",
       " 276.49640449438203,\n",
       " 275.81393258426965,\n",
       " 277.0942696629213,\n",
       " 279.4404494382023,\n",
       " 279.56404494382025,\n",
       " 281.4628089887641,\n",
       " 280.83786516853934,\n",
       " 281.20775280898874,\n",
       " 281.93595505617975,\n",
       " 281.0265168539326,\n",
       " 279.21426966292137,\n",
       " 279.2723595505618,\n",
       " 280.6442696629213,\n",
       " 279.7685393258427,\n",
       " 280.22842696629215,\n",
       " 276.57831460674157,\n",
       " 273.1413483146068,\n",
       " 273.6014606741573,\n",
       " 273.9232584269663,\n",
       " 275.73505617977526,\n",
       " 274.44573033707866,\n",
       " 273.3210112359551,\n",
       " 275.98258426966294,\n",
       " 280.74685393258426,\n",
       " 280.34067415730334,\n",
       " 279.38258426966297,\n",
       " 278.42157303370783,\n",
       " 276.58033707865167,\n",
       " 272.7985393258427,\n",
       " 272.08168539325845,\n",
       " 273.0156179775281,\n",
       " 273.3247191011236,\n",
       " 272.12505617977524,\n",
       " 272.95337078651687,\n",
       " 275.786404494382,\n",
       " 277.2993258426966,\n",
       " 277.75449438202253,\n",
       " 279.2302247191011,\n",
       " 281.9512359550562,\n",
       " 282.3968539325843,\n",
       " 283.2385393258427,\n",
       " 282.0406741573034,\n",
       " 278.4841573033708,\n",
       " 278.66359550561793,\n",
       " 284.1632584269663,\n",
       " 280.2107865168539,\n",
       " 277.01460674157306,\n",
       " 276.31483146067416,\n",
       " 276.4323595505618,\n",
       " 278.0292134831461,\n",
       " 279.58292134831464,\n",
       " 278.7940449438202,\n",
       " 279.45404494382024,\n",
       " 279.24842696629213,\n",
       " 279.6668539325843,\n",
       " 281.89921348314607,\n",
       " 281.79662921348313,\n",
       " 281.12573033707866,\n",
       " 280.9202247191011,\n",
       " 279.1288764044944,\n",
       " 278.5075280898876,\n",
       " 279.7097752808989,\n",
       " 279.12101123595505,\n",
       " 280.38786516853935,\n",
       " 280.7041573033708,\n",
       " 281.8908988764045,\n",
       " 280.07157303370786,\n",
       " 279.67348314606744,\n",
       " 279.99022471910115,\n",
       " 281.14157303370786,\n",
       " 282.9479775280899,\n",
       " 282.13853932584266,\n",
       " 282.0629213483146,\n",
       " 282.0679775280899,\n",
       " 282.77404494382023,\n",
       " 281.9865168539326,\n",
       " 283.0873033707865,\n",
       " 285.6791011235955,\n",
       " 281.84460674157305,\n",
       " 280.00662921348317,\n",
       " 280.25067415730337,\n",
       " 280.5633707865169,\n",
       " 281.0168539325843,\n",
       " 281.7307865168539,\n",
       " 281.2949438202247,\n",
       " 282.41325842696625,\n",
       " 281.7041573033708,\n",
       " 283.83033707865167,\n",
       " 283.53269662921343,\n",
       " 283.4086516853933,\n",
       " 281.8291011235955,\n",
       " 281.9248314606741,\n",
       " 284.4447191011236,\n",
       " 285.78719101123596,\n",
       " 285.6789887640449,\n",
       " 285.15067415730334,\n",
       " 285.38280898876405,\n",
       " 284.7929213483146,\n",
       " 284.18719101123594,\n",
       " 283.4896629213483,\n",
       " 282.03370786516854,\n",
       " 282.28505617977527,\n",
       " 283.1888764044944,\n",
       " 282.9320224719101,\n",
       " 283.31056179775277,\n",
       " 283.90764044943825,\n",
       " 284.12505617977524,\n",
       " 284.1846067415731,\n",
       " 284.2685393258427,\n",
       " 284.38764044943815,\n",
       " 284.8694382022472,\n",
       " 285.02865168539324,\n",
       " 286.5020224719101,\n",
       " 286.3012359550562,\n",
       " 284.7693258426966,\n",
       " 282.6614606741573,\n",
       " 280.67235955056185,\n",
       " 280.73224719101125,\n",
       " 282.5556179775281,\n",
       " 282.25,\n",
       " 282.71865168539324,\n",
       " 281.9714606741573,\n",
       " 280.2869662921349,\n",
       " 280.1726966292135,\n",
       " 281.94067415730336,\n",
       " 281.79887640449437,\n",
       " 279.94191011235955,\n",
       " 280.2920224719101,\n",
       " 283.72426966292136,\n",
       " 285.3657303370787,\n",
       " 284.99123595505614,\n",
       " 285.18786516853936,\n",
       " 285.14707865168543,\n",
       " 286.3321348314606,\n",
       " 287.4903370786517,\n",
       " 288.2416853932584,\n",
       " 287.75426966292133,\n",
       " 286.751797752809,\n",
       " 286.05056179775283,\n",
       " 287.9514606741573,\n",
       " 289.3880898876405,\n",
       " 290.9303370786517,\n",
       " 289.5842696629214,\n",
       " 287.41213483146066,\n",
       " 287.08865168539324,\n",
       " 287.8319101123596,\n",
       " 287.4970786516854,\n",
       " 287.10112359550567,\n",
       " 287.0485393258427,\n",
       " 288.05022471910115,\n",
       " 287.56730337078653,\n",
       " 287.3660674157303,\n",
       " 286.4030337078652,\n",
       " 288.16426966292136,\n",
       " 288.26539325842697,\n",
       " 287.1383146067416,\n",
       " 286.5457303370787,\n",
       " 286.8767415730337,\n",
       " 287.0297752808989,\n",
       " 290.10719101123595,\n",
       " 288.9066292134831,\n",
       " 287.6961797752809,\n",
       " 287.6196629213483,\n",
       " 287.3951685393259,\n",
       " 286.4788764044944,\n",
       " 286.7848314606742,\n",
       " 288.10640449438205,\n",
       " 287.47662921348314,\n",
       " 287.29101123595507,\n",
       " 287.2731460674157,\n",
       " 288.1765168539326,\n",
       " 289.85539325842694,\n",
       " 291.72719101123596,\n",
       " 291.2278651685393,\n",
       " 290.61932584269664,\n",
       " 290.44741573033707,\n",
       " 289.4642696629213,\n",
       " 289.4366292134832,\n",
       " 288.60887640449437,\n",
       " 288.4187640449438,\n",
       " 288.8062921348315,\n",
       " 290.1647191011236,\n",
       " 293.151797752809,\n",
       " 294.02280898876404,\n",
       " 293.89606741573033,\n",
       " 293.25820224719104,\n",
       " 293.0360674157303,\n",
       " 293.2061797752809,\n",
       " 292.1979775280899,\n",
       " 291.7229213483146,\n",
       " 290.5311235955056,\n",
       " 290.76752808988766,\n",
       " 290.9043820224719,\n",
       " 291.76741573033706,\n",
       " 291.42213483146065,\n",
       " 291.5656179775281,\n",
       " 291.83662921348315,\n",
       " 292.8652808988764,\n",
       " 291.1519101123596,\n",
       " 288.91011235955057,\n",
       " 287.6303370786517,\n",
       " 287.4731460674157,\n",
       " 287.51157303370786,\n",
       " 288.151797752809,\n",
       " 289.43438202247194,\n",
       " 290.4542696629213,\n",
       " 289.98842696629214,\n",
       " 288.3711235955056,\n",
       " 288.1278651685393,\n",
       " 288.026404494382,\n",
       " 288.83101123595503,\n",
       " 289.386404494382,\n",
       " 289.6205617977528,\n",
       " 288.4108988764045,\n",
       " 288.86640449438204,\n",
       " 290.3458426966292,\n",
       " 292.59460674157305,\n",
       " 292.63775280898875,\n",
       " 291.91629213483145,\n",
       " 291.90752808988765,\n",
       " 291.7187640449438,\n",
       " 292.05224719101125,\n",
       " 292.22213483146066,\n",
       " 293.03876404494383,\n",
       " 293.9949438202247,\n",
       " 294.35662921348313,\n",
       " 294.29662921348313,\n",
       " 293.4885393258427,\n",
       " 292.19932584269657,\n",
       " 290.2022471910112,\n",
       " 287.343595505618,\n",
       " 286.65134831460676,\n",
       " 286.4708988764045,\n",
       " 285.92977528089887,\n",
       " 288.90337078651686,\n",
       " 290.1556179775281,\n",
       " 290.74280898876407,\n",
       " 290.9385393258427,\n",
       " 288.6501123595506,\n",
       " 286.26022471910113,\n",
       " 285.5485393258427,\n",
       " 285.6979775280899,\n",
       " 285.9941573033708,\n",
       " 286.6480898876405,\n",
       " 288.59235955056175,\n",
       " 287.35078651685393,\n",
       " 288.40932584269666,\n",
       " 289.2219101123595,\n",
       " 289.49438202247194,\n",
       " 289.08235955056176,\n",
       " 286.23191011235957,\n",
       " 281.45359550561795,\n",
       " 280.58078651685395,\n",
       " 280.32606741573034,\n",
       " 281.97303370786517,\n",
       " 282.26775280898875,\n",
       " 281.5897752808989,\n",
       " 283.2070786516854,\n",
       " 284.6396629213483,\n",
       " 284.61977528089886,\n",
       " 284.15494382022473,\n",
       " 283.85337078651685,\n",
       " 282.05426966292134,\n",
       " 283.0534831460674,\n",
       " 282.13359550561796,\n",
       " 281.61539325842693,\n",
       " 281.54932584269665,\n",
       " 283.78325842696626,\n",
       " 285.1058426966292,\n",
       " 283.79101123595507,\n",
       " 282.69157303370787,\n",
       " 282.4726966292135,\n",
       " 282.85820224719106,\n",
       " 287.0112359550562,\n",
       " 287.46932584269666,\n",
       " 286.5091011235955,\n",
       " 289.9387640449438,\n",
       " 286.31943820224717,\n",
       " 283.63820224719103,\n",
       " 280.99842696629213,\n",
       " 278.62606741573035,\n",
       " 278.2088764044944,\n",
       " 279.4852808988764,\n",
       " 278.6801123595505,\n",
       " 279.57752808988766,\n",
       " 282.40584269662924,\n",
       " 282.2165168539326,\n",
       " 282.2601123595506,\n",
       " 282.6573033707865,\n",
       " 283.4831460674157,\n",
       " 283.46719101123597,\n",
       " 284.9010112359551,\n",
       " 283.7476404494382,\n",
       " 282.8485393258427,\n",
       " 282.2732584269663,\n",
       " 283.8067415730337,\n",
       " 283.55483146067417,\n",
       " 283.56280898876406,\n",
       " 283.0319101123595,\n",
       " 283.7839325842697,\n",
       " 285.2130337078652,\n",
       " 285.79842696629214,\n",
       " 283.21629213483146,\n",
       " 281.1103370786517,\n",
       " 279.8423595505618,\n",
       " 279.4596629213483,\n",
       " 281.62314606741575,\n",
       " 273.04820224719106,\n",
       " 278.15539325842695,\n",
       " 278.0633707865169,\n",
       " 277.89741573033706,\n",
       " 277.2985393258427,\n",
       " 276.46,\n",
       " 276.4542696629214,\n",
       " 277.764606741573,\n",
       " 280.15539325842695,\n",
       " 281.7294382022472,\n",
       " 281.28887640449443,\n",
       " 279.7722471910112,\n",
       " 281.65640449438206,\n",
       " 284.92393258426966,\n",
       " 280.83786516853934,\n",
       " 278.32393258426964,\n",
       " 277.693595505618,\n",
       " 278.0077528089888,\n",
       " 280.74561797752807,\n",
       " 280.7180898876404,\n",
       " 280.283595505618,\n",
       " 276.40764044943825,\n",
       " 276.7042696629213,\n",
       " 276.7791011235955,\n",
       " 273.882808988764,\n",
       " 274.1896629213483,\n",
       " 279.20898876404493,\n",
       " 280.02494382022473,\n",
       " 280.0211235955056,\n",
       " 279.53325842696626,\n",
       " 278.2791011235955,\n",
       " 277.9155056179775,\n",
       " 274.9252808988764,\n",
       " 274.49876404494387,\n",
       " 274.6076404494382,\n",
       " 275.1913483146068,\n",
       " 278.33550561797756,\n",
       " 276.9521348314607]"
      ]
     },
     "execution_count": 154,
     "metadata": {},
     "output_type": "execute_result"
    }
   ],
   "source": [
    "max_air_temp_mean"
   ]
  },
  {
   "cell_type": "code",
   "execution_count": 156,
   "metadata": {},
   "outputs": [
    {
     "data": {
      "image/png": "[encoded data removed]",
      "text/plain": [
       "<Figure size 432x288 with 1 Axes>"
      ]
     },
     "metadata": {
      "needs_background": "light"
     },
     "output_type": "display_data"
    }
   ],
   "source": [
    "import matplotlib.pyplot as plt\n",
    "\n",
    "plt.plot(range(max_air_temp.shape[0]), max_air_temp_mean)\n",
    "plt.xlabel(\"2019 Days\")\n",
    "plt.ylabel(\"Temp in Kelvin\")\n",
    "plt.title(\"Mean Temp of SD county over 2019\")\n",
    "plt.show()"
   ]
  },
  {
   "cell_type": "code",
   "execution_count": 159,
   "metadata": {},
   "outputs": [
    {
     "data": {
      "text/plain": [
       "(array([ 0,  0,  0,  0,  0,  0,  0,  0,  0,  0,  0,  0,  0,  0,  0,  0,  0,\n",
       "         0,  0,  0,  0,  0,  0,  0,  0,  0,  0,  0,  0,  0,  0,  0,  0,  0,\n",
       "         0,  0,  0,  0,  0,  0,  0,  0,  0,  0,  0,  0,  0,  1,  1,  1,  1,\n",
       "         1,  1,  1,  1,  1,  1,  1,  1,  1,  1,  1,  1,  1,  1,  1,  1,  1,\n",
       "         1,  1,  1,  1,  1,  1,  1,  1,  1,  1,  1,  1,  1,  1,  1,  1,  1,\n",
       "         1,  1,  1,  1,  1,  1,  1,  2,  2,  2,  2,  2,  2,  2,  2,  2,  2,\n",
       "         2,  2,  2,  2,  2,  2,  2,  2,  2,  2,  2,  2,  2,  2,  2,  2,  2,\n",
       "         2,  2,  2,  2,  2,  2,  2,  2,  2,  2,  2,  2,  2,  2,  2,  2,  3,\n",
       "         3,  3,  3,  3,  3,  3,  3,  3,  3,  3,  3,  3,  3,  3,  3,  3,  3,\n",
       "         3,  3,  3,  3,  3,  3,  3,  3,  3,  3,  3,  3,  3,  3,  3,  3,  3,\n",
       "         3,  3,  3,  3,  3,  3,  3,  4,  4,  4,  4,  4,  4,  4,  4,  4,  4,\n",
       "         4,  4,  4,  4,  4,  4,  4,  4,  4,  4,  4,  4,  4,  4,  4,  4,  4,\n",
       "         4,  4,  4,  4,  4,  4,  4,  4,  4,  4,  4,  4,  4,  4,  5,  5,  5,\n",
       "         5,  5,  5,  5,  5,  5,  5,  5,  5,  5,  5,  5,  5,  5,  5,  5,  5,\n",
       "         5,  5,  5,  5,  5,  5,  5,  5,  5,  5,  5,  5,  5,  5,  5,  5,  5,\n",
       "         5,  5,  6,  6,  6,  6,  6,  6,  6,  6,  6,  6,  6,  6,  6,  6,  6,\n",
       "         6,  6,  6,  6,  6,  6,  6,  6,  6,  6,  6,  6,  6,  6,  6,  6,  6,\n",
       "         6,  6,  6,  6,  6,  6,  7,  7,  7,  7,  7,  7,  7,  7,  7,  7,  7,\n",
       "         7,  7,  7,  7,  7,  7,  7,  7,  7,  7,  7,  7,  7,  7,  7,  7,  7,\n",
       "         7,  7,  7,  7,  7,  7,  7,  7,  8,  8,  8,  8,  8,  8,  8,  8,  8,\n",
       "         8,  8,  8,  8,  8,  8,  8,  8,  8,  8,  8,  8,  8,  8,  8,  8,  8,\n",
       "         8,  8,  8,  8,  8,  8,  8,  8,  8,  9,  9,  9,  9,  9,  9,  9,  9,\n",
       "         9,  9,  9,  9,  9,  9,  9,  9,  9,  9,  9,  9,  9,  9,  9,  9,  9,\n",
       "         9,  9,  9,  9,  9,  9,  9,  9,  9, 10, 10, 10, 10, 10, 10, 10, 10,\n",
       "        10, 10, 10, 10, 10, 10, 10, 10, 10, 10, 10, 10, 10, 10, 10, 10, 10,\n",
       "        10, 10, 10, 10, 10, 10, 10, 10, 10, 11, 11, 11, 11, 11, 11, 11, 11,\n",
       "        11, 11, 11, 11, 11, 11, 11, 11, 11, 11, 11, 11, 11, 11, 11, 11, 11,\n",
       "        11, 11, 11, 11, 11, 11, 11, 11, 12, 12, 12, 12, 12, 12, 12, 12, 12,\n",
       "        12, 12, 12, 12, 12, 12, 12, 12, 12, 12, 12, 12, 12, 12, 12, 12, 12,\n",
       "        12, 12, 12, 12, 12, 12, 13, 13, 13, 13, 13, 13, 13, 13, 13, 13, 13,\n",
       "        13, 13, 13, 13, 13, 13, 13, 13, 13, 13, 13, 13, 13, 13, 13, 13, 13,\n",
       "        13, 13, 13, 13, 14, 14, 14, 14, 14, 14, 14, 14, 14, 14, 14, 14, 14,\n",
       "        14, 14, 14, 14, 14, 14, 14, 14, 14, 14, 14, 14, 14, 14, 14, 14, 14,\n",
       "        14, 14, 15, 15, 15, 15, 15, 15, 15, 15, 15, 15, 15, 15, 15, 15, 15,\n",
       "        15, 15, 15, 15, 15, 15, 15, 15, 15, 15, 15, 15, 15, 15, 15, 15, 16,\n",
       "        16, 16, 16, 16, 16, 16, 16, 16, 16, 16, 16, 16, 16, 16, 16, 16, 16,\n",
       "        16, 16, 16, 16, 16, 16, 16, 16, 16, 16, 16, 16, 16, 17, 17, 17, 17,\n",
       "        17, 17, 17, 17, 17, 17, 17, 17, 17, 17, 17, 17, 17, 17, 17, 17, 17,\n",
       "        17, 17, 17, 17, 17, 17, 17, 17, 17, 17, 18, 18, 18, 18, 18, 18, 18,\n",
       "        18, 18, 18, 18, 18, 18, 18, 18, 18, 18, 18, 18, 18, 18, 18, 18, 18,\n",
       "        18, 18, 18, 18, 18, 18, 18, 19, 19, 19, 19, 19, 19, 19, 19, 19, 19,\n",
       "        19, 19, 19, 19, 19, 19, 19, 19, 19, 19, 19, 19, 19, 19, 19, 19, 19,\n",
       "        19, 19, 19, 19, 20, 20, 20, 20, 20, 20, 20, 20, 20, 20, 20, 20, 20,\n",
       "        20, 20, 20, 20, 20, 20, 20, 20, 20, 20, 20, 20, 20, 20, 20, 20, 20,\n",
       "        20, 21, 21, 21, 21, 21, 21, 21, 21, 21, 21, 21, 21, 21, 21, 21, 21,\n",
       "        21, 21, 21, 21, 21, 21, 21, 21, 21, 21, 21, 21, 21, 21, 21, 22, 22,\n",
       "        22, 22, 22, 22, 22, 22, 22, 22, 22, 22, 22, 22, 22, 22, 22, 22, 22,\n",
       "        22, 22, 22, 22, 22, 22, 22, 22, 22, 22, 22, 23, 23, 23, 23, 23, 23,\n",
       "        23, 23, 23, 23, 23, 23, 23, 23, 23, 23, 23, 23, 23, 23, 23, 23, 23,\n",
       "        23, 23, 23, 23, 23, 24, 24, 24, 24, 24, 24, 24, 24, 24, 24, 24, 24,\n",
       "        24, 24, 24, 24, 24, 24, 24, 24, 24, 24, 24, 24, 24, 24, 24, 24, 25,\n",
       "        25, 25, 25, 25, 25, 25, 25, 25, 25, 25, 25, 25, 25, 25, 25, 25, 25,\n",
       "        25, 26, 26, 26, 26, 26], dtype=int64),\n",
       " array([ 0,  1,  2,  3,  4,  5,  6,  7,  8,  9, 10, 11, 12, 13, 14, 15, 16,\n",
       "        17, 18, 19, 20, 21, 22, 23, 24, 25, 26, 27, 28, 29, 30, 31, 32, 33,\n",
       "        34, 35, 36, 37, 38, 39, 40, 41, 42, 43, 44, 45, 46,  2,  3,  4,  5,\n",
       "         6,  7,  8,  9, 10, 11, 12, 13, 14, 15, 16, 17, 18, 19, 20, 21, 22,\n",
       "        23, 24, 25, 26, 27, 28, 29, 30, 31, 32, 33, 34, 35, 36, 37, 38, 39,\n",
       "        40, 41, 42, 43, 44, 45, 46,  4,  5,  6,  7,  8,  9, 10, 11, 12, 13,\n",
       "        14, 15, 16, 17, 18, 19, 20, 21, 22, 23, 24, 25, 26, 27, 28, 29, 30,\n",
       "        31, 32, 33, 34, 35, 36, 37, 38, 39, 40, 41, 42, 43, 44, 45, 46,  5,\n",
       "         6,  7,  8,  9, 10, 11, 12, 13, 14, 15, 16, 17, 18, 19, 20, 21, 22,\n",
       "        23, 24, 25, 26, 27, 28, 29, 30, 31, 32, 33, 34, 35, 36, 37, 38, 39,\n",
       "        40, 41, 42, 43, 44, 45, 46,  6,  7,  8,  9, 10, 11, 12, 13, 14, 15,\n",
       "        16, 17, 18, 19, 20, 21, 22, 23, 24, 25, 26, 27, 28, 29, 30, 31, 32,\n",
       "        33, 34, 35, 36, 37, 38, 39, 40, 41, 42, 43, 44, 45, 46,  8,  9, 10,\n",
       "        11, 12, 13, 14, 15, 16, 17, 18, 19, 20, 21, 22, 23, 24, 25, 26, 27,\n",
       "        28, 29, 30, 31, 32, 33, 34, 35, 36, 37, 38, 39, 40, 41, 42, 43, 44,\n",
       "        45, 46,  9, 10, 11, 12, 13, 14, 15, 16, 17, 18, 19, 20, 21, 22, 23,\n",
       "        24, 25, 26, 27, 28, 29, 30, 31, 32, 33, 34, 35, 36, 37, 38, 39, 40,\n",
       "        41, 42, 43, 44, 45, 46, 11, 12, 13, 14, 15, 16, 17, 18, 19, 20, 21,\n",
       "        22, 23, 24, 25, 26, 27, 28, 29, 30, 31, 32, 33, 34, 35, 36, 37, 38,\n",
       "        39, 40, 41, 42, 43, 44, 45, 46, 12, 13, 14, 15, 16, 17, 18, 19, 20,\n",
       "        21, 22, 23, 24, 25, 26, 27, 28, 29, 30, 31, 32, 33, 34, 35, 36, 37,\n",
       "        38, 39, 40, 41, 42, 43, 44, 45, 46, 13, 14, 15, 16, 17, 18, 19, 20,\n",
       "        21, 22, 23, 24, 25, 26, 27, 28, 29, 30, 31, 32, 33, 34, 35, 36, 37,\n",
       "        38, 39, 40, 41, 42, 43, 44, 45, 46, 13, 14, 15, 16, 17, 18, 19, 20,\n",
       "        21, 22, 23, 24, 25, 26, 27, 28, 29, 30, 31, 32, 33, 34, 35, 36, 37,\n",
       "        38, 39, 40, 41, 42, 43, 44, 45, 46, 14, 15, 16, 17, 18, 19, 20, 21,\n",
       "        22, 23, 24, 25, 26, 27, 28, 29, 30, 31, 32, 33, 34, 35, 36, 37, 38,\n",
       "        39, 40, 41, 42, 43, 44, 45, 46, 15, 16, 17, 18, 19, 20, 21, 22, 23,\n",
       "        24, 25, 26, 27, 28, 29, 30, 31, 32, 33, 34, 35, 36, 37, 38, 39, 40,\n",
       "        41, 42, 43, 44, 45, 46, 15, 16, 17, 18, 19, 20, 21, 22, 23, 24, 25,\n",
       "        26, 27, 28, 29, 30, 31, 32, 33, 34, 35, 36, 37, 38, 39, 40, 41, 42,\n",
       "        43, 44, 45, 46, 15, 16, 17, 18, 19, 20, 21, 22, 23, 24, 25, 26, 27,\n",
       "        28, 29, 30, 31, 32, 33, 34, 35, 36, 37, 38, 39, 40, 41, 42, 43, 44,\n",
       "        45, 46, 16, 17, 18, 19, 20, 21, 22, 23, 24, 25, 26, 27, 28, 29, 30,\n",
       "        31, 32, 33, 34, 35, 36, 37, 38, 39, 40, 41, 42, 43, 44, 45, 46, 16,\n",
       "        17, 18, 19, 20, 21, 22, 23, 24, 25, 26, 27, 28, 29, 30, 31, 32, 33,\n",
       "        34, 35, 36, 37, 38, 39, 40, 41, 42, 43, 44, 45, 46, 16, 17, 18, 19,\n",
       "        20, 21, 22, 23, 24, 25, 26, 27, 28, 29, 30, 31, 32, 33, 34, 35, 36,\n",
       "        37, 38, 39, 40, 41, 42, 43, 44, 45, 46, 16, 17, 18, 19, 20, 21, 22,\n",
       "        23, 24, 25, 26, 27, 28, 29, 30, 31, 32, 33, 34, 35, 36, 37, 38, 39,\n",
       "        40, 41, 42, 43, 44, 45, 46, 16, 17, 18, 19, 20, 21, 22, 23, 24, 25,\n",
       "        26, 27, 28, 29, 30, 31, 32, 33, 34, 35, 36, 37, 38, 39, 40, 41, 42,\n",
       "        43, 44, 45, 46, 16, 17, 18, 19, 20, 21, 22, 23, 24, 25, 26, 27, 28,\n",
       "        29, 30, 31, 32, 33, 34, 35, 36, 37, 38, 39, 40, 41, 42, 43, 44, 45,\n",
       "        46, 16, 17, 18, 19, 20, 21, 22, 23, 24, 25, 26, 27, 28, 29, 30, 31,\n",
       "        32, 33, 34, 35, 36, 37, 38, 39, 40, 41, 42, 43, 44, 45, 46, 17, 18,\n",
       "        19, 20, 21, 22, 23, 24, 25, 26, 27, 28, 29, 30, 31, 32, 33, 34, 35,\n",
       "        36, 37, 38, 39, 40, 41, 42, 43, 44, 45, 46, 19, 20, 21, 22, 23, 24,\n",
       "        25, 26, 27, 28, 29, 30, 31, 32, 33, 34, 35, 36, 37, 38, 39, 40, 41,\n",
       "        42, 43, 44, 45, 46, 19, 20, 21, 22, 23, 24, 25, 26, 27, 28, 29, 30,\n",
       "        31, 32, 33, 34, 35, 36, 37, 38, 39, 40, 41, 42, 43, 44, 45, 46, 19,\n",
       "        20, 21, 22, 23, 24, 25, 26, 27, 28, 29, 30, 31, 32, 33, 34, 35, 36,\n",
       "        37, 20, 21, 22, 23, 24], dtype=int64))"
      ]
     },
     "execution_count": 159,
     "metadata": {},
     "output_type": "execute_result"
    }
   ],
   "source": [
    "np.where(~SD_county_max_air_temp.mask)"
   ]
  },
  {
   "cell_type": "code",
   "execution_count": 175,
   "metadata": {},
   "outputs": [
    {
     "data": {
      "image/png": "[encoded data removed]",
      "text/plain": [
       "<Figure size 432x288 with 1 Axes>"
      ]
     },
     "metadata": {
      "needs_background": "light"
     },
     "output_type": "display_data"
    }
   ],
   "source": [
    "plt.imshow(~SD_county_max_air_temp.mask, cmap='inferno', interpolation='nearest')\n",
    "plt.xlabel(\"SD county Lat\")\n",
    "plt.ylabel(\"SD county Long\")\n",
    "plt.title(\"Data Availability over regions\")\n",
    "plt.show()"
   ]
  },
  {
   "cell_type": "code",
   "execution_count": 167,
   "metadata": {},
   "outputs": [
    {
     "data": {
      "text/plain": [
       "array([ True,  True,  True,  True,  True,  True,  True,  True,  True,\n",
       "        True,  True,  True,  True,  True,  True,  True, False, False,\n",
       "       False, False, False, False, False, False, False, False, False,\n",
       "       False, False, False, False, False, False, False, False, False,\n",
       "       False, False, False, False, False, False, False, False, False,\n",
       "       False, False])"
      ]
     },
     "execution_count": 167,
     "metadata": {},
     "output_type": "execute_result"
    }
   ],
   "source": [
    "SD_county_max_air_temp.mask[15]"
   ]
  },
  {
   "cell_type": "code",
   "execution_count": null,
   "metadata": {},
   "outputs": [],
   "source": []
  }
 ],
 "metadata": {
  "kernelspec": {
   "display_name": "Python 3",
   "language": "python",
   "name": "python3"
  },
  "language_info": {
   "codemirror_mode": {
    "name": "ipython",
    "version": 3
   },
   "file_extension": ".py",
   "mimetype": "text/x-python",
   "name": "python",
   "nbconvert_exporter": "python",
   "pygments_lexer": "ipython3",
   "version": "3.7.3"
  }
 },
 "nbformat": 4,
 "nbformat_minor": 2
}
