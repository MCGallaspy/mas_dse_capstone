{
 "cells": [
  {
   "cell_type": "markdown",
   "metadata": {},
   "source": [
    "# About this notebook\n",
    "\n",
    "This notebook explores methods of integrating fire occurrence predictions with economic data in order to estimate fire risk.\n",
    "The economic data available to us are the value of structures, vehicles, and structure contents for San Diego county in the years 2011 and 2019. This notebook looks at fire data for the year 2018, but uses economic data for the year 2019. This is because our fire perimeter dataset does not include data for the year 2019. The working assumption is that the economic values for 2019 are a good approximation for the year 2018 as well."
   ]
  },
  {
   "cell_type": "markdown",
   "metadata": {},
   "source": [
    "## Loading the fire predictions"
   ]
  },
  {
   "cell_type": "code",
   "execution_count": 1,
   "metadata": {},
   "outputs": [],
   "source": [
    "%matplotlib inline\n",
    "import seaborn as sns\n",
    "import pandas as pd\n",
    "import numpy as np\n",
    "sns.set_style('darkgrid')"
   ]
  },
  {
   "cell_type": "code",
   "execution_count": 2,
   "metadata": {},
   "outputs": [
    {
     "data": {
      "text/plain": [
       "['wildfire_capstone/logistic_regression_predictions/2018/predictions.parquet.gz/part-00000-cc6dcbda-ffff-4adf-818f-b30d4cc7546a-c000.snappy.parquet',\n",
       " 'wildfire_capstone/logistic_regression_predictions/2018/predictions.parquet.gz/part-00037-cc6dcbda-ffff-4adf-818f-b30d4cc7546a-c000.snappy.parquet',\n",
       " 'wildfire_capstone/logistic_regression_predictions/2018/predictions.parquet.gz/part-00038-cc6dcbda-ffff-4adf-818f-b30d4cc7546a-c000.snappy.parquet']"
      ]
     },
     "metadata": {},
     "output_type": "display_data"
    },
    {
     "name": "stdout",
     "output_type": "stream",
     "text": [
      "Wall time: 33.8 s\n"
     ]
    }
   ],
   "source": [
    "%%time\n",
    "import pandas as pd\n",
    "import pyarrow.parquet as pq\n",
    "import s3fs\n",
    "import boto3\n",
    "\n",
    "YEAR = 2018\n",
    "prediction_url = 'wildfire_capstone/logistic_regression_predictions/{}/predictions.parquet.gz/'.format(YEAR)\n",
    "s3_client = boto3.client('s3')\n",
    "s3_resource = boto3.resource('s3')\n",
    "s3_keys = [item.key\n",
    "           for item in s3_resource.Bucket('dse-cohort5-group5').objects.filter(Prefix=prediction_url)\n",
    "           if item.key.endswith('.parquet')]\n",
    "display(s3_keys[:3])\n",
    "s3 = s3fs.S3FileSystem()\n",
    "s3_url = 'dse-cohort5-group5/{}'\n",
    "dfs = [pq.ParquetDataset(s3_url.format(key), filesystem=s3).read_pandas().to_pandas() for key in s3_keys]"
   ]
  },
  {
   "cell_type": "code",
   "execution_count": 3,
   "metadata": {},
   "outputs": [
    {
     "data": {
      "text/plain": [
       "324850"
      ]
     },
     "execution_count": 3,
     "metadata": {},
     "output_type": "execute_result"
    }
   ],
   "source": [
    "num_rows = sum(len(df) for df in dfs)\n",
    "num_rows"
   ]
  },
  {
   "cell_type": "code",
   "execution_count": 4,
   "metadata": {},
   "outputs": [
    {
     "data": {
      "text/html": [
       "<div>\n",
       "<style scoped>\n",
       "    .dataframe tbody tr th:only-of-type {\n",
       "        vertical-align: middle;\n",
       "    }\n",
       "\n",
       "    .dataframe tbody tr th {\n",
       "        vertical-align: top;\n",
       "    }\n",
       "\n",
       "    .dataframe thead th {\n",
       "        text-align: right;\n",
       "    }\n",
       "</style>\n",
       "<table border=\"1\" class=\"dataframe\">\n",
       "  <thead>\n",
       "    <tr style=\"text-align: right;\">\n",
       "      <th></th>\n",
       "      <th>date</th>\n",
       "      <th>latitude</th>\n",
       "      <th>longitude</th>\n",
       "      <th>fire_occurred</th>\n",
       "      <th>acres_burned</th>\n",
       "      <th>year</th>\n",
       "      <th>month</th>\n",
       "      <th>day</th>\n",
       "      <th>prediction</th>\n",
       "    </tr>\n",
       "  </thead>\n",
       "  <tbody>\n",
       "  </tbody>\n",
       "</table>\n",
       "</div>"
      ],
      "text/plain": [
       "Empty DataFrame\n",
       "Columns: [date, latitude, longitude, fire_occurred, acres_burned, year, month, day, prediction]\n",
       "Index: []"
      ]
     },
     "execution_count": 4,
     "metadata": {},
     "output_type": "execute_result"
    }
   ],
   "source": [
    "dfs[0].head()"
   ]
  },
  {
   "cell_type": "code",
   "execution_count": 5,
   "metadata": {},
   "outputs": [
    {
     "name": "stdout",
     "output_type": "stream",
     "text": [
      "Wall time: 776 ms\n"
     ]
    },
    {
     "data": {
      "text/html": [
       "<div>\n",
       "<style scoped>\n",
       "    .dataframe tbody tr th:only-of-type {\n",
       "        vertical-align: middle;\n",
       "    }\n",
       "\n",
       "    .dataframe tbody tr th {\n",
       "        vertical-align: top;\n",
       "    }\n",
       "\n",
       "    .dataframe thead th {\n",
       "        text-align: right;\n",
       "    }\n",
       "</style>\n",
       "<table border=\"1\" class=\"dataframe\">\n",
       "  <thead>\n",
       "    <tr style=\"text-align: right;\">\n",
       "      <th></th>\n",
       "      <th></th>\n",
       "      <th></th>\n",
       "      <th>fire_occurred</th>\n",
       "      <th>acres_burned</th>\n",
       "      <th>year</th>\n",
       "      <th>month</th>\n",
       "      <th>day</th>\n",
       "      <th>prediction</th>\n",
       "    </tr>\n",
       "    <tr>\n",
       "      <th>date</th>\n",
       "      <th>latitude</th>\n",
       "      <th>longitude</th>\n",
       "      <th></th>\n",
       "      <th></th>\n",
       "      <th></th>\n",
       "      <th></th>\n",
       "      <th></th>\n",
       "      <th></th>\n",
       "    </tr>\n",
       "  </thead>\n",
       "  <tbody>\n",
       "  </tbody>\n",
       "</table>\n",
       "</div>"
      ],
      "text/plain": [
       "Empty DataFrame\n",
       "Columns: [fire_occurred, acres_burned, year, month, day, prediction]\n",
       "Index: []"
      ]
     },
     "execution_count": 5,
     "metadata": {},
     "output_type": "execute_result"
    }
   ],
   "source": [
    "%%time\n",
    "for df in dfs:\n",
    "    df.date = pd.to_datetime(df.date)\n",
    "    df.prediction = df.prediction.astype('int')\n",
    "    df.set_index(['date', 'latitude', 'longitude'], inplace=True)\n",
    "dfs[0].head()"
   ]
  },
  {
   "cell_type": "code",
   "execution_count": 6,
   "metadata": {},
   "outputs": [
    {
     "name": "stdout",
     "output_type": "stream",
     "text": [
      "(324850, 6)\n"
     ]
    },
    {
     "data": {
      "text/html": [
       "<div>\n",
       "<style scoped>\n",
       "    .dataframe tbody tr th:only-of-type {\n",
       "        vertical-align: middle;\n",
       "    }\n",
       "\n",
       "    .dataframe tbody tr th {\n",
       "        vertical-align: top;\n",
       "    }\n",
       "\n",
       "    .dataframe thead th {\n",
       "        text-align: right;\n",
       "    }\n",
       "</style>\n",
       "<table border=\"1\" class=\"dataframe\">\n",
       "  <thead>\n",
       "    <tr style=\"text-align: right;\">\n",
       "      <th></th>\n",
       "      <th></th>\n",
       "      <th></th>\n",
       "      <th>fire_occurred</th>\n",
       "      <th>acres_burned</th>\n",
       "      <th>year</th>\n",
       "      <th>month</th>\n",
       "      <th>day</th>\n",
       "      <th>prediction</th>\n",
       "    </tr>\n",
       "    <tr>\n",
       "      <th>date</th>\n",
       "      <th>latitude</th>\n",
       "      <th>longitude</th>\n",
       "      <th></th>\n",
       "      <th></th>\n",
       "      <th></th>\n",
       "      <th></th>\n",
       "      <th></th>\n",
       "      <th></th>\n",
       "    </tr>\n",
       "  </thead>\n",
       "  <tbody>\n",
       "    <tr>\n",
       "      <th>2018-06-07</th>\n",
       "      <th>32.650000</th>\n",
       "      <th>-116.475000</th>\n",
       "      <td>1</td>\n",
       "      <td>248.380684</td>\n",
       "      <td>2018</td>\n",
       "      <td>06</td>\n",
       "      <td>07</td>\n",
       "      <td>0</td>\n",
       "    </tr>\n",
       "    <tr>\n",
       "      <th>2018-07-28</th>\n",
       "      <th>33.066667</th>\n",
       "      <th>-116.933333</th>\n",
       "      <td>1</td>\n",
       "      <td>364.093872</td>\n",
       "      <td>2018</td>\n",
       "      <td>07</td>\n",
       "      <td>28</td>\n",
       "      <td>1</td>\n",
       "    </tr>\n",
       "    <tr>\n",
       "      <th>2018-06-07</th>\n",
       "      <th>32.608333</th>\n",
       "      <th>-116.475000</th>\n",
       "      <td>1</td>\n",
       "      <td>248.380684</td>\n",
       "      <td>2018</td>\n",
       "      <td>06</td>\n",
       "      <td>07</td>\n",
       "      <td>0</td>\n",
       "    </tr>\n",
       "    <tr>\n",
       "      <th>2018-07-29</th>\n",
       "      <th>33.400000</th>\n",
       "      <th>-117.266667</th>\n",
       "      <td>1</td>\n",
       "      <td>234.830552</td>\n",
       "      <td>2018</td>\n",
       "      <td>07</td>\n",
       "      <td>29</td>\n",
       "      <td>1</td>\n",
       "    </tr>\n",
       "    <tr>\n",
       "      <th>2018-07-08</th>\n",
       "      <th>32.816667</th>\n",
       "      <th>-116.766667</th>\n",
       "      <td>1</td>\n",
       "      <td>509.281330</td>\n",
       "      <td>2018</td>\n",
       "      <td>07</td>\n",
       "      <td>08</td>\n",
       "      <td>1</td>\n",
       "    </tr>\n",
       "  </tbody>\n",
       "</table>\n",
       "</div>"
      ],
      "text/plain": [
       "                                  fire_occurred  acres_burned  year month day  \\\n",
       "date       latitude  longitude                                                  \n",
       "2018-06-07 32.650000 -116.475000              1    248.380684  2018    06  07   \n",
       "2018-07-28 33.066667 -116.933333              1    364.093872  2018    07  28   \n",
       "2018-06-07 32.608333 -116.475000              1    248.380684  2018    06  07   \n",
       "2018-07-29 33.400000 -117.266667              1    234.830552  2018    07  29   \n",
       "2018-07-08 32.816667 -116.766667              1    509.281330  2018    07  08   \n",
       "\n",
       "                                  prediction  \n",
       "date       latitude  longitude                \n",
       "2018-06-07 32.650000 -116.475000           0  \n",
       "2018-07-28 33.066667 -116.933333           1  \n",
       "2018-06-07 32.608333 -116.475000           0  \n",
       "2018-07-29 33.400000 -117.266667           1  \n",
       "2018-07-08 32.816667 -116.766667           1  "
      ]
     },
     "execution_count": 6,
     "metadata": {},
     "output_type": "execute_result"
    }
   ],
   "source": [
    "complete_df = pd.concat(dfs)\n",
    "print(complete_df.shape)\n",
    "complete_df.head()"
   ]
  },
  {
   "cell_type": "code",
   "execution_count": 7,
   "metadata": {},
   "outputs": [
    {
     "data": {
      "text/plain": [
       "12"
      ]
     },
     "execution_count": 7,
     "metadata": {},
     "output_type": "execute_result"
    }
   ],
   "source": [
    "np.sum(complete_df.fire_occurred)"
   ]
  },
  {
   "cell_type": "code",
   "execution_count": 8,
   "metadata": {},
   "outputs": [
    {
     "data": {
      "text/plain": [
       "39541"
      ]
     },
     "execution_count": 8,
     "metadata": {},
     "output_type": "execute_result"
    }
   ],
   "source": [
    "np.sum(complete_df.prediction)"
   ]
  },
  {
   "cell_type": "code",
   "execution_count": 9,
   "metadata": {},
   "outputs": [
    {
     "data": {
      "text/html": [
       "<div>\n",
       "<style scoped>\n",
       "    .dataframe tbody tr th:only-of-type {\n",
       "        vertical-align: middle;\n",
       "    }\n",
       "\n",
       "    .dataframe tbody tr th {\n",
       "        vertical-align: top;\n",
       "    }\n",
       "\n",
       "    .dataframe thead th {\n",
       "        text-align: right;\n",
       "    }\n",
       "</style>\n",
       "<table border=\"1\" class=\"dataframe\">\n",
       "  <thead>\n",
       "    <tr style=\"text-align: right;\">\n",
       "      <th></th>\n",
       "      <th></th>\n",
       "      <th>total_actual_fires</th>\n",
       "      <th>total_predicted_fires</th>\n",
       "    </tr>\n",
       "    <tr>\n",
       "      <th>latitude</th>\n",
       "      <th>longitude</th>\n",
       "      <th></th>\n",
       "      <th></th>\n",
       "    </tr>\n",
       "  </thead>\n",
       "  <tbody>\n",
       "    <tr>\n",
       "      <th rowspan=\"5\" valign=\"top\">32.483333</th>\n",
       "      <th>-117.141667</th>\n",
       "      <td>0</td>\n",
       "      <td>89</td>\n",
       "    </tr>\n",
       "    <tr>\n",
       "      <th>-117.100000</th>\n",
       "      <td>0</td>\n",
       "      <td>113</td>\n",
       "    </tr>\n",
       "    <tr>\n",
       "      <th>-117.058333</th>\n",
       "      <td>0</td>\n",
       "      <td>151</td>\n",
       "    </tr>\n",
       "    <tr>\n",
       "      <th>-117.016667</th>\n",
       "      <td>0</td>\n",
       "      <td>129</td>\n",
       "    </tr>\n",
       "    <tr>\n",
       "      <th>-116.975000</th>\n",
       "      <td>0</td>\n",
       "      <td>89</td>\n",
       "    </tr>\n",
       "  </tbody>\n",
       "</table>\n",
       "</div>"
      ],
      "text/plain": [
       "                       total_actual_fires  total_predicted_fires\n",
       "latitude  longitude                                             \n",
       "32.483333 -117.141667                   0                     89\n",
       "          -117.100000                   0                    113\n",
       "          -117.058333                   0                    151\n",
       "          -117.016667                   0                    129\n",
       "          -116.975000                   0                     89"
      ]
     },
     "execution_count": 9,
     "metadata": {},
     "output_type": "execute_result"
    }
   ],
   "source": [
    "yearly_totals_df = complete_df.groupby(by=['latitude', 'longitude']).agg(\n",
    "    total_actual_fires=pd.NamedAgg(column='fire_occurred', aggfunc='sum'),\n",
    "    total_predicted_fires=pd.NamedAgg(column='prediction', aggfunc='sum'),\n",
    ")\n",
    "yearly_totals_df.head()"
   ]
  },
  {
   "cell_type": "code",
   "execution_count": 10,
   "metadata": {},
   "outputs": [
    {
     "data": {
      "text/plain": [
       "0    881\n",
       "1      7\n",
       "3      1\n",
       "2      1\n",
       "Name: total_actual_fires, dtype: int64"
      ]
     },
     "execution_count": 10,
     "metadata": {},
     "output_type": "execute_result"
    }
   ],
   "source": [
    "yearly_totals_df.total_actual_fires.value_counts()"
   ]
  },
  {
   "cell_type": "code",
   "execution_count": 11,
   "metadata": {},
   "outputs": [
    {
     "data": {
      "image/png": "[encoded data removed]",
      "text/plain": [
       "<Figure size 432x288 with 1 Axes>"
      ]
     },
     "metadata": {},
     "output_type": "display_data"
    }
   ],
   "source": [
    "ax = yearly_totals_df.total_actual_fires.hist(bins=6, align='left')\n",
    "ax.set_ylabel(\"Frequency\")\n",
    "ax.set_xlabel(\"Number of fires $\\mathit{actually\\ occurring}$ at a grid location over the entire year\");"
   ]
  },
  {
   "cell_type": "code",
   "execution_count": 12,
   "metadata": {},
   "outputs": [
    {
     "data": {
      "text/plain": [
       "0      87\n",
       "8      30\n",
       "7      18\n",
       "34     16\n",
       "45     16\n",
       "       ..\n",
       "129     1\n",
       "137     1\n",
       "116     1\n",
       "119     1\n",
       "151     1\n",
       "Name: total_predicted_fires, Length: 124, dtype: int64"
      ]
     },
     "execution_count": 12,
     "metadata": {},
     "output_type": "execute_result"
    }
   ],
   "source": [
    "yearly_totals_df.total_predicted_fires.value_counts()"
   ]
  },
  {
   "cell_type": "code",
   "execution_count": 13,
   "metadata": {},
   "outputs": [
    {
     "data": {
      "text/plain": [
       "151"
      ]
     },
     "execution_count": 13,
     "metadata": {},
     "output_type": "execute_result"
    }
   ],
   "source": [
    "np.max(yearly_totals_df.total_predicted_fires.value_counts().index)"
   ]
  },
  {
   "cell_type": "code",
   "execution_count": 14,
   "metadata": {},
   "outputs": [
    {
     "data": {
      "image/png": "[encoded data removed]",
      "text/plain": [
       "<Figure size 432x288 with 1 Axes>"
      ]
     },
     "metadata": {},
     "output_type": "display_data"
    }
   ],
   "source": [
    "ax = yearly_totals_df.total_predicted_fires.hist(bins=268//10, align='left')\n",
    "ax.set_ylabel(\"Frequency\")\n",
    "ax.set_xlabel(\"Number of fires $\\mathit{predicted}$ at a grid location over the entire year\");"
   ]
  },
  {
   "cell_type": "code",
   "execution_count": 15,
   "metadata": {},
   "outputs": [],
   "source": [
    "yearly_totals_df['%_days_predicted_fires'] =yearly_totals_df.total_predicted_fires / 365"
   ]
  },
  {
   "cell_type": "code",
   "execution_count": 16,
   "metadata": {},
   "outputs": [
    {
     "data": {
      "image/png": "[encoded data removed]",
      "text/plain": [
       "<Figure size 432x288 with 1 Axes>"
      ]
     },
     "metadata": {},
     "output_type": "display_data"
    }
   ],
   "source": [
    "sns.scatterplot(data=yearly_totals_df, x='total_actual_fires', y='%_days_predicted_fires');"
   ]
  },
  {
   "cell_type": "markdown",
   "metadata": {},
   "source": [
    "## Some observations\n",
    "\n",
    "The total number of actual fires recorded in 2018 is very small, and there is essentially no correlation between the number of predicted fires and the actual number of fires in the dataset."
   ]
  },
  {
   "cell_type": "markdown",
   "metadata": {},
   "source": [
    "# Economic data\n",
    "\n",
    "Let's explore the economic data a bit to determine the most valuable grid locations."
   ]
  },
  {
   "cell_type": "code",
   "execution_count": 17,
   "metadata": {},
   "outputs": [
    {
     "name": "stdout",
     "output_type": "stream",
     "text": [
      "(503, 9)\n"
     ]
    },
    {
     "data": {
      "text/html": [
       "<div>\n",
       "<style scoped>\n",
       "    .dataframe tbody tr th:only-of-type {\n",
       "        vertical-align: middle;\n",
       "    }\n",
       "\n",
       "    .dataframe tbody tr th {\n",
       "        vertical-align: top;\n",
       "    }\n",
       "\n",
       "    .dataframe thead th {\n",
       "        text-align: right;\n",
       "    }\n",
       "</style>\n",
       "<table border=\"1\" class=\"dataframe\">\n",
       "  <thead>\n",
       "    <tr style=\"text-align: right;\">\n",
       "      <th></th>\n",
       "      <th>longitude</th>\n",
       "      <th>latitude</th>\n",
       "      <th>VAL_STRUCT</th>\n",
       "      <th>VAL_CONT</th>\n",
       "      <th>VAL_VEHIC</th>\n",
       "      <th>COM</th>\n",
       "      <th>IND</th>\n",
       "      <th>PUB</th>\n",
       "      <th>RES</th>\n",
       "    </tr>\n",
       "  </thead>\n",
       "  <tbody>\n",
       "    <tr>\n",
       "      <th>0</th>\n",
       "      <td>-117.600000</td>\n",
       "      <td>33.358333</td>\n",
       "      <td>4.365877e+08</td>\n",
       "      <td>2.785600e+08</td>\n",
       "      <td>47646000.0</td>\n",
       "      <td>10.0</td>\n",
       "      <td>2.0</td>\n",
       "      <td>2.0</td>\n",
       "      <td>631.0</td>\n",
       "    </tr>\n",
       "    <tr>\n",
       "      <th>1</th>\n",
       "      <td>-117.600000</td>\n",
       "      <td>33.400000</td>\n",
       "      <td>3.686120e+07</td>\n",
       "      <td>2.703600e+07</td>\n",
       "      <td>2376000.0</td>\n",
       "      <td>2.0</td>\n",
       "      <td>NaN</td>\n",
       "      <td>NaN</td>\n",
       "      <td>45.0</td>\n",
       "    </tr>\n",
       "    <tr>\n",
       "      <th>2</th>\n",
       "      <td>-117.600000</td>\n",
       "      <td>33.441667</td>\n",
       "      <td>9.562323e+06</td>\n",
       "      <td>5.567052e+06</td>\n",
       "      <td>1125000.0</td>\n",
       "      <td>NaN</td>\n",
       "      <td>NaN</td>\n",
       "      <td>NaN</td>\n",
       "      <td>12.0</td>\n",
       "    </tr>\n",
       "    <tr>\n",
       "      <th>3</th>\n",
       "      <td>-117.558333</td>\n",
       "      <td>33.358333</td>\n",
       "      <td>4.168374e+07</td>\n",
       "      <td>3.097847e+07</td>\n",
       "      <td>2655000.0</td>\n",
       "      <td>2.0</td>\n",
       "      <td>NaN</td>\n",
       "      <td>NaN</td>\n",
       "      <td>40.0</td>\n",
       "    </tr>\n",
       "    <tr>\n",
       "      <th>4</th>\n",
       "      <td>-117.558333</td>\n",
       "      <td>33.400000</td>\n",
       "      <td>3.831454e+07</td>\n",
       "      <td>2.097003e+07</td>\n",
       "      <td>3177000.0</td>\n",
       "      <td>NaN</td>\n",
       "      <td>NaN</td>\n",
       "      <td>NaN</td>\n",
       "      <td>36.0</td>\n",
       "    </tr>\n",
       "  </tbody>\n",
       "</table>\n",
       "</div>"
      ],
      "text/plain": [
       "    longitude   latitude    VAL_STRUCT      VAL_CONT   VAL_VEHIC   COM  IND  \\\n",
       "0 -117.600000  33.358333  4.365877e+08  2.785600e+08  47646000.0  10.0  2.0   \n",
       "1 -117.600000  33.400000  3.686120e+07  2.703600e+07   2376000.0   2.0  NaN   \n",
       "2 -117.600000  33.441667  9.562323e+06  5.567052e+06   1125000.0   NaN  NaN   \n",
       "3 -117.558333  33.358333  4.168374e+07  3.097847e+07   2655000.0   2.0  NaN   \n",
       "4 -117.558333  33.400000  3.831454e+07  2.097003e+07   3177000.0   NaN  NaN   \n",
       "\n",
       "   PUB    RES  \n",
       "0  2.0  631.0  \n",
       "1  NaN   45.0  \n",
       "2  NaN   12.0  \n",
       "3  NaN   40.0  \n",
       "4  NaN   36.0  "
      ]
     },
     "execution_count": 17,
     "metadata": {},
     "output_type": "execute_result"
    }
   ],
   "source": [
    "econ_df = pd.read_csv('grid_econ_2.csv', index_col=0)\n",
    "print(econ_df.shape)\n",
    "econ_df.head()"
   ]
  },
  {
   "cell_type": "code",
   "execution_count": 18,
   "metadata": {},
   "outputs": [
    {
     "data": {
      "text/html": [
       "<div>\n",
       "<style scoped>\n",
       "    .dataframe tbody tr th:only-of-type {\n",
       "        vertical-align: middle;\n",
       "    }\n",
       "\n",
       "    .dataframe tbody tr th {\n",
       "        vertical-align: top;\n",
       "    }\n",
       "\n",
       "    .dataframe thead th {\n",
       "        text-align: right;\n",
       "    }\n",
       "</style>\n",
       "<table border=\"1\" class=\"dataframe\">\n",
       "  <thead>\n",
       "    <tr style=\"text-align: right;\">\n",
       "      <th></th>\n",
       "      <th>longitude</th>\n",
       "      <th>latitude</th>\n",
       "      <th>VAL_STRUCT</th>\n",
       "      <th>VAL_CONT</th>\n",
       "      <th>VAL_VEHIC</th>\n",
       "      <th>COM</th>\n",
       "      <th>IND</th>\n",
       "      <th>PUB</th>\n",
       "      <th>RES</th>\n",
       "      <th>total_value</th>\n",
       "    </tr>\n",
       "  </thead>\n",
       "  <tbody>\n",
       "    <tr>\n",
       "      <th>0</th>\n",
       "      <td>-117.600000</td>\n",
       "      <td>33.358333</td>\n",
       "      <td>4.365877e+08</td>\n",
       "      <td>2.785600e+08</td>\n",
       "      <td>47646000.0</td>\n",
       "      <td>10.0</td>\n",
       "      <td>2.0</td>\n",
       "      <td>2.0</td>\n",
       "      <td>631.0</td>\n",
       "      <td>7.627936e+08</td>\n",
       "    </tr>\n",
       "    <tr>\n",
       "      <th>1</th>\n",
       "      <td>-117.600000</td>\n",
       "      <td>33.400000</td>\n",
       "      <td>3.686120e+07</td>\n",
       "      <td>2.703600e+07</td>\n",
       "      <td>2376000.0</td>\n",
       "      <td>2.0</td>\n",
       "      <td>NaN</td>\n",
       "      <td>NaN</td>\n",
       "      <td>45.0</td>\n",
       "      <td>6.627320e+07</td>\n",
       "    </tr>\n",
       "    <tr>\n",
       "      <th>2</th>\n",
       "      <td>-117.600000</td>\n",
       "      <td>33.441667</td>\n",
       "      <td>9.562323e+06</td>\n",
       "      <td>5.567052e+06</td>\n",
       "      <td>1125000.0</td>\n",
       "      <td>NaN</td>\n",
       "      <td>NaN</td>\n",
       "      <td>NaN</td>\n",
       "      <td>12.0</td>\n",
       "      <td>1.625438e+07</td>\n",
       "    </tr>\n",
       "    <tr>\n",
       "      <th>3</th>\n",
       "      <td>-117.558333</td>\n",
       "      <td>33.358333</td>\n",
       "      <td>4.168374e+07</td>\n",
       "      <td>3.097847e+07</td>\n",
       "      <td>2655000.0</td>\n",
       "      <td>2.0</td>\n",
       "      <td>NaN</td>\n",
       "      <td>NaN</td>\n",
       "      <td>40.0</td>\n",
       "      <td>7.531721e+07</td>\n",
       "    </tr>\n",
       "    <tr>\n",
       "      <th>4</th>\n",
       "      <td>-117.558333</td>\n",
       "      <td>33.400000</td>\n",
       "      <td>3.831454e+07</td>\n",
       "      <td>2.097003e+07</td>\n",
       "      <td>3177000.0</td>\n",
       "      <td>NaN</td>\n",
       "      <td>NaN</td>\n",
       "      <td>NaN</td>\n",
       "      <td>36.0</td>\n",
       "      <td>6.246157e+07</td>\n",
       "    </tr>\n",
       "  </tbody>\n",
       "</table>\n",
       "</div>"
      ],
      "text/plain": [
       "    longitude   latitude    VAL_STRUCT      VAL_CONT   VAL_VEHIC   COM  IND  \\\n",
       "0 -117.600000  33.358333  4.365877e+08  2.785600e+08  47646000.0  10.0  2.0   \n",
       "1 -117.600000  33.400000  3.686120e+07  2.703600e+07   2376000.0   2.0  NaN   \n",
       "2 -117.600000  33.441667  9.562323e+06  5.567052e+06   1125000.0   NaN  NaN   \n",
       "3 -117.558333  33.358333  4.168374e+07  3.097847e+07   2655000.0   2.0  NaN   \n",
       "4 -117.558333  33.400000  3.831454e+07  2.097003e+07   3177000.0   NaN  NaN   \n",
       "\n",
       "   PUB    RES   total_value  \n",
       "0  2.0  631.0  7.627936e+08  \n",
       "1  NaN   45.0  6.627320e+07  \n",
       "2  NaN   12.0  1.625438e+07  \n",
       "3  NaN   40.0  7.531721e+07  \n",
       "4  NaN   36.0  6.246157e+07  "
      ]
     },
     "execution_count": 18,
     "metadata": {},
     "output_type": "execute_result"
    }
   ],
   "source": [
    "econ_df['total_value'] = np.sum(econ_df[['VAL_STRUCT', 'VAL_CONT', 'VAL_VEHIC']], axis=1)\n",
    "econ_df.head()"
   ]
  },
  {
   "cell_type": "code",
   "execution_count": 20,
   "metadata": {},
   "outputs": [
    {
     "name": "stdout",
     "output_type": "stream",
     "text": [
      "(251, 10)\n",
      "Pearson correlation coefficient: 0.03343366773942585\n"
     ]
    },
    {
     "data": {
      "image/png": "[encoded data removed]",
      "text/plain": [
       "<Figure size 432x288 with 1 Axes>"
      ]
     },
     "metadata": {},
     "output_type": "display_data"
    }
   ],
   "source": [
    "mask = (econ_df.total_value > econ_df.total_value.quantile(0.5))\n",
    "most_valuable_locations = econ_df[mask]\n",
    "print(most_valuable_locations.shape)\n",
    "most_valuable_lons = most_valuable_locations.longitude\n",
    "most_valuable_lats = most_valuable_locations.latitude\n",
    "mask = (yearly_totals_df.reset_index().latitude.isin(most_valuable_lats) &\n",
    "       yearly_totals_df.reset_index().longitude.isin(most_valuable_lons))\n",
    "pearson = yearly_totals_df.reset_index().loc[mask, ['total_actual_fires', '%_days_predicted_fires']].corr().values[0][1]\n",
    "print(\"Pearson correlation coefficient:\", pearson)\n",
    "sns.regplot(data=yearly_totals_df.reset_index()[mask], x='total_actual_fires', y='%_days_predicted_fires');"
   ]
  },
  {
   "cell_type": "markdown",
   "metadata": {},
   "source": [
    "## Conclusions\n",
    "\n",
    "Even if we look at the most valuable locations, there's no real correlation between predicted fires and actual fires.\n",
    "One must conclude that this model isn't sufficiently precise to be useful."
   ]
  }
 ],
 "metadata": {
  "kernelspec": {
   "display_name": "Python 3",
   "language": "python",
   "name": "python3"
  },
  "language_info": {
   "codemirror_mode": {
    "name": "ipython",
    "version": 3
   },
   "file_extension": ".py",
   "mimetype": "text/x-python",
   "name": "python",
   "nbconvert_exporter": "python",
   "pygments_lexer": "ipython3",
   "version": "3.7.6"
  }
 },
 "nbformat": 4,
 "nbformat_minor": 4
}
