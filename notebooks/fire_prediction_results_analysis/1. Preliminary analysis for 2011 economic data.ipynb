{
 "cells": [
  {
   "cell_type": "markdown",
   "metadata": {},
   "source": [
    "# About this notebook\n",
    "\n",
    "This notebook explores methods of integrating fire occurrence predictions with economic data in order to estimate fire risk.\n",
    "The economic data available to us are the value of structures, vehicles, and structure contents for San Diego county in the years 2011 and 2019. This notebook looks at fire and economic data for the year 2011."
   ]
  },
  {
   "cell_type": "markdown",
   "metadata": {},
   "source": [
    "## Loading the fire predictions"
   ]
  },
  {
   "cell_type": "code",
   "execution_count": 1,
   "metadata": {},
   "outputs": [],
   "source": [
    "%matplotlib inline\n",
    "import seaborn as sns\n",
    "import pandas as pd\n",
    "import numpy as np\n",
    "sns.set_style('darkgrid')"
   ]
  },
  {
   "cell_type": "code",
   "execution_count": 41,
   "metadata": {},
   "outputs": [
    {
     "data": {
      "text/plain": [
       "['wildfire_capstone/logistic_regression_predictions/2011/predictions.parquet.gz/part-00000-4bb460d3-87f4-4d23-9d77-42b8da321003-c000.snappy.parquet',\n",
       " 'wildfire_capstone/logistic_regression_predictions/2011/predictions.parquet.gz/part-00002-4bb460d3-87f4-4d23-9d77-42b8da321003-c000.snappy.parquet',\n",
       " 'wildfire_capstone/logistic_regression_predictions/2011/predictions.parquet.gz/part-00003-4bb460d3-87f4-4d23-9d77-42b8da321003-c000.snappy.parquet']"
      ]
     },
     "metadata": {},
     "output_type": "display_data"
    },
    {
     "name": "stdout",
     "output_type": "stream",
     "text": [
      "Wall time: 41.4 s\n"
     ]
    }
   ],
   "source": [
    "%%time\n",
    "import pandas as pd\n",
    "import pyarrow.parquet as pq\n",
    "import s3fs\n",
    "import boto3\n",
    "\n",
    "YEAR = 2011\n",
    "prediction_url = 'wildfire_capstone/logistic_regression_predictions/{}/predictions.parquet.gz/'.format(YEAR)\n",
    "s3_client = boto3.client('s3')\n",
    "s3_resource = boto3.resource('s3')\n",
    "s3_keys = [item.key\n",
    "           for item in s3_resource.Bucket('dse-cohort5-group5').objects.filter(Prefix=prediction_url)\n",
    "           if item.key.endswith('.parquet')]\n",
    "display(s3_keys[:3])\n",
    "s3 = s3fs.S3FileSystem()\n",
    "s3_url = 'dse-cohort5-group5/{}'\n",
    "dfs = [pq.ParquetDataset(s3_url.format(key), filesystem=s3).read_pandas().to_pandas() for key in s3_keys]"
   ]
  },
  {
   "cell_type": "code",
   "execution_count": 42,
   "metadata": {},
   "outputs": [
    {
     "data": {
      "text/plain": [
       "324850"
      ]
     },
     "execution_count": 42,
     "metadata": {},
     "output_type": "execute_result"
    }
   ],
   "source": [
    "num_rows = sum(len(df) for df in dfs)\n",
    "num_rows"
   ]
  },
  {
   "cell_type": "code",
   "execution_count": 43,
   "metadata": {},
   "outputs": [
    {
     "data": {
      "text/html": [
       "<div>\n",
       "<style scoped>\n",
       "    .dataframe tbody tr th:only-of-type {\n",
       "        vertical-align: middle;\n",
       "    }\n",
       "\n",
       "    .dataframe tbody tr th {\n",
       "        vertical-align: top;\n",
       "    }\n",
       "\n",
       "    .dataframe thead th {\n",
       "        text-align: right;\n",
       "    }\n",
       "</style>\n",
       "<table border=\"1\" class=\"dataframe\">\n",
       "  <thead>\n",
       "    <tr style=\"text-align: right;\">\n",
       "      <th></th>\n",
       "      <th>date</th>\n",
       "      <th>latitude</th>\n",
       "      <th>longitude</th>\n",
       "      <th>fire_occurred</th>\n",
       "      <th>acres_burned</th>\n",
       "      <th>year</th>\n",
       "      <th>month</th>\n",
       "      <th>day</th>\n",
       "      <th>prediction</th>\n",
       "    </tr>\n",
       "  </thead>\n",
       "  <tbody>\n",
       "    <tr>\n",
       "      <th>0</th>\n",
       "      <td>1311724800000000000</td>\n",
       "      <td>33.233333</td>\n",
       "      <td>-116.516667</td>\n",
       "      <td>1</td>\n",
       "      <td>13992.97</td>\n",
       "      <td>2011</td>\n",
       "      <td>07</td>\n",
       "      <td>27</td>\n",
       "      <td>1.0</td>\n",
       "    </tr>\n",
       "  </tbody>\n",
       "</table>\n",
       "</div>"
      ],
      "text/plain": [
       "                  date   latitude   longitude  fire_occurred  acres_burned  \\\n",
       "0  1311724800000000000  33.233333 -116.516667              1      13992.97   \n",
       "\n",
       "   year month day  prediction  \n",
       "0  2011    07  27         1.0  "
      ]
     },
     "execution_count": 43,
     "metadata": {},
     "output_type": "execute_result"
    }
   ],
   "source": [
    "dfs[0].head()"
   ]
  },
  {
   "cell_type": "code",
   "execution_count": 44,
   "metadata": {},
   "outputs": [
    {
     "name": "stdout",
     "output_type": "stream",
     "text": [
      "Wall time: 972 ms\n"
     ]
    },
    {
     "data": {
      "text/html": [
       "<div>\n",
       "<style scoped>\n",
       "    .dataframe tbody tr th:only-of-type {\n",
       "        vertical-align: middle;\n",
       "    }\n",
       "\n",
       "    .dataframe tbody tr th {\n",
       "        vertical-align: top;\n",
       "    }\n",
       "\n",
       "    .dataframe thead th {\n",
       "        text-align: right;\n",
       "    }\n",
       "</style>\n",
       "<table border=\"1\" class=\"dataframe\">\n",
       "  <thead>\n",
       "    <tr style=\"text-align: right;\">\n",
       "      <th></th>\n",
       "      <th></th>\n",
       "      <th></th>\n",
       "      <th>fire_occurred</th>\n",
       "      <th>acres_burned</th>\n",
       "      <th>year</th>\n",
       "      <th>month</th>\n",
       "      <th>day</th>\n",
       "      <th>prediction</th>\n",
       "    </tr>\n",
       "    <tr>\n",
       "      <th>date</th>\n",
       "      <th>latitude</th>\n",
       "      <th>longitude</th>\n",
       "      <th></th>\n",
       "      <th></th>\n",
       "      <th></th>\n",
       "      <th></th>\n",
       "      <th></th>\n",
       "      <th></th>\n",
       "    </tr>\n",
       "  </thead>\n",
       "  <tbody>\n",
       "    <tr>\n",
       "      <th>2011-07-27</th>\n",
       "      <th>33.233333</th>\n",
       "      <th>-116.516667</th>\n",
       "      <td>1</td>\n",
       "      <td>13992.97</td>\n",
       "      <td>2011</td>\n",
       "      <td>07</td>\n",
       "      <td>27</td>\n",
       "      <td>1</td>\n",
       "    </tr>\n",
       "  </tbody>\n",
       "</table>\n",
       "</div>"
      ],
      "text/plain": [
       "                                  fire_occurred  acres_burned  year month day  \\\n",
       "date       latitude  longitude                                                  \n",
       "2011-07-27 33.233333 -116.516667              1      13992.97  2011    07  27   \n",
       "\n",
       "                                  prediction  \n",
       "date       latitude  longitude                \n",
       "2011-07-27 33.233333 -116.516667           1  "
      ]
     },
     "execution_count": 44,
     "metadata": {},
     "output_type": "execute_result"
    }
   ],
   "source": [
    "%%time\n",
    "for df in dfs:\n",
    "    df.date = pd.to_datetime(df.date)\n",
    "    df.prediction = df.prediction.astype('int')\n",
    "    df.set_index(['date', 'latitude', 'longitude'], inplace=True)\n",
    "dfs[0].head()"
   ]
  },
  {
   "cell_type": "code",
   "execution_count": 45,
   "metadata": {},
   "outputs": [
    {
     "name": "stdout",
     "output_type": "stream",
     "text": [
      "(324850, 6)\n"
     ]
    },
    {
     "data": {
      "text/html": [
       "<div>\n",
       "<style scoped>\n",
       "    .dataframe tbody tr th:only-of-type {\n",
       "        vertical-align: middle;\n",
       "    }\n",
       "\n",
       "    .dataframe tbody tr th {\n",
       "        vertical-align: top;\n",
       "    }\n",
       "\n",
       "    .dataframe thead th {\n",
       "        text-align: right;\n",
       "    }\n",
       "</style>\n",
       "<table border=\"1\" class=\"dataframe\">\n",
       "  <thead>\n",
       "    <tr style=\"text-align: right;\">\n",
       "      <th></th>\n",
       "      <th></th>\n",
       "      <th></th>\n",
       "      <th>fire_occurred</th>\n",
       "      <th>acres_burned</th>\n",
       "      <th>year</th>\n",
       "      <th>month</th>\n",
       "      <th>day</th>\n",
       "      <th>prediction</th>\n",
       "    </tr>\n",
       "    <tr>\n",
       "      <th>date</th>\n",
       "      <th>latitude</th>\n",
       "      <th>longitude</th>\n",
       "      <th></th>\n",
       "      <th></th>\n",
       "      <th></th>\n",
       "      <th></th>\n",
       "      <th></th>\n",
       "      <th></th>\n",
       "    </tr>\n",
       "  </thead>\n",
       "  <tbody>\n",
       "    <tr>\n",
       "      <th>2011-07-27</th>\n",
       "      <th>33.233333</th>\n",
       "      <th>-116.516667</th>\n",
       "      <td>1</td>\n",
       "      <td>13992.97</td>\n",
       "      <td>2011</td>\n",
       "      <td>07</td>\n",
       "      <td>27</td>\n",
       "      <td>1</td>\n",
       "    </tr>\n",
       "    <tr>\n",
       "      <th>2011-07-25</th>\n",
       "      <th>33.316667</th>\n",
       "      <th>-116.475000</th>\n",
       "      <td>1</td>\n",
       "      <td>12388.35</td>\n",
       "      <td>2011</td>\n",
       "      <td>07</td>\n",
       "      <td>25</td>\n",
       "      <td>1</td>\n",
       "    </tr>\n",
       "    <tr>\n",
       "      <th>2011-07-24</th>\n",
       "      <th>33.316667</th>\n",
       "      <th>-116.516667</th>\n",
       "      <td>1</td>\n",
       "      <td>11171.95</td>\n",
       "      <td>2011</td>\n",
       "      <td>07</td>\n",
       "      <td>24</td>\n",
       "      <td>1</td>\n",
       "    </tr>\n",
       "    <tr>\n",
       "      <th>2011-07-26</th>\n",
       "      <th>33.316667</th>\n",
       "      <th>-116.558333</th>\n",
       "      <td>1</td>\n",
       "      <td>14275.95</td>\n",
       "      <td>2011</td>\n",
       "      <td>07</td>\n",
       "      <td>26</td>\n",
       "      <td>1</td>\n",
       "    </tr>\n",
       "    <tr>\n",
       "      <th>2011-10-03</th>\n",
       "      <th>33.025000</th>\n",
       "      <th>-116.516667</th>\n",
       "      <td>1</td>\n",
       "      <td>2195.53</td>\n",
       "      <td>2011</td>\n",
       "      <td>10</td>\n",
       "      <td>03</td>\n",
       "      <td>1</td>\n",
       "    </tr>\n",
       "  </tbody>\n",
       "</table>\n",
       "</div>"
      ],
      "text/plain": [
       "                                  fire_occurred  acres_burned  year month day  \\\n",
       "date       latitude  longitude                                                  \n",
       "2011-07-27 33.233333 -116.516667              1      13992.97  2011    07  27   \n",
       "2011-07-25 33.316667 -116.475000              1      12388.35  2011    07  25   \n",
       "2011-07-24 33.316667 -116.516667              1      11171.95  2011    07  24   \n",
       "2011-07-26 33.316667 -116.558333              1      14275.95  2011    07  26   \n",
       "2011-10-03 33.025000 -116.516667              1       2195.53  2011    10  03   \n",
       "\n",
       "                                  prediction  \n",
       "date       latitude  longitude                \n",
       "2011-07-27 33.233333 -116.516667           1  \n",
       "2011-07-25 33.316667 -116.475000           1  \n",
       "2011-07-24 33.316667 -116.516667           1  \n",
       "2011-07-26 33.316667 -116.558333           1  \n",
       "2011-10-03 33.025000 -116.516667           1  "
      ]
     },
     "execution_count": 45,
     "metadata": {},
     "output_type": "execute_result"
    }
   ],
   "source": [
    "complete_df = pd.concat(dfs)\n",
    "print(complete_df.shape)\n",
    "complete_df.head()"
   ]
  },
  {
   "cell_type": "code",
   "execution_count": 46,
   "metadata": {},
   "outputs": [
    {
     "data": {
      "text/plain": [
       "83"
      ]
     },
     "execution_count": 46,
     "metadata": {},
     "output_type": "execute_result"
    }
   ],
   "source": [
    "np.sum(complete_df.fire_occurred)"
   ]
  },
  {
   "cell_type": "code",
   "execution_count": 47,
   "metadata": {},
   "outputs": [
    {
     "data": {
      "text/plain": [
       "121309"
      ]
     },
     "execution_count": 47,
     "metadata": {},
     "output_type": "execute_result"
    }
   ],
   "source": [
    "np.sum(complete_df.prediction)"
   ]
  },
  {
   "cell_type": "code",
   "execution_count": 49,
   "metadata": {},
   "outputs": [
    {
     "data": {
      "text/html": [
       "<div>\n",
       "<style scoped>\n",
       "    .dataframe tbody tr th:only-of-type {\n",
       "        vertical-align: middle;\n",
       "    }\n",
       "\n",
       "    .dataframe tbody tr th {\n",
       "        vertical-align: top;\n",
       "    }\n",
       "\n",
       "    .dataframe thead th {\n",
       "        text-align: right;\n",
       "    }\n",
       "</style>\n",
       "<table border=\"1\" class=\"dataframe\">\n",
       "  <thead>\n",
       "    <tr style=\"text-align: right;\">\n",
       "      <th></th>\n",
       "      <th></th>\n",
       "      <th>total_actual_fires</th>\n",
       "      <th>total_predicted_fires</th>\n",
       "    </tr>\n",
       "    <tr>\n",
       "      <th>latitude</th>\n",
       "      <th>longitude</th>\n",
       "      <th></th>\n",
       "      <th></th>\n",
       "    </tr>\n",
       "  </thead>\n",
       "  <tbody>\n",
       "    <tr>\n",
       "      <th rowspan=\"5\" valign=\"top\">32.483333</th>\n",
       "      <th>-117.141667</th>\n",
       "      <td>0</td>\n",
       "      <td>211</td>\n",
       "    </tr>\n",
       "    <tr>\n",
       "      <th>-117.100000</th>\n",
       "      <td>0</td>\n",
       "      <td>265</td>\n",
       "    </tr>\n",
       "    <tr>\n",
       "      <th>-117.058333</th>\n",
       "      <td>0</td>\n",
       "      <td>268</td>\n",
       "    </tr>\n",
       "    <tr>\n",
       "      <th>-117.016667</th>\n",
       "      <td>0</td>\n",
       "      <td>254</td>\n",
       "    </tr>\n",
       "    <tr>\n",
       "      <th>-116.975000</th>\n",
       "      <td>0</td>\n",
       "      <td>238</td>\n",
       "    </tr>\n",
       "  </tbody>\n",
       "</table>\n",
       "</div>"
      ],
      "text/plain": [
       "                       total_actual_fires  total_predicted_fires\n",
       "latitude  longitude                                             \n",
       "32.483333 -117.141667                   0                    211\n",
       "          -117.100000                   0                    265\n",
       "          -117.058333                   0                    268\n",
       "          -117.016667                   0                    254\n",
       "          -116.975000                   0                    238"
      ]
     },
     "execution_count": 49,
     "metadata": {},
     "output_type": "execute_result"
    }
   ],
   "source": [
    "yearly_totals_df = complete_df.groupby(by=['latitude', 'longitude']).agg(\n",
    "    total_actual_fires=pd.NamedAgg(column='fire_occurred', aggfunc='sum'),\n",
    "    total_predicted_fires=pd.NamedAgg(column='prediction', aggfunc='sum'),\n",
    ")\n",
    "yearly_totals_df.head()"
   ]
  },
  {
   "cell_type": "code",
   "execution_count": 64,
   "metadata": {},
   "outputs": [
    {
     "data": {
      "text/plain": [
       "0    859\n",
       "1     14\n",
       "3      7\n",
       "5      4\n",
       "6      3\n",
       "4      2\n",
       "2      1\n",
       "Name: total_actual_fires, dtype: int64"
      ]
     },
     "execution_count": 64,
     "metadata": {},
     "output_type": "execute_result"
    }
   ],
   "source": [
    "yearly_totals_df.total_actual_fires.value_counts()"
   ]
  },
  {
   "cell_type": "code",
   "execution_count": 81,
   "metadata": {},
   "outputs": [
    {
     "data": {
      "image/png": "[encoded data removed]",
      "text/plain": [
       "<Figure size 432x288 with 1 Axes>"
      ]
     },
     "metadata": {},
     "output_type": "display_data"
    }
   ],
   "source": [
    "ax = yearly_totals_df.total_actual_fires.hist(bins=6, align='left')\n",
    "ax.set_ylabel(\"Frequency\")\n",
    "ax.set_xlabel(\"Number of fires $\\mathit{actually\\ occurring}$ at a grid location over the entire year\");"
   ]
  },
  {
   "cell_type": "code",
   "execution_count": 69,
   "metadata": {},
   "outputs": [
    {
     "data": {
      "text/plain": [
       "178    20\n",
       "176    17\n",
       "181    16\n",
       "170    15\n",
       "180    14\n",
       "       ..\n",
       "84      1\n",
       "95      1\n",
       "97      1\n",
       "102     1\n",
       "124     1\n",
       "Name: total_predicted_fires, Length: 222, dtype: int64"
      ]
     },
     "execution_count": 69,
     "metadata": {},
     "output_type": "execute_result"
    }
   ],
   "source": [
    "yearly_totals_df.total_predicted_fires.value_counts()"
   ]
  },
  {
   "cell_type": "code",
   "execution_count": 71,
   "metadata": {},
   "outputs": [
    {
     "data": {
      "text/plain": [
       "268"
      ]
     },
     "execution_count": 71,
     "metadata": {},
     "output_type": "execute_result"
    }
   ],
   "source": [
    "np.max(yearly_totals_df.total_predicted_fires.value_counts().index)"
   ]
  },
  {
   "cell_type": "code",
   "execution_count": 77,
   "metadata": {},
   "outputs": [
    {
     "data": {
      "image/png": "[encoded data removed]",
      "text/plain": [
       "<Figure size 432x288 with 1 Axes>"
      ]
     },
     "metadata": {},
     "output_type": "display_data"
    }
   ],
   "source": [
    "ax = yearly_totals_df.total_predicted_fires.hist(bins=268//10, align='left')\n",
    "ax.set_ylabel(\"Frequency\")\n",
    "ax.set_xlabel(\"Number of fires $\\mathit{predicted}$ at a grid location over the entire year\");"
   ]
  },
  {
   "cell_type": "code",
   "execution_count": 88,
   "metadata": {},
   "outputs": [],
   "source": [
    "yearly_totals_df['%_days_predicted_fires'] =yearly_totals_df.total_predicted_fires / 365"
   ]
  },
  {
   "cell_type": "code",
   "execution_count": 92,
   "metadata": {},
   "outputs": [
    {
     "data": {
      "image/png": "[encoded data removed]",
      "text/plain": [
       "<Figure size 432x288 with 1 Axes>"
      ]
     },
     "metadata": {},
     "output_type": "display_data"
    }
   ],
   "source": [
    "sns.scatterplot(data=yearly_totals_df, x='total_actual_fires', y='%_days_predicted_fires');"
   ]
  },
  {
   "cell_type": "markdown",
   "metadata": {},
   "source": [
    "## Some observations\n",
    "\n",
    "Unfortunately there is no real correlation between the number of predicted fires and the number of actual fires overall.\n",
    "Can we get better results by restricting our attention to some particular grid locations? For example, do we get good predictions at the most valuable grid locations?"
   ]
  },
  {
   "cell_type": "markdown",
   "metadata": {},
   "source": [
    "# Economic data\n",
    "\n",
    "Let's explore the economic data a bit to determine the most valuable grid locations."
   ]
  },
  {
   "cell_type": "code",
   "execution_count": 38,
   "metadata": {},
   "outputs": [
    {
     "name": "stdout",
     "output_type": "stream",
     "text": [
      "(507, 10)\n"
     ]
    },
    {
     "data": {
      "text/html": [
       "<div>\n",
       "<style scoped>\n",
       "    .dataframe tbody tr th:only-of-type {\n",
       "        vertical-align: middle;\n",
       "    }\n",
       "\n",
       "    .dataframe tbody tr th {\n",
       "        vertical-align: top;\n",
       "    }\n",
       "\n",
       "    .dataframe thead th {\n",
       "        text-align: right;\n",
       "    }\n",
       "</style>\n",
       "<table border=\"1\" class=\"dataframe\">\n",
       "  <thead>\n",
       "    <tr style=\"text-align: right;\">\n",
       "      <th></th>\n",
       "      <th>longitude</th>\n",
       "      <th>latitude</th>\n",
       "      <th>Val_Struct</th>\n",
       "      <th>Val_Cont</th>\n",
       "      <th>Val_Other</th>\n",
       "      <th>Val_Vehic</th>\n",
       "      <th>Commercial</th>\n",
       "      <th>Industrial</th>\n",
       "      <th>Public</th>\n",
       "      <th>Residential</th>\n",
       "    </tr>\n",
       "  </thead>\n",
       "  <tbody>\n",
       "    <tr>\n",
       "      <th>0</th>\n",
       "      <td>-117.600000</td>\n",
       "      <td>33.358333</td>\n",
       "      <td>156566416.6</td>\n",
       "      <td>8.533985e+07</td>\n",
       "      <td>0.0</td>\n",
       "      <td>1.129834e+06</td>\n",
       "      <td>NaN</td>\n",
       "      <td>NaN</td>\n",
       "      <td>1.0</td>\n",
       "      <td>744.0</td>\n",
       "    </tr>\n",
       "    <tr>\n",
       "      <th>1</th>\n",
       "      <td>-117.600000</td>\n",
       "      <td>33.400000</td>\n",
       "      <td>29536836.2</td>\n",
       "      <td>1.476901e+07</td>\n",
       "      <td>0.0</td>\n",
       "      <td>0.000000e+00</td>\n",
       "      <td>NaN</td>\n",
       "      <td>NaN</td>\n",
       "      <td>NaN</td>\n",
       "      <td>21.0</td>\n",
       "    </tr>\n",
       "    <tr>\n",
       "      <th>2</th>\n",
       "      <td>-117.558333</td>\n",
       "      <td>33.358333</td>\n",
       "      <td>251410885.4</td>\n",
       "      <td>1.278318e+08</td>\n",
       "      <td>0.0</td>\n",
       "      <td>3.692644e+06</td>\n",
       "      <td>4.0</td>\n",
       "      <td>1.0</td>\n",
       "      <td>1.0</td>\n",
       "      <td>117.0</td>\n",
       "    </tr>\n",
       "    <tr>\n",
       "      <th>3</th>\n",
       "      <td>-117.558333</td>\n",
       "      <td>33.400000</td>\n",
       "      <td>40361914.8</td>\n",
       "      <td>3.565020e+07</td>\n",
       "      <td>0.0</td>\n",
       "      <td>2.756872e+07</td>\n",
       "      <td>5.0</td>\n",
       "      <td>2.0</td>\n",
       "      <td>12.0</td>\n",
       "      <td>18.0</td>\n",
       "    </tr>\n",
       "    <tr>\n",
       "      <th>4</th>\n",
       "      <td>-117.516667</td>\n",
       "      <td>33.316667</td>\n",
       "      <td>1807000.0</td>\n",
       "      <td>1.807000e+06</td>\n",
       "      <td>0.0</td>\n",
       "      <td>9.856204e+05</td>\n",
       "      <td>1.0</td>\n",
       "      <td>NaN</td>\n",
       "      <td>1.0</td>\n",
       "      <td>NaN</td>\n",
       "    </tr>\n",
       "  </tbody>\n",
       "</table>\n",
       "</div>"
      ],
      "text/plain": [
       "    longitude   latitude   Val_Struct      Val_Cont  Val_Other     Val_Vehic  \\\n",
       "0 -117.600000  33.358333  156566416.6  8.533985e+07        0.0  1.129834e+06   \n",
       "1 -117.600000  33.400000   29536836.2  1.476901e+07        0.0  0.000000e+00   \n",
       "2 -117.558333  33.358333  251410885.4  1.278318e+08        0.0  3.692644e+06   \n",
       "3 -117.558333  33.400000   40361914.8  3.565020e+07        0.0  2.756872e+07   \n",
       "4 -117.516667  33.316667    1807000.0  1.807000e+06        0.0  9.856204e+05   \n",
       "\n",
       "   Commercial  Industrial  Public  Residential  \n",
       "0         NaN         NaN     1.0        744.0  \n",
       "1         NaN         NaN     NaN         21.0  \n",
       "2         4.0         1.0     1.0        117.0  \n",
       "3         5.0         2.0    12.0         18.0  \n",
       "4         1.0         NaN     1.0          NaN  "
      ]
     },
     "execution_count": 38,
     "metadata": {},
     "output_type": "execute_result"
    }
   ],
   "source": [
    "econ_df = pd.read_csv('grid_econ_1.csv', index_col=0)\n",
    "print(econ_df.shape)\n",
    "econ_df.head()"
   ]
  },
  {
   "cell_type": "code",
   "execution_count": 95,
   "metadata": {},
   "outputs": [
    {
     "data": {
      "text/html": [
       "<div>\n",
       "<style scoped>\n",
       "    .dataframe tbody tr th:only-of-type {\n",
       "        vertical-align: middle;\n",
       "    }\n",
       "\n",
       "    .dataframe tbody tr th {\n",
       "        vertical-align: top;\n",
       "    }\n",
       "\n",
       "    .dataframe thead th {\n",
       "        text-align: right;\n",
       "    }\n",
       "</style>\n",
       "<table border=\"1\" class=\"dataframe\">\n",
       "  <thead>\n",
       "    <tr style=\"text-align: right;\">\n",
       "      <th></th>\n",
       "      <th>longitude</th>\n",
       "      <th>latitude</th>\n",
       "      <th>Val_Struct</th>\n",
       "      <th>Val_Cont</th>\n",
       "      <th>Val_Other</th>\n",
       "      <th>Val_Vehic</th>\n",
       "      <th>Commercial</th>\n",
       "      <th>Industrial</th>\n",
       "      <th>Public</th>\n",
       "      <th>Residential</th>\n",
       "      <th>total_value</th>\n",
       "    </tr>\n",
       "  </thead>\n",
       "  <tbody>\n",
       "    <tr>\n",
       "      <th>0</th>\n",
       "      <td>-117.600000</td>\n",
       "      <td>33.358333</td>\n",
       "      <td>156566416.6</td>\n",
       "      <td>8.533985e+07</td>\n",
       "      <td>0.0</td>\n",
       "      <td>1.129834e+06</td>\n",
       "      <td>NaN</td>\n",
       "      <td>NaN</td>\n",
       "      <td>1.0</td>\n",
       "      <td>744.0</td>\n",
       "      <td>2.430361e+08</td>\n",
       "    </tr>\n",
       "    <tr>\n",
       "      <th>1</th>\n",
       "      <td>-117.600000</td>\n",
       "      <td>33.400000</td>\n",
       "      <td>29536836.2</td>\n",
       "      <td>1.476901e+07</td>\n",
       "      <td>0.0</td>\n",
       "      <td>0.000000e+00</td>\n",
       "      <td>NaN</td>\n",
       "      <td>NaN</td>\n",
       "      <td>NaN</td>\n",
       "      <td>21.0</td>\n",
       "      <td>4.430585e+07</td>\n",
       "    </tr>\n",
       "    <tr>\n",
       "      <th>2</th>\n",
       "      <td>-117.558333</td>\n",
       "      <td>33.358333</td>\n",
       "      <td>251410885.4</td>\n",
       "      <td>1.278318e+08</td>\n",
       "      <td>0.0</td>\n",
       "      <td>3.692644e+06</td>\n",
       "      <td>4.0</td>\n",
       "      <td>1.0</td>\n",
       "      <td>1.0</td>\n",
       "      <td>117.0</td>\n",
       "      <td>3.829353e+08</td>\n",
       "    </tr>\n",
       "    <tr>\n",
       "      <th>3</th>\n",
       "      <td>-117.558333</td>\n",
       "      <td>33.400000</td>\n",
       "      <td>40361914.8</td>\n",
       "      <td>3.565020e+07</td>\n",
       "      <td>0.0</td>\n",
       "      <td>2.756872e+07</td>\n",
       "      <td>5.0</td>\n",
       "      <td>2.0</td>\n",
       "      <td>12.0</td>\n",
       "      <td>18.0</td>\n",
       "      <td>1.035808e+08</td>\n",
       "    </tr>\n",
       "    <tr>\n",
       "      <th>4</th>\n",
       "      <td>-117.516667</td>\n",
       "      <td>33.316667</td>\n",
       "      <td>1807000.0</td>\n",
       "      <td>1.807000e+06</td>\n",
       "      <td>0.0</td>\n",
       "      <td>9.856204e+05</td>\n",
       "      <td>1.0</td>\n",
       "      <td>NaN</td>\n",
       "      <td>1.0</td>\n",
       "      <td>NaN</td>\n",
       "      <td>4.599620e+06</td>\n",
       "    </tr>\n",
       "  </tbody>\n",
       "</table>\n",
       "</div>"
      ],
      "text/plain": [
       "    longitude   latitude   Val_Struct      Val_Cont  Val_Other     Val_Vehic  \\\n",
       "0 -117.600000  33.358333  156566416.6  8.533985e+07        0.0  1.129834e+06   \n",
       "1 -117.600000  33.400000   29536836.2  1.476901e+07        0.0  0.000000e+00   \n",
       "2 -117.558333  33.358333  251410885.4  1.278318e+08        0.0  3.692644e+06   \n",
       "3 -117.558333  33.400000   40361914.8  3.565020e+07        0.0  2.756872e+07   \n",
       "4 -117.516667  33.316667    1807000.0  1.807000e+06        0.0  9.856204e+05   \n",
       "\n",
       "   Commercial  Industrial  Public  Residential   total_value  \n",
       "0         NaN         NaN     1.0        744.0  2.430361e+08  \n",
       "1         NaN         NaN     NaN         21.0  4.430585e+07  \n",
       "2         4.0         1.0     1.0        117.0  3.829353e+08  \n",
       "3         5.0         2.0    12.0         18.0  1.035808e+08  \n",
       "4         1.0         NaN     1.0          NaN  4.599620e+06  "
      ]
     },
     "execution_count": 95,
     "metadata": {},
     "output_type": "execute_result"
    }
   ],
   "source": [
    "econ_df['total_value'] = np.sum(econ_df[['Val_Struct', 'Val_Cont', 'Val_Other', 'Val_Vehic']], axis=1)\n",
    "econ_df.head()"
   ]
  },
  {
   "cell_type": "code",
   "execution_count": 149,
   "metadata": {},
   "outputs": [
    {
     "name": "stdout",
     "output_type": "stream",
     "text": [
      "(253, 11)\n"
     ]
    },
    {
     "data": {
      "image/png": "[encoded data removed]",
      "text/plain": [
       "<Figure size 432x288 with 1 Axes>"
      ]
     },
     "metadata": {},
     "output_type": "display_data"
    }
   ],
   "source": [
    "mask = (econ_df.total_value > econ_df.total_value.quantile(0.5))\n",
    "most_valuable_locations = econ_df[mask]\n",
    "print(most_valuable_locations.shape)\n",
    "most_valuable_lons = most_valuable_locations.longitude\n",
    "most_valuable_lats = most_valuable_locations.latitude\n",
    "mask = (yearly_totals_df.reset_index().latitude.isin(most_valuable_lats) &\n",
    "       yearly_totals_df.reset_index().longitude.isin(most_valuable_lons))\n",
    "sns.scatterplot(data=yearly_totals_df.reset_index()[mask], x='total_actual_fires', y='%_days_predicted_fires');"
   ]
  },
  {
   "cell_type": "markdown",
   "metadata": {},
   "source": [
    "## Conclusions\n",
    "\n",
    "Even if we look at the most valuable locations, there's no real correlation between predicted fires and actual fires.\n",
    "One must conclude that this model isn't sufficiently precise to be useful."
   ]
  }
 ],
 "metadata": {
  "kernelspec": {
   "display_name": "Python 3",
   "language": "python",
   "name": "python3"
  },
  "language_info": {
   "codemirror_mode": {
    "name": "ipython",
    "version": 3
   },
   "file_extension": ".py",
   "mimetype": "text/x-python",
   "name": "python",
   "nbconvert_exporter": "python",
   "pygments_lexer": "ipython3",
   "version": "3.7.6"
  }
 },
 "nbformat": 4,
 "nbformat_minor": 4
}
