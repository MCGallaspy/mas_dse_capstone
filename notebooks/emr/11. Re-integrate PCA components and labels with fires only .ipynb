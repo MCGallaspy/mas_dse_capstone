{
 "cells": [
  {
   "cell_type": "code",
   "execution_count": 1,
   "metadata": {},
   "outputs": [
    {
     "name": "stdout",
     "output_type": "stream",
     "text": [
      "Starting Spark application\n"
     ]
    },
    {
     "data": {
      "text/html": [
       "<table>\n",
       "<tr><th>ID</th><th>YARN Application ID</th><th>Kind</th><th>State</th><th>Spark UI</th><th>Driver log</th><th>Current session?</th></tr><tr><td>3</td><td>application_1587525179190_0004</td><td>pyspark3</td><td>idle</td><td><a target=\"_blank\" href=\"http://ip-172-31-21-221.ec2.internal:20888/proxy/application_1587525179190_0004/\">Link</a></td><td><a target=\"_blank\" href=\"http://ip-172-31-26-227.ec2.internal:8042/node/containerlogs/container_1587525179190_0004_01_000001/livy\">Link</a></td><td>✔</td></tr></table>"
      ],
      "text/plain": [
       "<IPython.core.display.HTML object>"
      ]
     },
     "metadata": {},
     "output_type": "display_data"
    },
    {
     "name": "stdout",
     "output_type": "stream",
     "text": [
      "SparkSession available as 'spark'.\n"
     ]
    }
   ],
   "source": [
    "# Read PCA features \n",
    "s3_url = 's3a://dse-cohort5-group5/wildfire_capstone/integratedData.pca.parquet.gz'\n",
    "pca_df = spark.read.parquet(s3_url)\n",
    "pca_df.createOrReplaceTempView('pca')"
   ]
  },
  {
   "cell_type": "code",
   "execution_count": 2,
   "metadata": {},
   "outputs": [],
   "source": [
    "# Read integrated data \n",
    "base_df = spark.read.parquet('s3a://dse-cohort5-group5/wildfire_capstone/integratedData.renamed.parquet.gz')\n",
    "base_df.createOrReplaceTempView(\"fire_occurrences\")"
   ]
  },
  {
   "cell_type": "code",
   "execution_count": 3,
   "metadata": {},
   "outputs": [
    {
     "name": "stdout",
     "output_type": "stream",
     "text": [
      "root\n",
      " |-- date: long (nullable = true)\n",
      " |-- precipitation_amount_mm: double (nullable = true)\n",
      " |-- relative_humidity_%: double (nullable = true)\n",
      " |-- specific_humidity_kg/kg: double (nullable = true)\n",
      " |-- surface_downwelling_shortwave_flux_in_air_W_m-2: double (nullable = true)\n",
      " |-- wind_from_direction_Degrees_Clockwise_from_north: double (nullable = true)\n",
      " |-- wind_speed_m/s: double (nullable = true)\n",
      " |-- max_air_temperature_K: double (nullable = true)\n",
      " |-- min_air_temperature_K: double (nullable = true)\n",
      " |-- burning_index_g_Unitless: double (nullable = true)\n",
      " |-- dead_fuel_moisture_100hr_Percent: double (nullable = true)\n",
      " |-- dead_fuel_moisture_1000hr_Percent: double (nullable = true)\n",
      " |-- energy_release_component-g_Unitless: double (nullable = true)\n",
      " |-- potential_evapotranspiration_mm: double (nullable = true)\n",
      " |-- mean_vapor_pressure_deficit_kPa: double (nullable = true)\n",
      " |-- fire_occurred: integer (nullable = true)\n",
      " |-- acres_burned: double (nullable = true)\n",
      " |-- fire_name: string (nullable = true)\n",
      " |-- longitude: double (nullable = true)\n",
      " |-- latitude: double (nullable = true)\n",
      " |-- __index_level_0__: long (nullable = true)"
     ]
    }
   ],
   "source": [
    "base_df.printSchema()"
   ]
  },
  {
   "cell_type": "code",
   "execution_count": 4,
   "metadata": {},
   "outputs": [
    {
     "name": "stdout",
     "output_type": "stream",
     "text": [
      "-RECORD 0---------------------------------------------------------------\n",
      " date                                             | 915148800000000000  \n",
      " precipitation_amount_mm                          | 0.0                 \n",
      " relative_humidity_%                              | 40.300000000000004  \n",
      " specific_humidity_kg/kg                          | 0.00589             \n",
      " surface_downwelling_shortwave_flux_in_air_W_m-2  | 138.0               \n",
      " wind_from_direction_Degrees_Clockwise_from_north | 123.0               \n",
      " wind_speed_m/s                                   | 1.6                 \n",
      " max_air_temperature_K                            | 293.1               \n",
      " min_air_temperature_K                            | 281.1               \n",
      " burning_index_g_Unitless                         | 24.0                \n",
      " dead_fuel_moisture_100hr_Percent                 | 16.0                \n",
      " dead_fuel_moisture_1000hr_Percent                | 15.5                \n",
      " energy_release_component-g_Unitless              | 34.0                \n",
      " potential_evapotranspiration_mm                  | 1.7000000000000002  \n",
      " mean_vapor_pressure_deficit_kPa                  | 0.74                \n",
      " fire_occurred                                    | 0                   \n",
      " acres_burned                                     | null                \n",
      " fire_name                                        | null                \n",
      " longitude                                        | -117.97499996666667 \n",
      " latitude                                         | 33.56666666666667   \n",
      " __index_level_0__                                | 0                   \n",
      "only showing top 1 row"
     ]
    }
   ],
   "source": [
    "base_df.show(1, vertical=True)"
   ]
  },
  {
   "cell_type": "code",
   "execution_count": 5,
   "metadata": {},
   "outputs": [
    {
     "name": "stdout",
     "output_type": "stream",
     "text": [
      "root\n",
      " |-- date: long (nullable = true)\n",
      " |-- latitude: double (nullable = true)\n",
      " |-- longitude: double (nullable = true)\n",
      " |-- pcaFeatures: vector (nullable = true)"
     ]
    }
   ],
   "source": [
    "pca_df.printSchema()"
   ]
  },
  {
   "cell_type": "code",
   "execution_count": 6,
   "metadata": {},
   "outputs": [
    {
     "name": "stdout",
     "output_type": "stream",
     "text": [
      "-RECORD 0---------------------------\n",
      " date        | 915235200000000000   \n",
      " latitude    | 32.608333333333334   \n",
      " longitude   | -116.93333330000002  \n",
      " pcaFeatures | [-18.953460978093... \n",
      "only showing top 1 row"
     ]
    }
   ],
   "source": [
    "pca_df.show(1, vertical=True)"
   ]
  },
  {
   "cell_type": "code",
   "execution_count": 7,
   "metadata": {},
   "outputs": [],
   "source": [
    "# Join query with fires only\n",
    "join_query = \"\"\"\n",
    "SELECT fire_occurrences.date,          fire_occurrences.latitude,     fire_occurrences.longitude,\n",
    "       fire_occurrences.fire_occurred, fire_occurrences.acres_burned, pca.pcaFeatures,\n",
    "       from_unixtime(cast(fire_occurrences.date/1e9 as long), 'yyyy') as year,\n",
    "       from_unixtime(cast(fire_occurrences.date/1e9 as long), 'MM') as month,\n",
    "       from_unixtime(cast(fire_occurrences.date/1e9 as long), 'dd') as day\n",
    "FROM fire_occurrences, pca\n",
    "WHERE fire_occurrences.fire_occurred =1\n",
    "  AND pca.date      = fire_occurrences.date\n",
    "  AND pca.latitude  = fire_occurrences.latitude\n",
    "  AND pca.longitude = fire_occurrences.longitude\n",
    "\"\"\""
   ]
  },
  {
   "cell_type": "code",
   "execution_count": 8,
   "metadata": {},
   "outputs": [],
   "source": [
    "# Get the first 40 PCA (highes variance) with fires only \n",
    "from pyspark.sql.functions import udf, col\n",
    "from pyspark.sql.types import ArrayType, DoubleType\n",
    "\n",
    "N_FEATURES_TO_KEEP = 40\n",
    "\n",
    "def to_array(col):\n",
    "    def to_array_(v):\n",
    "        return v.toArray().tolist()\n",
    "    # Important: asNondeterministic requires Spark 2.3 or later\n",
    "    # It can be safely removed i.e.\n",
    "    # return udf(to_array_, ArrayType(DoubleType()))(col)\n",
    "    # but at the cost of decreased performance\n",
    "    return udf(to_array_, ArrayType(DoubleType())).asNondeterministic()(col)\n",
    "\n",
    "joined_df = spark.sql(join_query)\n",
    "joined_df = joined_df.withColumn(\"pcaFeaturesArr\", to_array(col(\"pcaFeatures\")))\\\n",
    "                     .select([\"fire_occurrences.date\", \"fire_occurrences.latitude\", \"fire_occurrences.longitude\",\n",
    "                              \"fire_occurrences.fire_occurred\", \"fire_occurrences.acres_burned\",\n",
    "                              \"year\", \"month\", \"day\"]\n",
    "                             + [col(\"pcaFeaturesArr\")[i] for i in range(N_FEATURES_TO_KEEP)])"
   ]
  },
  {
   "cell_type": "code",
   "execution_count": 9,
   "metadata": {},
   "outputs": [
    {
     "name": "stdout",
     "output_type": "stream",
     "text": [
      "-RECORD 0----------------------------------\n",
      " date               | 915235200000000000   \n",
      " latitude           | 32.81666666666667    \n",
      " longitude          | -117.18333330000002  \n",
      " fire_occurred      | 0                    \n",
      " acres_burned       | null                 \n",
      " year               | 1999                 \n",
      " month              | 01                   \n",
      " day                | 02                   \n",
      " pcaFeaturesArr[0]  | -25.166433284344073  \n",
      " pcaFeaturesArr[1]  | -2.593375106022652   \n",
      " pcaFeaturesArr[2]  | -29.5444903995885    \n",
      " pcaFeaturesArr[3]  | 55.593746060079184   \n",
      " pcaFeaturesArr[4]  | -35.49629698184918   \n",
      " pcaFeaturesArr[5]  | -4.183085518368332   \n",
      " pcaFeaturesArr[6]  | 22.070675938301072   \n",
      " pcaFeaturesArr[7]  | 10.313034483159997   \n",
      " pcaFeaturesArr[8]  | -6.230868715529128   \n",
      " pcaFeaturesArr[9]  | -2.4827771351108727  \n",
      " pcaFeaturesArr[10] | 13.030193248126603   \n",
      " pcaFeaturesArr[11] | 0.30119836171710335  \n",
      " pcaFeaturesArr[12] | -0.8366699165031262  \n",
      " pcaFeaturesArr[13] | -23.052743933965697  \n",
      " pcaFeaturesArr[14] | 22.37230874434541    \n",
      " pcaFeaturesArr[15] | -23.266605730227194  \n",
      " pcaFeaturesArr[16] | 1.0578802563764833   \n",
      " pcaFeaturesArr[17] | -10.146209866362561  \n",
      " pcaFeaturesArr[18] | -11.823166708989971  \n",
      " pcaFeaturesArr[19] | 9.346322564877442    \n",
      " pcaFeaturesArr[20] | -0.30975096951905945 \n",
      " pcaFeaturesArr[21] | -5.688866585784297   \n",
      " pcaFeaturesArr[22] | -11.76830587319867   \n",
      " pcaFeaturesArr[23] | 2.848520000319334    \n",
      " pcaFeaturesArr[24] | -6.745286943632083   \n",
      " pcaFeaturesArr[25] | -4.731268321805168   \n",
      " pcaFeaturesArr[26] | 11.303117643619336   \n",
      " pcaFeaturesArr[27] | 0.3857963567215872   \n",
      " pcaFeaturesArr[28] | -0.4110917663014412  \n",
      " pcaFeaturesArr[29] | -6.781133897131758   \n",
      " pcaFeaturesArr[30] | 1.0083699398533688   \n",
      " pcaFeaturesArr[31] | -5.993304148786094   \n",
      " pcaFeaturesArr[32] | 10.439953338244408   \n",
      " pcaFeaturesArr[33] | -2.0977467889273838  \n",
      " pcaFeaturesArr[34] | -3.8505752284098436  \n",
      " pcaFeaturesArr[35] | 0.6735542210246721   \n",
      " pcaFeaturesArr[36] | -4.385479308028824   \n",
      " pcaFeaturesArr[37] | -6.754288920031549   \n",
      " pcaFeaturesArr[38] | -3.76801593644291    \n",
      " pcaFeaturesArr[39] | -5.90814947177935    \n",
      "-RECORD 1----------------------------------\n",
      " date               | 915235200000000000   \n",
      " latitude           | 32.94166666666667    \n",
      " longitude          | -116.22499996666667  \n",
      " fire_occurred      | 0                    \n",
      " acres_burned       | null                 \n",
      " year               | 1999                 \n",
      " month              | 01                   \n",
      " day                | 02                   \n",
      " pcaFeaturesArr[0]  | -5.502492687421764   \n",
      " pcaFeaturesArr[1]  | -14.171121128176898  \n",
      " pcaFeaturesArr[2]  | -30.78280571362947   \n",
      " pcaFeaturesArr[3]  | 60.893286664236165   \n",
      " pcaFeaturesArr[4]  | -38.83990690172449   \n",
      " pcaFeaturesArr[5]  | -1.238966361992555   \n",
      " pcaFeaturesArr[6]  | 22.145490598619695   \n",
      " pcaFeaturesArr[7]  | 8.643642177303118    \n",
      " pcaFeaturesArr[8]  | -4.682560261753388   \n",
      " pcaFeaturesArr[9]  | -3.7777987384753526  \n",
      " pcaFeaturesArr[10] | 18.681764296175768   \n",
      " pcaFeaturesArr[11] | 2.986381877938333    \n",
      " pcaFeaturesArr[12] | -2.908873059757448   \n",
      " pcaFeaturesArr[13] | -26.121532007741546  \n",
      " pcaFeaturesArr[14] | 26.02613963148462    \n",
      " pcaFeaturesArr[15] | -29.408661457594178  \n",
      " pcaFeaturesArr[16] | -3.226162630343023   \n",
      " pcaFeaturesArr[17] | -13.523898283742806  \n",
      " pcaFeaturesArr[18] | -16.535724234145885  \n",
      " pcaFeaturesArr[19] | 11.30144206683276    \n",
      " pcaFeaturesArr[20] | 4.3765212104188995   \n",
      " pcaFeaturesArr[21] | -3.8242037598410885  \n",
      " pcaFeaturesArr[22] | -10.212551302331056  \n",
      " pcaFeaturesArr[23] | 2.2016687269025432   \n",
      " pcaFeaturesArr[24] | -6.028436873599948   \n",
      " pcaFeaturesArr[25] | -3.675536809850647   \n",
      " pcaFeaturesArr[26] | 11.93435717921742    \n",
      " pcaFeaturesArr[27] | 3.65049173610612     \n",
      " pcaFeaturesArr[28] | 1.8341607533890087   \n",
      " pcaFeaturesArr[29] | -4.623032628306275   \n",
      " pcaFeaturesArr[30] | -3.056698090373312   \n",
      " pcaFeaturesArr[31] | -5.45134923883409    \n",
      " pcaFeaturesArr[32] | 4.876874392626769    \n",
      " pcaFeaturesArr[33] | -3.715527086031089   \n",
      " pcaFeaturesArr[34] | -3.5032450347117976  \n",
      " pcaFeaturesArr[35] | 3.291731077035535    \n",
      " pcaFeaturesArr[36] | -4.630423522281182   \n",
      " pcaFeaturesArr[37] | -3.3588648805635177  \n",
      " pcaFeaturesArr[38] | 0.18296020772337987  \n",
      " pcaFeaturesArr[39] | -3.308319090592811   \n",
      "-RECORD 2----------------------------------\n",
      " date               | 915235200000000000   \n",
      " latitude           | 33.06666666666667    \n",
      " longitude          | -117.34999996666667  \n",
      " fire_occurred      | 0                    \n",
      " acres_burned       | null                 \n",
      " year               | 1999                 \n",
      " month              | 01                   \n",
      " day                | 02                   \n",
      " pcaFeaturesArr[0]  | -28.507891451964717  \n",
      " pcaFeaturesArr[1]  | 3.14970783914721     \n",
      " pcaFeaturesArr[2]  | -26.621680807468916  \n",
      " pcaFeaturesArr[3]  | 47.564708114924215   \n",
      " pcaFeaturesArr[4]  | -47.495738068766435  \n",
      " pcaFeaturesArr[5]  | -14.032844670244769  \n",
      " pcaFeaturesArr[6]  | 24.90550099369711    \n",
      " pcaFeaturesArr[7]  | 20.048565785479255   \n",
      " pcaFeaturesArr[8]  | -10.495985311617401  \n",
      " pcaFeaturesArr[9]  | -25.707799708297436  \n",
      " pcaFeaturesArr[10] | 20.41333774883091    \n",
      " pcaFeaturesArr[11] | 1.789055634711624    \n",
      " pcaFeaturesArr[12] | -10.979562047101252  \n",
      " pcaFeaturesArr[13] | -12.639824496137427  \n",
      " pcaFeaturesArr[14] | 7.803529548213932    \n",
      " pcaFeaturesArr[15] | -21.114492856700835  \n",
      " pcaFeaturesArr[16] | 3.375964234964006    \n",
      " pcaFeaturesArr[17] | 4.054997961400666    \n",
      " pcaFeaturesArr[18] | -21.387500955997563  \n",
      " pcaFeaturesArr[19] | 10.509003688612719   \n",
      " pcaFeaturesArr[20] | 3.027056027856293    \n",
      " pcaFeaturesArr[21] | -5.795275338734653   \n",
      " pcaFeaturesArr[22] | -12.790716855472835  \n",
      " pcaFeaturesArr[23] | 0.5988597504011867   \n",
      " pcaFeaturesArr[24] | -7.113169308687238   \n",
      " pcaFeaturesArr[25] | -2.4339120203720896  \n",
      " pcaFeaturesArr[26] | 8.232058179972421    \n",
      " pcaFeaturesArr[27] | -6.933889448227779   \n",
      " pcaFeaturesArr[28] | -6.986383214568763   \n",
      " pcaFeaturesArr[29] | -6.472393740931047   \n",
      " pcaFeaturesArr[30] | -0.9503063546001057  \n",
      " pcaFeaturesArr[31] | -1.6037121170521407  \n",
      " pcaFeaturesArr[32] | 12.145563712875134   \n",
      " pcaFeaturesArr[33] | 4.4840127610850615   \n",
      " pcaFeaturesArr[34] | -7.188123261498596   \n",
      " pcaFeaturesArr[35] | 3.8917622864241945   \n",
      " pcaFeaturesArr[36] | -3.922739558620284   \n",
      " pcaFeaturesArr[37] | -4.294040352273838   \n",
      " pcaFeaturesArr[38] | -12.998682274271937  \n",
      " pcaFeaturesArr[39] | -5.540201445008475   \n",
      "only showing top 3 rows"
     ]
    }
   ],
   "source": [
    "joined_df.show(3, truncate=False, vertical=True)"
   ]
  },
  {
   "cell_type": "code",
   "execution_count": 10,
   "metadata": {},
   "outputs": [
    {
     "name": "stderr",
     "output_type": "stream",
     "text": [
      "An error was encountered:\n",
      "Invalid status code '400' from http://ip-172-31-21-221.ec2.internal:8998/sessions/3/statements/10 with error payload: {\"msg\":\"requirement failed: Session isn't active.\"}\n"
     ]
    }
   ],
   "source": [
    "# write first 40 PCA integrated dataset wth fires only in below path with no partition as data is not large \n",
    "joined_df.write.parquet(\n",
    "    's3a://dse-cohort5-group5/wildfire_capstone/integratedData/integratedData.pca40_and_firesonly.parquet.gz',\n",
    "    mode=\"overwrite\",\n",
    "    compression='gzip')"
   ]
  }
 ],
 "metadata": {
  "kernelspec": {
   "display_name": "Python 3",
   "language": "python",
   "name": "python3"
  },
  "language_info": {
   "codemirror_mode": {
    "name": "ipython",
    "version": 3
   },
   "file_extension": ".py",
   "mimetype": "text/x-python",
   "name": "python",
   "nbconvert_exporter": "python",
   "pygments_lexer": "ipython3",
   "version": "3.7.6"
  }
 },
 "nbformat": 4,
 "nbformat_minor": 2
}
