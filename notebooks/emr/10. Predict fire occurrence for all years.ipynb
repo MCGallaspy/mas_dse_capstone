{
 "cells": [
  {
   "cell_type": "code",
   "execution_count": 1,
   "metadata": {},
   "outputs": [
    {
     "name": "stdout",
     "output_type": "stream",
     "text": [
      "Starting Spark application\n"
     ]
    },
    {
     "data": {
      "text/html": [
       "<table>\n",
       "<tr><th>ID</th><th>YARN Application ID</th><th>Kind</th><th>State</th><th>Spark UI</th><th>Driver log</th><th>Current session?</th></tr><tr><td>3</td><td>application_1589570987803_0004</td><td>pyspark3</td><td>idle</td><td></td><td></td><td>✔</td></tr></table>"
      ],
      "text/plain": [
       "<IPython.core.display.HTML object>"
      ]
     },
     "metadata": {},
     "output_type": "display_data"
    },
    {
     "name": "stdout",
     "output_type": "stream",
     "text": [
      "SparkSession available as 'spark'.\n",
      "6825410"
     ]
    }
   ],
   "source": [
    "s3_url = 's3a://dse-cohort5-group5/wildfire_capstone/integratedData.pca.parquet.gz'\n",
    "pca_df = spark.read.parquet(s3_url)\n",
    "pca_df.createOrReplaceTempView('pca')\n",
    "pca_df.count()"
   ]
  },
  {
   "cell_type": "code",
   "execution_count": 2,
   "metadata": {},
   "outputs": [
    {
     "name": "stdout",
     "output_type": "stream",
     "text": [
      "6826300"
     ]
    }
   ],
   "source": [
    "base_df = spark.read.parquet('s3a://dse-cohort5-group5/wildfire_capstone/integratedData.renamed.parquet.gz')\n",
    "base_df.createOrReplaceTempView(\"fire_occurrences\")\n",
    "base_df.count()"
   ]
  },
  {
   "cell_type": "code",
   "execution_count": 3,
   "metadata": {},
   "outputs": [
    {
     "name": "stdout",
     "output_type": "stream",
     "text": [
      "root\n",
      " |-- date: long (nullable = true)\n",
      " |-- precipitation_amount_mm: double (nullable = true)\n",
      " |-- relative_humidity_%: double (nullable = true)\n",
      " |-- specific_humidity_kg/kg: double (nullable = true)\n",
      " |-- surface_downwelling_shortwave_flux_in_air_W_m-2: double (nullable = true)\n",
      " |-- wind_from_direction_Degrees_Clockwise_from_north: double (nullable = true)\n",
      " |-- wind_speed_m/s: double (nullable = true)\n",
      " |-- max_air_temperature_K: double (nullable = true)\n",
      " |-- min_air_temperature_K: double (nullable = true)\n",
      " |-- burning_index_g_Unitless: double (nullable = true)\n",
      " |-- dead_fuel_moisture_100hr_Percent: double (nullable = true)\n",
      " |-- dead_fuel_moisture_1000hr_Percent: double (nullable = true)\n",
      " |-- energy_release_component-g_Unitless: double (nullable = true)\n",
      " |-- potential_evapotranspiration_mm: double (nullable = true)\n",
      " |-- mean_vapor_pressure_deficit_kPa: double (nullable = true)\n",
      " |-- fire_occurred: integer (nullable = true)\n",
      " |-- acres_burned: double (nullable = true)\n",
      " |-- fire_name: string (nullable = true)\n",
      " |-- longitude: double (nullable = true)\n",
      " |-- latitude: double (nullable = true)\n",
      " |-- __index_level_0__: long (nullable = true)"
     ]
    }
   ],
   "source": [
    "base_df.printSchema()"
   ]
  },
  {
   "cell_type": "code",
   "execution_count": 4,
   "metadata": {},
   "outputs": [],
   "source": [
    "join_query = \"\"\"\n",
    "SELECT fire_occurrences.date,          fire_occurrences.latitude,     fire_occurrences.longitude,\n",
    "       fire_occurrences.fire_occurred, fire_occurrences.acres_burned, pca.pcaFeatures,\n",
    "       fire_occurrences.fire_name,\n",
    "       from_unixtime(cast(fire_occurrences.date/1e9 as long), 'yyyy') as year,\n",
    "       from_unixtime(cast(fire_occurrences.date/1e9 as long), 'MM') as month,\n",
    "       from_unixtime(cast(fire_occurrences.date/1e9 as long), 'dd') as day\n",
    "FROM fire_occurrences, pca\n",
    "WHERE pca.date      = fire_occurrences.date\n",
    "  AND pca.latitude  = fire_occurrences.latitude\n",
    "  AND pca.longitude = fire_occurrences.longitude\n",
    "\"\"\""
   ]
  },
  {
   "cell_type": "code",
   "execution_count": 5,
   "metadata": {},
   "outputs": [],
   "source": [
    "from pyspark.sql.functions import udf, col\n",
    "from pyspark.sql.types import ArrayType, DoubleType\n",
    "\n",
    "N_FEATURES_TO_KEEP = 40\n",
    "\n",
    "def to_array(col):\n",
    "    def to_array_(v):\n",
    "        return v.toArray().tolist()\n",
    "    # Important: asNondeterministic requires Spark 2.3 or later\n",
    "    # It can be safely removed i.e.\n",
    "    # return udf(to_array_, ArrayType(DoubleType()))(col)\n",
    "    # but at the cost of decreased performance\n",
    "    return udf(to_array_, ArrayType(DoubleType())).asNondeterministic()(col)\n",
    "\n",
    "joined_df = spark.sql(join_query)\n",
    "joined_df = joined_df.withColumn(\"pcaFeaturesArr\", to_array(col(\"pcaFeatures\")))\\\n",
    "                     .select([\"fire_occurrences.date\", \"fire_occurrences.latitude\", \"fire_occurrences.longitude\",\n",
    "                              \"fire_occurrences.fire_occurred\", \"fire_occurrences.acres_burned\",\n",
    "                              \"year\", \"month\", \"day\", \"fire_occurrences.fire_name\"]\n",
    "                             + [col(\"pcaFeaturesArr\")[i] for i in range(N_FEATURES_TO_KEEP)])"
   ]
  },
  {
   "cell_type": "code",
   "execution_count": 6,
   "metadata": {},
   "outputs": [
    {
     "name": "stdout",
     "output_type": "stream",
     "text": [
      "6825410"
     ]
    }
   ],
   "source": [
    "joined_df.cache()\n",
    "joined_df.createOrReplaceTempView(\"joined\")\n",
    "joined_df.count()"
   ]
  },
  {
   "cell_type": "code",
   "execution_count": 7,
   "metadata": {},
   "outputs": [
    {
     "name": "stdout",
     "output_type": "stream",
     "text": [
      "root\n",
      " |-- date: long (nullable = true)\n",
      " |-- latitude: double (nullable = true)\n",
      " |-- longitude: double (nullable = true)\n",
      " |-- fire_occurred: integer (nullable = true)\n",
      " |-- acres_burned: double (nullable = true)\n",
      " |-- year: string (nullable = true)\n",
      " |-- month: string (nullable = true)\n",
      " |-- day: string (nullable = true)\n",
      " |-- fire_name: string (nullable = true)\n",
      " |-- pcaFeaturesArr[0]: double (nullable = true)\n",
      " |-- pcaFeaturesArr[1]: double (nullable = true)\n",
      " |-- pcaFeaturesArr[2]: double (nullable = true)\n",
      " |-- pcaFeaturesArr[3]: double (nullable = true)\n",
      " |-- pcaFeaturesArr[4]: double (nullable = true)\n",
      " |-- pcaFeaturesArr[5]: double (nullable = true)\n",
      " |-- pcaFeaturesArr[6]: double (nullable = true)\n",
      " |-- pcaFeaturesArr[7]: double (nullable = true)\n",
      " |-- pcaFeaturesArr[8]: double (nullable = true)\n",
      " |-- pcaFeaturesArr[9]: double (nullable = true)\n",
      " |-- pcaFeaturesArr[10]: double (nullable = true)\n",
      " |-- pcaFeaturesArr[11]: double (nullable = true)\n",
      " |-- pcaFeaturesArr[12]: double (nullable = true)\n",
      " |-- pcaFeaturesArr[13]: double (nullable = true)\n",
      " |-- pcaFeaturesArr[14]: double (nullable = true)\n",
      " |-- pcaFeaturesArr[15]: double (nullable = true)\n",
      " |-- pcaFeaturesArr[16]: double (nullable = true)\n",
      " |-- pcaFeaturesArr[17]: double (nullable = true)\n",
      " |-- pcaFeaturesArr[18]: double (nullable = true)\n",
      " |-- pcaFeaturesArr[19]: double (nullable = true)\n",
      " |-- pcaFeaturesArr[20]: double (nullable = true)\n",
      " |-- pcaFeaturesArr[21]: double (nullable = true)\n",
      " |-- pcaFeaturesArr[22]: double (nullable = true)\n",
      " |-- pcaFeaturesArr[23]: double (nullable = true)\n",
      " |-- pcaFeaturesArr[24]: double (nullable = true)\n",
      " |-- pcaFeaturesArr[25]: double (nullable = true)\n",
      " |-- pcaFeaturesArr[26]: double (nullable = true)\n",
      " |-- pcaFeaturesArr[27]: double (nullable = true)\n",
      " |-- pcaFeaturesArr[28]: double (nullable = true)\n",
      " |-- pcaFeaturesArr[29]: double (nullable = true)\n",
      " |-- pcaFeaturesArr[30]: double (nullable = true)\n",
      " |-- pcaFeaturesArr[31]: double (nullable = true)\n",
      " |-- pcaFeaturesArr[32]: double (nullable = true)\n",
      " |-- pcaFeaturesArr[33]: double (nullable = true)\n",
      " |-- pcaFeaturesArr[34]: double (nullable = true)\n",
      " |-- pcaFeaturesArr[35]: double (nullable = true)\n",
      " |-- pcaFeaturesArr[36]: double (nullable = true)\n",
      " |-- pcaFeaturesArr[37]: double (nullable = true)\n",
      " |-- pcaFeaturesArr[38]: double (nullable = true)\n",
      " |-- pcaFeaturesArr[39]: double (nullable = true)"
     ]
    }
   ],
   "source": [
    "joined_df.printSchema()"
   ]
  },
  {
   "cell_type": "code",
   "execution_count": 8,
   "metadata": {},
   "outputs": [],
   "source": [
    "from pyspark.ml.classification import LogisticRegression\n",
    "from pyspark.ml.evaluation import MulticlassClassificationEvaluator\n",
    "from pyspark.ml.feature import VectorAssembler\n",
    "from pyspark.ml import Pipeline\n",
    "\n",
    "def evaluate_weighted_logistic_regression(\n",
    "    fires_weight=10000, # Chosen for good recall (About 80%) and decent accuracy (around 83%) on validation set.\n",
    "    no_fires_weight=1,\n",
    "    predict_year=2019):\n",
    "    \n",
    "    # Add class weights for the Logistic Regression classifier below\n",
    "        # Add class weights for the Logistic Regression classifier below\n",
    "    with_fires_df = spark.sql(\"\"\"\n",
    "    SELECT *, {} as weight FROM joined WHERE joined.fire_occurred = 1\n",
    "    \"\"\".format(fires_weight))\n",
    "    without_fires_df = spark.sql(\"\"\"\n",
    "    SELECT *, {} as weight FROM joined WHERE joined.fire_occurred = 0\n",
    "    \"\"\".format(no_fires_weight))\n",
    "\n",
    "    with_fires_train    = with_fires_df.filter(\"year != {}\".format(predict_year))\n",
    "    with_fires_test     = with_fires_df.filter(\"year  = {}\".format(predict_year))\n",
    "    without_fires_train = without_fires_df.filter(\"year != {}\".format(predict_year))\n",
    "    without_fires_test  = without_fires_df.filter(\"year  = {}\".format(predict_year))\n",
    "    \n",
    "    train_df = with_fires_train.union(without_fires_train)\n",
    "    test_df  = with_fires_test.union(without_fires_test)\n",
    "    train_df.cache()\n",
    "    test_df.cache()\n",
    "    print(\"Train count, test count:\", train_df.count(), test_df.count())\n",
    "\n",
    "    assembler = VectorAssembler(\n",
    "        inputCols=[\"pcaFeaturesArr[{}]\".format(i) for i in range(0, 40)],\n",
    "        outputCol=\"features\")\n",
    "\n",
    "    lr = LogisticRegression(\n",
    "        featuresCol='features', \n",
    "        labelCol='fire_occurred',\n",
    "        weightCol='weight',\n",
    "        family=\"binomial\")\n",
    "\n",
    "    pipeline = Pipeline(stages=[assembler, lr])\n",
    "\n",
    "    model = pipeline.fit(train_df)\n",
    "\n",
    "    predictions = model.transform(test_df)\n",
    "    predictions.createOrReplaceTempView('predictions')\n",
    "\n",
    "    evaluator = MulticlassClassificationEvaluator(labelCol=\"fire_occurred\", predictionCol=\"prediction\",\n",
    "                                                  metricName=\"f1\")\n",
    "\n",
    "    print(\"Test results for year={}, when trained on other years\".format(predict_year), fires_weight, no_fires_weight)\n",
    "\n",
    "    f1 = evaluator.evaluate(predictions)\n",
    "    print(\"Test set f1 score = \" + str(f1))\n",
    "\n",
    "    true_positive = spark.sql(\"\"\"\n",
    "    SELECT * FROM predictions WHERE fire_occurred = 1 AND  prediction = 1\"\"\")\n",
    "    true_positive = true_positive.count()\n",
    "\n",
    "    false_negative = spark.sql(\"\"\"\n",
    "    SELECT * FROM predictions WHERE fire_occurred = 1 AND  prediction = 0\"\"\")\n",
    "    false_negative = false_negative.count()\n",
    "\n",
    "    true_negative = spark.sql(\"\"\"\n",
    "    SELECT * FROM predictions WHERE fire_occurred = 0 AND  prediction = 0\"\"\")\n",
    "    true_negative = true_negative.count()\n",
    "\n",
    "    false_positive = spark.sql(\"\"\"\n",
    "    SELECT * FROM predictions WHERE fire_occurred = 0 AND  prediction = 1\"\"\")\n",
    "    false_positive = false_positive.count()\n",
    "    \n",
    "    print(\"True positives (fires predicted correctly):\", true_positive)\n",
    "    print(\"False positives (fire predicted incorrectly):\", false_positive)\n",
    "    print(\"True negatives (no fire predicted correctly):\", true_negative)\n",
    "    print(\"False negatives (no fire predicted incorrectly):\", false_negative)\n",
    "\n",
    "    print(\"% precision for fires: {:%}\".format(true_positive/(true_positive + false_positive + 1e-3)))\n",
    "    print(\"% of fires recalled: {:%}\".format(true_positive/(true_positive + false_negative + 1e-3)))\n",
    "    \n",
    "    keep_cols = [\"date\", \"latitude\", \"longitude\", \"fire_occurred\",\n",
    "                 \"acres_burned\", \"year\", \"month\", \"day\", \"prediction\"]\n",
    "    s3_url = \"s3a://dse-cohort5-group5/wildfire_capstone/logistic_regression_predictions/{}/predictions.parquet.gz\"\\\n",
    "             .format(predict_year)\n",
    "    print(\"Saving predictions to {}\".format(s3_url))\n",
    "    predictions.select(*keep_cols).write.parquet(s3_url, mode=\"overwrite\")\n",
    "    \n",
    "    print(\"*\" * 80)"
   ]
  },
  {
   "cell_type": "code",
   "execution_count": 9,
   "metadata": {},
   "outputs": [
    {
     "name": "stdout",
     "output_type": "stream",
     "text": [
      "Train count, test count: 6499670 325740\n",
      "Test results for year=2000, when trained on other years 10000 1\n",
      "Test set f1 score = 0.8267413925377382\n",
      "True positives (fires predicted correctly): 0\n",
      "False positives (fire predicted incorrectly): 96206\n",
      "True negatives (no fire predicted correctly): 229534\n",
      "False negatives (no fire predicted incorrectly): 0\n",
      "% precision for fires: 0.000000%\n",
      "% of fires recalled: 0.000000%\n",
      "Saving predictions to s3a://dse-cohort5-group5/wildfire_capstone/logistic_regression_predictions/2000/predictions.parquet.gz\n",
      "********************************************************************************"
     ]
    }
   ],
   "source": [
    "evaluate_weighted_logistic_regression(predict_year=2000)"
   ]
  },
  {
   "cell_type": "code",
   "execution_count": 10,
   "metadata": {},
   "outputs": [
    {
     "name": "stdout",
     "output_type": "stream",
     "text": [
      "Train count, test count: 6500560 324850\n",
      "Test results for year=2001, when trained on other years 10000 1\n",
      "Test set f1 score = 0.8672770438549545\n",
      "True positives (fires predicted correctly): 6\n",
      "False positives (fire predicted incorrectly): 76091\n",
      "True negatives (no fire predicted correctly): 248742\n",
      "False negatives (no fire predicted incorrectly): 11\n",
      "% precision for fires: 0.007885%\n",
      "% of fires recalled: 35.292042%\n",
      "Saving predictions to s3a://dse-cohort5-group5/wildfire_capstone/logistic_regression_predictions/2001/predictions.parquet.gz\n",
      "********************************************************************************"
     ]
    }
   ],
   "source": [
    "evaluate_weighted_logistic_regression(predict_year=2001)"
   ]
  },
  {
   "cell_type": "code",
   "execution_count": 11,
   "metadata": {},
   "outputs": [
    {
     "name": "stdout",
     "output_type": "stream",
     "text": [
      "Train count, test count: 6500560 324850\n",
      "Test results for year=2002, when trained on other years 10000 1\n",
      "Test set f1 score = 0.7484321281656211\n",
      "True positives (fires predicted correctly): 66\n",
      "False positives (fire predicted incorrectly): 130484\n",
      "True negatives (no fire predicted correctly): 194291\n",
      "False negatives (no fire predicted incorrectly): 9\n",
      "% precision for fires: 0.050555%\n",
      "% of fires recalled: 87.998827%\n",
      "Saving predictions to s3a://dse-cohort5-group5/wildfire_capstone/logistic_regression_predictions/2002/predictions.parquet.gz\n",
      "********************************************************************************"
     ]
    }
   ],
   "source": [
    "evaluate_weighted_logistic_regression(predict_year=2002)"
   ]
  },
  {
   "cell_type": "code",
   "execution_count": 12,
   "metadata": {},
   "outputs": [
    {
     "name": "stdout",
     "output_type": "stream",
     "text": [
      "Train count, test count: 6500560 324850\n",
      "Test results for year=2003, when trained on other years 10000 1\n",
      "Test set f1 score = 0.8256508211129582\n",
      "True positives (fires predicted correctly): 161\n",
      "False positives (fire predicted incorrectly): 96189\n",
      "True negatives (no fire predicted correctly): 228487\n",
      "False negatives (no fire predicted incorrectly): 13\n",
      "% precision for fires: 0.167099%\n",
      "% of fires recalled: 92.528204%\n",
      "Saving predictions to s3a://dse-cohort5-group5/wildfire_capstone/logistic_regression_predictions/2003/predictions.parquet.gz\n",
      "********************************************************************************"
     ]
    }
   ],
   "source": [
    "evaluate_weighted_logistic_regression(predict_year=2003)"
   ]
  },
  {
   "cell_type": "code",
   "execution_count": 13,
   "metadata": {},
   "outputs": [
    {
     "name": "stdout",
     "output_type": "stream",
     "text": [
      "Train count, test count: 6499670 325740\n",
      "Test results for year=2004, when trained on other years 10000 1\n",
      "Test set f1 score = 0.8229588271618705\n",
      "True positives (fires predicted correctly): 45\n",
      "False positives (fire predicted incorrectly): 97906\n",
      "True negatives (no fire predicted correctly): 227781\n",
      "False negatives (no fire predicted incorrectly): 8\n",
      "% precision for fires: 0.045941%\n",
      "% of fires recalled: 84.904058%\n",
      "Saving predictions to s3a://dse-cohort5-group5/wildfire_capstone/logistic_regression_predictions/2004/predictions.parquet.gz\n",
      "********************************************************************************"
     ]
    }
   ],
   "source": [
    "evaluate_weighted_logistic_regression(predict_year=2004)"
   ]
  },
  {
   "cell_type": "code",
   "execution_count": 14,
   "metadata": {},
   "outputs": [
    {
     "name": "stdout",
     "output_type": "stream",
     "text": [
      "Train count, test count: 6500560 324850\n",
      "Test results for year=2005, when trained on other years 10000 1\n",
      "Test set f1 score = 0.785567240077933\n",
      "True positives (fires predicted correctly): 54\n",
      "False positives (fire predicted incorrectly): 114635\n",
      "True negatives (no fire predicted correctly): 210158\n",
      "False negatives (no fire predicted incorrectly): 3\n",
      "% precision for fires: 0.047084%\n",
      "% of fires recalled: 94.735180%\n",
      "Saving predictions to s3a://dse-cohort5-group5/wildfire_capstone/logistic_regression_predictions/2005/predictions.parquet.gz\n",
      "********************************************************************************"
     ]
    }
   ],
   "source": [
    "evaluate_weighted_logistic_regression(predict_year=2005)"
   ]
  },
  {
   "cell_type": "code",
   "execution_count": 15,
   "metadata": {},
   "outputs": [
    {
     "name": "stdout",
     "output_type": "stream",
     "text": [
      "Train count, test count: 6500560 324850\n",
      "Test results for year=2006, when trained on other years 10000 1\n",
      "Test set f1 score = 0.7803596447116296\n",
      "True positives (fires predicted correctly): 68\n",
      "False positives (fire predicted incorrectly): 116896\n",
      "True negatives (no fire predicted correctly): 207881\n",
      "False negatives (no fire predicted incorrectly): 5\n",
      "% precision for fires: 0.058138%\n",
      "% of fires recalled: 93.149409%\n",
      "Saving predictions to s3a://dse-cohort5-group5/wildfire_capstone/logistic_regression_predictions/2006/predictions.parquet.gz\n",
      "********************************************************************************"
     ]
    }
   ],
   "source": [
    "evaluate_weighted_logistic_regression(predict_year=2006)"
   ]
  },
  {
   "cell_type": "code",
   "execution_count": 16,
   "metadata": {},
   "outputs": [
    {
     "name": "stdout",
     "output_type": "stream",
     "text": [
      "Train count, test count: 6500560 324850\n",
      "Test results for year=2007, when trained on other years 10000 1\n",
      "Test set f1 score = 0.74468685026667\n",
      "True positives (fires predicted correctly): 1046\n",
      "False positives (fire predicted incorrectly): 130685\n",
      "True negatives (no fire predicted correctly): 193088\n",
      "False negatives (no fire predicted incorrectly): 31\n",
      "% precision for fires: 0.794042%\n",
      "% of fires recalled: 97.121544%\n",
      "Saving predictions to s3a://dse-cohort5-group5/wildfire_capstone/logistic_regression_predictions/2007/predictions.parquet.gz\n",
      "********************************************************************************"
     ]
    }
   ],
   "source": [
    "evaluate_weighted_logistic_regression(predict_year=2007)"
   ]
  },
  {
   "cell_type": "code",
   "execution_count": 17,
   "metadata": {},
   "outputs": [
    {
     "name": "stdout",
     "output_type": "stream",
     "text": [
      "Train count, test count: 6499670 325740\n",
      "Test results for year=2008, when trained on other years 10000 1\n",
      "Test set f1 score = 0.6982687156906009\n",
      "True positives (fires predicted correctly): 28\n",
      "False positives (fire predicted incorrectly): 150972\n",
      "True negatives (no fire predicted correctly): 174740\n",
      "False negatives (no fire predicted incorrectly): 0\n",
      "% precision for fires: 0.018543%\n",
      "% of fires recalled: 99.996429%\n",
      "Saving predictions to s3a://dse-cohort5-group5/wildfire_capstone/logistic_regression_predictions/2008/predictions.parquet.gz\n",
      "********************************************************************************"
     ]
    }
   ],
   "source": [
    "evaluate_weighted_logistic_regression(predict_year=2008)"
   ]
  },
  {
   "cell_type": "code",
   "execution_count": 18,
   "metadata": {},
   "outputs": [
    {
     "name": "stdout",
     "output_type": "stream",
     "text": [
      "Train count, test count: 6500560 324850\n",
      "Test results for year=2009, when trained on other years 10000 1\n",
      "Test set f1 score = 0.8192554031478546\n",
      "True positives (fires predicted correctly): 11\n",
      "False positives (fire predicted incorrectly): 99429\n",
      "True negatives (no fire predicted correctly): 225406\n",
      "False negatives (no fire predicted incorrectly): 4\n",
      "% precision for fires: 0.011062%\n",
      "% of fires recalled: 73.328445%\n",
      "Saving predictions to s3a://dse-cohort5-group5/wildfire_capstone/logistic_regression_predictions/2009/predictions.parquet.gz\n",
      "********************************************************************************"
     ]
    }
   ],
   "source": [
    "evaluate_weighted_logistic_regression(predict_year=2009)"
   ]
  },
  {
   "cell_type": "code",
   "execution_count": 19,
   "metadata": {},
   "outputs": [
    {
     "name": "stdout",
     "output_type": "stream",
     "text": [
      "Train count, test count: 6500560 324850\n",
      "Test results for year=2010, when trained on other years 10000 1\n",
      "Test set f1 score = 0.8734497810887527\n",
      "True positives (fires predicted correctly): 22\n",
      "False positives (fire predicted incorrectly): 72927\n",
      "True negatives (no fire predicted correctly): 251892\n",
      "False negatives (no fire predicted incorrectly): 9\n",
      "% precision for fires: 0.030158%\n",
      "% of fires recalled: 70.965453%\n",
      "Saving predictions to s3a://dse-cohort5-group5/wildfire_capstone/logistic_regression_predictions/2010/predictions.parquet.gz\n",
      "********************************************************************************"
     ]
    }
   ],
   "source": [
    "evaluate_weighted_logistic_regression(predict_year=2010)"
   ]
  },
  {
   "cell_type": "code",
   "execution_count": 20,
   "metadata": {},
   "outputs": [
    {
     "name": "stdout",
     "output_type": "stream",
     "text": [
      "Train count, test count: 6500560 324850\n",
      "Test results for year=2011, when trained on other years 10000 1\n",
      "Test set f1 score = 0.7703350520454142\n",
      "True positives (fires predicted correctly): 81\n",
      "False positives (fire predicted incorrectly): 121228\n",
      "True negatives (no fire predicted correctly): 203539\n",
      "False negatives (no fire predicted incorrectly): 2\n",
      "% precision for fires: 0.066772%\n",
      "% of fires recalled: 97.589186%\n",
      "Saving predictions to s3a://dse-cohort5-group5/wildfire_capstone/logistic_regression_predictions/2011/predictions.parquet.gz\n",
      "********************************************************************************"
     ]
    }
   ],
   "source": [
    "evaluate_weighted_logistic_regression(predict_year=2011)"
   ]
  },
  {
   "cell_type": "code",
   "execution_count": 21,
   "metadata": {},
   "outputs": [
    {
     "name": "stdout",
     "output_type": "stream",
     "text": [
      "Train count, test count: 6499670 325740\n",
      "Test results for year=2012, when trained on other years 10000 1\n",
      "Test set f1 score = 0.8288866314066394\n",
      "True positives (fires predicted correctly): 76\n",
      "False positives (fire predicted incorrectly): 94916\n",
      "True negatives (no fire predicted correctly): 230676\n",
      "False negatives (no fire predicted incorrectly): 72\n",
      "% precision for fires: 0.080007%\n",
      "% of fires recalled: 51.351004%\n",
      "Saving predictions to s3a://dse-cohort5-group5/wildfire_capstone/logistic_regression_predictions/2012/predictions.parquet.gz\n",
      "********************************************************************************"
     ]
    }
   ],
   "source": [
    "evaluate_weighted_logistic_regression(predict_year=2012)"
   ]
  },
  {
   "cell_type": "code",
   "execution_count": 22,
   "metadata": {},
   "outputs": [
    {
     "name": "stdout",
     "output_type": "stream",
     "text": [
      "Train count, test count: 6500560 324850\n",
      "Test results for year=2013, when trained on other years 10000 1\n",
      "Test set f1 score = 0.8064859454055139\n",
      "True positives (fires predicted correctly): 79\n",
      "False positives (fire predicted incorrectly): 105207\n",
      "True negatives (no fire predicted correctly): 219555\n",
      "False negatives (no fire predicted incorrectly): 9\n",
      "% precision for fires: 0.075034%\n",
      "% of fires recalled: 89.771707%\n",
      "Saving predictions to s3a://dse-cohort5-group5/wildfire_capstone/logistic_regression_predictions/2013/predictions.parquet.gz\n",
      "********************************************************************************"
     ]
    }
   ],
   "source": [
    "evaluate_weighted_logistic_regression(predict_year=2013)"
   ]
  },
  {
   "cell_type": "code",
   "execution_count": 23,
   "metadata": {},
   "outputs": [
    {
     "name": "stdout",
     "output_type": "stream",
     "text": [
      "Train count, test count: 6500560 324850\n",
      "Test results for year=2014, when trained on other years 10000 1\n",
      "Test set f1 score = 0.8025908929894952\n",
      "True positives (fires predicted correctly): 125\n",
      "False positives (fire predicted incorrectly): 106912\n",
      "True negatives (no fire predicted correctly): 217804\n",
      "False negatives (no fire predicted incorrectly): 9\n",
      "% precision for fires: 0.116782%\n",
      "% of fires recalled: 93.282886%\n",
      "Saving predictions to s3a://dse-cohort5-group5/wildfire_capstone/logistic_regression_predictions/2014/predictions.parquet.gz\n",
      "********************************************************************************"
     ]
    }
   ],
   "source": [
    "evaluate_weighted_logistic_regression(predict_year=2014)"
   ]
  },
  {
   "cell_type": "code",
   "execution_count": 24,
   "metadata": {},
   "outputs": [
    {
     "name": "stdout",
     "output_type": "stream",
     "text": [
      "Train count, test count: 6500560 324850\n",
      "Test results for year=2015, when trained on other years 10000 1\n",
      "Test set f1 score = 0.9229317988956491\n",
      "True positives (fires predicted correctly): 11\n",
      "False positives (fire predicted incorrectly): 46459\n",
      "True negatives (no fire predicted correctly): 278376\n",
      "False negatives (no fire predicted incorrectly): 4\n",
      "% precision for fires: 0.023671%\n",
      "% of fires recalled: 73.328445%\n",
      "Saving predictions to s3a://dse-cohort5-group5/wildfire_capstone/logistic_regression_predictions/2015/predictions.parquet.gz\n",
      "********************************************************************************"
     ]
    }
   ],
   "source": [
    "evaluate_weighted_logistic_regression(predict_year=2015)"
   ]
  },
  {
   "cell_type": "code",
   "execution_count": 25,
   "metadata": {},
   "outputs": [
    {
     "name": "stdout",
     "output_type": "stream",
     "text": [
      "Train count, test count: 6499670 325740\n",
      "Test results for year=2016, when trained on other years 10000 1\n",
      "Test set f1 score = 0.9059215974544884\n",
      "True positives (fires predicted correctly): 46\n",
      "False positives (fire predicted incorrectly): 55940\n",
      "True negatives (no fire predicted correctly): 269753\n",
      "False negatives (no fire predicted incorrectly): 1\n",
      "% precision for fires: 0.082163%\n",
      "% of fires recalled: 97.870258%\n",
      "Saving predictions to s3a://dse-cohort5-group5/wildfire_capstone/logistic_regression_predictions/2016/predictions.parquet.gz\n",
      "********************************************************************************"
     ]
    }
   ],
   "source": [
    "evaluate_weighted_logistic_regression(predict_year=2016)"
   ]
  },
  {
   "cell_type": "code",
   "execution_count": 26,
   "metadata": {},
   "outputs": [
    {
     "name": "stdout",
     "output_type": "stream",
     "text": [
      "Train count, test count: 6500560 324850\n",
      "Test results for year=2017, when trained on other years 10000 1\n",
      "Test set f1 score = 0.9600284322357391\n",
      "True positives (fires predicted correctly): 5\n",
      "False positives (fire predicted incorrectly): 24865\n",
      "True negatives (no fire predicted correctly): 299945\n",
      "False negatives (no fire predicted incorrectly): 35\n",
      "% precision for fires: 0.020105%\n",
      "% of fires recalled: 12.499688%\n",
      "Saving predictions to s3a://dse-cohort5-group5/wildfire_capstone/logistic_regression_predictions/2017/predictions.parquet.gz\n",
      "********************************************************************************"
     ]
    }
   ],
   "source": [
    "evaluate_weighted_logistic_regression(predict_year=2017)"
   ]
  },
  {
   "cell_type": "code",
   "execution_count": 27,
   "metadata": {},
   "outputs": [
    {
     "name": "stdout",
     "output_type": "stream",
     "text": [
      "Train count, test count: 6500560 324850\n",
      "Test results for year=2018, when trained on other years 10000 1\n",
      "Test set f1 score = 0.9351630502915388\n",
      "True positives (fires predicted correctly): 7\n",
      "False positives (fire predicted incorrectly): 39534\n",
      "True negatives (no fire predicted correctly): 285304\n",
      "False negatives (no fire predicted incorrectly): 5\n",
      "% precision for fires: 0.017703%\n",
      "% of fires recalled: 58.328473%\n",
      "Saving predictions to s3a://dse-cohort5-group5/wildfire_capstone/logistic_regression_predictions/2018/predictions.parquet.gz\n",
      "********************************************************************************"
     ]
    }
   ],
   "source": [
    "evaluate_weighted_logistic_regression(predict_year=2018)"
   ]
  },
  {
   "cell_type": "code",
   "execution_count": 28,
   "metadata": {},
   "outputs": [
    {
     "name": "stdout",
     "output_type": "stream",
     "text": [
      "Train count, test count: 6500560 324850\n",
      "Test results for year=2019, when trained on other years 10000 1\n",
      "Test set f1 score = 0.8855114776707756\n",
      "True positives (fires predicted correctly): 0\n",
      "False positives (fire predicted incorrectly): 66742\n",
      "True negatives (no fire predicted correctly): 258108\n",
      "False negatives (no fire predicted incorrectly): 0\n",
      "% precision for fires: 0.000000%\n",
      "% of fires recalled: 0.000000%\n",
      "Saving predictions to s3a://dse-cohort5-group5/wildfire_capstone/logistic_regression_predictions/2019/predictions.parquet.gz\n",
      "********************************************************************************"
     ]
    }
   ],
   "source": [
    "evaluate_weighted_logistic_regression(predict_year=2019)"
   ]
  }
 ],
 "metadata": {
  "kernelspec": {
   "display_name": "PySpark3",
   "language": "",
   "name": "pyspark3kernel"
  },
  "language_info": {
   "codemirror_mode": {
    "name": "python",
    "version": 3
   },
   "mimetype": "text/x-python",
   "name": "pyspark3",
   "pygments_lexer": "python3"
  }
 },
 "nbformat": 4,
 "nbformat_minor": 2
}
