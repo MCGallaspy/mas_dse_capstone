{
 "cells": [
  {
   "cell_type": "code",
   "execution_count": 1,
   "metadata": {},
   "outputs": [
    {
     "name": "stdout",
     "output_type": "stream",
     "text": [
      "Starting Spark application\n"
     ]
    },
    {
     "data": {
      "text/html": [
       "<table>\n",
       "<tr><th>ID</th><th>YARN Application ID</th><th>Kind</th><th>State</th><th>Spark UI</th><th>Driver log</th><th>Current session?</th></tr><tr><td>10</td><td>application_1586972758394_0011</td><td>pyspark3</td><td>idle</td><td><a target=\"_blank\" href=\"http://ip-172-31-19-131.ec2.internal:20888/proxy/application_1586972758394_0011/\">Link</a></td><td><a target=\"_blank\" href=\"http://ip-172-31-26-220.ec2.internal:8042/node/containerlogs/container_1586972758394_0011_01_000001/livy\">Link</a></td><td>✔</td></tr></table>"
      ],
      "text/plain": [
       "<IPython.core.display.HTML object>"
      ]
     },
     "metadata": {},
     "output_type": "display_data"
    },
    {
     "name": "stdout",
     "output_type": "stream",
     "text": [
      "SparkSession available as 'spark'.\n"
     ]
    }
   ],
   "source": [
    "s3_url = 's3a://dse-cohort5-group5/wildfire_capstone/integratedData.pca.parquet.gz'\n",
    "pca_df = spark.read.parquet(s3_url)\n",
    "pca_df.createOrReplaceTempView('pca')"
   ]
  },
  {
   "cell_type": "code",
   "execution_count": 2,
   "metadata": {},
   "outputs": [
    {
     "name": "stdout",
     "output_type": "stream",
     "text": [
      "Creating table: min\n",
      "Creating table: max\n",
      "Creating table: mean\n",
      "Creating table: cumulative\n",
      "Creating table: std"
     ]
    }
   ],
   "source": [
    "s3_url = 's3a://dse-cohort5-group5/wildfire_capstone/timeLaggedGridMetFeatures/partitioned/{agg}'\n",
    "aggs = [\n",
    "    'min',\n",
    "    'max',\n",
    "    'mean',\n",
    "    'cumulative',\n",
    "    'std',\n",
    "]\n",
    "dfs = []\n",
    "table_names = []\n",
    "base_df = spark.read.parquet('s3a://dse-cohort5-group5/wildfire_capstone/integratedData.renamed.parquet.gz')\n",
    "table_names.append(\"fire_occurrences\")\n",
    "base_df.createOrReplaceTempView(table_names[0])\n",
    "dfs.append(base_df)\n",
    "for agg in aggs:\n",
    "    print(\"Creating table:\", agg)\n",
    "    df = spark.read.parquet(s3_url.format(agg=agg))\n",
    "    df.createOrReplaceTempView(agg)\n",
    "    dfs.append(df)\n",
    "    table_names.append(agg)"
   ]
  },
  {
   "cell_type": "code",
   "execution_count": 3,
   "metadata": {},
   "outputs": [
    {
     "name": "stdout",
     "output_type": "stream",
     "text": [
      "root\n",
      " |-- date: long (nullable = true)\n",
      " |-- precipitation_amount_mm: double (nullable = true)\n",
      " |-- relative_humidity_%: double (nullable = true)\n",
      " |-- specific_humidity_kg/kg: double (nullable = true)\n",
      " |-- surface_downwelling_shortwave_flux_in_air_W_m-2: double (nullable = true)\n",
      " |-- wind_from_direction_Degrees_Clockwise_from_north: double (nullable = true)\n",
      " |-- wind_speed_m/s: double (nullable = true)\n",
      " |-- max_air_temperature_K: double (nullable = true)\n",
      " |-- min_air_temperature_K: double (nullable = true)\n",
      " |-- burning_index_g_Unitless: double (nullable = true)\n",
      " |-- dead_fuel_moisture_100hr_Percent: double (nullable = true)\n",
      " |-- dead_fuel_moisture_1000hr_Percent: double (nullable = true)\n",
      " |-- energy_release_component-g_Unitless: double (nullable = true)\n",
      " |-- potential_evapotranspiration_mm: double (nullable = true)\n",
      " |-- mean_vapor_pressure_deficit_kPa: double (nullable = true)\n",
      " |-- fire_occurred: integer (nullable = true)\n",
      " |-- acres_burned: double (nullable = true)\n",
      " |-- fire_name: string (nullable = true)\n",
      " |-- longitude: double (nullable = true)\n",
      " |-- latitude: double (nullable = true)\n",
      " |-- __index_level_0__: long (nullable = true)"
     ]
    }
   ],
   "source": [
    "base_df.printSchema()"
   ]
  },
  {
   "cell_type": "code",
   "execution_count": 4,
   "metadata": {},
   "outputs": [
    {
     "name": "stdout",
     "output_type": "stream",
     "text": [
      "-RECORD 0---------------------------------------------------------------\n",
      " date                                             | 915148800000000000  \n",
      " precipitation_amount_mm                          | 0.0                 \n",
      " relative_humidity_%                              | 40.300000000000004  \n",
      " specific_humidity_kg/kg                          | 0.00589             \n",
      " surface_downwelling_shortwave_flux_in_air_W_m-2  | 138.0               \n",
      " wind_from_direction_Degrees_Clockwise_from_north | 123.0               \n",
      " wind_speed_m/s                                   | 1.6                 \n",
      " max_air_temperature_K                            | 293.1               \n",
      " min_air_temperature_K                            | 281.1               \n",
      " burning_index_g_Unitless                         | 24.0                \n",
      " dead_fuel_moisture_100hr_Percent                 | 16.0                \n",
      " dead_fuel_moisture_1000hr_Percent                | 15.5                \n",
      " energy_release_component-g_Unitless              | 34.0                \n",
      " potential_evapotranspiration_mm                  | 1.7000000000000002  \n",
      " mean_vapor_pressure_deficit_kPa                  | 0.74                \n",
      " fire_occurred                                    | 0                   \n",
      " acres_burned                                     | null                \n",
      " fire_name                                        | null                \n",
      " longitude                                        | -117.97499996666667 \n",
      " latitude                                         | 33.56666666666667   \n",
      " __index_level_0__                                | 0                   \n",
      "only showing top 1 row"
     ]
    }
   ],
   "source": [
    "base_df.show(1, vertical=True)"
   ]
  },
  {
   "cell_type": "code",
   "execution_count": 5,
   "metadata": {},
   "outputs": [
    {
     "name": "stdout",
     "output_type": "stream",
     "text": [
      "root\n",
      " |-- 7d_min_precipitation_amount_mm: double (nullable = true)\n",
      " |-- 7d_min_relative_humidity_%: double (nullable = true)\n",
      " |-- 7d_min_specific_humidity_kg/kg: double (nullable = true)\n",
      " |-- 7d_min_surface_downwelling_shortwave_flux_in_air_W_m-2: double (nullable = true)\n",
      " |-- 7d_min_wind_from_direction_Degrees_Clockwise_from_north: double (nullable = true)\n",
      " |-- 7d_min_wind_speed_m/s: double (nullable = true)\n",
      " |-- 7d_min_max_air_temperature_K: double (nullable = true)\n",
      " |-- 7d_min_min_air_temperature_K: double (nullable = true)\n",
      " |-- 7d_min_burning_index_g_Unitless: double (nullable = true)\n",
      " |-- 7d_min_dead_fuel_moisture_100hr_Percent: double (nullable = true)\n",
      " |-- 7d_min_dead_fuel_moisture_1000hr_Percent: double (nullable = true)\n",
      " |-- 7d_min_energy_release_component-g_Unitless: double (nullable = true)\n",
      " |-- 7d_min_potential_evapotranspiration_mm: double (nullable = true)\n",
      " |-- 7d_min_mean_vapor_pressure_deficit_kPa: double (nullable = true)\n",
      " |-- 14d_min_precipitation_amount_mm: double (nullable = true)\n",
      " |-- 14d_min_relative_humidity_%: double (nullable = true)\n",
      " |-- 14d_min_specific_humidity_kg/kg: double (nullable = true)\n",
      " |-- 14d_min_surface_downwelling_shortwave_flux_in_air_W_m-2: double (nullable = true)\n",
      " |-- 14d_min_wind_from_direction_Degrees_Clockwise_from_north: double (nullable = true)\n",
      " |-- 14d_min_wind_speed_m/s: double (nullable = true)\n",
      " |-- 14d_min_max_air_temperature_K: double (nullable = true)\n",
      " |-- 14d_min_min_air_temperature_K: double (nullable = true)\n",
      " |-- 14d_min_burning_index_g_Unitless: double (nullable = true)\n",
      " |-- 14d_min_dead_fuel_moisture_100hr_Percent: double (nullable = true)\n",
      " |-- 14d_min_dead_fuel_moisture_1000hr_Percent: double (nullable = true)\n",
      " |-- 14d_min_energy_release_component-g_Unitless: double (nullable = true)\n",
      " |-- 14d_min_potential_evapotranspiration_mm: double (nullable = true)\n",
      " |-- 14d_min_mean_vapor_pressure_deficit_kPa: double (nullable = true)\n",
      " |-- 21d_min_precipitation_amount_mm: double (nullable = true)\n",
      " |-- 21d_min_relative_humidity_%: double (nullable = true)\n",
      " |-- 21d_min_specific_humidity_kg/kg: double (nullable = true)\n",
      " |-- 21d_min_surface_downwelling_shortwave_flux_in_air_W_m-2: double (nullable = true)\n",
      " |-- 21d_min_wind_from_direction_Degrees_Clockwise_from_north: double (nullable = true)\n",
      " |-- 21d_min_wind_speed_m/s: double (nullable = true)\n",
      " |-- 21d_min_max_air_temperature_K: double (nullable = true)\n",
      " |-- 21d_min_min_air_temperature_K: double (nullable = true)\n",
      " |-- 21d_min_burning_index_g_Unitless: double (nullable = true)\n",
      " |-- 21d_min_dead_fuel_moisture_100hr_Percent: double (nullable = true)\n",
      " |-- 21d_min_dead_fuel_moisture_1000hr_Percent: double (nullable = true)\n",
      " |-- 21d_min_energy_release_component-g_Unitless: double (nullable = true)\n",
      " |-- 21d_min_potential_evapotranspiration_mm: double (nullable = true)\n",
      " |-- 21d_min_mean_vapor_pressure_deficit_kPa: double (nullable = true)\n",
      " |-- 30d_min_precipitation_amount_mm: double (nullable = true)\n",
      " |-- 30d_min_relative_humidity_%: double (nullable = true)\n",
      " |-- 30d_min_specific_humidity_kg/kg: double (nullable = true)\n",
      " |-- 30d_min_surface_downwelling_shortwave_flux_in_air_W_m-2: double (nullable = true)\n",
      " |-- 30d_min_wind_from_direction_Degrees_Clockwise_from_north: double (nullable = true)\n",
      " |-- 30d_min_wind_speed_m/s: double (nullable = true)\n",
      " |-- 30d_min_max_air_temperature_K: double (nullable = true)\n",
      " |-- 30d_min_min_air_temperature_K: double (nullable = true)\n",
      " |-- 30d_min_burning_index_g_Unitless: double (nullable = true)\n",
      " |-- 30d_min_dead_fuel_moisture_100hr_Percent: double (nullable = true)\n",
      " |-- 30d_min_dead_fuel_moisture_1000hr_Percent: double (nullable = true)\n",
      " |-- 30d_min_energy_release_component-g_Unitless: double (nullable = true)\n",
      " |-- 30d_min_potential_evapotranspiration_mm: double (nullable = true)\n",
      " |-- 30d_min_mean_vapor_pressure_deficit_kPa: double (nullable = true)\n",
      " |-- 60d_min_precipitation_amount_mm: double (nullable = true)\n",
      " |-- 60d_min_relative_humidity_%: double (nullable = true)\n",
      " |-- 60d_min_specific_humidity_kg/kg: double (nullable = true)\n",
      " |-- 60d_min_surface_downwelling_shortwave_flux_in_air_W_m-2: double (nullable = true)\n",
      " |-- 60d_min_wind_from_direction_Degrees_Clockwise_from_north: double (nullable = true)\n",
      " |-- 60d_min_wind_speed_m/s: double (nullable = true)\n",
      " |-- 60d_min_max_air_temperature_K: double (nullable = true)\n",
      " |-- 60d_min_min_air_temperature_K: double (nullable = true)\n",
      " |-- 60d_min_burning_index_g_Unitless: double (nullable = true)\n",
      " |-- 60d_min_dead_fuel_moisture_100hr_Percent: double (nullable = true)\n",
      " |-- 60d_min_dead_fuel_moisture_1000hr_Percent: double (nullable = true)\n",
      " |-- 60d_min_energy_release_component-g_Unitless: double (nullable = true)\n",
      " |-- 60d_min_potential_evapotranspiration_mm: double (nullable = true)\n",
      " |-- 60d_min_mean_vapor_pressure_deficit_kPa: double (nullable = true)\n",
      " |-- 90d_min_precipitation_amount_mm: double (nullable = true)\n",
      " |-- 90d_min_relative_humidity_%: double (nullable = true)\n",
      " |-- 90d_min_specific_humidity_kg/kg: double (nullable = true)\n",
      " |-- 90d_min_surface_downwelling_shortwave_flux_in_air_W_m-2: double (nullable = true)\n",
      " |-- 90d_min_wind_from_direction_Degrees_Clockwise_from_north: double (nullable = true)\n",
      " |-- 90d_min_wind_speed_m/s: double (nullable = true)\n",
      " |-- 90d_min_max_air_temperature_K: double (nullable = true)\n",
      " |-- 90d_min_min_air_temperature_K: double (nullable = true)\n",
      " |-- 90d_min_burning_index_g_Unitless: double (nullable = true)\n",
      " |-- 90d_min_dead_fuel_moisture_100hr_Percent: double (nullable = true)\n",
      " |-- 90d_min_dead_fuel_moisture_1000hr_Percent: double (nullable = true)\n",
      " |-- 90d_min_energy_release_component-g_Unitless: double (nullable = true)\n",
      " |-- 90d_min_potential_evapotranspiration_mm: double (nullable = true)\n",
      " |-- 90d_min_mean_vapor_pressure_deficit_kPa: double (nullable = true)\n",
      " |-- 180d_min_precipitation_amount_mm: double (nullable = true)\n",
      " |-- 180d_min_relative_humidity_%: double (nullable = true)\n",
      " |-- 180d_min_specific_humidity_kg/kg: double (nullable = true)\n",
      " |-- 180d_min_surface_downwelling_shortwave_flux_in_air_W_m-2: double (nullable = true)\n",
      " |-- 180d_min_wind_from_direction_Degrees_Clockwise_from_north: double (nullable = true)\n",
      " |-- 180d_min_wind_speed_m/s: double (nullable = true)\n",
      " |-- 180d_min_max_air_temperature_K: double (nullable = true)\n",
      " |-- 180d_min_min_air_temperature_K: double (nullable = true)\n",
      " |-- 180d_min_burning_index_g_Unitless: double (nullable = true)\n",
      " |-- 180d_min_dead_fuel_moisture_100hr_Percent: double (nullable = true)\n",
      " |-- 180d_min_dead_fuel_moisture_1000hr_Percent: double (nullable = true)\n",
      " |-- 180d_min_energy_release_component-g_Unitless: double (nullable = true)\n",
      " |-- 180d_min_potential_evapotranspiration_mm: double (nullable = true)\n",
      " |-- 180d_min_mean_vapor_pressure_deficit_kPa: double (nullable = true)\n",
      " |-- 365d_min_precipitation_amount_mm: double (nullable = true)\n",
      " |-- 365d_min_relative_humidity_%: double (nullable = true)\n",
      " |-- 365d_min_specific_humidity_kg/kg: double (nullable = true)\n",
      " |-- 365d_min_surface_downwelling_shortwave_flux_in_air_W_m-2: double (nullable = true)\n",
      " |-- 365d_min_wind_from_direction_Degrees_Clockwise_from_north: double (nullable = true)\n",
      " |-- 365d_min_wind_speed_m/s: double (nullable = true)\n",
      " |-- 365d_min_max_air_temperature_K: double (nullable = true)\n",
      " |-- 365d_min_min_air_temperature_K: double (nullable = true)\n",
      " |-- 365d_min_burning_index_g_Unitless: double (nullable = true)\n",
      " |-- 365d_min_dead_fuel_moisture_100hr_Percent: double (nullable = true)\n",
      " |-- 365d_min_dead_fuel_moisture_1000hr_Percent: double (nullable = true)\n",
      " |-- 365d_min_energy_release_component-g_Unitless: double (nullable = true)\n",
      " |-- 365d_min_potential_evapotranspiration_mm: double (nullable = true)\n",
      " |-- 365d_min_mean_vapor_pressure_deficit_kPa: double (nullable = true)\n",
      " |-- date: timestamp (nullable = true)\n",
      " |-- latitude: double (nullable = true)\n",
      " |-- longitude: double (nullable = true)\n",
      " |-- year: integer (nullable = true)"
     ]
    }
   ],
   "source": [
    "dfs[1].printSchema()"
   ]
  },
  {
   "cell_type": "code",
   "execution_count": 6,
   "metadata": {},
   "outputs": [
    {
     "name": "stdout",
     "output_type": "stream",
     "text": [
      "-RECORD 0-------------------------------------------------------------------------\n",
      " 7d_min_precipitation_amount_mm                            | 0.0                  \n",
      " 7d_min_relative_humidity_%                                | 28.0                 \n",
      " 7d_min_specific_humidity_kg/kg                            | 0.00583              \n",
      " 7d_min_surface_downwelling_shortwave_flux_in_air_W_m-2    | 116.30000000000001   \n",
      " 7d_min_wind_from_direction_Degrees_Clockwise_from_north   | 112.0                \n",
      " 7d_min_wind_speed_m/s                                     | 0.6000000000000001   \n",
      " 7d_min_max_air_temperature_K                              | 291.2                \n",
      " 7d_min_min_air_temperature_K                              | 281.4                \n",
      " 7d_min_burning_index_g_Unitless                           | 21.0                 \n",
      " 7d_min_dead_fuel_moisture_100hr_Percent                   | 14.700000000000001   \n",
      " 7d_min_dead_fuel_moisture_1000hr_Percent                  | 13.9                 \n",
      " 7d_min_energy_release_component-g_Unitless                | 35.0                 \n",
      " 7d_min_potential_evapotranspiration_mm                    | 1.1                  \n",
      " 7d_min_mean_vapor_pressure_deficit_kPa                    | 0.58                 \n",
      " 14d_min_precipitation_amount_mm                           | 0.0                  \n",
      " 14d_min_relative_humidity_%                               | 22.1                 \n",
      " 14d_min_specific_humidity_kg/kg                           | 0.003460000000000... \n",
      " 14d_min_surface_downwelling_shortwave_flux_in_air_W_m-2   | 116.30000000000001   \n",
      " 14d_min_wind_from_direction_Degrees_Clockwise_from_north  | 112.0                \n",
      " 14d_min_wind_speed_m/s                                    | 0.6000000000000001   \n",
      " 14d_min_max_air_temperature_K                             | 288.5                \n",
      " 14d_min_min_air_temperature_K                             | 279.0                \n",
      " 14d_min_burning_index_g_Unitless                          | 0.0                  \n",
      " 14d_min_dead_fuel_moisture_100hr_Percent                  | 12.4                 \n",
      " 14d_min_dead_fuel_moisture_1000hr_Percent                 | 13.700000000000001   \n",
      " 14d_min_energy_release_component-g_Unitless               | 26.0                 \n",
      " 14d_min_potential_evapotranspiration_mm                   | 1.1                  \n",
      " 14d_min_mean_vapor_pressure_deficit_kPa                   | 0.42                 \n",
      " 21d_min_precipitation_amount_mm                           | 0.0                  \n",
      " 21d_min_relative_humidity_%                               | 22.1                 \n",
      " 21d_min_specific_humidity_kg/kg                           | 0.003460000000000... \n",
      " 21d_min_surface_downwelling_shortwave_flux_in_air_W_m-2   | 116.30000000000001   \n",
      " 21d_min_wind_from_direction_Degrees_Clockwise_from_north  | 112.0                \n",
      " 21d_min_wind_speed_m/s                                    | 0.6000000000000001   \n",
      " 21d_min_max_air_temperature_K                             | 288.5                \n",
      " 21d_min_min_air_temperature_K                             | 279.0                \n",
      " 21d_min_burning_index_g_Unitless                          | 0.0                  \n",
      " 21d_min_dead_fuel_moisture_100hr_Percent                  | 12.4                 \n",
      " 21d_min_dead_fuel_moisture_1000hr_Percent                 | 13.3                 \n",
      " 21d_min_energy_release_component-g_Unitless               | 26.0                 \n",
      " 21d_min_potential_evapotranspiration_mm                   | 1.1                  \n",
      " 21d_min_mean_vapor_pressure_deficit_kPa                   | 0.42                 \n",
      " 30d_min_precipitation_amount_mm                           | 0.0                  \n",
      " 30d_min_relative_humidity_%                               | 17.5                 \n",
      " 30d_min_specific_humidity_kg/kg                           | 0.003460000000000... \n",
      " 30d_min_surface_downwelling_shortwave_flux_in_air_W_m-2   | 116.30000000000001   \n",
      " 30d_min_wind_from_direction_Degrees_Clockwise_from_north  | 100.0                \n",
      " 30d_min_wind_speed_m/s                                    | 0.6000000000000001   \n",
      " 30d_min_max_air_temperature_K                             | 288.5                \n",
      " 30d_min_min_air_temperature_K                             | 279.0                \n",
      " 30d_min_burning_index_g_Unitless                          | 0.0                  \n",
      " 30d_min_dead_fuel_moisture_100hr_Percent                  | 10.3                 \n",
      " 30d_min_dead_fuel_moisture_1000hr_Percent                 | 13.100000000000001   \n",
      " 30d_min_energy_release_component-g_Unitless               | 26.0                 \n",
      " 30d_min_potential_evapotranspiration_mm                   | 1.1                  \n",
      " 30d_min_mean_vapor_pressure_deficit_kPa                   | 0.42                 \n",
      " 60d_min_precipitation_amount_mm                           | 0.0                  \n",
      " 60d_min_relative_humidity_%                               | 17.5                 \n",
      " 60d_min_specific_humidity_kg/kg                           | 0.003460000000000... \n",
      " 60d_min_surface_downwelling_shortwave_flux_in_air_W_m-2   | 61.400000000000006   \n",
      " 60d_min_wind_from_direction_Degrees_Clockwise_from_north  | 100.0                \n",
      " 60d_min_wind_speed_m/s                                    | 0.6000000000000001   \n",
      " 60d_min_max_air_temperature_K                             | 288.5                \n",
      " 60d_min_min_air_temperature_K                             | 279.0                \n",
      " 60d_min_burning_index_g_Unitless                          | 0.0                  \n",
      " 60d_min_dead_fuel_moisture_100hr_Percent                  | 10.3                 \n",
      " 60d_min_dead_fuel_moisture_1000hr_Percent                 | 13.100000000000001   \n",
      " 60d_min_energy_release_component-g_Unitless               | 26.0                 \n",
      " 60d_min_potential_evapotranspiration_mm                   | 1.1                  \n",
      " 60d_min_mean_vapor_pressure_deficit_kPa                   | 0.38                 \n",
      " 90d_min_precipitation_amount_mm                           | 0.0                  \n",
      " 90d_min_relative_humidity_%                               | 13.9                 \n",
      " 90d_min_specific_humidity_kg/kg                           | 0.003460000000000... \n",
      " 90d_min_surface_downwelling_shortwave_flux_in_air_W_m-2   | 61.400000000000006   \n",
      " 90d_min_wind_from_direction_Degrees_Clockwise_from_north  | 100.0                \n",
      " 90d_min_wind_speed_m/s                                    | 0.6000000000000001   \n",
      " 90d_min_max_air_temperature_K                             | 288.5                \n",
      " 90d_min_min_air_temperature_K                             | 279.0                \n",
      " 90d_min_burning_index_g_Unitless                          | 0.0                  \n",
      " 90d_min_dead_fuel_moisture_100hr_Percent                  | 9.9                  \n",
      " 90d_min_dead_fuel_moisture_1000hr_Percent                 | 13.100000000000001   \n",
      " 90d_min_energy_release_component-g_Unitless               | 26.0                 \n",
      " 90d_min_potential_evapotranspiration_mm                   | 1.1                  \n",
      " 90d_min_mean_vapor_pressure_deficit_kPa                   | 0.35000000000000003  \n",
      " 180d_min_precipitation_amount_mm                          | 0.0                  \n",
      " 180d_min_relative_humidity_%                              | 13.9                 \n",
      " 180d_min_specific_humidity_kg/kg                          | 0.003460000000000... \n",
      " 180d_min_surface_downwelling_shortwave_flux_in_air_W_m-2  | 61.400000000000006   \n",
      " 180d_min_wind_from_direction_Degrees_Clockwise_from_north | 100.0                \n",
      " 180d_min_wind_speed_m/s                                   | 0.6000000000000001   \n",
      " 180d_min_max_air_temperature_K                            | 288.5                \n",
      " 180d_min_min_air_temperature_K                            | 279.0                \n",
      " 180d_min_burning_index_g_Unitless                         | 0.0                  \n",
      " 180d_min_dead_fuel_moisture_100hr_Percent                 | 9.9                  \n",
      " 180d_min_dead_fuel_moisture_1000hr_Percent                | 13.100000000000001   \n",
      " 180d_min_energy_release_component-g_Unitless              | 14.0                 \n",
      " 180d_min_potential_evapotranspiration_mm                  | 1.1                  \n",
      " 180d_min_mean_vapor_pressure_deficit_kPa                  | 0.0                  \n",
      " 365d_min_precipitation_amount_mm                          | 0.0                  \n",
      " 365d_min_relative_humidity_%                              | 13.9                 \n",
      " 365d_min_specific_humidity_kg/kg                          | 0.003460000000000... \n",
      " 365d_min_surface_downwelling_shortwave_flux_in_air_W_m-2  | 33.300000000000004   \n",
      " 365d_min_wind_from_direction_Degrees_Clockwise_from_north | 88.0                 \n",
      " 365d_min_wind_speed_m/s                                   | 0.6000000000000001   \n",
      " 365d_min_max_air_temperature_K                            | 283.2                \n",
      " 365d_min_min_air_temperature_K                            | 279.0                \n",
      " 365d_min_burning_index_g_Unitless                         | 0.0                  \n",
      " 365d_min_dead_fuel_moisture_100hr_Percent                 | 9.9                  \n",
      " 365d_min_dead_fuel_moisture_1000hr_Percent                | 13.100000000000001   \n",
      " 365d_min_energy_release_component-g_Unitless              | 7.0                  \n",
      " 365d_min_potential_evapotranspiration_mm                  | 0.5                  \n",
      " 365d_min_mean_vapor_pressure_deficit_kPa                  | 0.0                  \n",
      " date                                                      | 2018-01-01 00:00:00  \n",
      " latitude                                                  | 33.56666666666667    \n",
      " longitude                                                 | -117.97499996666667  \n",
      " year                                                      | 2018                 \n",
      "only showing top 1 row"
     ]
    }
   ],
   "source": [
    "dfs[1].show(1, vertical=True)"
   ]
  },
  {
   "cell_type": "code",
   "execution_count": 7,
   "metadata": {},
   "outputs": [
    {
     "name": "stdout",
     "output_type": "stream",
     "text": [
      "root\n",
      " |-- date: long (nullable = true)\n",
      " |-- latitude: double (nullable = true)\n",
      " |-- longitude: double (nullable = true)\n",
      " |-- pcaFeatures: vector (nullable = true)"
     ]
    }
   ],
   "source": [
    "pca_df.printSchema()"
   ]
  },
  {
   "cell_type": "code",
   "execution_count": 8,
   "metadata": {},
   "outputs": [
    {
     "name": "stdout",
     "output_type": "stream",
     "text": [
      "-RECORD 0---------------------------\n",
      " date        | 915235200000000000   \n",
      " latitude    | 32.608333333333334   \n",
      " longitude   | -116.93333330000002  \n",
      " pcaFeatures | [-18.953460978093... \n",
      "only showing top 1 row"
     ]
    }
   ],
   "source": [
    "pca_df.show(1, vertical=True)"
   ]
  },
  {
   "cell_type": "code",
   "execution_count": 9,
   "metadata": {},
   "outputs": [
    {
     "name": "stdout",
     "output_type": "stream",
     "text": [
      "['fire_occurrences.`precipitation_amount_mm`', 'fire_occurrences.`relative_humidity_%`', 'fire_occurrences.`specific_humidity_kg/kg`', 'fire_occurrences.`surface_downwelling_shortwave_flux_in_air_W_m-2`', 'fire_occurrences.`wind_from_direction_Degrees_Clockwise_from_north`', 'fire_occurrences.`wind_speed_m/s`', 'fire_occurrences.`max_air_temperature_K`', 'fire_occurrences.`min_air_temperature_K`', 'fire_occurrences.`burning_index_g_Unitless`', 'fire_occurrences.`dead_fuel_moisture_100hr_Percent`', 'fire_occurrences.`dead_fuel_moisture_1000hr_Percent`', 'fire_occurrences.`energy_release_component-g_Unitless`', 'fire_occurrences.`potential_evapotranspiration_mm`', 'fire_occurrences.`mean_vapor_pressure_deficit_kPa`', 'min.`7d_min_precipitation_amount_mm`', 'min.`7d_min_relative_humidity_%`', 'min.`7d_min_specific_humidity_kg/kg`', 'min.`7d_min_surface_downwelling_shortwave_flux_in_air_W_m-2`', 'min.`7d_min_wind_from_direction_Degrees_Clockwise_from_north`', 'min.`7d_min_wind_speed_m/s`', 'min.`7d_min_max_air_temperature_K`', 'min.`7d_min_min_air_temperature_K`', 'min.`7d_min_burning_index_g_Unitless`', 'min.`7d_min_dead_fuel_moisture_100hr_Percent`', 'min.`7d_min_dead_fuel_moisture_1000hr_Percent`', 'min.`7d_min_energy_release_component-g_Unitless`', 'min.`7d_min_potential_evapotranspiration_mm`', 'min.`7d_min_mean_vapor_pressure_deficit_kPa`', 'min.`14d_min_precipitation_amount_mm`', 'min.`14d_min_relative_humidity_%`', 'min.`14d_min_specific_humidity_kg/kg`', 'min.`14d_min_surface_downwelling_shortwave_flux_in_air_W_m-2`', 'min.`14d_min_wind_from_direction_Degrees_Clockwise_from_north`', 'min.`14d_min_wind_speed_m/s`', 'min.`14d_min_max_air_temperature_K`', 'min.`14d_min_min_air_temperature_K`', 'min.`14d_min_burning_index_g_Unitless`', 'min.`14d_min_dead_fuel_moisture_100hr_Percent`', 'min.`14d_min_dead_fuel_moisture_1000hr_Percent`', 'min.`14d_min_energy_release_component-g_Unitless`', 'min.`14d_min_potential_evapotranspiration_mm`', 'min.`14d_min_mean_vapor_pressure_deficit_kPa`', 'min.`21d_min_precipitation_amount_mm`', 'min.`21d_min_relative_humidity_%`', 'min.`21d_min_specific_humidity_kg/kg`', 'min.`21d_min_surface_downwelling_shortwave_flux_in_air_W_m-2`', 'min.`21d_min_wind_from_direction_Degrees_Clockwise_from_north`', 'min.`21d_min_wind_speed_m/s`', 'min.`21d_min_max_air_temperature_K`', 'min.`21d_min_min_air_temperature_K`', 'min.`21d_min_burning_index_g_Unitless`', 'min.`21d_min_dead_fuel_moisture_100hr_Percent`', 'min.`21d_min_dead_fuel_moisture_1000hr_Percent`', 'min.`21d_min_energy_release_component-g_Unitless`', 'min.`21d_min_potential_evapotranspiration_mm`', 'min.`21d_min_mean_vapor_pressure_deficit_kPa`', 'min.`30d_min_precipitation_amount_mm`', 'min.`30d_min_relative_humidity_%`', 'min.`30d_min_specific_humidity_kg/kg`', 'min.`30d_min_surface_downwelling_shortwave_flux_in_air_W_m-2`', 'min.`30d_min_wind_from_direction_Degrees_Clockwise_from_north`', 'min.`30d_min_wind_speed_m/s`', 'min.`30d_min_max_air_temperature_K`', 'min.`30d_min_min_air_temperature_K`', 'min.`30d_min_burning_index_g_Unitless`', 'min.`30d_min_dead_fuel_moisture_100hr_Percent`', 'min.`30d_min_dead_fuel_moisture_1000hr_Percent`', 'min.`30d_min_energy_release_component-g_Unitless`', 'min.`30d_min_potential_evapotranspiration_mm`', 'min.`30d_min_mean_vapor_pressure_deficit_kPa`', 'min.`60d_min_precipitation_amount_mm`', 'min.`60d_min_relative_humidity_%`', 'min.`60d_min_specific_humidity_kg/kg`', 'min.`60d_min_surface_downwelling_shortwave_flux_in_air_W_m-2`', 'min.`60d_min_wind_from_direction_Degrees_Clockwise_from_north`', 'min.`60d_min_wind_speed_m/s`', 'min.`60d_min_max_air_temperature_K`', 'min.`60d_min_min_air_temperature_K`', 'min.`60d_min_burning_index_g_Unitless`', 'min.`60d_min_dead_fuel_moisture_100hr_Percent`', 'min.`60d_min_dead_fuel_moisture_1000hr_Percent`', 'min.`60d_min_energy_release_component-g_Unitless`', 'min.`60d_min_potential_evapotranspiration_mm`', 'min.`60d_min_mean_vapor_pressure_deficit_kPa`', 'min.`90d_min_precipitation_amount_mm`', 'min.`90d_min_relative_humidity_%`', 'min.`90d_min_specific_humidity_kg/kg`', 'min.`90d_min_surface_downwelling_shortwave_flux_in_air_W_m-2`', 'min.`90d_min_wind_from_direction_Degrees_Clockwise_from_north`', 'min.`90d_min_wind_speed_m/s`', 'min.`90d_min_max_air_temperature_K`', 'min.`90d_min_min_air_temperature_K`', 'min.`90d_min_burning_index_g_Unitless`', 'min.`90d_min_dead_fuel_moisture_100hr_Percent`', 'min.`90d_min_dead_fuel_moisture_1000hr_Percent`', 'min.`90d_min_energy_release_component-g_Unitless`', 'min.`90d_min_potential_evapotranspiration_mm`', 'min.`90d_min_mean_vapor_pressure_deficit_kPa`', 'min.`180d_min_precipitation_amount_mm`', 'min.`180d_min_relative_humidity_%`', 'min.`180d_min_specific_humidity_kg/kg`', 'min.`180d_min_surface_downwelling_shortwave_flux_in_air_W_m-2`', 'min.`180d_min_wind_from_direction_Degrees_Clockwise_from_north`', 'min.`180d_min_wind_speed_m/s`', 'min.`180d_min_max_air_temperature_K`', 'min.`180d_min_min_air_temperature_K`', 'min.`180d_min_burning_index_g_Unitless`', 'min.`180d_min_dead_fuel_moisture_100hr_Percent`', 'min.`180d_min_dead_fuel_moisture_1000hr_Percent`', 'min.`180d_min_energy_release_component-g_Unitless`', 'min.`180d_min_potential_evapotranspiration_mm`', 'min.`180d_min_mean_vapor_pressure_deficit_kPa`', 'min.`365d_min_precipitation_amount_mm`', 'min.`365d_min_relative_humidity_%`', 'min.`365d_min_specific_humidity_kg/kg`', 'min.`365d_min_surface_downwelling_shortwave_flux_in_air_W_m-2`', 'min.`365d_min_wind_from_direction_Degrees_Clockwise_from_north`', 'min.`365d_min_wind_speed_m/s`', 'min.`365d_min_max_air_temperature_K`', 'min.`365d_min_min_air_temperature_K`', 'min.`365d_min_burning_index_g_Unitless`', 'min.`365d_min_dead_fuel_moisture_100hr_Percent`', 'min.`365d_min_dead_fuel_moisture_1000hr_Percent`', 'min.`365d_min_energy_release_component-g_Unitless`', 'min.`365d_min_potential_evapotranspiration_mm`', 'min.`365d_min_mean_vapor_pressure_deficit_kPa`', 'max.`7d_max_precipitation_amount_mm`', 'max.`7d_max_relative_humidity_%`', 'max.`7d_max_specific_humidity_kg/kg`', 'max.`7d_max_surface_downwelling_shortwave_flux_in_air_W_m-2`', 'max.`7d_max_wind_from_direction_Degrees_Clockwise_from_north`', 'max.`7d_max_wind_speed_m/s`', 'max.`7d_max_max_air_temperature_K`', 'max.`7d_max_min_air_temperature_K`', 'max.`7d_max_burning_index_g_Unitless`', 'max.`7d_max_dead_fuel_moisture_100hr_Percent`', 'max.`7d_max_dead_fuel_moisture_1000hr_Percent`', 'max.`7d_max_energy_release_component-g_Unitless`', 'max.`7d_max_potential_evapotranspiration_mm`', 'max.`7d_max_mean_vapor_pressure_deficit_kPa`', 'max.`14d_max_precipitation_amount_mm`', 'max.`14d_max_relative_humidity_%`', 'max.`14d_max_specific_humidity_kg/kg`', 'max.`14d_max_surface_downwelling_shortwave_flux_in_air_W_m-2`', 'max.`14d_max_wind_from_direction_Degrees_Clockwise_from_north`', 'max.`14d_max_wind_speed_m/s`', 'max.`14d_max_max_air_temperature_K`', 'max.`14d_max_min_air_temperature_K`', 'max.`14d_max_burning_index_g_Unitless`', 'max.`14d_max_dead_fuel_moisture_100hr_Percent`', 'max.`14d_max_dead_fuel_moisture_1000hr_Percent`', 'max.`14d_max_energy_release_component-g_Unitless`', 'max.`14d_max_potential_evapotranspiration_mm`', 'max.`14d_max_mean_vapor_pressure_deficit_kPa`', 'max.`21d_max_precipitation_amount_mm`', 'max.`21d_max_relative_humidity_%`', 'max.`21d_max_specific_humidity_kg/kg`', 'max.`21d_max_surface_downwelling_shortwave_flux_in_air_W_m-2`', 'max.`21d_max_wind_from_direction_Degrees_Clockwise_from_north`', 'max.`21d_max_wind_speed_m/s`', 'max.`21d_max_max_air_temperature_K`', 'max.`21d_max_min_air_temperature_K`', 'max.`21d_max_burning_index_g_Unitless`', 'max.`21d_max_dead_fuel_moisture_100hr_Percent`', 'max.`21d_max_dead_fuel_moisture_1000hr_Percent`', 'max.`21d_max_energy_release_component-g_Unitless`', 'max.`21d_max_potential_evapotranspiration_mm`', 'max.`21d_max_mean_vapor_pressure_deficit_kPa`', 'max.`30d_max_precipitation_amount_mm`', 'max.`30d_max_relative_humidity_%`', 'max.`30d_max_specific_humidity_kg/kg`', 'max.`30d_max_surface_downwelling_shortwave_flux_in_air_W_m-2`', 'max.`30d_max_wind_from_direction_Degrees_Clockwise_from_north`', 'max.`30d_max_wind_speed_m/s`', 'max.`30d_max_max_air_temperature_K`', 'max.`30d_max_min_air_temperature_K`', 'max.`30d_max_burning_index_g_Unitless`', 'max.`30d_max_dead_fuel_moisture_100hr_Percent`', 'max.`30d_max_dead_fuel_moisture_1000hr_Percent`', 'max.`30d_max_energy_release_component-g_Unitless`', 'max.`30d_max_potential_evapotranspiration_mm`', 'max.`30d_max_mean_vapor_pressure_deficit_kPa`', 'max.`60d_max_precipitation_amount_mm`', 'max.`60d_max_relative_humidity_%`', 'max.`60d_max_specific_humidity_kg/kg`', 'max.`60d_max_surface_downwelling_shortwave_flux_in_air_W_m-2`', 'max.`60d_max_wind_from_direction_Degrees_Clockwise_from_north`', 'max.`60d_max_wind_speed_m/s`', 'max.`60d_max_max_air_temperature_K`', 'max.`60d_max_min_air_temperature_K`', 'max.`60d_max_burning_index_g_Unitless`', 'max.`60d_max_dead_fuel_moisture_100hr_Percent`', 'max.`60d_max_dead_fuel_moisture_1000hr_Percent`', 'max.`60d_max_energy_release_component-g_Unitless`', 'max.`60d_max_potential_evapotranspiration_mm`', 'max.`60d_max_mean_vapor_pressure_deficit_kPa`', 'max.`90d_max_precipitation_amount_mm`', 'max.`90d_max_relative_humidity_%`', 'max.`90d_max_specific_humidity_kg/kg`', 'max.`90d_max_surface_downwelling_shortwave_flux_in_air_W_m-2`', 'max.`90d_max_wind_from_direction_Degrees_Clockwise_from_north`', 'max.`90d_max_wind_speed_m/s`', 'max.`90d_max_max_air_temperature_K`', 'max.`90d_max_min_air_temperature_K`', 'max.`90d_max_burning_index_g_Unitless`', 'max.`90d_max_dead_fuel_moisture_100hr_Percent`', 'max.`90d_max_dead_fuel_moisture_1000hr_Percent`', 'max.`90d_max_energy_release_component-g_Unitless`', 'max.`90d_max_potential_evapotranspiration_mm`', 'max.`90d_max_mean_vapor_pressure_deficit_kPa`', 'max.`180d_max_precipitation_amount_mm`', 'max.`180d_max_relative_humidity_%`', 'max.`180d_max_specific_humidity_kg/kg`', 'max.`180d_max_surface_downwelling_shortwave_flux_in_air_W_m-2`', 'max.`180d_max_wind_from_direction_Degrees_Clockwise_from_north`', 'max.`180d_max_wind_speed_m/s`', 'max.`180d_max_max_air_temperature_K`', 'max.`180d_max_min_air_temperature_K`', 'max.`180d_max_burning_index_g_Unitless`', 'max.`180d_max_dead_fuel_moisture_100hr_Percent`', 'max.`180d_max_dead_fuel_moisture_1000hr_Percent`', 'max.`180d_max_energy_release_component-g_Unitless`', 'max.`180d_max_potential_evapotranspiration_mm`', 'max.`180d_max_mean_vapor_pressure_deficit_kPa`', 'max.`365d_max_precipitation_amount_mm`', 'max.`365d_max_relative_humidity_%`', 'max.`365d_max_specific_humidity_kg/kg`', 'max.`365d_max_surface_downwelling_shortwave_flux_in_air_W_m-2`', 'max.`365d_max_wind_from_direction_Degrees_Clockwise_from_north`', 'max.`365d_max_wind_speed_m/s`', 'max.`365d_max_max_air_temperature_K`', 'max.`365d_max_min_air_temperature_K`', 'max.`365d_max_burning_index_g_Unitless`', 'max.`365d_max_dead_fuel_moisture_100hr_Percent`', 'max.`365d_max_dead_fuel_moisture_1000hr_Percent`', 'max.`365d_max_energy_release_component-g_Unitless`', 'max.`365d_max_potential_evapotranspiration_mm`', 'max.`365d_max_mean_vapor_pressure_deficit_kPa`', 'mean.`7d_mean_precipitation_amount_mm`', 'mean.`7d_mean_relative_humidity_%`', 'mean.`7d_mean_specific_humidity_kg/kg`', 'mean.`7d_mean_surface_downwelling_shortwave_flux_in_air_W_m-2`', 'mean.`7d_mean_wind_from_direction_Degrees_Clockwise_from_north`', 'mean.`7d_mean_wind_speed_m/s`', 'mean.`7d_mean_max_air_temperature_K`', 'mean.`7d_mean_min_air_temperature_K`', 'mean.`7d_mean_burning_index_g_Unitless`', 'mean.`7d_mean_dead_fuel_moisture_100hr_Percent`', 'mean.`7d_mean_dead_fuel_moisture_1000hr_Percent`', 'mean.`7d_mean_energy_release_component-g_Unitless`', 'mean.`7d_mean_potential_evapotranspiration_mm`', 'mean.`7d_mean_mean_vapor_pressure_deficit_kPa`', 'mean.`14d_mean_precipitation_amount_mm`', 'mean.`14d_mean_relative_humidity_%`', 'mean.`14d_mean_specific_humidity_kg/kg`', 'mean.`14d_mean_surface_downwelling_shortwave_flux_in_air_W_m-2`', 'mean.`14d_mean_wind_from_direction_Degrees_Clockwise_from_north`', 'mean.`14d_mean_wind_speed_m/s`', 'mean.`14d_mean_max_air_temperature_K`', 'mean.`14d_mean_min_air_temperature_K`', 'mean.`14d_mean_burning_index_g_Unitless`', 'mean.`14d_mean_dead_fuel_moisture_100hr_Percent`', 'mean.`14d_mean_dead_fuel_moisture_1000hr_Percent`', 'mean.`14d_mean_energy_release_component-g_Unitless`', 'mean.`14d_mean_potential_evapotranspiration_mm`', 'mean.`14d_mean_mean_vapor_pressure_deficit_kPa`', 'mean.`21d_mean_precipitation_amount_mm`', 'mean.`21d_mean_relative_humidity_%`', 'mean.`21d_mean_specific_humidity_kg/kg`', 'mean.`21d_mean_surface_downwelling_shortwave_flux_in_air_W_m-2`', 'mean.`21d_mean_wind_from_direction_Degrees_Clockwise_from_north`', 'mean.`21d_mean_wind_speed_m/s`', 'mean.`21d_mean_max_air_temperature_K`', 'mean.`21d_mean_min_air_temperature_K`', 'mean.`21d_mean_burning_index_g_Unitless`', 'mean.`21d_mean_dead_fuel_moisture_100hr_Percent`', 'mean.`21d_mean_dead_fuel_moisture_1000hr_Percent`', 'mean.`21d_mean_energy_release_component-g_Unitless`', 'mean.`21d_mean_potential_evapotranspiration_mm`', 'mean.`21d_mean_mean_vapor_pressure_deficit_kPa`', 'mean.`30d_mean_precipitation_amount_mm`', 'mean.`30d_mean_relative_humidity_%`', 'mean.`30d_mean_specific_humidity_kg/kg`', 'mean.`30d_mean_surface_downwelling_shortwave_flux_in_air_W_m-2`', 'mean.`30d_mean_wind_from_direction_Degrees_Clockwise_from_north`', 'mean.`30d_mean_wind_speed_m/s`', 'mean.`30d_mean_max_air_temperature_K`', 'mean.`30d_mean_min_air_temperature_K`', 'mean.`30d_mean_burning_index_g_Unitless`', 'mean.`30d_mean_dead_fuel_moisture_100hr_Percent`', 'mean.`30d_mean_dead_fuel_moisture_1000hr_Percent`', 'mean.`30d_mean_energy_release_component-g_Unitless`', 'mean.`30d_mean_potential_evapotranspiration_mm`', 'mean.`30d_mean_mean_vapor_pressure_deficit_kPa`', 'mean.`60d_mean_precipitation_amount_mm`', 'mean.`60d_mean_relative_humidity_%`', 'mean.`60d_mean_specific_humidity_kg/kg`', 'mean.`60d_mean_surface_downwelling_shortwave_flux_in_air_W_m-2`', 'mean.`60d_mean_wind_from_direction_Degrees_Clockwise_from_north`', 'mean.`60d_mean_wind_speed_m/s`', 'mean.`60d_mean_max_air_temperature_K`', 'mean.`60d_mean_min_air_temperature_K`', 'mean.`60d_mean_burning_index_g_Unitless`', 'mean.`60d_mean_dead_fuel_moisture_100hr_Percent`', 'mean.`60d_mean_dead_fuel_moisture_1000hr_Percent`', 'mean.`60d_mean_energy_release_component-g_Unitless`', 'mean.`60d_mean_potential_evapotranspiration_mm`', 'mean.`60d_mean_mean_vapor_pressure_deficit_kPa`', 'mean.`90d_mean_precipitation_amount_mm`', 'mean.`90d_mean_relative_humidity_%`', 'mean.`90d_mean_specific_humidity_kg/kg`', 'mean.`90d_mean_surface_downwelling_shortwave_flux_in_air_W_m-2`', 'mean.`90d_mean_wind_from_direction_Degrees_Clockwise_from_north`', 'mean.`90d_mean_wind_speed_m/s`', 'mean.`90d_mean_max_air_temperature_K`', 'mean.`90d_mean_min_air_temperature_K`', 'mean.`90d_mean_burning_index_g_Unitless`', 'mean.`90d_mean_dead_fuel_moisture_100hr_Percent`', 'mean.`90d_mean_dead_fuel_moisture_1000hr_Percent`', 'mean.`90d_mean_energy_release_component-g_Unitless`', 'mean.`90d_mean_potential_evapotranspiration_mm`', 'mean.`90d_mean_mean_vapor_pressure_deficit_kPa`', 'mean.`180d_mean_precipitation_amount_mm`', 'mean.`180d_mean_relative_humidity_%`', 'mean.`180d_mean_specific_humidity_kg/kg`', 'mean.`180d_mean_surface_downwelling_shortwave_flux_in_air_W_m-2`', 'mean.`180d_mean_wind_from_direction_Degrees_Clockwise_from_north`', 'mean.`180d_mean_wind_speed_m/s`', 'mean.`180d_mean_max_air_temperature_K`', 'mean.`180d_mean_min_air_temperature_K`', 'mean.`180d_mean_burning_index_g_Unitless`', 'mean.`180d_mean_dead_fuel_moisture_100hr_Percent`', 'mean.`180d_mean_dead_fuel_moisture_1000hr_Percent`', 'mean.`180d_mean_energy_release_component-g_Unitless`', 'mean.`180d_mean_potential_evapotranspiration_mm`', 'mean.`180d_mean_mean_vapor_pressure_deficit_kPa`', 'mean.`365d_mean_precipitation_amount_mm`', 'mean.`365d_mean_relative_humidity_%`', 'mean.`365d_mean_specific_humidity_kg/kg`', 'mean.`365d_mean_surface_downwelling_shortwave_flux_in_air_W_m-2`', 'mean.`365d_mean_wind_from_direction_Degrees_Clockwise_from_north`', 'mean.`365d_mean_wind_speed_m/s`', 'mean.`365d_mean_max_air_temperature_K`', 'mean.`365d_mean_min_air_temperature_K`', 'mean.`365d_mean_burning_index_g_Unitless`', 'mean.`365d_mean_dead_fuel_moisture_100hr_Percent`', 'mean.`365d_mean_dead_fuel_moisture_1000hr_Percent`', 'mean.`365d_mean_energy_release_component-g_Unitless`', 'mean.`365d_mean_potential_evapotranspiration_mm`', 'mean.`365d_mean_mean_vapor_pressure_deficit_kPa`', 'cumulative.`7d_cumulative_precipitation_amount_mm`', 'cumulative.`7d_cumulative_relative_humidity_%`', 'cumulative.`7d_cumulative_specific_humidity_kg/kg`', 'cumulative.`7d_cumulative_surface_downwelling_shortwave_flux_in_air_W_m-2`', 'cumulative.`7d_cumulative_wind_from_direction_Degrees_Clockwise_from_north`', 'cumulative.`7d_cumulative_wind_speed_m/s`', 'cumulative.`7d_cumulative_max_air_temperature_K`', 'cumulative.`7d_cumulative_min_air_temperature_K`', 'cumulative.`7d_cumulative_burning_index_g_Unitless`', 'cumulative.`7d_cumulative_dead_fuel_moisture_100hr_Percent`', 'cumulative.`7d_cumulative_dead_fuel_moisture_1000hr_Percent`', 'cumulative.`7d_cumulative_energy_release_component-g_Unitless`', 'cumulative.`7d_cumulative_potential_evapotranspiration_mm`', 'cumulative.`7d_cumulative_mean_vapor_pressure_deficit_kPa`', 'cumulative.`14d_cumulative_precipitation_amount_mm`', 'cumulative.`14d_cumulative_relative_humidity_%`', 'cumulative.`14d_cumulative_specific_humidity_kg/kg`', 'cumulative.`14d_cumulative_surface_downwelling_shortwave_flux_in_air_W_m-2`', 'cumulative.`14d_cumulative_wind_from_direction_Degrees_Clockwise_from_north`', 'cumulative.`14d_cumulative_wind_speed_m/s`', 'cumulative.`14d_cumulative_max_air_temperature_K`', 'cumulative.`14d_cumulative_min_air_temperature_K`', 'cumulative.`14d_cumulative_burning_index_g_Unitless`', 'cumulative.`14d_cumulative_dead_fuel_moisture_100hr_Percent`', 'cumulative.`14d_cumulative_dead_fuel_moisture_1000hr_Percent`', 'cumulative.`14d_cumulative_energy_release_component-g_Unitless`', 'cumulative.`14d_cumulative_potential_evapotranspiration_mm`', 'cumulative.`14d_cumulative_mean_vapor_pressure_deficit_kPa`', 'cumulative.`21d_cumulative_precipitation_amount_mm`', 'cumulative.`21d_cumulative_relative_humidity_%`', 'cumulative.`21d_cumulative_specific_humidity_kg/kg`', 'cumulative.`21d_cumulative_surface_downwelling_shortwave_flux_in_air_W_m-2`', 'cumulative.`21d_cumulative_wind_from_direction_Degrees_Clockwise_from_north`', 'cumulative.`21d_cumulative_wind_speed_m/s`', 'cumulative.`21d_cumulative_max_air_temperature_K`', 'cumulative.`21d_cumulative_min_air_temperature_K`', 'cumulative.`21d_cumulative_burning_index_g_Unitless`', 'cumulative.`21d_cumulative_dead_fuel_moisture_100hr_Percent`', 'cumulative.`21d_cumulative_dead_fuel_moisture_1000hr_Percent`', 'cumulative.`21d_cumulative_energy_release_component-g_Unitless`', 'cumulative.`21d_cumulative_potential_evapotranspiration_mm`', 'cumulative.`21d_cumulative_mean_vapor_pressure_deficit_kPa`', 'cumulative.`30d_cumulative_precipitation_amount_mm`', 'cumulative.`30d_cumulative_relative_humidity_%`', 'cumulative.`30d_cumulative_specific_humidity_kg/kg`', 'cumulative.`30d_cumulative_surface_downwelling_shortwave_flux_in_air_W_m-2`', 'cumulative.`30d_cumulative_wind_from_direction_Degrees_Clockwise_from_north`', 'cumulative.`30d_cumulative_wind_speed_m/s`', 'cumulative.`30d_cumulative_max_air_temperature_K`', 'cumulative.`30d_cumulative_min_air_temperature_K`', 'cumulative.`30d_cumulative_burning_index_g_Unitless`', 'cumulative.`30d_cumulative_dead_fuel_moisture_100hr_Percent`', 'cumulative.`30d_cumulative_dead_fuel_moisture_1000hr_Percent`', 'cumulative.`30d_cumulative_energy_release_component-g_Unitless`', 'cumulative.`30d_cumulative_potential_evapotranspiration_mm`', 'cumulative.`30d_cumulative_mean_vapor_pressure_deficit_kPa`', 'cumulative.`60d_cumulative_precipitation_amount_mm`', 'cumulative.`60d_cumulative_relative_humidity_%`', 'cumulative.`60d_cumulative_specific_humidity_kg/kg`', 'cumulative.`60d_cumulative_surface_downwelling_shortwave_flux_in_air_W_m-2`', 'cumulative.`60d_cumulative_wind_from_direction_Degrees_Clockwise_from_north`', 'cumulative.`60d_cumulative_wind_speed_m/s`', 'cumulative.`60d_cumulative_max_air_temperature_K`', 'cumulative.`60d_cumulative_min_air_temperature_K`', 'cumulative.`60d_cumulative_burning_index_g_Unitless`', 'cumulative.`60d_cumulative_dead_fuel_moisture_100hr_Percent`', 'cumulative.`60d_cumulative_dead_fuel_moisture_1000hr_Percent`', 'cumulative.`60d_cumulative_energy_release_component-g_Unitless`', 'cumulative.`60d_cumulative_potential_evapotranspiration_mm`', 'cumulative.`60d_cumulative_mean_vapor_pressure_deficit_kPa`', 'cumulative.`90d_cumulative_precipitation_amount_mm`', 'cumulative.`90d_cumulative_relative_humidity_%`', 'cumulative.`90d_cumulative_specific_humidity_kg/kg`', 'cumulative.`90d_cumulative_surface_downwelling_shortwave_flux_in_air_W_m-2`', 'cumulative.`90d_cumulative_wind_from_direction_Degrees_Clockwise_from_north`', 'cumulative.`90d_cumulative_wind_speed_m/s`', 'cumulative.`90d_cumulative_max_air_temperature_K`', 'cumulative.`90d_cumulative_min_air_temperature_K`', 'cumulative.`90d_cumulative_burning_index_g_Unitless`', 'cumulative.`90d_cumulative_dead_fuel_moisture_100hr_Percent`', 'cumulative.`90d_cumulative_dead_fuel_moisture_1000hr_Percent`', 'cumulative.`90d_cumulative_energy_release_component-g_Unitless`', 'cumulative.`90d_cumulative_potential_evapotranspiration_mm`', 'cumulative.`90d_cumulative_mean_vapor_pressure_deficit_kPa`', 'cumulative.`180d_cumulative_precipitation_amount_mm`', 'cumulative.`180d_cumulative_relative_humidity_%`', 'cumulative.`180d_cumulative_specific_humidity_kg/kg`', 'cumulative.`180d_cumulative_surface_downwelling_shortwave_flux_in_air_W_m-2`', 'cumulative.`180d_cumulative_wind_from_direction_Degrees_Clockwise_from_north`', 'cumulative.`180d_cumulative_wind_speed_m/s`', 'cumulative.`180d_cumulative_max_air_temperature_K`', 'cumulative.`180d_cumulative_min_air_temperature_K`', 'cumulative.`180d_cumulative_burning_index_g_Unitless`', 'cumulative.`180d_cumulative_dead_fuel_moisture_100hr_Percent`', 'cumulative.`180d_cumulative_dead_fuel_moisture_1000hr_Percent`', 'cumulative.`180d_cumulative_energy_release_component-g_Unitless`', 'cumulative.`180d_cumulative_potential_evapotranspiration_mm`', 'cumulative.`180d_cumulative_mean_vapor_pressure_deficit_kPa`', 'cumulative.`365d_cumulative_precipitation_amount_mm`', 'cumulative.`365d_cumulative_relative_humidity_%`', 'cumulative.`365d_cumulative_specific_humidity_kg/kg`', 'cumulative.`365d_cumulative_surface_downwelling_shortwave_flux_in_air_W_m-2`', 'cumulative.`365d_cumulative_wind_from_direction_Degrees_Clockwise_from_north`', 'cumulative.`365d_cumulative_wind_speed_m/s`', 'cumulative.`365d_cumulative_max_air_temperature_K`', 'cumulative.`365d_cumulative_min_air_temperature_K`', 'cumulative.`365d_cumulative_burning_index_g_Unitless`', 'cumulative.`365d_cumulative_dead_fuel_moisture_100hr_Percent`', 'cumulative.`365d_cumulative_dead_fuel_moisture_1000hr_Percent`', 'cumulative.`365d_cumulative_energy_release_component-g_Unitless`', 'cumulative.`365d_cumulative_potential_evapotranspiration_mm`', 'cumulative.`365d_cumulative_mean_vapor_pressure_deficit_kPa`', 'std.`7d_std_precipitation_amount_mm`', 'std.`7d_std_relative_humidity_%`', 'std.`7d_std_specific_humidity_kg/kg`', 'std.`7d_std_surface_downwelling_shortwave_flux_in_air_W_m-2`', 'std.`7d_std_wind_from_direction_Degrees_Clockwise_from_north`', 'std.`7d_std_wind_speed_m/s`', 'std.`7d_std_max_air_temperature_K`', 'std.`7d_std_min_air_temperature_K`', 'std.`7d_std_burning_index_g_Unitless`', 'std.`7d_std_dead_fuel_moisture_100hr_Percent`', 'std.`7d_std_dead_fuel_moisture_1000hr_Percent`', 'std.`7d_std_energy_release_component-g_Unitless`', 'std.`7d_std_potential_evapotranspiration_mm`', 'std.`7d_std_mean_vapor_pressure_deficit_kPa`', 'std.`14d_std_precipitation_amount_mm`', 'std.`14d_std_relative_humidity_%`', 'std.`14d_std_specific_humidity_kg/kg`', 'std.`14d_std_surface_downwelling_shortwave_flux_in_air_W_m-2`', 'std.`14d_std_wind_from_direction_Degrees_Clockwise_from_north`', 'std.`14d_std_wind_speed_m/s`', 'std.`14d_std_max_air_temperature_K`', 'std.`14d_std_min_air_temperature_K`', 'std.`14d_std_burning_index_g_Unitless`', 'std.`14d_std_dead_fuel_moisture_100hr_Percent`', 'std.`14d_std_dead_fuel_moisture_1000hr_Percent`', 'std.`14d_std_energy_release_component-g_Unitless`', 'std.`14d_std_potential_evapotranspiration_mm`', 'std.`14d_std_mean_vapor_pressure_deficit_kPa`', 'std.`21d_std_precipitation_amount_mm`', 'std.`21d_std_relative_humidity_%`', 'std.`21d_std_specific_humidity_kg/kg`', 'std.`21d_std_surface_downwelling_shortwave_flux_in_air_W_m-2`', 'std.`21d_std_wind_from_direction_Degrees_Clockwise_from_north`', 'std.`21d_std_wind_speed_m/s`', 'std.`21d_std_max_air_temperature_K`', 'std.`21d_std_min_air_temperature_K`', 'std.`21d_std_burning_index_g_Unitless`', 'std.`21d_std_dead_fuel_moisture_100hr_Percent`', 'std.`21d_std_dead_fuel_moisture_1000hr_Percent`', 'std.`21d_std_energy_release_component-g_Unitless`', 'std.`21d_std_potential_evapotranspiration_mm`', 'std.`21d_std_mean_vapor_pressure_deficit_kPa`', 'std.`30d_std_precipitation_amount_mm`', 'std.`30d_std_relative_humidity_%`', 'std.`30d_std_specific_humidity_kg/kg`', 'std.`30d_std_surface_downwelling_shortwave_flux_in_air_W_m-2`', 'std.`30d_std_wind_from_direction_Degrees_Clockwise_from_north`', 'std.`30d_std_wind_speed_m/s`', 'std.`30d_std_max_air_temperature_K`', 'std.`30d_std_min_air_temperature_K`', 'std.`30d_std_burning_index_g_Unitless`', 'std.`30d_std_dead_fuel_moisture_100hr_Percent`', 'std.`30d_std_dead_fuel_moisture_1000hr_Percent`', 'std.`30d_std_energy_release_component-g_Unitless`', 'std.`30d_std_potential_evapotranspiration_mm`', 'std.`30d_std_mean_vapor_pressure_deficit_kPa`', 'std.`60d_std_precipitation_amount_mm`', 'std.`60d_std_relative_humidity_%`', 'std.`60d_std_specific_humidity_kg/kg`', 'std.`60d_std_surface_downwelling_shortwave_flux_in_air_W_m-2`', 'std.`60d_std_wind_from_direction_Degrees_Clockwise_from_north`', 'std.`60d_std_wind_speed_m/s`', 'std.`60d_std_max_air_temperature_K`', 'std.`60d_std_min_air_temperature_K`', 'std.`60d_std_burning_index_g_Unitless`', 'std.`60d_std_dead_fuel_moisture_100hr_Percent`', 'std.`60d_std_dead_fuel_moisture_1000hr_Percent`', 'std.`60d_std_energy_release_component-g_Unitless`', 'std.`60d_std_potential_evapotranspiration_mm`', 'std.`60d_std_mean_vapor_pressure_deficit_kPa`', 'std.`90d_std_precipitation_amount_mm`', 'std.`90d_std_relative_humidity_%`', 'std.`90d_std_specific_humidity_kg/kg`', 'std.`90d_std_surface_downwelling_shortwave_flux_in_air_W_m-2`', 'std.`90d_std_wind_from_direction_Degrees_Clockwise_from_north`', 'std.`90d_std_wind_speed_m/s`', 'std.`90d_std_max_air_temperature_K`', 'std.`90d_std_min_air_temperature_K`', 'std.`90d_std_burning_index_g_Unitless`', 'std.`90d_std_dead_fuel_moisture_100hr_Percent`', 'std.`90d_std_dead_fuel_moisture_1000hr_Percent`', 'std.`90d_std_energy_release_component-g_Unitless`', 'std.`90d_std_potential_evapotranspiration_mm`', 'std.`90d_std_mean_vapor_pressure_deficit_kPa`', 'std.`180d_std_precipitation_amount_mm`', 'std.`180d_std_relative_humidity_%`', 'std.`180d_std_specific_humidity_kg/kg`', 'std.`180d_std_surface_downwelling_shortwave_flux_in_air_W_m-2`', 'std.`180d_std_wind_from_direction_Degrees_Clockwise_from_north`', 'std.`180d_std_wind_speed_m/s`', 'std.`180d_std_max_air_temperature_K`', 'std.`180d_std_min_air_temperature_K`', 'std.`180d_std_burning_index_g_Unitless`', 'std.`180d_std_dead_fuel_moisture_100hr_Percent`', 'std.`180d_std_dead_fuel_moisture_1000hr_Percent`', 'std.`180d_std_energy_release_component-g_Unitless`', 'std.`180d_std_potential_evapotranspiration_mm`', 'std.`180d_std_mean_vapor_pressure_deficit_kPa`', 'std.`365d_std_precipitation_amount_mm`', 'std.`365d_std_relative_humidity_%`', 'std.`365d_std_specific_humidity_kg/kg`', 'std.`365d_std_surface_downwelling_shortwave_flux_in_air_W_m-2`', 'std.`365d_std_wind_from_direction_Degrees_Clockwise_from_north`', 'std.`365d_std_wind_speed_m/s`', 'std.`365d_std_max_air_temperature_K`', 'std.`365d_std_min_air_temperature_K`', 'std.`365d_std_burning_index_g_Unitless`', 'std.`365d_std_dead_fuel_moisture_100hr_Percent`', 'std.`365d_std_dead_fuel_moisture_1000hr_Percent`', 'std.`365d_std_energy_release_component-g_Unitless`', 'std.`365d_std_potential_evapotranspiration_mm`', 'std.`365d_std_mean_vapor_pressure_deficit_kPa`']"
     ]
    }
   ],
   "source": [
    "original_cols = [table_names[0] + \".`{}`\".format(c) for c in base_df.schema.names[1:-6]]\n",
    "for i, df in enumerate(dfs[1:], 1):\n",
    "    original_cols += [table_names[i] + '.`{}`'.format(c) for c in df.schema.names[:-4]]\n",
    "original_cols"
   ]
  },
  {
   "cell_type": "code",
   "execution_count": 10,
   "metadata": {},
   "outputs": [
    {
     "name": "stdout",
     "output_type": "stream",
     "text": [
      "'\\nSELECT fire_occurrences.date, fire_occurrences.latitude, fire_occurrences.longitude, fire_occurrences.`precipitation_amount_mm`, fire_occurrences.`relative_humidity_%`, fire_occurrences.`specific_humidity_kg/kg`, fire_occurrences.`surface_downwelling_shortwave_flux_in_air_W_m-2`, fire_occurrences.`wind_from_direction_Degrees_Clockwise_from_north`, fire_occurrences.`wind_speed_m/s`, fire_occurrences.`max_air_temperature_K`, fire_occurrences.`min_air_temperature_K`, fire_occurrences.`burning_index_g_Unitless`, fire_occurrences.`dead_fuel_moisture_100hr_Percent`, fire_occurrences.`dead_fuel_moisture_1000hr_Percent`, fire_occurrences.`energy_release_component-g_Unitless`, fire_occurrences.`potential_evapotranspiration_mm`, fire_occurrences.`mean_vapor_pressure_deficit_kPa`, min.`7d_min_precipitation_amount_mm`, min.`7d_min_relative_humidity_%`, min.`7d_min_specific_humidity_kg/kg`, min.`7d_min_surface_downwelling_shortwave_flux_in_air_W_m-2`, min.`7d_min_wind_from_direction_Degrees_Clockwise_from_north`, min.`7d_min_wind_speed_m/s`, min.`7d_min_max_air_temperature_K`, min.`7d_min_min_air_temperature_K`, min.`7d_min_burning_index_g_Unitless`, min.`7d_min_dead_fuel_moisture_100hr_Percent`, min.`7d_min_dead_fuel_moisture_1000hr_Percent`, min.`7d_min_energy_release_component-g_Unitless`, min.`7d_min_potential_evapotranspiration_mm`, min.`7d_min_mean_vapor_pressure_deficit_kPa`, min.`14d_min_precipitation_amount_mm`, min.`14d_min_relative_humidity_%`, min.`14d_min_specific_humidity_kg/kg`, min.`14d_min_surface_downwelling_shortwave_flux_in_air_W_m-2`, min.`14d_min_wind_from_direction_Degrees_Clockwise_from_north`, min.`14d_min_wind_speed_m/s`, min.`14d_min_max_air_temperature_K`, min.`14d_min_min_air_temperature_K`, min.`14d_min_burning_index_g_Unitless`, min.`14d_min_dead_fuel_moisture_100hr_Percent`, min.`14d_min_dead_fuel_moisture_1000hr_Percent`, min.`14d_min_energy_release_component-g_Unitless`, min.`14d_min_potential_evapotranspiration_mm`, min.`14d_min_mean_vapor_pressure_deficit_kPa`, min.`21d_min_precipitation_amount_mm`, min.`21d_min_relative_humidity_%`, min.`21d_min_specific_humidity_kg/kg`, min.`21d_min_surface_downwelling_shortwave_flux_in_air_W_m-2`, min.`21d_min_wind_from_direction_Degrees_Clockwise_from_north`, min.`21d_min_wind_speed_m/s`, min.`21d_min_max_air_temperature_K`, min.`21d_min_min_air_temperature_K`, min.`21d_min_burning_index_g_Unitless`, min.`21d_min_dead_fuel_moisture_100hr_Percent`, min.`21d_min_dead_fuel_moisture_1000hr_Percent`, min.`21d_min_energy_release_component-g_Unitless`, min.`21d_min_potential_evapotranspiration_mm`, min.`21d_min_mean_vapor_pressure_deficit_kPa`, min.`30d_min_precipitation_amount_mm`, min.`30d_min_relative_humidity_%`, min.`30d_min_specific_humidity_kg/kg`, min.`30d_min_surface_downwelling_shortwave_flux_in_air_W_m-2`, min.`30d_min_wind_from_direction_Degrees_Clockwise_from_north`, min.`30d_min_wind_speed_m/s`, min.`30d_min_max_air_temperature_K`, min.`30d_min_min_air_temperature_K`, min.`30d_min_burning_index_g_Unitless`, min.`30d_min_dead_fuel_moisture_100hr_Percent`, min.`30d_min_dead_fuel_moisture_1000hr_Percent`, min.`30d_min_energy_release_component-g_Unitless`, min.`30d_min_potential_evapotranspiration_mm`, min.`30d_min_mean_vapor_pressure_deficit_kPa`, min.`60d_min_precipitation_amount_mm`, min.`60d_min_relative_humidity_%`, min.`60d_min_specific_humidity_kg/kg`, min.`60d_min_surface_downwelling_shortwave_flux_in_air_W_m-2`, min.`60d_min_wind_from_direction_Degrees_Clockwise_from_north`, min.`60d_min_wind_speed_m/s`, min.`60d_min_max_air_temperature_K`, min.`60d_min_min_air_temperature_K`, min.`60d_min_burning_index_g_Unitless`, min.`60d_min_dead_fuel_moisture_100hr_Percent`, min.`60d_min_dead_fuel_moisture_1000hr_Percent`, min.`60d_min_energy_release_component-g_Unitless`, min.`60d_min_potential_evapotranspiration_mm`, min.`60d_min_mean_vapor_pressure_deficit_kPa`, min.`90d_min_precipitation_amount_mm`, min.`90d_min_relative_humidity_%`, min.`90d_min_specific_humidity_kg/kg`, min.`90d_min_surface_downwelling_shortwave_flux_in_air_W_m-2`, min.`90d_min_wind_from_direction_Degrees_Clockwise_from_north`, min.`90d_min_wind_speed_m/s`, min.`90d_min_max_air_temperature_K`, min.`90d_min_min_air_temperature_K`, min.`90d_min_burning_index_g_Unitless`, min.`90d_min_dead_fuel_moisture_100hr_Percent`, min.`90d_min_dead_fuel_moisture_1000hr_Percent`, min.`90d_min_energy_release_component-g_Unitless`, min.`90d_min_potential_evapotranspiration_mm`, min.`90d_min_mean_vapor_pressure_deficit_kPa`, min.`180d_min_precipitation_amount_mm`, min.`180d_min_relative_humidity_%`, min.`180d_min_specific_humidity_kg/kg`, min.`180d_min_surface_downwelling_shortwave_flux_in_air_W_m-2`, min.`180d_min_wind_from_direction_Degrees_Clockwise_from_north`, min.`180d_min_wind_speed_m/s`, min.`180d_min_max_air_temperature_K`, min.`180d_min_min_air_temperature_K`, min.`180d_min_burning_index_g_Unitless`, min.`180d_min_dead_fuel_moisture_100hr_Percent`, min.`180d_min_dead_fuel_moisture_1000hr_Percent`, min.`180d_min_energy_release_component-g_Unitless`, min.`180d_min_potential_evapotranspiration_mm`, min.`180d_min_mean_vapor_pressure_deficit_kPa`, min.`365d_min_precipitation_amount_mm`, min.`365d_min_relative_humidity_%`, min.`365d_min_specific_humidity_kg/kg`, min.`365d_min_surface_downwelling_shortwave_flux_in_air_W_m-2`, min.`365d_min_wind_from_direction_Degrees_Clockwise_from_north`, min.`365d_min_wind_speed_m/s`, min.`365d_min_max_air_temperature_K`, min.`365d_min_min_air_temperature_K`, min.`365d_min_burning_index_g_Unitless`, min.`365d_min_dead_fuel_moisture_100hr_Percent`, min.`365d_min_dead_fuel_moisture_1000hr_Percent`, min.`365d_min_energy_release_component-g_Unitless`, min.`365d_min_potential_evapotranspiration_mm`, min.`365d_min_mean_vapor_pressure_deficit_kPa`, max.`7d_max_precipitation_amount_mm`, max.`7d_max_relative_humidity_%`, max.`7d_max_specific_humidity_kg/kg`, max.`7d_max_surface_downwelling_shortwave_flux_in_air_W_m-2`, max.`7d_max_wind_from_direction_Degrees_Clockwise_from_north`, max.`7d_max_wind_speed_m/s`, max.`7d_max_max_air_temperature_K`, max.`7d_max_min_air_temperature_K`, max.`7d_max_burning_index_g_Unitless`, max.`7d_max_dead_fuel_moisture_100hr_Percent`, max.`7d_max_dead_fuel_moisture_1000hr_Percent`, max.`7d_max_energy_release_component-g_Unitless`, max.`7d_max_potential_evapotranspiration_mm`, max.`7d_max_mean_vapor_pressure_deficit_kPa`, max.`14d_max_precipitation_amount_mm`, max.`14d_max_relative_humidity_%`, max.`14d_max_specific_humidity_kg/kg`, max.`14d_max_surface_downwelling_shortwave_flux_in_air_W_m-2`, max.`14d_max_wind_from_direction_Degrees_Clockwise_from_north`, max.`14d_max_wind_speed_m/s`, max.`14d_max_max_air_temperature_K`, max.`14d_max_min_air_temperature_K`, max.`14d_max_burning_index_g_Unitless`, max.`14d_max_dead_fuel_moisture_100hr_Percent`, max.`14d_max_dead_fuel_moisture_1000hr_Percent`, max.`14d_max_energy_release_component-g_Unitless`, max.`14d_max_potential_evapotranspiration_mm`, max.`14d_max_mean_vapor_pressure_deficit_kPa`, max.`21d_max_precipitation_amount_mm`, max.`21d_max_relative_humidity_%`, max.`21d_max_specific_humidity_kg/kg`, max.`21d_max_surface_downwelling_shortwave_flux_in_air_W_m-2`, max.`21d_max_wind_from_direction_Degrees_Clockwise_from_north`, max.`21d_max_wind_speed_m/s`, max.`21d_max_max_air_temperature_K`, max.`21d_max_min_air_temperature_K`, max.`21d_max_burning_index_g_Unitless`, max.`21d_max_dead_fuel_moisture_100hr_Percent`, max.`21d_max_dead_fuel_moisture_1000hr_Percent`, max.`21d_max_energy_release_component-g_Unitless`, max.`21d_max_potential_evapotranspiration_mm`, max.`21d_max_mean_vapor_pressure_deficit_kPa`, max.`30d_max_precipitation_amount_mm`, max.`30d_max_relative_humidity_%`, max.`30d_max_specific_humidity_kg/kg`, max.`30d_max_surface_downwelling_shortwave_flux_in_air_W_m-2`, max.`30d_max_wind_from_direction_Degrees_Clockwise_from_north`, max.`30d_max_wind_speed_m/s`, max.`30d_max_max_air_temperature_K`, max.`30d_max_min_air_temperature_K`, max.`30d_max_burning_index_g_Unitless`, max.`30d_max_dead_fuel_moisture_100hr_Percent`, max.`30d_max_dead_fuel_moisture_1000hr_Percent`, max.`30d_max_energy_release_component-g_Unitless`, max.`30d_max_potential_evapotranspiration_mm`, max.`30d_max_mean_vapor_pressure_deficit_kPa`, max.`60d_max_precipitation_amount_mm`, max.`60d_max_relative_humidity_%`, max.`60d_max_specific_humidity_kg/kg`, max.`60d_max_surface_downwelling_shortwave_flux_in_air_W_m-2`, max.`60d_max_wind_from_direction_Degrees_Clockwise_from_north`, max.`60d_max_wind_speed_m/s`, max.`60d_max_max_air_temperature_K`, max.`60d_max_min_air_temperature_K`, max.`60d_max_burning_index_g_Unitless`, max.`60d_max_dead_fuel_moisture_100hr_Percent`, max.`60d_max_dead_fuel_moisture_1000hr_Percent`, max.`60d_max_energy_release_component-g_Unitless`, max.`60d_max_potential_evapotranspiration_mm`, max.`60d_max_mean_vapor_pressure_deficit_kPa`, max.`90d_max_precipitation_amount_mm`, max.`90d_max_relative_humidity_%`, max.`90d_max_specific_humidity_kg/kg`, max.`90d_max_surface_downwelling_shortwave_flux_in_air_W_m-2`, max.`90d_max_wind_from_direction_Degrees_Clockwise_from_north`, max.`90d_max_wind_speed_m/s`, max.`90d_max_max_air_temperature_K`, max.`90d_max_min_air_temperature_K`, max.`90d_max_burning_index_g_Unitless`, max.`90d_max_dead_fuel_moisture_100hr_Percent`, max.`90d_max_dead_fuel_moisture_1000hr_Percent`, max.`90d_max_energy_release_component-g_Unitless`, max.`90d_max_potential_evapotranspiration_mm`, max.`90d_max_mean_vapor_pressure_deficit_kPa`, max.`180d_max_precipitation_amount_mm`, max.`180d_max_relative_humidity_%`, max.`180d_max_specific_humidity_kg/kg`, max.`180d_max_surface_downwelling_shortwave_flux_in_air_W_m-2`, max.`180d_max_wind_from_direction_Degrees_Clockwise_from_north`, max.`180d_max_wind_speed_m/s`, max.`180d_max_max_air_temperature_K`, max.`180d_max_min_air_temperature_K`, max.`180d_max_burning_index_g_Unitless`, max.`180d_max_dead_fuel_moisture_100hr_Percent`, max.`180d_max_dead_fuel_moisture_1000hr_Percent`, max.`180d_max_energy_release_component-g_Unitless`, max.`180d_max_potential_evapotranspiration_mm`, max.`180d_max_mean_vapor_pressure_deficit_kPa`, max.`365d_max_precipitation_amount_mm`, max.`365d_max_relative_humidity_%`, max.`365d_max_specific_humidity_kg/kg`, max.`365d_max_surface_downwelling_shortwave_flux_in_air_W_m-2`, max.`365d_max_wind_from_direction_Degrees_Clockwise_from_north`, max.`365d_max_wind_speed_m/s`, max.`365d_max_max_air_temperature_K`, max.`365d_max_min_air_temperature_K`, max.`365d_max_burning_index_g_Unitless`, max.`365d_max_dead_fuel_moisture_100hr_Percent`, max.`365d_max_dead_fuel_moisture_1000hr_Percent`, max.`365d_max_energy_release_component-g_Unitless`, max.`365d_max_potential_evapotranspiration_mm`, max.`365d_max_mean_vapor_pressure_deficit_kPa`, mean.`7d_mean_precipitation_amount_mm`, mean.`7d_mean_relative_humidity_%`, mean.`7d_mean_specific_humidity_kg/kg`, mean.`7d_mean_surface_downwelling_shortwave_flux_in_air_W_m-2`, mean.`7d_mean_wind_from_direction_Degrees_Clockwise_from_north`, mean.`7d_mean_wind_speed_m/s`, mean.`7d_mean_max_air_temperature_K`, mean.`7d_mean_min_air_temperature_K`, mean.`7d_mean_burning_index_g_Unitless`, mean.`7d_mean_dead_fuel_moisture_100hr_Percent`, mean.`7d_mean_dead_fuel_moisture_1000hr_Percent`, mean.`7d_mean_energy_release_component-g_Unitless`, mean.`7d_mean_potential_evapotranspiration_mm`, mean.`7d_mean_mean_vapor_pressure_deficit_kPa`, mean.`14d_mean_precipitation_amount_mm`, mean.`14d_mean_relative_humidity_%`, mean.`14d_mean_specific_humidity_kg/kg`, mean.`14d_mean_surface_downwelling_shortwave_flux_in_air_W_m-2`, mean.`14d_mean_wind_from_direction_Degrees_Clockwise_from_north`, mean.`14d_mean_wind_speed_m/s`, mean.`14d_mean_max_air_temperature_K`, mean.`14d_mean_min_air_temperature_K`, mean.`14d_mean_burning_index_g_Unitless`, mean.`14d_mean_dead_fuel_moisture_100hr_Percent`, mean.`14d_mean_dead_fuel_moisture_1000hr_Percent`, mean.`14d_mean_energy_release_component-g_Unitless`, mean.`14d_mean_potential_evapotranspiration_mm`, mean.`14d_mean_mean_vapor_pressure_deficit_kPa`, mean.`21d_mean_precipitation_amount_mm`, mean.`21d_mean_relative_humidity_%`, mean.`21d_mean_specific_humidity_kg/kg`, mean.`21d_mean_surface_downwelling_shortwave_flux_in_air_W_m-2`, mean.`21d_mean_wind_from_direction_Degrees_Clockwise_from_north`, mean.`21d_mean_wind_speed_m/s`, mean.`21d_mean_max_air_temperature_K`, mean.`21d_mean_min_air_temperature_K`, mean.`21d_mean_burning_index_g_Unitless`, mean.`21d_mean_dead_fuel_moisture_100hr_Percent`, mean.`21d_mean_dead_fuel_moisture_1000hr_Percent`, mean.`21d_mean_energy_release_component-g_Unitless`, mean.`21d_mean_potential_evapotranspiration_mm`, mean.`21d_mean_mean_vapor_pressure_deficit_kPa`, mean.`30d_mean_precipitation_amount_mm`, mean.`30d_mean_relative_humidity_%`, mean.`30d_mean_specific_humidity_kg/kg`, mean.`30d_mean_surface_downwelling_shortwave_flux_in_air_W_m-2`, mean.`30d_mean_wind_from_direction_Degrees_Clockwise_from_north`, mean.`30d_mean_wind_speed_m/s`, mean.`30d_mean_max_air_temperature_K`, mean.`30d_mean_min_air_temperature_K`, mean.`30d_mean_burning_index_g_Unitless`, mean.`30d_mean_dead_fuel_moisture_100hr_Percent`, mean.`30d_mean_dead_fuel_moisture_1000hr_Percent`, mean.`30d_mean_energy_release_component-g_Unitless`, mean.`30d_mean_potential_evapotranspiration_mm`, mean.`30d_mean_mean_vapor_pressure_deficit_kPa`, mean.`60d_mean_precipitation_amount_mm`, mean.`60d_mean_relative_humidity_%`, mean.`60d_mean_specific_humidity_kg/kg`, mean.`60d_mean_surface_downwelling_shortwave_flux_in_air_W_m-2`, mean.`60d_mean_wind_from_direction_Degrees_Clockwise_from_north`, mean.`60d_mean_wind_speed_m/s`, mean.`60d_mean_max_air_temperature_K`, mean.`60d_mean_min_air_temperature_K`, mean.`60d_mean_burning_index_g_Unitless`, mean.`60d_mean_dead_fuel_moisture_100hr_Percent`, mean.`60d_mean_dead_fuel_moisture_1000hr_Percent`, mean.`60d_mean_energy_release_component-g_Unitless`, mean.`60d_mean_potential_evapotranspiration_mm`, mean.`60d_mean_mean_vapor_pressure_deficit_kPa`, mean.`90d_mean_precipitation_amount_mm`, mean.`90d_mean_relative_humidity_%`, mean.`90d_mean_specific_humidity_kg/kg`, mean.`90d_mean_surface_downwelling_shortwave_flux_in_air_W_m-2`, mean.`90d_mean_wind_from_direction_Degrees_Clockwise_from_north`, mean.`90d_mean_wind_speed_m/s`, mean.`90d_mean_max_air_temperature_K`, mean.`90d_mean_min_air_temperature_K`, mean.`90d_mean_burning_index_g_Unitless`, mean.`90d_mean_dead_fuel_moisture_100hr_Percent`, mean.`90d_mean_dead_fuel_moisture_1000hr_Percent`, mean.`90d_mean_energy_release_component-g_Unitless`, mean.`90d_mean_potential_evapotranspiration_mm`, mean.`90d_mean_mean_vapor_pressure_deficit_kPa`, mean.`180d_mean_precipitation_amount_mm`, mean.`180d_mean_relative_humidity_%`, mean.`180d_mean_specific_humidity_kg/kg`, mean.`180d_mean_surface_downwelling_shortwave_flux_in_air_W_m-2`, mean.`180d_mean_wind_from_direction_Degrees_Clockwise_from_north`, mean.`180d_mean_wind_speed_m/s`, mean.`180d_mean_max_air_temperature_K`, mean.`180d_mean_min_air_temperature_K`, mean.`180d_mean_burning_index_g_Unitless`, mean.`180d_mean_dead_fuel_moisture_100hr_Percent`, mean.`180d_mean_dead_fuel_moisture_1000hr_Percent`, mean.`180d_mean_energy_release_component-g_Unitless`, mean.`180d_mean_potential_evapotranspiration_mm`, mean.`180d_mean_mean_vapor_pressure_deficit_kPa`, mean.`365d_mean_precipitation_amount_mm`, mean.`365d_mean_relative_humidity_%`, mean.`365d_mean_specific_humidity_kg/kg`, mean.`365d_mean_surface_downwelling_shortwave_flux_in_air_W_m-2`, mean.`365d_mean_wind_from_direction_Degrees_Clockwise_from_north`, mean.`365d_mean_wind_speed_m/s`, mean.`365d_mean_max_air_temperature_K`, mean.`365d_mean_min_air_temperature_K`, mean.`365d_mean_burning_index_g_Unitless`, mean.`365d_mean_dead_fuel_moisture_100hr_Percent`, mean.`365d_mean_dead_fuel_moisture_1000hr_Percent`, mean.`365d_mean_energy_release_component-g_Unitless`, mean.`365d_mean_potential_evapotranspiration_mm`, mean.`365d_mean_mean_vapor_pressure_deficit_kPa`, cumulative.`7d_cumulative_precipitation_amount_mm`, cumulative.`7d_cumulative_relative_humidity_%`, cumulative.`7d_cumulative_specific_humidity_kg/kg`, cumulative.`7d_cumulative_surface_downwelling_shortwave_flux_in_air_W_m-2`, cumulative.`7d_cumulative_wind_from_direction_Degrees_Clockwise_from_north`, cumulative.`7d_cumulative_wind_speed_m/s`, cumulative.`7d_cumulative_max_air_temperature_K`, cumulative.`7d_cumulative_min_air_temperature_K`, cumulative.`7d_cumulative_burning_index_g_Unitless`, cumulative.`7d_cumulative_dead_fuel_moisture_100hr_Percent`, cumulative.`7d_cumulative_dead_fuel_moisture_1000hr_Percent`, cumulative.`7d_cumulative_energy_release_component-g_Unitless`, cumulative.`7d_cumulative_potential_evapotranspiration_mm`, cumulative.`7d_cumulative_mean_vapor_pressure_deficit_kPa`, cumulative.`14d_cumulative_precipitation_amount_mm`, cumulative.`14d_cumulative_relative_humidity_%`, cumulative.`14d_cumulative_specific_humidity_kg/kg`, cumulative.`14d_cumulative_surface_downwelling_shortwave_flux_in_air_W_m-2`, cumulative.`14d_cumulative_wind_from_direction_Degrees_Clockwise_from_north`, cumulative.`14d_cumulative_wind_speed_m/s`, cumulative.`14d_cumulative_max_air_temperature_K`, cumulative.`14d_cumulative_min_air_temperature_K`, cumulative.`14d_cumulative_burning_index_g_Unitless`, cumulative.`14d_cumulative_dead_fuel_moisture_100hr_Percent`, cumulative.`14d_cumulative_dead_fuel_moisture_1000hr_Percent`, cumulative.`14d_cumulative_energy_release_component-g_Unitless`, cumulative.`14d_cumulative_potential_evapotranspiration_mm`, cumulative.`14d_cumulative_mean_vapor_pressure_deficit_kPa`, cumulative.`21d_cumulative_precipitation_amount_mm`, cumulative.`21d_cumulative_relative_humidity_%`, cumulative.`21d_cumulative_specific_humidity_kg/kg`, cumulative.`21d_cumulative_surface_downwelling_shortwave_flux_in_air_W_m-2`, cumulative.`21d_cumulative_wind_from_direction_Degrees_Clockwise_from_north`, cumulative.`21d_cumulative_wind_speed_m/s`, cumulative.`21d_cumulative_max_air_temperature_K`, cumulative.`21d_cumulative_min_air_temperature_K`, cumulative.`21d_cumulative_burning_index_g_Unitless`, cumulative.`21d_cumulative_dead_fuel_moisture_100hr_Percent`, cumulative.`21d_cumulative_dead_fuel_moisture_1000hr_Percent`, cumulative.`21d_cumulative_energy_release_component-g_Unitless`, cumulative.`21d_cumulative_potential_evapotranspiration_mm`, cumulative.`21d_cumulative_mean_vapor_pressure_deficit_kPa`, cumulative.`30d_cumulative_precipitation_amount_mm`, cumulative.`30d_cumulative_relative_humidity_%`, cumulative.`30d_cumulative_specific_humidity_kg/kg`, cumulative.`30d_cumulative_surface_downwelling_shortwave_flux_in_air_W_m-2`, cumulative.`30d_cumulative_wind_from_direction_Degrees_Clockwise_from_north`, cumulative.`30d_cumulative_wind_speed_m/s`, cumulative.`30d_cumulative_max_air_temperature_K`, cumulative.`30d_cumulative_min_air_temperature_K`, cumulative.`30d_cumulative_burning_index_g_Unitless`, cumulative.`30d_cumulative_dead_fuel_moisture_100hr_Percent`, cumulative.`30d_cumulative_dead_fuel_moisture_1000hr_Percent`, cumulative.`30d_cumulative_energy_release_component-g_Unitless`, cumulative.`30d_cumulative_potential_evapotranspiration_mm`, cumulative.`30d_cumulative_mean_vapor_pressure_deficit_kPa`, cumulative.`60d_cumulative_precipitation_amount_mm`, cumulative.`60d_cumulative_relative_humidity_%`, cumulative.`60d_cumulative_specific_humidity_kg/kg`, cumulative.`60d_cumulative_surface_downwelling_shortwave_flux_in_air_W_m-2`, cumulative.`60d_cumulative_wind_from_direction_Degrees_Clockwise_from_north`, cumulative.`60d_cumulative_wind_speed_m/s`, cumulative.`60d_cumulative_max_air_temperature_K`, cumulative.`60d_cumulative_min_air_temperature_K`, cumulative.`60d_cumulative_burning_index_g_Unitless`, cumulative.`60d_cumulative_dead_fuel_moisture_100hr_Percent`, cumulative.`60d_cumulative_dead_fuel_moisture_1000hr_Percent`, cumulative.`60d_cumulative_energy_release_component-g_Unitless`, cumulative.`60d_cumulative_potential_evapotranspiration_mm`, cumulative.`60d_cumulative_mean_vapor_pressure_deficit_kPa`, cumulative.`90d_cumulative_precipitation_amount_mm`, cumulative.`90d_cumulative_relative_humidity_%`, cumulative.`90d_cumulative_specific_humidity_kg/kg`, cumulative.`90d_cumulative_surface_downwelling_shortwave_flux_in_air_W_m-2`, cumulative.`90d_cumulative_wind_from_direction_Degrees_Clockwise_from_north`, cumulative.`90d_cumulative_wind_speed_m/s`, cumulative.`90d_cumulative_max_air_temperature_K`, cumulative.`90d_cumulative_min_air_temperature_K`, cumulative.`90d_cumulative_burning_index_g_Unitless`, cumulative.`90d_cumulative_dead_fuel_moisture_100hr_Percent`, cumulative.`90d_cumulative_dead_fuel_moisture_1000hr_Percent`, cumulative.`90d_cumulative_energy_release_component-g_Unitless`, cumulative.`90d_cumulative_potential_evapotranspiration_mm`, cumulative.`90d_cumulative_mean_vapor_pressure_deficit_kPa`, cumulative.`180d_cumulative_precipitation_amount_mm`, cumulative.`180d_cumulative_relative_humidity_%`, cumulative.`180d_cumulative_specific_humidity_kg/kg`, cumulative.`180d_cumulative_surface_downwelling_shortwave_flux_in_air_W_m-2`, cumulative.`180d_cumulative_wind_from_direction_Degrees_Clockwise_from_north`, cumulative.`180d_cumulative_wind_speed_m/s`, cumulative.`180d_cumulative_max_air_temperature_K`, cumulative.`180d_cumulative_min_air_temperature_K`, cumulative.`180d_cumulative_burning_index_g_Unitless`, cumulative.`180d_cumulative_dead_fuel_moisture_100hr_Percent`, cumulative.`180d_cumulative_dead_fuel_moisture_1000hr_Percent`, cumulative.`180d_cumulative_energy_release_component-g_Unitless`, cumulative.`180d_cumulative_potential_evapotranspiration_mm`, cumulative.`180d_cumulative_mean_vapor_pressure_deficit_kPa`, cumulative.`365d_cumulative_precipitation_amount_mm`, cumulative.`365d_cumulative_relative_humidity_%`, cumulative.`365d_cumulative_specific_humidity_kg/kg`, cumulative.`365d_cumulative_surface_downwelling_shortwave_flux_in_air_W_m-2`, cumulative.`365d_cumulative_wind_from_direction_Degrees_Clockwise_from_north`, cumulative.`365d_cumulative_wind_speed_m/s`, cumulative.`365d_cumulative_max_air_temperature_K`, cumulative.`365d_cumulative_min_air_temperature_K`, cumulative.`365d_cumulative_burning_index_g_Unitless`, cumulative.`365d_cumulative_dead_fuel_moisture_100hr_Percent`, cumulative.`365d_cumulative_dead_fuel_moisture_1000hr_Percent`, cumulative.`365d_cumulative_energy_release_component-g_Unitless`, cumulative.`365d_cumulative_potential_evapotranspiration_mm`, cumulative.`365d_cumulative_mean_vapor_pressure_deficit_kPa`, std.`7d_std_precipitation_amount_mm`, std.`7d_std_relative_humidity_%`, std.`7d_std_specific_humidity_kg/kg`, std.`7d_std_surface_downwelling_shortwave_flux_in_air_W_m-2`, std.`7d_std_wind_from_direction_Degrees_Clockwise_from_north`, std.`7d_std_wind_speed_m/s`, std.`7d_std_max_air_temperature_K`, std.`7d_std_min_air_temperature_K`, std.`7d_std_burning_index_g_Unitless`, std.`7d_std_dead_fuel_moisture_100hr_Percent`, std.`7d_std_dead_fuel_moisture_1000hr_Percent`, std.`7d_std_energy_release_component-g_Unitless`, std.`7d_std_potential_evapotranspiration_mm`, std.`7d_std_mean_vapor_pressure_deficit_kPa`, std.`14d_std_precipitation_amount_mm`, std.`14d_std_relative_humidity_%`, std.`14d_std_specific_humidity_kg/kg`, std.`14d_std_surface_downwelling_shortwave_flux_in_air_W_m-2`, std.`14d_std_wind_from_direction_Degrees_Clockwise_from_north`, std.`14d_std_wind_speed_m/s`, std.`14d_std_max_air_temperature_K`, std.`14d_std_min_air_temperature_K`, std.`14d_std_burning_index_g_Unitless`, std.`14d_std_dead_fuel_moisture_100hr_Percent`, std.`14d_std_dead_fuel_moisture_1000hr_Percent`, std.`14d_std_energy_release_component-g_Unitless`, std.`14d_std_potential_evapotranspiration_mm`, std.`14d_std_mean_vapor_pressure_deficit_kPa`, std.`21d_std_precipitation_amount_mm`, std.`21d_std_relative_humidity_%`, std.`21d_std_specific_humidity_kg/kg`, std.`21d_std_surface_downwelling_shortwave_flux_in_air_W_m-2`, std.`21d_std_wind_from_direction_Degrees_Clockwise_from_north`, std.`21d_std_wind_speed_m/s`, std.`21d_std_max_air_temperature_K`, std.`21d_std_min_air_temperature_K`, std.`21d_std_burning_index_g_Unitless`, std.`21d_std_dead_fuel_moisture_100hr_Percent`, std.`21d_std_dead_fuel_moisture_1000hr_Percent`, std.`21d_std_energy_release_component-g_Unitless`, std.`21d_std_potential_evapotranspiration_mm`, std.`21d_std_mean_vapor_pressure_deficit_kPa`, std.`30d_std_precipitation_amount_mm`, std.`30d_std_relative_humidity_%`, std.`30d_std_specific_humidity_kg/kg`, std.`30d_std_surface_downwelling_shortwave_flux_in_air_W_m-2`, std.`30d_std_wind_from_direction_Degrees_Clockwise_from_north`, std.`30d_std_wind_speed_m/s`, std.`30d_std_max_air_temperature_K`, std.`30d_std_min_air_temperature_K`, std.`30d_std_burning_index_g_Unitless`, std.`30d_std_dead_fuel_moisture_100hr_Percent`, std.`30d_std_dead_fuel_moisture_1000hr_Percent`, std.`30d_std_energy_release_component-g_Unitless`, std.`30d_std_potential_evapotranspiration_mm`, std.`30d_std_mean_vapor_pressure_deficit_kPa`, std.`60d_std_precipitation_amount_mm`, std.`60d_std_relative_humidity_%`, std.`60d_std_specific_humidity_kg/kg`, std.`60d_std_surface_downwelling_shortwave_flux_in_air_W_m-2`, std.`60d_std_wind_from_direction_Degrees_Clockwise_from_north`, std.`60d_std_wind_speed_m/s`, std.`60d_std_max_air_temperature_K`, std.`60d_std_min_air_temperature_K`, std.`60d_std_burning_index_g_Unitless`, std.`60d_std_dead_fuel_moisture_100hr_Percent`, std.`60d_std_dead_fuel_moisture_1000hr_Percent`, std.`60d_std_energy_release_component-g_Unitless`, std.`60d_std_potential_evapotranspiration_mm`, std.`60d_std_mean_vapor_pressure_deficit_kPa`, std.`90d_std_precipitation_amount_mm`, std.`90d_std_relative_humidity_%`, std.`90d_std_specific_humidity_kg/kg`, std.`90d_std_surface_downwelling_shortwave_flux_in_air_W_m-2`, std.`90d_std_wind_from_direction_Degrees_Clockwise_from_north`, std.`90d_std_wind_speed_m/s`, std.`90d_std_max_air_temperature_K`, std.`90d_std_min_air_temperature_K`, std.`90d_std_burning_index_g_Unitless`, std.`90d_std_dead_fuel_moisture_100hr_Percent`, std.`90d_std_dead_fuel_moisture_1000hr_Percent`, std.`90d_std_energy_release_component-g_Unitless`, std.`90d_std_potential_evapotranspiration_mm`, std.`90d_std_mean_vapor_pressure_deficit_kPa`, std.`180d_std_precipitation_amount_mm`, std.`180d_std_relative_humidity_%`, std.`180d_std_specific_humidity_kg/kg`, std.`180d_std_surface_downwelling_shortwave_flux_in_air_W_m-2`, std.`180d_std_wind_from_direction_Degrees_Clockwise_from_north`, std.`180d_std_wind_speed_m/s`, std.`180d_std_max_air_temperature_K`, std.`180d_std_min_air_temperature_K`, std.`180d_std_burning_index_g_Unitless`, std.`180d_std_dead_fuel_moisture_100hr_Percent`, std.`180d_std_dead_fuel_moisture_1000hr_Percent`, std.`180d_std_energy_release_component-g_Unitless`, std.`180d_std_potential_evapotranspiration_mm`, std.`180d_std_mean_vapor_pressure_deficit_kPa`, std.`365d_std_precipitation_amount_mm`, std.`365d_std_relative_humidity_%`, std.`365d_std_specific_humidity_kg/kg`, std.`365d_std_surface_downwelling_shortwave_flux_in_air_W_m-2`, std.`365d_std_wind_from_direction_Degrees_Clockwise_from_north`, std.`365d_std_wind_speed_m/s`, std.`365d_std_max_air_temperature_K`, std.`365d_std_min_air_temperature_K`, std.`365d_std_burning_index_g_Unitless`, std.`365d_std_dead_fuel_moisture_100hr_Percent`, std.`365d_std_dead_fuel_moisture_1000hr_Percent`, std.`365d_std_energy_release_component-g_Unitless`, std.`365d_std_potential_evapotranspiration_mm`, std.`365d_std_mean_vapor_pressure_deficit_kPa`\\nFROM fire_occurrences, min, max, mean, cumulative, std WHERE \\nto_unix_timestamp(min.date) = cast(fire_occurrences.date/1e9 as long)\\nAND min.latitude = fire_occurrences.latitude\\nAND min.longitude = fire_occurrences.longitude AND \\nto_unix_timestamp(max.date) = cast(fire_occurrences.date/1e9 as long)\\nAND max.latitude = fire_occurrences.latitude\\nAND max.longitude = fire_occurrences.longitude AND \\nto_unix_timestamp(mean.date) = cast(fire_occurrences.date/1e9 as long)\\nAND mean.latitude = fire_occurrences.latitude\\nAND mean.longitude = fire_occurrences.longitude AND \\nto_unix_timestamp(cumulative.date) = cast(fire_occurrences.date/1e9 as long)\\nAND cumulative.latitude = fire_occurrences.latitude\\nAND cumulative.longitude = fire_occurrences.longitude AND \\nto_unix_timestamp(std.date) = cast(fire_occurrences.date/1e9 as long)\\nAND std.latitude = fire_occurrences.latitude\\nAND std.longitude = fire_occurrences.longitude'"
     ]
    }
   ],
   "source": [
    "select_template = \"\"\"\n",
    "SELECT fire_occurrences.date, fire_occurrences.latitude, fire_occurrences.longitude, {pca_cols}\n",
    "FROM fire_occurrences, {tables} WHERE \"\"\"\n",
    "where_template = \"\"\"\n",
    "to_unix_timestamp({table}.date) = cast(fire_occurrences.date/1e9 as long)\n",
    "AND {table}.latitude = fire_occurrences.latitude\n",
    "AND {table}.longitude = fire_occurrences.longitude\"\"\"\n",
    "\n",
    "query = select_template.format(tables=\", \".join(aggs),\n",
    "                               pca_cols=\", \".join(original_cols)) \\\n",
    "        + \" AND \".join(where_template.format(table=agg) for agg in aggs)\n",
    "query"
   ]
  },
  {
   "cell_type": "code",
   "execution_count": 11,
   "metadata": {},
   "outputs": [
    {
     "name": "stdout",
     "output_type": "stream",
     "text": [
      "DataFrame[date: bigint, latitude: double, longitude: double, precipitation_amount_mm: double, relative_humidity_%: double, specific_humidity_kg/kg: double, surface_downwelling_shortwave_flux_in_air_W_m-2: double, wind_from_direction_Degrees_Clockwise_from_north: double, wind_speed_m/s: double, max_air_temperature_K: double, min_air_temperature_K: double, burning_index_g_Unitless: double, dead_fuel_moisture_100hr_Percent: double, dead_fuel_moisture_1000hr_Percent: double, energy_release_component-g_Unitless: double, potential_evapotranspiration_mm: double, mean_vapor_pressure_deficit_kPa: double, 7d_min_precipitation_amount_mm: double, 7d_min_relative_humidity_%: double, 7d_min_specific_humidity_kg/kg: double, 7d_min_surface_downwelling_shortwave_flux_in_air_W_m-2: double, 7d_min_wind_from_direction_Degrees_Clockwise_from_north: double, 7d_min_wind_speed_m/s: double, 7d_min_max_air_temperature_K: double, 7d_min_min_air_temperature_K: double, 7d_min_burning_index_g_Unitless: double, 7d_min_dead_fuel_moisture_100hr_Percent: double, 7d_min_dead_fuel_moisture_1000hr_Percent: double, 7d_min_energy_release_component-g_Unitless: double, 7d_min_potential_evapotranspiration_mm: double, 7d_min_mean_vapor_pressure_deficit_kPa: double, 14d_min_precipitation_amount_mm: double, 14d_min_relative_humidity_%: double, 14d_min_specific_humidity_kg/kg: double, 14d_min_surface_downwelling_shortwave_flux_in_air_W_m-2: double, 14d_min_wind_from_direction_Degrees_Clockwise_from_north: double, 14d_min_wind_speed_m/s: double, 14d_min_max_air_temperature_K: double, 14d_min_min_air_temperature_K: double, 14d_min_burning_index_g_Unitless: double, 14d_min_dead_fuel_moisture_100hr_Percent: double, 14d_min_dead_fuel_moisture_1000hr_Percent: double, 14d_min_energy_release_component-g_Unitless: double, 14d_min_potential_evapotranspiration_mm: double, 14d_min_mean_vapor_pressure_deficit_kPa: double, 21d_min_precipitation_amount_mm: double, 21d_min_relative_humidity_%: double, 21d_min_specific_humidity_kg/kg: double, 21d_min_surface_downwelling_shortwave_flux_in_air_W_m-2: double, 21d_min_wind_from_direction_Degrees_Clockwise_from_north: double, 21d_min_wind_speed_m/s: double, 21d_min_max_air_temperature_K: double, 21d_min_min_air_temperature_K: double, 21d_min_burning_index_g_Unitless: double, 21d_min_dead_fuel_moisture_100hr_Percent: double, 21d_min_dead_fuel_moisture_1000hr_Percent: double, 21d_min_energy_release_component-g_Unitless: double, 21d_min_potential_evapotranspiration_mm: double, 21d_min_mean_vapor_pressure_deficit_kPa: double, 30d_min_precipitation_amount_mm: double, 30d_min_relative_humidity_%: double, 30d_min_specific_humidity_kg/kg: double, 30d_min_surface_downwelling_shortwave_flux_in_air_W_m-2: double, 30d_min_wind_from_direction_Degrees_Clockwise_from_north: double, 30d_min_wind_speed_m/s: double, 30d_min_max_air_temperature_K: double, 30d_min_min_air_temperature_K: double, 30d_min_burning_index_g_Unitless: double, 30d_min_dead_fuel_moisture_100hr_Percent: double, 30d_min_dead_fuel_moisture_1000hr_Percent: double, 30d_min_energy_release_component-g_Unitless: double, 30d_min_potential_evapotranspiration_mm: double, 30d_min_mean_vapor_pressure_deficit_kPa: double, 60d_min_precipitation_amount_mm: double, 60d_min_relative_humidity_%: double, 60d_min_specific_humidity_kg/kg: double, 60d_min_surface_downwelling_shortwave_flux_in_air_W_m-2: double, 60d_min_wind_from_direction_Degrees_Clockwise_from_north: double, 60d_min_wind_speed_m/s: double, 60d_min_max_air_temperature_K: double, 60d_min_min_air_temperature_K: double, 60d_min_burning_index_g_Unitless: double, 60d_min_dead_fuel_moisture_100hr_Percent: double, 60d_min_dead_fuel_moisture_1000hr_Percent: double, 60d_min_energy_release_component-g_Unitless: double, 60d_min_potential_evapotranspiration_mm: double, 60d_min_mean_vapor_pressure_deficit_kPa: double, 90d_min_precipitation_amount_mm: double, 90d_min_relative_humidity_%: double, 90d_min_specific_humidity_kg/kg: double, 90d_min_surface_downwelling_shortwave_flux_in_air_W_m-2: double, 90d_min_wind_from_direction_Degrees_Clockwise_from_north: double, 90d_min_wind_speed_m/s: double, 90d_min_max_air_temperature_K: double, 90d_min_min_air_temperature_K: double, 90d_min_burning_index_g_Unitless: double, 90d_min_dead_fuel_moisture_100hr_Percent: double, 90d_min_dead_fuel_moisture_1000hr_Percent: double, 90d_min_energy_release_component-g_Unitless: double, 90d_min_potential_evapotranspiration_mm: double, 90d_min_mean_vapor_pressure_deficit_kPa: double, 180d_min_precipitation_amount_mm: double, 180d_min_relative_humidity_%: double, 180d_min_specific_humidity_kg/kg: double, 180d_min_surface_downwelling_shortwave_flux_in_air_W_m-2: double, 180d_min_wind_from_direction_Degrees_Clockwise_from_north: double, 180d_min_wind_speed_m/s: double, 180d_min_max_air_temperature_K: double, 180d_min_min_air_temperature_K: double, 180d_min_burning_index_g_Unitless: double, 180d_min_dead_fuel_moisture_100hr_Percent: double, 180d_min_dead_fuel_moisture_1000hr_Percent: double, 180d_min_energy_release_component-g_Unitless: double, 180d_min_potential_evapotranspiration_mm: double, 180d_min_mean_vapor_pressure_deficit_kPa: double, 365d_min_precipitation_amount_mm: double, 365d_min_relative_humidity_%: double, 365d_min_specific_humidity_kg/kg: double, 365d_min_surface_downwelling_shortwave_flux_in_air_W_m-2: double, 365d_min_wind_from_direction_Degrees_Clockwise_from_north: double, 365d_min_wind_speed_m/s: double, 365d_min_max_air_temperature_K: double, 365d_min_min_air_temperature_K: double, 365d_min_burning_index_g_Unitless: double, 365d_min_dead_fuel_moisture_100hr_Percent: double, 365d_min_dead_fuel_moisture_1000hr_Percent: double, 365d_min_energy_release_component-g_Unitless: double, 365d_min_potential_evapotranspiration_mm: double, 365d_min_mean_vapor_pressure_deficit_kPa: double, 7d_max_precipitation_amount_mm: double, 7d_max_relative_humidity_%: double, 7d_max_specific_humidity_kg/kg: double, 7d_max_surface_downwelling_shortwave_flux_in_air_W_m-2: double, 7d_max_wind_from_direction_Degrees_Clockwise_from_north: double, 7d_max_wind_speed_m/s: double, 7d_max_max_air_temperature_K: double, 7d_max_min_air_temperature_K: double, 7d_max_burning_index_g_Unitless: double, 7d_max_dead_fuel_moisture_100hr_Percent: double, 7d_max_dead_fuel_moisture_1000hr_Percent: double, 7d_max_energy_release_component-g_Unitless: double, 7d_max_potential_evapotranspiration_mm: double, 7d_max_mean_vapor_pressure_deficit_kPa: double, 14d_max_precipitation_amount_mm: double, 14d_max_relative_humidity_%: double, 14d_max_specific_humidity_kg/kg: double, 14d_max_surface_downwelling_shortwave_flux_in_air_W_m-2: double, 14d_max_wind_from_direction_Degrees_Clockwise_from_north: double, 14d_max_wind_speed_m/s: double, 14d_max_max_air_temperature_K: double, 14d_max_min_air_temperature_K: double, 14d_max_burning_index_g_Unitless: double, 14d_max_dead_fuel_moisture_100hr_Percent: double, 14d_max_dead_fuel_moisture_1000hr_Percent: double, 14d_max_energy_release_component-g_Unitless: double, 14d_max_potential_evapotranspiration_mm: double, 14d_max_mean_vapor_pressure_deficit_kPa: double, 21d_max_precipitation_amount_mm: double, 21d_max_relative_humidity_%: double, 21d_max_specific_humidity_kg/kg: double, 21d_max_surface_downwelling_shortwave_flux_in_air_W_m-2: double, 21d_max_wind_from_direction_Degrees_Clockwise_from_north: double, 21d_max_wind_speed_m/s: double, 21d_max_max_air_temperature_K: double, 21d_max_min_air_temperature_K: double, 21d_max_burning_index_g_Unitless: double, 21d_max_dead_fuel_moisture_100hr_Percent: double, 21d_max_dead_fuel_moisture_1000hr_Percent: double, 21d_max_energy_release_component-g_Unitless: double, 21d_max_potential_evapotranspiration_mm: double, 21d_max_mean_vapor_pressure_deficit_kPa: double, 30d_max_precipitation_amount_mm: double, 30d_max_relative_humidity_%: double, 30d_max_specific_humidity_kg/kg: double, 30d_max_surface_downwelling_shortwave_flux_in_air_W_m-2: double, 30d_max_wind_from_direction_Degrees_Clockwise_from_north: double, 30d_max_wind_speed_m/s: double, 30d_max_max_air_temperature_K: double, 30d_max_min_air_temperature_K: double, 30d_max_burning_index_g_Unitless: double, 30d_max_dead_fuel_moisture_100hr_Percent: double, 30d_max_dead_fuel_moisture_1000hr_Percent: double, 30d_max_energy_release_component-g_Unitless: double, 30d_max_potential_evapotranspiration_mm: double, 30d_max_mean_vapor_pressure_deficit_kPa: double, 60d_max_precipitation_amount_mm: double, 60d_max_relative_humidity_%: double, 60d_max_specific_humidity_kg/kg: double, 60d_max_surface_downwelling_shortwave_flux_in_air_W_m-2: double, 60d_max_wind_from_direction_Degrees_Clockwise_from_north: double, 60d_max_wind_speed_m/s: double, 60d_max_max_air_temperature_K: double, 60d_max_min_air_temperature_K: double, 60d_max_burning_index_g_Unitless: double, 60d_max_dead_fuel_moisture_100hr_Percent: double, 60d_max_dead_fuel_moisture_1000hr_Percent: double, 60d_max_energy_release_component-g_Unitless: double, 60d_max_potential_evapotranspiration_mm: double, 60d_max_mean_vapor_pressure_deficit_kPa: double, 90d_max_precipitation_amount_mm: double, 90d_max_relative_humidity_%: double, 90d_max_specific_humidity_kg/kg: double, 90d_max_surface_downwelling_shortwave_flux_in_air_W_m-2: double, 90d_max_wind_from_direction_Degrees_Clockwise_from_north: double, 90d_max_wind_speed_m/s: double, 90d_max_max_air_temperature_K: double, 90d_max_min_air_temperature_K: double, 90d_max_burning_index_g_Unitless: double, 90d_max_dead_fuel_moisture_100hr_Percent: double, 90d_max_dead_fuel_moisture_1000hr_Percent: double, 90d_max_energy_release_component-g_Unitless: double, 90d_max_potential_evapotranspiration_mm: double, 90d_max_mean_vapor_pressure_deficit_kPa: double, 180d_max_precipitation_amount_mm: double, 180d_max_relative_humidity_%: double, 180d_max_specific_humidity_kg/kg: double, 180d_max_surface_downwelling_shortwave_flux_in_air_W_m-2: double, 180d_max_wind_from_direction_Degrees_Clockwise_from_north: double, 180d_max_wind_speed_m/s: double, 180d_max_max_air_temperature_K: double, 180d_max_min_air_temperature_K: double, 180d_max_burning_index_g_Unitless: double, 180d_max_dead_fuel_moisture_100hr_Percent: double, 180d_max_dead_fuel_moisture_1000hr_Percent: double, 180d_max_energy_release_component-g_Unitless: double, 180d_max_potential_evapotranspiration_mm: double, 180d_max_mean_vapor_pressure_deficit_kPa: double, 365d_max_precipitation_amount_mm: double, 365d_max_relative_humidity_%: double, 365d_max_specific_humidity_kg/kg: double, 365d_max_surface_downwelling_shortwave_flux_in_air_W_m-2: double, 365d_max_wind_from_direction_Degrees_Clockwise_from_north: double, 365d_max_wind_speed_m/s: double, 365d_max_max_air_temperature_K: double, 365d_max_min_air_temperature_K: double, 365d_max_burning_index_g_Unitless: double, 365d_max_dead_fuel_moisture_100hr_Percent: double, 365d_max_dead_fuel_moisture_1000hr_Percent: double, 365d_max_energy_release_component-g_Unitless: double, 365d_max_potential_evapotranspiration_mm: double, 365d_max_mean_vapor_pressure_deficit_kPa: double, 7d_mean_precipitation_amount_mm: double, 7d_mean_relative_humidity_%: double, 7d_mean_specific_humidity_kg/kg: double, 7d_mean_surface_downwelling_shortwave_flux_in_air_W_m-2: double, 7d_mean_wind_from_direction_Degrees_Clockwise_from_north: double, 7d_mean_wind_speed_m/s: double, 7d_mean_max_air_temperature_K: double, 7d_mean_min_air_temperature_K: double, 7d_mean_burning_index_g_Unitless: double, 7d_mean_dead_fuel_moisture_100hr_Percent: double, 7d_mean_dead_fuel_moisture_1000hr_Percent: double, 7d_mean_energy_release_component-g_Unitless: double, 7d_mean_potential_evapotranspiration_mm: double, 7d_mean_mean_vapor_pressure_deficit_kPa: double, 14d_mean_precipitation_amount_mm: double, 14d_mean_relative_humidity_%: double, 14d_mean_specific_humidity_kg/kg: double, 14d_mean_surface_downwelling_shortwave_flux_in_air_W_m-2: double, 14d_mean_wind_from_direction_Degrees_Clockwise_from_north: double, 14d_mean_wind_speed_m/s: double, 14d_mean_max_air_temperature_K: double, 14d_mean_min_air_temperature_K: double, 14d_mean_burning_index_g_Unitless: double, 14d_mean_dead_fuel_moisture_100hr_Percent: double, 14d_mean_dead_fuel_moisture_1000hr_Percent: double, 14d_mean_energy_release_component-g_Unitless: double, 14d_mean_potential_evapotranspiration_mm: double, 14d_mean_mean_vapor_pressure_deficit_kPa: double, 21d_mean_precipitation_amount_mm: double, 21d_mean_relative_humidity_%: double, 21d_mean_specific_humidity_kg/kg: double, 21d_mean_surface_downwelling_shortwave_flux_in_air_W_m-2: double, 21d_mean_wind_from_direction_Degrees_Clockwise_from_north: double, 21d_mean_wind_speed_m/s: double, 21d_mean_max_air_temperature_K: double, 21d_mean_min_air_temperature_K: double, 21d_mean_burning_index_g_Unitless: double, 21d_mean_dead_fuel_moisture_100hr_Percent: double, 21d_mean_dead_fuel_moisture_1000hr_Percent: double, 21d_mean_energy_release_component-g_Unitless: double, 21d_mean_potential_evapotranspiration_mm: double, 21d_mean_mean_vapor_pressure_deficit_kPa: double, 30d_mean_precipitation_amount_mm: double, 30d_mean_relative_humidity_%: double, 30d_mean_specific_humidity_kg/kg: double, 30d_mean_surface_downwelling_shortwave_flux_in_air_W_m-2: double, 30d_mean_wind_from_direction_Degrees_Clockwise_from_north: double, 30d_mean_wind_speed_m/s: double, 30d_mean_max_air_temperature_K: double, 30d_mean_min_air_temperature_K: double, 30d_mean_burning_index_g_Unitless: double, 30d_mean_dead_fuel_moisture_100hr_Percent: double, 30d_mean_dead_fuel_moisture_1000hr_Percent: double, 30d_mean_energy_release_component-g_Unitless: double, 30d_mean_potential_evapotranspiration_mm: double, 30d_mean_mean_vapor_pressure_deficit_kPa: double, 60d_mean_precipitation_amount_mm: double, 60d_mean_relative_humidity_%: double, 60d_mean_specific_humidity_kg/kg: double, 60d_mean_surface_downwelling_shortwave_flux_in_air_W_m-2: double, 60d_mean_wind_from_direction_Degrees_Clockwise_from_north: double, 60d_mean_wind_speed_m/s: double, 60d_mean_max_air_temperature_K: double, 60d_mean_min_air_temperature_K: double, 60d_mean_burning_index_g_Unitless: double, 60d_mean_dead_fuel_moisture_100hr_Percent: double, 60d_mean_dead_fuel_moisture_1000hr_Percent: double, 60d_mean_energy_release_component-g_Unitless: double, 60d_mean_potential_evapotranspiration_mm: double, 60d_mean_mean_vapor_pressure_deficit_kPa: double, 90d_mean_precipitation_amount_mm: double, 90d_mean_relative_humidity_%: double, 90d_mean_specific_humidity_kg/kg: double, 90d_mean_surface_downwelling_shortwave_flux_in_air_W_m-2: double, 90d_mean_wind_from_direction_Degrees_Clockwise_from_north: double, 90d_mean_wind_speed_m/s: double, 90d_mean_max_air_temperature_K: double, 90d_mean_min_air_temperature_K: double, 90d_mean_burning_index_g_Unitless: double, 90d_mean_dead_fuel_moisture_100hr_Percent: double, 90d_mean_dead_fuel_moisture_1000hr_Percent: double, 90d_mean_energy_release_component-g_Unitless: double, 90d_mean_potential_evapotranspiration_mm: double, 90d_mean_mean_vapor_pressure_deficit_kPa: double, 180d_mean_precipitation_amount_mm: double, 180d_mean_relative_humidity_%: double, 180d_mean_specific_humidity_kg/kg: double, 180d_mean_surface_downwelling_shortwave_flux_in_air_W_m-2: double, 180d_mean_wind_from_direction_Degrees_Clockwise_from_north: double, 180d_mean_wind_speed_m/s: double, 180d_mean_max_air_temperature_K: double, 180d_mean_min_air_temperature_K: double, 180d_mean_burning_index_g_Unitless: double, 180d_mean_dead_fuel_moisture_100hr_Percent: double, 180d_mean_dead_fuel_moisture_1000hr_Percent: double, 180d_mean_energy_release_component-g_Unitless: double, 180d_mean_potential_evapotranspiration_mm: double, 180d_mean_mean_vapor_pressure_deficit_kPa: double, 365d_mean_precipitation_amount_mm: double, 365d_mean_relative_humidity_%: double, 365d_mean_specific_humidity_kg/kg: double, 365d_mean_surface_downwelling_shortwave_flux_in_air_W_m-2: double, 365d_mean_wind_from_direction_Degrees_Clockwise_from_north: double, 365d_mean_wind_speed_m/s: double, 365d_mean_max_air_temperature_K: double, 365d_mean_min_air_temperature_K: double, 365d_mean_burning_index_g_Unitless: double, 365d_mean_dead_fuel_moisture_100hr_Percent: double, 365d_mean_dead_fuel_moisture_1000hr_Percent: double, 365d_mean_energy_release_component-g_Unitless: double, 365d_mean_potential_evapotranspiration_mm: double, 365d_mean_mean_vapor_pressure_deficit_kPa: double, 7d_cumulative_precipitation_amount_mm: double, 7d_cumulative_relative_humidity_%: double, 7d_cumulative_specific_humidity_kg/kg: double, 7d_cumulative_surface_downwelling_shortwave_flux_in_air_W_m-2: double, 7d_cumulative_wind_from_direction_Degrees_Clockwise_from_north: double, 7d_cumulative_wind_speed_m/s: double, 7d_cumulative_max_air_temperature_K: double, 7d_cumulative_min_air_temperature_K: double, 7d_cumulative_burning_index_g_Unitless: double, 7d_cumulative_dead_fuel_moisture_100hr_Percent: double, 7d_cumulative_dead_fuel_moisture_1000hr_Percent: double, 7d_cumulative_energy_release_component-g_Unitless: double, 7d_cumulative_potential_evapotranspiration_mm: double, 7d_cumulative_mean_vapor_pressure_deficit_kPa: double, 14d_cumulative_precipitation_amount_mm: double, 14d_cumulative_relative_humidity_%: double, 14d_cumulative_specific_humidity_kg/kg: double, 14d_cumulative_surface_downwelling_shortwave_flux_in_air_W_m-2: double, 14d_cumulative_wind_from_direction_Degrees_Clockwise_from_north: double, 14d_cumulative_wind_speed_m/s: double, 14d_cumulative_max_air_temperature_K: double, 14d_cumulative_min_air_temperature_K: double, 14d_cumulative_burning_index_g_Unitless: double, 14d_cumulative_dead_fuel_moisture_100hr_Percent: double, 14d_cumulative_dead_fuel_moisture_1000hr_Percent: double, 14d_cumulative_energy_release_component-g_Unitless: double, 14d_cumulative_potential_evapotranspiration_mm: double, 14d_cumulative_mean_vapor_pressure_deficit_kPa: double, 21d_cumulative_precipitation_amount_mm: double, 21d_cumulative_relative_humidity_%: double, 21d_cumulative_specific_humidity_kg/kg: double, 21d_cumulative_surface_downwelling_shortwave_flux_in_air_W_m-2: double, 21d_cumulative_wind_from_direction_Degrees_Clockwise_from_north: double, 21d_cumulative_wind_speed_m/s: double, 21d_cumulative_max_air_temperature_K: double, 21d_cumulative_min_air_temperature_K: double, 21d_cumulative_burning_index_g_Unitless: double, 21d_cumulative_dead_fuel_moisture_100hr_Percent: double, 21d_cumulative_dead_fuel_moisture_1000hr_Percent: double, 21d_cumulative_energy_release_component-g_Unitless: double, 21d_cumulative_potential_evapotranspiration_mm: double, 21d_cumulative_mean_vapor_pressure_deficit_kPa: double, 30d_cumulative_precipitation_amount_mm: double, 30d_cumulative_relative_humidity_%: double, 30d_cumulative_specific_humidity_kg/kg: double, 30d_cumulative_surface_downwelling_shortwave_flux_in_air_W_m-2: double, 30d_cumulative_wind_from_direction_Degrees_Clockwise_from_north: double, 30d_cumulative_wind_speed_m/s: double, 30d_cumulative_max_air_temperature_K: double, 30d_cumulative_min_air_temperature_K: double, 30d_cumulative_burning_index_g_Unitless: double, 30d_cumulative_dead_fuel_moisture_100hr_Percent: double, 30d_cumulative_dead_fuel_moisture_1000hr_Percent: double, 30d_cumulative_energy_release_component-g_Unitless: double, 30d_cumulative_potential_evapotranspiration_mm: double, 30d_cumulative_mean_vapor_pressure_deficit_kPa: double, 60d_cumulative_precipitation_amount_mm: double, 60d_cumulative_relative_humidity_%: double, 60d_cumulative_specific_humidity_kg/kg: double, 60d_cumulative_surface_downwelling_shortwave_flux_in_air_W_m-2: double, 60d_cumulative_wind_from_direction_Degrees_Clockwise_from_north: double, 60d_cumulative_wind_speed_m/s: double, 60d_cumulative_max_air_temperature_K: double, 60d_cumulative_min_air_temperature_K: double, 60d_cumulative_burning_index_g_Unitless: double, 60d_cumulative_dead_fuel_moisture_100hr_Percent: double, 60d_cumulative_dead_fuel_moisture_1000hr_Percent: double, 60d_cumulative_energy_release_component-g_Unitless: double, 60d_cumulative_potential_evapotranspiration_mm: double, 60d_cumulative_mean_vapor_pressure_deficit_kPa: double, 90d_cumulative_precipitation_amount_mm: double, 90d_cumulative_relative_humidity_%: double, 90d_cumulative_specific_humidity_kg/kg: double, 90d_cumulative_surface_downwelling_shortwave_flux_in_air_W_m-2: double, 90d_cumulative_wind_from_direction_Degrees_Clockwise_from_north: double, 90d_cumulative_wind_speed_m/s: double, 90d_cumulative_max_air_temperature_K: double, 90d_cumulative_min_air_temperature_K: double, 90d_cumulative_burning_index_g_Unitless: double, 90d_cumulative_dead_fuel_moisture_100hr_Percent: double, 90d_cumulative_dead_fuel_moisture_1000hr_Percent: double, 90d_cumulative_energy_release_component-g_Unitless: double, 90d_cumulative_potential_evapotranspiration_mm: double, 90d_cumulative_mean_vapor_pressure_deficit_kPa: double, 180d_cumulative_precipitation_amount_mm: double, 180d_cumulative_relative_humidity_%: double, 180d_cumulative_specific_humidity_kg/kg: double, 180d_cumulative_surface_downwelling_shortwave_flux_in_air_W_m-2: double, 180d_cumulative_wind_from_direction_Degrees_Clockwise_from_north: double, 180d_cumulative_wind_speed_m/s: double, 180d_cumulative_max_air_temperature_K: double, 180d_cumulative_min_air_temperature_K: double, 180d_cumulative_burning_index_g_Unitless: double, 180d_cumulative_dead_fuel_moisture_100hr_Percent: double, 180d_cumulative_dead_fuel_moisture_1000hr_Percent: double, 180d_cumulative_energy_release_component-g_Unitless: double, 180d_cumulative_potential_evapotranspiration_mm: double, 180d_cumulative_mean_vapor_pressure_deficit_kPa: double, 365d_cumulative_precipitation_amount_mm: double, 365d_cumulative_relative_humidity_%: double, 365d_cumulative_specific_humidity_kg/kg: double, 365d_cumulative_surface_downwelling_shortwave_flux_in_air_W_m-2: double, 365d_cumulative_wind_from_direction_Degrees_Clockwise_from_north: double, 365d_cumulative_wind_speed_m/s: double, 365d_cumulative_max_air_temperature_K: double, 365d_cumulative_min_air_temperature_K: double, 365d_cumulative_burning_index_g_Unitless: double, 365d_cumulative_dead_fuel_moisture_100hr_Percent: double, 365d_cumulative_dead_fuel_moisture_1000hr_Percent: double, 365d_cumulative_energy_release_component-g_Unitless: double, 365d_cumulative_potential_evapotranspiration_mm: double, 365d_cumulative_mean_vapor_pressure_deficit_kPa: double, 7d_std_precipitation_amount_mm: double, 7d_std_relative_humidity_%: double, 7d_std_specific_humidity_kg/kg: double, 7d_std_surface_downwelling_shortwave_flux_in_air_W_m-2: double, 7d_std_wind_from_direction_Degrees_Clockwise_from_north: double, 7d_std_wind_speed_m/s: double, 7d_std_max_air_temperature_K: double, 7d_std_min_air_temperature_K: double, 7d_std_burning_index_g_Unitless: double, 7d_std_dead_fuel_moisture_100hr_Percent: double, 7d_std_dead_fuel_moisture_1000hr_Percent: double, 7d_std_energy_release_component-g_Unitless: double, 7d_std_potential_evapotranspiration_mm: double, 7d_std_mean_vapor_pressure_deficit_kPa: double, 14d_std_precipitation_amount_mm: double, 14d_std_relative_humidity_%: double, 14d_std_specific_humidity_kg/kg: double, 14d_std_surface_downwelling_shortwave_flux_in_air_W_m-2: double, 14d_std_wind_from_direction_Degrees_Clockwise_from_north: double, 14d_std_wind_speed_m/s: double, 14d_std_max_air_temperature_K: double, 14d_std_min_air_temperature_K: double, 14d_std_burning_index_g_Unitless: double, 14d_std_dead_fuel_moisture_100hr_Percent: double, 14d_std_dead_fuel_moisture_1000hr_Percent: double, 14d_std_energy_release_component-g_Unitless: double, 14d_std_potential_evapotranspiration_mm: double, 14d_std_mean_vapor_pressure_deficit_kPa: double, 21d_std_precipitation_amount_mm: double, 21d_std_relative_humidity_%: double, 21d_std_specific_humidity_kg/kg: double, 21d_std_surface_downwelling_shortwave_flux_in_air_W_m-2: double, 21d_std_wind_from_direction_Degrees_Clockwise_from_north: double, 21d_std_wind_speed_m/s: double, 21d_std_max_air_temperature_K: double, 21d_std_min_air_temperature_K: double, 21d_std_burning_index_g_Unitless: double, 21d_std_dead_fuel_moisture_100hr_Percent: double, 21d_std_dead_fuel_moisture_1000hr_Percent: double, 21d_std_energy_release_component-g_Unitless: double, 21d_std_potential_evapotranspiration_mm: double, 21d_std_mean_vapor_pressure_deficit_kPa: double, 30d_std_precipitation_amount_mm: double, 30d_std_relative_humidity_%: double, 30d_std_specific_humidity_kg/kg: double, 30d_std_surface_downwelling_shortwave_flux_in_air_W_m-2: double, 30d_std_wind_from_direction_Degrees_Clockwise_from_north: double, 30d_std_wind_speed_m/s: double, 30d_std_max_air_temperature_K: double, 30d_std_min_air_temperature_K: double, 30d_std_burning_index_g_Unitless: double, 30d_std_dead_fuel_moisture_100hr_Percent: double, 30d_std_dead_fuel_moisture_1000hr_Percent: double, 30d_std_energy_release_component-g_Unitless: double, 30d_std_potential_evapotranspiration_mm: double, 30d_std_mean_vapor_pressure_deficit_kPa: double, 60d_std_precipitation_amount_mm: double, 60d_std_relative_humidity_%: double, 60d_std_specific_humidity_kg/kg: double, 60d_std_surface_downwelling_shortwave_flux_in_air_W_m-2: double, 60d_std_wind_from_direction_Degrees_Clockwise_from_north: double, 60d_std_wind_speed_m/s: double, 60d_std_max_air_temperature_K: double, 60d_std_min_air_temperature_K: double, 60d_std_burning_index_g_Unitless: double, 60d_std_dead_fuel_moisture_100hr_Percent: double, 60d_std_dead_fuel_moisture_1000hr_Percent: double, 60d_std_energy_release_component-g_Unitless: double, 60d_std_potential_evapotranspiration_mm: double, 60d_std_mean_vapor_pressure_deficit_kPa: double, 90d_std_precipitation_amount_mm: double, 90d_std_relative_humidity_%: double, 90d_std_specific_humidity_kg/kg: double, 90d_std_surface_downwelling_shortwave_flux_in_air_W_m-2: double, 90d_std_wind_from_direction_Degrees_Clockwise_from_north: double, 90d_std_wind_speed_m/s: double, 90d_std_max_air_temperature_K: double, 90d_std_min_air_temperature_K: double, 90d_std_burning_index_g_Unitless: double, 90d_std_dead_fuel_moisture_100hr_Percent: double, 90d_std_dead_fuel_moisture_1000hr_Percent: double, 90d_std_energy_release_component-g_Unitless: double, 90d_std_potential_evapotranspiration_mm: double, 90d_std_mean_vapor_pressure_deficit_kPa: double, 180d_std_precipitation_amount_mm: double, 180d_std_relative_humidity_%: double, 180d_std_specific_humidity_kg/kg: double, 180d_std_surface_downwelling_shortwave_flux_in_air_W_m-2: double, 180d_std_wind_from_direction_Degrees_Clockwise_from_north: double, 180d_std_wind_speed_m/s: double, 180d_std_max_air_temperature_K: double, 180d_std_min_air_temperature_K: double, 180d_std_burning_index_g_Unitless: double, 180d_std_dead_fuel_moisture_100hr_Percent: double, 180d_std_dead_fuel_moisture_1000hr_Percent: double, 180d_std_energy_release_component-g_Unitless: double, 180d_std_potential_evapotranspiration_mm: double, 180d_std_mean_vapor_pressure_deficit_kPa: double, 365d_std_precipitation_amount_mm: double, 365d_std_relative_humidity_%: double, 365d_std_specific_humidity_kg/kg: double, 365d_std_surface_downwelling_shortwave_flux_in_air_W_m-2: double, 365d_std_wind_from_direction_Degrees_Clockwise_from_north: double, 365d_std_wind_speed_m/s: double, 365d_std_max_air_temperature_K: double, 365d_std_min_air_temperature_K: double, 365d_std_burning_index_g_Unitless: double, 365d_std_dead_fuel_moisture_100hr_Percent: double, 365d_std_dead_fuel_moisture_1000hr_Percent: double, 365d_std_energy_release_component-g_Unitless: double, 365d_std_potential_evapotranspiration_mm: double, 365d_std_mean_vapor_pressure_deficit_kPa: double, features: vector]"
     ]
    }
   ],
   "source": [
    "from pyspark.ml.feature import VectorAssembler\n",
    "assembler = VectorAssembler(inputCols=[c.split('.')[1].replace('`', '') for c in original_cols], outputCol=\"features\")\n",
    "joined = spark.sql(query)\n",
    "joined = assembler.setHandleInvalid(\"skip\").transform(joined)\n",
    "joined.createOrReplaceTempView(\"joined\")\n",
    "joined.cache()"
   ]
  },
  {
   "cell_type": "code",
   "execution_count": 12,
   "metadata": {},
   "outputs": [
    {
     "name": "stdout",
     "output_type": "stream",
     "text": [
      "DataFrame[merged: vector]"
     ]
    }
   ],
   "source": [
    "import pyspark.sql.functions as F\n",
    "from pyspark.ml.linalg import Vectors, VectorUDT\n",
    "\n",
    "concat = F.udf(lambda v1, v2: Vectors.dense(list(v1) + list(v2)[:20]), VectorUDT())\n",
    "\n",
    "concated = spark.sql(\"\"\"\n",
    "SELECT joined.features, pca.pcaFeatures\n",
    "FROM joined, pca\n",
    "WHERE joined.latitude = pca.latitude AND joined.longitude = pca.longitude AND joined.date = pca.date\"\"\")\\\n",
    "    .select(concat(joined.features, pca_df.pcaFeatures).alias('merged'))\n",
    "concated.cache()"
   ]
  },
  {
   "cell_type": "code",
   "execution_count": 13,
   "metadata": {},
   "outputs": [
    {
     "name": "stdout",
     "output_type": "stream",
     "text": [
      "root\n",
      " |-- merged: vector (nullable = true)"
     ]
    }
   ],
   "source": [
    "concated.printSchema()"
   ]
  },
  {
   "cell_type": "code",
   "execution_count": 14,
   "metadata": {},
   "outputs": [
    {
     "name": "stdout",
     "output_type": "stream",
     "text": [
      "-RECORD 0----------------------\n",
      " merged | [1.20000000000000... \n",
      "only showing top 1 row"
     ]
    }
   ],
   "source": [
    "concated.show(1, vertical=True)"
   ]
  },
  {
   "cell_type": "code",
   "execution_count": 15,
   "metadata": {},
   "outputs": [
    {
     "name": "stdout",
     "output_type": "stream",
     "text": [
      "(594,)"
     ]
    }
   ],
   "source": [
    "row = concated.rdd.take(1)[0][0]\n",
    "print(row.shape)"
   ]
  },
  {
   "cell_type": "code",
   "execution_count": 16,
   "metadata": {},
   "outputs": [
    {
     "name": "stdout",
     "output_type": "stream",
     "text": [
      "DataFrame[pearson(merged): matrix]"
     ]
    }
   ],
   "source": [
    "from pyspark.ml.stat import Correlation\n",
    "\n",
    "r1 = Correlation.corr(concated, \"merged\")\n",
    "r1.cache()"
   ]
  },
  {
   "cell_type": "code",
   "execution_count": 17,
   "metadata": {},
   "outputs": [
    {
     "name": "stdout",
     "output_type": "stream",
     "text": [
      "root\n",
      " |-- pearson(merged): matrix (nullable = false)"
     ]
    }
   ],
   "source": [
    "r1.printSchema()"
   ]
  },
  {
   "cell_type": "code",
   "execution_count": 18,
   "metadata": {},
   "outputs": [
    {
     "name": "stdout",
     "output_type": "stream",
     "text": [
      "DenseMatrix(594, 594, [1.0, 0.2699, 0.006, -0.2784, -0.0431, 0.3169, -0.253, -0.1351, ..., 0.0, -0.0, 0.0, 0.0, 0.0, 0.0, -0.0, 1.0], False)"
     ]
    }
   ],
   "source": [
    "r1.collect()[0][0]"
   ]
  },
  {
   "cell_type": "code",
   "execution_count": 19,
   "metadata": {},
   "outputs": [],
   "source": [
    "corr = r1.collect()[0][0].toArray()"
   ]
  },
  {
   "cell_type": "code",
   "execution_count": 29,
   "metadata": {},
   "outputs": [
    {
     "name": "stdout",
     "output_type": "stream",
     "text": [
      "[ 0.94104098  0.94065001  0.939614    0.93916116 -0.93712351]\n",
      "[0.91163888 0.90975966 0.90342582 0.90039475 0.89930836]\n",
      "[-0.75534748  0.74715444  0.74190775  0.71848208  0.71464701]\n",
      "[-0.59157768 -0.58739117 -0.57559074 -0.57307921 -0.54366682]\n",
      "[0.63370628 0.61030346 0.5927075  0.58959805 0.5226046 ]\n",
      "[0.55248368 0.54932503 0.5413866  0.53448398 0.52604457]\n",
      "[-0.58402447 -0.50604175 -0.43501007 -0.42683517 -0.42084658]\n",
      "[-0.47036274 -0.45238763 -0.45228269  0.42701988 -0.40088067]\n",
      "[ 0.52281856  0.50112902  0.47363703  0.44918608 -0.41419608]\n",
      "[ 0.54297905  0.49504995 -0.46322699  0.4167323  -0.41602895]\n",
      "[-0.34048446 -0.33441578 -0.32665587  0.30263283 -0.29476438]\n",
      "[0.3384111  0.33838254 0.33224193 0.33150833 0.28378455]\n",
      "[ 0.40007302  0.33689424 -0.29952909  0.27668889 -0.27199255]\n",
      "[ 0.40095248  0.35891341 -0.32736765  0.30276121 -0.2990228 ]\n",
      "[-0.29818391  0.28421662  0.27861194 -0.27294288  0.27041054]\n",
      "[ 0.42615037 -0.30732571 -0.29358446  0.29282406 -0.29268097]\n",
      "[ 0.25956746  0.24109349 -0.23411686 -0.2289743  -0.22879406]\n",
      "[-0.3981811  -0.36630295 -0.3592621  -0.35321558 -0.32311281]\n",
      "[ 0.26089641 -0.25733841  0.23192214 -0.2270011  -0.22641185]\n",
      "[ 0.31246459  0.29767935  0.24851276  0.23608816 -0.23552905]\n",
      "{574: array([389, 277, 375, 263, 136]), 575: array([282, 394,  58, 268, 296]), 576: array([329, 425, 313, 327, 129]), 577: array([440, 441, 427, 426, 413]), 578: array([452, 424, 410, 438, 396]), 579: array([256, 368, 270, 382, 242]), 580: array([453, 439, 341, 441, 440]), 581: array([118, 342, 550, 325, 343]), 582: array([488, 502, 474, 516, 556]), 583: array([228, 214, 343, 564, 116]), 584: array([470, 473, 484, 103, 487]), 585: array([238, 350, 462, 126, 252]), 586: array([565, 551, 549, 215,  47]), 587: array([521, 535, 548, 507, 562]), 588: array([470,  50,  64, 484,  36]), 589: array([549, 120, 454, 538, 451]), 590: array([  9, 544,  61,  47,  89]), 591: array([117,  47,  61,  33, 103]), 592: array([469, 535,  64, 530, 512]), 593: array([479, 493, 465, 549, 355])}"
     ]
    }
   ],
   "source": [
    "import numpy as np\n",
    "low = 594 - 20\n",
    "pca_idxs = list(range(low, 594))\n",
    "top5_correlates = {}\n",
    "for pca_idx in pca_idxs:\n",
    "    top5 = np.argsort(np.abs(np.nan_to_num(corr[pca_idx])[:low]))[-1:-6:-1]\n",
    "    print(corr[pca_idx][top5])\n",
    "    top5_correlates[pca_idx] = top5\n",
    "top5_correlates"
   ]
  },
  {
   "cell_type": "code",
   "execution_count": 30,
   "metadata": {},
   "outputs": [],
   "source": [
    "col_names = ['fire_occurrences.`precipitation_amount_mm`', 'fire_occurrences.`relative_humidity_%`', 'fire_occurrences.`specific_humidity_kg/kg`', 'fire_occurrences.`surface_downwelling_shortwave_flux_in_air_W_m-2`', 'fire_occurrences.`wind_from_direction_Degrees_Clockwise_from_north`', 'fire_occurrences.`wind_speed_m/s`', 'fire_occurrences.`max_air_temperature_K`', 'fire_occurrences.`min_air_temperature_K`', 'fire_occurrences.`burning_index_g_Unitless`', 'fire_occurrences.`dead_fuel_moisture_100hr_Percent`', 'fire_occurrences.`dead_fuel_moisture_1000hr_Percent`', 'fire_occurrences.`energy_release_component-g_Unitless`', 'fire_occurrences.`potential_evapotranspiration_mm`', 'fire_occurrences.`mean_vapor_pressure_deficit_kPa`', 'min.`7d_min_precipitation_amount_mm`', 'min.`7d_min_relative_humidity_%`', 'min.`7d_min_specific_humidity_kg/kg`', 'min.`7d_min_surface_downwelling_shortwave_flux_in_air_W_m-2`', 'min.`7d_min_wind_from_direction_Degrees_Clockwise_from_north`', 'min.`7d_min_wind_speed_m/s`', 'min.`7d_min_max_air_temperature_K`', 'min.`7d_min_min_air_temperature_K`', 'min.`7d_min_burning_index_g_Unitless`', 'min.`7d_min_dead_fuel_moisture_100hr_Percent`', 'min.`7d_min_dead_fuel_moisture_1000hr_Percent`', 'min.`7d_min_energy_release_component-g_Unitless`', 'min.`7d_min_potential_evapotranspiration_mm`', 'min.`7d_min_mean_vapor_pressure_deficit_kPa`', 'min.`14d_min_precipitation_amount_mm`', 'min.`14d_min_relative_humidity_%`', 'min.`14d_min_specific_humidity_kg/kg`', 'min.`14d_min_surface_downwelling_shortwave_flux_in_air_W_m-2`', 'min.`14d_min_wind_from_direction_Degrees_Clockwise_from_north`', 'min.`14d_min_wind_speed_m/s`', 'min.`14d_min_max_air_temperature_K`', 'min.`14d_min_min_air_temperature_K`', 'min.`14d_min_burning_index_g_Unitless`', 'min.`14d_min_dead_fuel_moisture_100hr_Percent`', 'min.`14d_min_dead_fuel_moisture_1000hr_Percent`', 'min.`14d_min_energy_release_component-g_Unitless`', 'min.`14d_min_potential_evapotranspiration_mm`', 'min.`14d_min_mean_vapor_pressure_deficit_kPa`', 'min.`21d_min_precipitation_amount_mm`', 'min.`21d_min_relative_humidity_%`', 'min.`21d_min_specific_humidity_kg/kg`', 'min.`21d_min_surface_downwelling_shortwave_flux_in_air_W_m-2`', 'min.`21d_min_wind_from_direction_Degrees_Clockwise_from_north`', 'min.`21d_min_wind_speed_m/s`', 'min.`21d_min_max_air_temperature_K`', 'min.`21d_min_min_air_temperature_K`', 'min.`21d_min_burning_index_g_Unitless`', 'min.`21d_min_dead_fuel_moisture_100hr_Percent`', 'min.`21d_min_dead_fuel_moisture_1000hr_Percent`', 'min.`21d_min_energy_release_component-g_Unitless`', 'min.`21d_min_potential_evapotranspiration_mm`', 'min.`21d_min_mean_vapor_pressure_deficit_kPa`', 'min.`30d_min_precipitation_amount_mm`', 'min.`30d_min_relative_humidity_%`', 'min.`30d_min_specific_humidity_kg/kg`', 'min.`30d_min_surface_downwelling_shortwave_flux_in_air_W_m-2`', 'min.`30d_min_wind_from_direction_Degrees_Clockwise_from_north`', 'min.`30d_min_wind_speed_m/s`', 'min.`30d_min_max_air_temperature_K`', 'min.`30d_min_min_air_temperature_K`', 'min.`30d_min_burning_index_g_Unitless`', 'min.`30d_min_dead_fuel_moisture_100hr_Percent`', 'min.`30d_min_dead_fuel_moisture_1000hr_Percent`', 'min.`30d_min_energy_release_component-g_Unitless`', 'min.`30d_min_potential_evapotranspiration_mm`', 'min.`30d_min_mean_vapor_pressure_deficit_kPa`', 'min.`60d_min_precipitation_amount_mm`', 'min.`60d_min_relative_humidity_%`', 'min.`60d_min_specific_humidity_kg/kg`', 'min.`60d_min_surface_downwelling_shortwave_flux_in_air_W_m-2`', 'min.`60d_min_wind_from_direction_Degrees_Clockwise_from_north`', 'min.`60d_min_wind_speed_m/s`', 'min.`60d_min_max_air_temperature_K`', 'min.`60d_min_min_air_temperature_K`', 'min.`60d_min_burning_index_g_Unitless`', 'min.`60d_min_dead_fuel_moisture_100hr_Percent`', 'min.`60d_min_dead_fuel_moisture_1000hr_Percent`', 'min.`60d_min_energy_release_component-g_Unitless`', 'min.`60d_min_potential_evapotranspiration_mm`', 'min.`60d_min_mean_vapor_pressure_deficit_kPa`', 'min.`90d_min_precipitation_amount_mm`', 'min.`90d_min_relative_humidity_%`', 'min.`90d_min_specific_humidity_kg/kg`', 'min.`90d_min_surface_downwelling_shortwave_flux_in_air_W_m-2`', 'min.`90d_min_wind_from_direction_Degrees_Clockwise_from_north`', 'min.`90d_min_wind_speed_m/s`', 'min.`90d_min_max_air_temperature_K`', 'min.`90d_min_min_air_temperature_K`', 'min.`90d_min_burning_index_g_Unitless`', 'min.`90d_min_dead_fuel_moisture_100hr_Percent`', 'min.`90d_min_dead_fuel_moisture_1000hr_Percent`', 'min.`90d_min_energy_release_component-g_Unitless`', 'min.`90d_min_potential_evapotranspiration_mm`', 'min.`90d_min_mean_vapor_pressure_deficit_kPa`', 'min.`180d_min_precipitation_amount_mm`', 'min.`180d_min_relative_humidity_%`', 'min.`180d_min_specific_humidity_kg/kg`', 'min.`180d_min_surface_downwelling_shortwave_flux_in_air_W_m-2`', 'min.`180d_min_wind_from_direction_Degrees_Clockwise_from_north`', 'min.`180d_min_wind_speed_m/s`', 'min.`180d_min_max_air_temperature_K`', 'min.`180d_min_min_air_temperature_K`', 'min.`180d_min_burning_index_g_Unitless`', 'min.`180d_min_dead_fuel_moisture_100hr_Percent`', 'min.`180d_min_dead_fuel_moisture_1000hr_Percent`', 'min.`180d_min_energy_release_component-g_Unitless`', 'min.`180d_min_potential_evapotranspiration_mm`', 'min.`180d_min_mean_vapor_pressure_deficit_kPa`', 'min.`365d_min_precipitation_amount_mm`', 'min.`365d_min_relative_humidity_%`', 'min.`365d_min_specific_humidity_kg/kg`', 'min.`365d_min_surface_downwelling_shortwave_flux_in_air_W_m-2`', 'min.`365d_min_wind_from_direction_Degrees_Clockwise_from_north`', 'min.`365d_min_wind_speed_m/s`', 'min.`365d_min_max_air_temperature_K`', 'min.`365d_min_min_air_temperature_K`', 'min.`365d_min_burning_index_g_Unitless`', 'min.`365d_min_dead_fuel_moisture_100hr_Percent`', 'min.`365d_min_dead_fuel_moisture_1000hr_Percent`', 'min.`365d_min_energy_release_component-g_Unitless`', 'min.`365d_min_potential_evapotranspiration_mm`', 'min.`365d_min_mean_vapor_pressure_deficit_kPa`', 'max.`7d_max_precipitation_amount_mm`', 'max.`7d_max_relative_humidity_%`', 'max.`7d_max_specific_humidity_kg/kg`', 'max.`7d_max_surface_downwelling_shortwave_flux_in_air_W_m-2`', 'max.`7d_max_wind_from_direction_Degrees_Clockwise_from_north`', 'max.`7d_max_wind_speed_m/s`', 'max.`7d_max_max_air_temperature_K`', 'max.`7d_max_min_air_temperature_K`', 'max.`7d_max_burning_index_g_Unitless`', 'max.`7d_max_dead_fuel_moisture_100hr_Percent`', 'max.`7d_max_dead_fuel_moisture_1000hr_Percent`', 'max.`7d_max_energy_release_component-g_Unitless`', 'max.`7d_max_potential_evapotranspiration_mm`', 'max.`7d_max_mean_vapor_pressure_deficit_kPa`', 'max.`14d_max_precipitation_amount_mm`', 'max.`14d_max_relative_humidity_%`', 'max.`14d_max_specific_humidity_kg/kg`', 'max.`14d_max_surface_downwelling_shortwave_flux_in_air_W_m-2`', 'max.`14d_max_wind_from_direction_Degrees_Clockwise_from_north`', 'max.`14d_max_wind_speed_m/s`', 'max.`14d_max_max_air_temperature_K`', 'max.`14d_max_min_air_temperature_K`', 'max.`14d_max_burning_index_g_Unitless`', 'max.`14d_max_dead_fuel_moisture_100hr_Percent`', 'max.`14d_max_dead_fuel_moisture_1000hr_Percent`', 'max.`14d_max_energy_release_component-g_Unitless`', 'max.`14d_max_potential_evapotranspiration_mm`', 'max.`14d_max_mean_vapor_pressure_deficit_kPa`', 'max.`21d_max_precipitation_amount_mm`', 'max.`21d_max_relative_humidity_%`', 'max.`21d_max_specific_humidity_kg/kg`', 'max.`21d_max_surface_downwelling_shortwave_flux_in_air_W_m-2`', 'max.`21d_max_wind_from_direction_Degrees_Clockwise_from_north`', 'max.`21d_max_wind_speed_m/s`', 'max.`21d_max_max_air_temperature_K`', 'max.`21d_max_min_air_temperature_K`', 'max.`21d_max_burning_index_g_Unitless`', 'max.`21d_max_dead_fuel_moisture_100hr_Percent`', 'max.`21d_max_dead_fuel_moisture_1000hr_Percent`', 'max.`21d_max_energy_release_component-g_Unitless`', 'max.`21d_max_potential_evapotranspiration_mm`', 'max.`21d_max_mean_vapor_pressure_deficit_kPa`', 'max.`30d_max_precipitation_amount_mm`', 'max.`30d_max_relative_humidity_%`', 'max.`30d_max_specific_humidity_kg/kg`', 'max.`30d_max_surface_downwelling_shortwave_flux_in_air_W_m-2`', 'max.`30d_max_wind_from_direction_Degrees_Clockwise_from_north`', 'max.`30d_max_wind_speed_m/s`', 'max.`30d_max_max_air_temperature_K`', 'max.`30d_max_min_air_temperature_K`', 'max.`30d_max_burning_index_g_Unitless`', 'max.`30d_max_dead_fuel_moisture_100hr_Percent`', 'max.`30d_max_dead_fuel_moisture_1000hr_Percent`', 'max.`30d_max_energy_release_component-g_Unitless`', 'max.`30d_max_potential_evapotranspiration_mm`', 'max.`30d_max_mean_vapor_pressure_deficit_kPa`', 'max.`60d_max_precipitation_amount_mm`', 'max.`60d_max_relative_humidity_%`', 'max.`60d_max_specific_humidity_kg/kg`', 'max.`60d_max_surface_downwelling_shortwave_flux_in_air_W_m-2`', 'max.`60d_max_wind_from_direction_Degrees_Clockwise_from_north`', 'max.`60d_max_wind_speed_m/s`', 'max.`60d_max_max_air_temperature_K`', 'max.`60d_max_min_air_temperature_K`', 'max.`60d_max_burning_index_g_Unitless`', 'max.`60d_max_dead_fuel_moisture_100hr_Percent`', 'max.`60d_max_dead_fuel_moisture_1000hr_Percent`', 'max.`60d_max_energy_release_component-g_Unitless`', 'max.`60d_max_potential_evapotranspiration_mm`', 'max.`60d_max_mean_vapor_pressure_deficit_kPa`', 'max.`90d_max_precipitation_amount_mm`', 'max.`90d_max_relative_humidity_%`', 'max.`90d_max_specific_humidity_kg/kg`', 'max.`90d_max_surface_downwelling_shortwave_flux_in_air_W_m-2`', 'max.`90d_max_wind_from_direction_Degrees_Clockwise_from_north`', 'max.`90d_max_wind_speed_m/s`', 'max.`90d_max_max_air_temperature_K`', 'max.`90d_max_min_air_temperature_K`', 'max.`90d_max_burning_index_g_Unitless`', 'max.`90d_max_dead_fuel_moisture_100hr_Percent`', 'max.`90d_max_dead_fuel_moisture_1000hr_Percent`', 'max.`90d_max_energy_release_component-g_Unitless`', 'max.`90d_max_potential_evapotranspiration_mm`', 'max.`90d_max_mean_vapor_pressure_deficit_kPa`', 'max.`180d_max_precipitation_amount_mm`', 'max.`180d_max_relative_humidity_%`', 'max.`180d_max_specific_humidity_kg/kg`', 'max.`180d_max_surface_downwelling_shortwave_flux_in_air_W_m-2`', 'max.`180d_max_wind_from_direction_Degrees_Clockwise_from_north`', 'max.`180d_max_wind_speed_m/s`', 'max.`180d_max_max_air_temperature_K`', 'max.`180d_max_min_air_temperature_K`', 'max.`180d_max_burning_index_g_Unitless`', 'max.`180d_max_dead_fuel_moisture_100hr_Percent`', 'max.`180d_max_dead_fuel_moisture_1000hr_Percent`', 'max.`180d_max_energy_release_component-g_Unitless`', 'max.`180d_max_potential_evapotranspiration_mm`', 'max.`180d_max_mean_vapor_pressure_deficit_kPa`', 'max.`365d_max_precipitation_amount_mm`', 'max.`365d_max_relative_humidity_%`', 'max.`365d_max_specific_humidity_kg/kg`', 'max.`365d_max_surface_downwelling_shortwave_flux_in_air_W_m-2`', 'max.`365d_max_wind_from_direction_Degrees_Clockwise_from_north`', 'max.`365d_max_wind_speed_m/s`', 'max.`365d_max_max_air_temperature_K`', 'max.`365d_max_min_air_temperature_K`', 'max.`365d_max_burning_index_g_Unitless`', 'max.`365d_max_dead_fuel_moisture_100hr_Percent`', 'max.`365d_max_dead_fuel_moisture_1000hr_Percent`', 'max.`365d_max_energy_release_component-g_Unitless`', 'max.`365d_max_potential_evapotranspiration_mm`', 'max.`365d_max_mean_vapor_pressure_deficit_kPa`', 'mean.`7d_mean_precipitation_amount_mm`', 'mean.`7d_mean_relative_humidity_%`', 'mean.`7d_mean_specific_humidity_kg/kg`', 'mean.`7d_mean_surface_downwelling_shortwave_flux_in_air_W_m-2`', 'mean.`7d_mean_wind_from_direction_Degrees_Clockwise_from_north`', 'mean.`7d_mean_wind_speed_m/s`', 'mean.`7d_mean_max_air_temperature_K`', 'mean.`7d_mean_min_air_temperature_K`', 'mean.`7d_mean_burning_index_g_Unitless`', 'mean.`7d_mean_dead_fuel_moisture_100hr_Percent`', 'mean.`7d_mean_dead_fuel_moisture_1000hr_Percent`', 'mean.`7d_mean_energy_release_component-g_Unitless`', 'mean.`7d_mean_potential_evapotranspiration_mm`', 'mean.`7d_mean_mean_vapor_pressure_deficit_kPa`', 'mean.`14d_mean_precipitation_amount_mm`', 'mean.`14d_mean_relative_humidity_%`', 'mean.`14d_mean_specific_humidity_kg/kg`', 'mean.`14d_mean_surface_downwelling_shortwave_flux_in_air_W_m-2`', 'mean.`14d_mean_wind_from_direction_Degrees_Clockwise_from_north`', 'mean.`14d_mean_wind_speed_m/s`', 'mean.`14d_mean_max_air_temperature_K`', 'mean.`14d_mean_min_air_temperature_K`', 'mean.`14d_mean_burning_index_g_Unitless`', 'mean.`14d_mean_dead_fuel_moisture_100hr_Percent`', 'mean.`14d_mean_dead_fuel_moisture_1000hr_Percent`', 'mean.`14d_mean_energy_release_component-g_Unitless`', 'mean.`14d_mean_potential_evapotranspiration_mm`', 'mean.`14d_mean_mean_vapor_pressure_deficit_kPa`', 'mean.`21d_mean_precipitation_amount_mm`', 'mean.`21d_mean_relative_humidity_%`', 'mean.`21d_mean_specific_humidity_kg/kg`', 'mean.`21d_mean_surface_downwelling_shortwave_flux_in_air_W_m-2`', 'mean.`21d_mean_wind_from_direction_Degrees_Clockwise_from_north`', 'mean.`21d_mean_wind_speed_m/s`', 'mean.`21d_mean_max_air_temperature_K`', 'mean.`21d_mean_min_air_temperature_K`', 'mean.`21d_mean_burning_index_g_Unitless`', 'mean.`21d_mean_dead_fuel_moisture_100hr_Percent`', 'mean.`21d_mean_dead_fuel_moisture_1000hr_Percent`', 'mean.`21d_mean_energy_release_component-g_Unitless`', 'mean.`21d_mean_potential_evapotranspiration_mm`', 'mean.`21d_mean_mean_vapor_pressure_deficit_kPa`', 'mean.`30d_mean_precipitation_amount_mm`', 'mean.`30d_mean_relative_humidity_%`', 'mean.`30d_mean_specific_humidity_kg/kg`', 'mean.`30d_mean_surface_downwelling_shortwave_flux_in_air_W_m-2`', 'mean.`30d_mean_wind_from_direction_Degrees_Clockwise_from_north`', 'mean.`30d_mean_wind_speed_m/s`', 'mean.`30d_mean_max_air_temperature_K`', 'mean.`30d_mean_min_air_temperature_K`', 'mean.`30d_mean_burning_index_g_Unitless`', 'mean.`30d_mean_dead_fuel_moisture_100hr_Percent`', 'mean.`30d_mean_dead_fuel_moisture_1000hr_Percent`', 'mean.`30d_mean_energy_release_component-g_Unitless`', 'mean.`30d_mean_potential_evapotranspiration_mm`', 'mean.`30d_mean_mean_vapor_pressure_deficit_kPa`', 'mean.`60d_mean_precipitation_amount_mm`', 'mean.`60d_mean_relative_humidity_%`', 'mean.`60d_mean_specific_humidity_kg/kg`', 'mean.`60d_mean_surface_downwelling_shortwave_flux_in_air_W_m-2`', 'mean.`60d_mean_wind_from_direction_Degrees_Clockwise_from_north`', 'mean.`60d_mean_wind_speed_m/s`', 'mean.`60d_mean_max_air_temperature_K`', 'mean.`60d_mean_min_air_temperature_K`', 'mean.`60d_mean_burning_index_g_Unitless`', 'mean.`60d_mean_dead_fuel_moisture_100hr_Percent`', 'mean.`60d_mean_dead_fuel_moisture_1000hr_Percent`', 'mean.`60d_mean_energy_release_component-g_Unitless`', 'mean.`60d_mean_potential_evapotranspiration_mm`', 'mean.`60d_mean_mean_vapor_pressure_deficit_kPa`', 'mean.`90d_mean_precipitation_amount_mm`', 'mean.`90d_mean_relative_humidity_%`', 'mean.`90d_mean_specific_humidity_kg/kg`', 'mean.`90d_mean_surface_downwelling_shortwave_flux_in_air_W_m-2`', 'mean.`90d_mean_wind_from_direction_Degrees_Clockwise_from_north`', 'mean.`90d_mean_wind_speed_m/s`', 'mean.`90d_mean_max_air_temperature_K`', 'mean.`90d_mean_min_air_temperature_K`', 'mean.`90d_mean_burning_index_g_Unitless`', 'mean.`90d_mean_dead_fuel_moisture_100hr_Percent`', 'mean.`90d_mean_dead_fuel_moisture_1000hr_Percent`', 'mean.`90d_mean_energy_release_component-g_Unitless`', 'mean.`90d_mean_potential_evapotranspiration_mm`', 'mean.`90d_mean_mean_vapor_pressure_deficit_kPa`', 'mean.`180d_mean_precipitation_amount_mm`', 'mean.`180d_mean_relative_humidity_%`', 'mean.`180d_mean_specific_humidity_kg/kg`', 'mean.`180d_mean_surface_downwelling_shortwave_flux_in_air_W_m-2`', 'mean.`180d_mean_wind_from_direction_Degrees_Clockwise_from_north`', 'mean.`180d_mean_wind_speed_m/s`', 'mean.`180d_mean_max_air_temperature_K`', 'mean.`180d_mean_min_air_temperature_K`', 'mean.`180d_mean_burning_index_g_Unitless`', 'mean.`180d_mean_dead_fuel_moisture_100hr_Percent`', 'mean.`180d_mean_dead_fuel_moisture_1000hr_Percent`', 'mean.`180d_mean_energy_release_component-g_Unitless`', 'mean.`180d_mean_potential_evapotranspiration_mm`', 'mean.`180d_mean_mean_vapor_pressure_deficit_kPa`', 'mean.`365d_mean_precipitation_amount_mm`', 'mean.`365d_mean_relative_humidity_%`', 'mean.`365d_mean_specific_humidity_kg/kg`', 'mean.`365d_mean_surface_downwelling_shortwave_flux_in_air_W_m-2`', 'mean.`365d_mean_wind_from_direction_Degrees_Clockwise_from_north`', 'mean.`365d_mean_wind_speed_m/s`', 'mean.`365d_mean_max_air_temperature_K`', 'mean.`365d_mean_min_air_temperature_K`', 'mean.`365d_mean_burning_index_g_Unitless`', 'mean.`365d_mean_dead_fuel_moisture_100hr_Percent`', 'mean.`365d_mean_dead_fuel_moisture_1000hr_Percent`', 'mean.`365d_mean_energy_release_component-g_Unitless`', 'mean.`365d_mean_potential_evapotranspiration_mm`', 'mean.`365d_mean_mean_vapor_pressure_deficit_kPa`', 'cumulative.`7d_cumulative_precipitation_amount_mm`', 'cumulative.`7d_cumulative_relative_humidity_%`', 'cumulative.`7d_cumulative_specific_humidity_kg/kg`', 'cumulative.`7d_cumulative_surface_downwelling_shortwave_flux_in_air_W_m-2`', 'cumulative.`7d_cumulative_wind_from_direction_Degrees_Clockwise_from_north`', 'cumulative.`7d_cumulative_wind_speed_m/s`', 'cumulative.`7d_cumulative_max_air_temperature_K`', 'cumulative.`7d_cumulative_min_air_temperature_K`', 'cumulative.`7d_cumulative_burning_index_g_Unitless`', 'cumulative.`7d_cumulative_dead_fuel_moisture_100hr_Percent`', 'cumulative.`7d_cumulative_dead_fuel_moisture_1000hr_Percent`', 'cumulative.`7d_cumulative_energy_release_component-g_Unitless`', 'cumulative.`7d_cumulative_potential_evapotranspiration_mm`', 'cumulative.`7d_cumulative_mean_vapor_pressure_deficit_kPa`', 'cumulative.`14d_cumulative_precipitation_amount_mm`', 'cumulative.`14d_cumulative_relative_humidity_%`', 'cumulative.`14d_cumulative_specific_humidity_kg/kg`', 'cumulative.`14d_cumulative_surface_downwelling_shortwave_flux_in_air_W_m-2`', 'cumulative.`14d_cumulative_wind_from_direction_Degrees_Clockwise_from_north`', 'cumulative.`14d_cumulative_wind_speed_m/s`', 'cumulative.`14d_cumulative_max_air_temperature_K`', 'cumulative.`14d_cumulative_min_air_temperature_K`', 'cumulative.`14d_cumulative_burning_index_g_Unitless`', 'cumulative.`14d_cumulative_dead_fuel_moisture_100hr_Percent`', 'cumulative.`14d_cumulative_dead_fuel_moisture_1000hr_Percent`', 'cumulative.`14d_cumulative_energy_release_component-g_Unitless`', 'cumulative.`14d_cumulative_potential_evapotranspiration_mm`', 'cumulative.`14d_cumulative_mean_vapor_pressure_deficit_kPa`', 'cumulative.`21d_cumulative_precipitation_amount_mm`', 'cumulative.`21d_cumulative_relative_humidity_%`', 'cumulative.`21d_cumulative_specific_humidity_kg/kg`', 'cumulative.`21d_cumulative_surface_downwelling_shortwave_flux_in_air_W_m-2`', 'cumulative.`21d_cumulative_wind_from_direction_Degrees_Clockwise_from_north`', 'cumulative.`21d_cumulative_wind_speed_m/s`', 'cumulative.`21d_cumulative_max_air_temperature_K`', 'cumulative.`21d_cumulative_min_air_temperature_K`', 'cumulative.`21d_cumulative_burning_index_g_Unitless`', 'cumulative.`21d_cumulative_dead_fuel_moisture_100hr_Percent`', 'cumulative.`21d_cumulative_dead_fuel_moisture_1000hr_Percent`', 'cumulative.`21d_cumulative_energy_release_component-g_Unitless`', 'cumulative.`21d_cumulative_potential_evapotranspiration_mm`', 'cumulative.`21d_cumulative_mean_vapor_pressure_deficit_kPa`', 'cumulative.`30d_cumulative_precipitation_amount_mm`', 'cumulative.`30d_cumulative_relative_humidity_%`', 'cumulative.`30d_cumulative_specific_humidity_kg/kg`', 'cumulative.`30d_cumulative_surface_downwelling_shortwave_flux_in_air_W_m-2`', 'cumulative.`30d_cumulative_wind_from_direction_Degrees_Clockwise_from_north`', 'cumulative.`30d_cumulative_wind_speed_m/s`', 'cumulative.`30d_cumulative_max_air_temperature_K`', 'cumulative.`30d_cumulative_min_air_temperature_K`', 'cumulative.`30d_cumulative_burning_index_g_Unitless`', 'cumulative.`30d_cumulative_dead_fuel_moisture_100hr_Percent`', 'cumulative.`30d_cumulative_dead_fuel_moisture_1000hr_Percent`', 'cumulative.`30d_cumulative_energy_release_component-g_Unitless`', 'cumulative.`30d_cumulative_potential_evapotranspiration_mm`', 'cumulative.`30d_cumulative_mean_vapor_pressure_deficit_kPa`', 'cumulative.`60d_cumulative_precipitation_amount_mm`', 'cumulative.`60d_cumulative_relative_humidity_%`', 'cumulative.`60d_cumulative_specific_humidity_kg/kg`', 'cumulative.`60d_cumulative_surface_downwelling_shortwave_flux_in_air_W_m-2`', 'cumulative.`60d_cumulative_wind_from_direction_Degrees_Clockwise_from_north`', 'cumulative.`60d_cumulative_wind_speed_m/s`', 'cumulative.`60d_cumulative_max_air_temperature_K`', 'cumulative.`60d_cumulative_min_air_temperature_K`', 'cumulative.`60d_cumulative_burning_index_g_Unitless`', 'cumulative.`60d_cumulative_dead_fuel_moisture_100hr_Percent`', 'cumulative.`60d_cumulative_dead_fuel_moisture_1000hr_Percent`', 'cumulative.`60d_cumulative_energy_release_component-g_Unitless`', 'cumulative.`60d_cumulative_potential_evapotranspiration_mm`', 'cumulative.`60d_cumulative_mean_vapor_pressure_deficit_kPa`', 'cumulative.`90d_cumulative_precipitation_amount_mm`', 'cumulative.`90d_cumulative_relative_humidity_%`', 'cumulative.`90d_cumulative_specific_humidity_kg/kg`', 'cumulative.`90d_cumulative_surface_downwelling_shortwave_flux_in_air_W_m-2`', 'cumulative.`90d_cumulative_wind_from_direction_Degrees_Clockwise_from_north`', 'cumulative.`90d_cumulative_wind_speed_m/s`', 'cumulative.`90d_cumulative_max_air_temperature_K`', 'cumulative.`90d_cumulative_min_air_temperature_K`', 'cumulative.`90d_cumulative_burning_index_g_Unitless`', 'cumulative.`90d_cumulative_dead_fuel_moisture_100hr_Percent`', 'cumulative.`90d_cumulative_dead_fuel_moisture_1000hr_Percent`', 'cumulative.`90d_cumulative_energy_release_component-g_Unitless`', 'cumulative.`90d_cumulative_potential_evapotranspiration_mm`', 'cumulative.`90d_cumulative_mean_vapor_pressure_deficit_kPa`', 'cumulative.`180d_cumulative_precipitation_amount_mm`', 'cumulative.`180d_cumulative_relative_humidity_%`', 'cumulative.`180d_cumulative_specific_humidity_kg/kg`', 'cumulative.`180d_cumulative_surface_downwelling_shortwave_flux_in_air_W_m-2`', 'cumulative.`180d_cumulative_wind_from_direction_Degrees_Clockwise_from_north`', 'cumulative.`180d_cumulative_wind_speed_m/s`', 'cumulative.`180d_cumulative_max_air_temperature_K`', 'cumulative.`180d_cumulative_min_air_temperature_K`', 'cumulative.`180d_cumulative_burning_index_g_Unitless`', 'cumulative.`180d_cumulative_dead_fuel_moisture_100hr_Percent`', 'cumulative.`180d_cumulative_dead_fuel_moisture_1000hr_Percent`', 'cumulative.`180d_cumulative_energy_release_component-g_Unitless`', 'cumulative.`180d_cumulative_potential_evapotranspiration_mm`', 'cumulative.`180d_cumulative_mean_vapor_pressure_deficit_kPa`', 'cumulative.`365d_cumulative_precipitation_amount_mm`', 'cumulative.`365d_cumulative_relative_humidity_%`', 'cumulative.`365d_cumulative_specific_humidity_kg/kg`', 'cumulative.`365d_cumulative_surface_downwelling_shortwave_flux_in_air_W_m-2`', 'cumulative.`365d_cumulative_wind_from_direction_Degrees_Clockwise_from_north`', 'cumulative.`365d_cumulative_wind_speed_m/s`', 'cumulative.`365d_cumulative_max_air_temperature_K`', 'cumulative.`365d_cumulative_min_air_temperature_K`', 'cumulative.`365d_cumulative_burning_index_g_Unitless`', 'cumulative.`365d_cumulative_dead_fuel_moisture_100hr_Percent`', 'cumulative.`365d_cumulative_dead_fuel_moisture_1000hr_Percent`', 'cumulative.`365d_cumulative_energy_release_component-g_Unitless`', 'cumulative.`365d_cumulative_potential_evapotranspiration_mm`', 'cumulative.`365d_cumulative_mean_vapor_pressure_deficit_kPa`', 'std.`7d_std_precipitation_amount_mm`', 'std.`7d_std_relative_humidity_%`', 'std.`7d_std_specific_humidity_kg/kg`', 'std.`7d_std_surface_downwelling_shortwave_flux_in_air_W_m-2`', 'std.`7d_std_wind_from_direction_Degrees_Clockwise_from_north`', 'std.`7d_std_wind_speed_m/s`', 'std.`7d_std_max_air_temperature_K`', 'std.`7d_std_min_air_temperature_K`', 'std.`7d_std_burning_index_g_Unitless`', 'std.`7d_std_dead_fuel_moisture_100hr_Percent`', 'std.`7d_std_dead_fuel_moisture_1000hr_Percent`', 'std.`7d_std_energy_release_component-g_Unitless`', 'std.`7d_std_potential_evapotranspiration_mm`', 'std.`7d_std_mean_vapor_pressure_deficit_kPa`', 'std.`14d_std_precipitation_amount_mm`', 'std.`14d_std_relative_humidity_%`', 'std.`14d_std_specific_humidity_kg/kg`', 'std.`14d_std_surface_downwelling_shortwave_flux_in_air_W_m-2`', 'std.`14d_std_wind_from_direction_Degrees_Clockwise_from_north`', 'std.`14d_std_wind_speed_m/s`', 'std.`14d_std_max_air_temperature_K`', 'std.`14d_std_min_air_temperature_K`', 'std.`14d_std_burning_index_g_Unitless`', 'std.`14d_std_dead_fuel_moisture_100hr_Percent`', 'std.`14d_std_dead_fuel_moisture_1000hr_Percent`', 'std.`14d_std_energy_release_component-g_Unitless`', 'std.`14d_std_potential_evapotranspiration_mm`', 'std.`14d_std_mean_vapor_pressure_deficit_kPa`', 'std.`21d_std_precipitation_amount_mm`', 'std.`21d_std_relative_humidity_%`', 'std.`21d_std_specific_humidity_kg/kg`', 'std.`21d_std_surface_downwelling_shortwave_flux_in_air_W_m-2`', 'std.`21d_std_wind_from_direction_Degrees_Clockwise_from_north`', 'std.`21d_std_wind_speed_m/s`', 'std.`21d_std_max_air_temperature_K`', 'std.`21d_std_min_air_temperature_K`', 'std.`21d_std_burning_index_g_Unitless`', 'std.`21d_std_dead_fuel_moisture_100hr_Percent`', 'std.`21d_std_dead_fuel_moisture_1000hr_Percent`', 'std.`21d_std_energy_release_component-g_Unitless`', 'std.`21d_std_potential_evapotranspiration_mm`', 'std.`21d_std_mean_vapor_pressure_deficit_kPa`', 'std.`30d_std_precipitation_amount_mm`', 'std.`30d_std_relative_humidity_%`', 'std.`30d_std_specific_humidity_kg/kg`', 'std.`30d_std_surface_downwelling_shortwave_flux_in_air_W_m-2`', 'std.`30d_std_wind_from_direction_Degrees_Clockwise_from_north`', 'std.`30d_std_wind_speed_m/s`', 'std.`30d_std_max_air_temperature_K`', 'std.`30d_std_min_air_temperature_K`', 'std.`30d_std_burning_index_g_Unitless`', 'std.`30d_std_dead_fuel_moisture_100hr_Percent`', 'std.`30d_std_dead_fuel_moisture_1000hr_Percent`', 'std.`30d_std_energy_release_component-g_Unitless`', 'std.`30d_std_potential_evapotranspiration_mm`', 'std.`30d_std_mean_vapor_pressure_deficit_kPa`', 'std.`60d_std_precipitation_amount_mm`', 'std.`60d_std_relative_humidity_%`', 'std.`60d_std_specific_humidity_kg/kg`', 'std.`60d_std_surface_downwelling_shortwave_flux_in_air_W_m-2`', 'std.`60d_std_wind_from_direction_Degrees_Clockwise_from_north`', 'std.`60d_std_wind_speed_m/s`', 'std.`60d_std_max_air_temperature_K`', 'std.`60d_std_min_air_temperature_K`', 'std.`60d_std_burning_index_g_Unitless`', 'std.`60d_std_dead_fuel_moisture_100hr_Percent`', 'std.`60d_std_dead_fuel_moisture_1000hr_Percent`', 'std.`60d_std_energy_release_component-g_Unitless`', 'std.`60d_std_potential_evapotranspiration_mm`', 'std.`60d_std_mean_vapor_pressure_deficit_kPa`', 'std.`90d_std_precipitation_amount_mm`', 'std.`90d_std_relative_humidity_%`', 'std.`90d_std_specific_humidity_kg/kg`', 'std.`90d_std_surface_downwelling_shortwave_flux_in_air_W_m-2`', 'std.`90d_std_wind_from_direction_Degrees_Clockwise_from_north`', 'std.`90d_std_wind_speed_m/s`', 'std.`90d_std_max_air_temperature_K`', 'std.`90d_std_min_air_temperature_K`', 'std.`90d_std_burning_index_g_Unitless`', 'std.`90d_std_dead_fuel_moisture_100hr_Percent`', 'std.`90d_std_dead_fuel_moisture_1000hr_Percent`', 'std.`90d_std_energy_release_component-g_Unitless`', 'std.`90d_std_potential_evapotranspiration_mm`', 'std.`90d_std_mean_vapor_pressure_deficit_kPa`', 'std.`180d_std_precipitation_amount_mm`', 'std.`180d_std_relative_humidity_%`', 'std.`180d_std_specific_humidity_kg/kg`', 'std.`180d_std_surface_downwelling_shortwave_flux_in_air_W_m-2`', 'std.`180d_std_wind_from_direction_Degrees_Clockwise_from_north`', 'std.`180d_std_wind_speed_m/s`', 'std.`180d_std_max_air_temperature_K`', 'std.`180d_std_min_air_temperature_K`', 'std.`180d_std_burning_index_g_Unitless`', 'std.`180d_std_dead_fuel_moisture_100hr_Percent`', 'std.`180d_std_dead_fuel_moisture_1000hr_Percent`', 'std.`180d_std_energy_release_component-g_Unitless`', 'std.`180d_std_potential_evapotranspiration_mm`', 'std.`180d_std_mean_vapor_pressure_deficit_kPa`', 'std.`365d_std_precipitation_amount_mm`', 'std.`365d_std_relative_humidity_%`', 'std.`365d_std_specific_humidity_kg/kg`', 'std.`365d_std_surface_downwelling_shortwave_flux_in_air_W_m-2`', 'std.`365d_std_wind_from_direction_Degrees_Clockwise_from_north`', 'std.`365d_std_wind_speed_m/s`', 'std.`365d_std_max_air_temperature_K`', 'std.`365d_std_min_air_temperature_K`', 'std.`365d_std_burning_index_g_Unitless`', 'std.`365d_std_dead_fuel_moisture_100hr_Percent`', 'std.`365d_std_dead_fuel_moisture_1000hr_Percent`', 'std.`365d_std_energy_release_component-g_Unitless`', 'std.`365d_std_potential_evapotranspiration_mm`', 'std.`365d_std_mean_vapor_pressure_deficit_kPa`']"
   ]
  },
  {
   "cell_type": "code",
   "execution_count": 31,
   "metadata": {},
   "outputs": [
    {
     "name": "stdout",
     "output_type": "stream",
     "text": [
      "[[ 1.          0.99642358  0.98597737  0.9829597  -0.96460119]\n",
      " [ 0.99642358  1.          0.98447849  0.98649096 -0.96748728]\n",
      " [ 0.98597737  0.98447849  1.          0.99800091 -0.97332931]\n",
      " [ 0.9829597   0.98649096  0.99800091  1.         -0.97486828]\n",
      " [-0.96460119 -0.96748728 -0.97332931 -0.97486828  1.        ]]\n",
      "[[1.0, 0.9964235843141751, 0.9859773726106559, 0.9829596966183628, -0.9646011917383406], [0.9964235843141751, 1.0, 0.9844784898650342, 0.9864909550416568, -0.9674872776125595], [0.9859773726106559, 0.9844784898650342, 1.0, 0.9980009142856752, -0.9733293052873201], [0.9829596966183628, 0.9864909550416568, 0.9980009142856752, 1.0, -0.9748682833210831], [-0.9646011917383406, -0.9674872776125595, -0.9733293052873201, -0.9748682833210831, 1.0]]\n",
      "['21d_cumulative_energy_release_component-g_Unitless', '21d_mean_energy_release_component-g_Unitless', '14d_cumulative_energy_release_component-g_Unitless', '14d_mean_energy_release_component-g_Unitless', 'PC 1']\n",
      "[[1.         0.99884467 0.90999651 0.9855745  0.9553992 ]\n",
      " [0.99884467 1.         0.90776103 0.98441352 0.95451633]\n",
      " [0.90999651 0.90776103 1.         0.90295174 0.85997635]\n",
      " [0.9855745  0.98441352 0.90295174 1.         0.92416056]\n",
      " [0.9553992  0.95451633 0.85997635 0.92416056 1.        ]]\n",
      "[[1.0, 0.9988446680067404, 0.9099965098427751, 0.9855744969469846, 0.955399200805302], [0.9988446680067404, 1.0, 0.9077610266396211, 0.98441351755793, 0.954516327952854], [0.9099965098427751, 0.9077610266396211, 1.0, 0.9029517378193935, 0.8599763489700288], [0.9855744969469846, 0.98441351755793, 0.9029517378193935, 1.0, 0.9241605638505703], [0.955399200805302, 0.954516327952854, 0.8599763489700288, 0.9241605638505703, 1.0]]\n",
      "['30d_mean_specific_humidity_kg/kg', '30d_cumulative_specific_humidity_kg/kg', '30d_min_specific_humidity_kg/kg', '21d_mean_specific_humidity_kg/kg', 'PC 2']\n",
      "[[ 1.         -0.53300361 -0.60771979 -0.49816672 -0.43004854]\n",
      " [-0.53300361  1.          0.94711376  0.83181516  0.32116269]\n",
      " [-0.60771979  0.94711376  1.          0.87776637  0.30696701]\n",
      " [-0.49816672  0.83181516  0.87776637  1.          0.40316987]\n",
      " [-0.43004854  0.32116269  0.30696701  0.40316987  1.        ]]\n",
      "[[1.0, -0.5330036109045749, -0.6077197907564494, -0.4981667200757462, -0.4300485429478684], [-0.5330036109045749, 1.0, 0.9471137578460247, 0.8318151579345279, 0.32116268658210856], [-0.6077197907564494, 0.9471137578460247, 1.0, 0.8777663732284945, 0.30696700647307207], [-0.4981667200757462, 0.8318151579345279, 0.8777663732284945, 1.0, 0.4031698732495122], [-0.4300485429478684, 0.32116268658210856, 0.30696700647307207, 0.4031698732495122, 1.0]]\n",
      "['180d_mean_min_air_temperature_K', '90d_cumulative_wind_speed_m/s', '90d_mean_wind_speed_m/s', '180d_mean_wind_speed_m/s', 'PC 3']\n",
      "[[1.         0.99124306 0.87166905 0.8770663  0.75401647]\n",
      " [0.99124306 1.         0.8810386  0.86222466 0.76462505]\n",
      " [0.87166905 0.8810386  1.         0.98120138 0.95377284]\n",
      " [0.8770663  0.86222466 0.98120138 1.         0.93555452]\n",
      " [0.75401647 0.76462505 0.95377284 0.93555452 1.        ]]\n",
      "[[1.0, 0.9912430554045142, 0.8716690504800213, 0.8770663027189768, 0.754016466258272], [0.9912430554045142, 1.0, 0.8810385978371881, 0.8622246641422942, 0.7646250512356766], [0.8716690504800213, 0.8810385978371881, 1.0, 0.9812013778291208, 0.9537728406766918], [0.8770663027189768, 0.8622246641422942, 0.9812013778291208, 1.0, 0.9355545162437714], [0.754016466258272, 0.7646250512356766, 0.9537728406766918, 0.9355545162437714, 1.0]]\n",
      "['180d_cumulative_max_air_temperature_K', '180d_cumulative_min_air_temperature_K', '90d_cumulative_min_air_temperature_K', '90d_cumulative_max_air_temperature_K', 'PC 4']\n",
      "[[1.         0.52378096 0.42897358 0.77679508 0.32315063]\n",
      " [0.52378096 1.         0.94543091 0.80612441 0.7980451 ]\n",
      " [0.42897358 0.94543091 1.         0.66491097 0.89770355]\n",
      " [0.77679508 0.80612441 0.66491097 1.         0.48449328]\n",
      " [0.32315063 0.7980451  0.89770355 0.48449328 1.        ]]\n",
      "[[1.0, 0.523780961266091, 0.42897358407215064, 0.7767950849857715, 0.3231506250630029], [0.523780961266091, 1.0, 0.9454309079010518, 0.8061244108530878, 0.7980450977845631], [0.42897358407215064, 0.9454309079010518, 1.0, 0.6649109669886912, 0.8977035544907803], [0.7767950849857715, 0.8061244108530878, 0.6649109669886912, 1.0, 0.48449327634273287], [0.3231506250630029, 0.7980450977845631, 0.8977035544907803, 0.48449327634273287, 1.0]]\n",
      "['365d_cumulative_wind_from_direction_Degrees_Clockwise_from_north', '90d_cumulative_wind_from_direction_Degrees_Clockwise_from_north', '60d_cumulative_wind_from_direction_Degrees_Clockwise_from_north', '180d_cumulative_wind_from_direction_Degrees_Clockwise_from_north', 'PC 5']\n",
      "[[1.         0.99538898 0.93261918 0.92410362 0.85104269]\n",
      " [0.99538898 1.         0.92831052 0.93187636 0.84701106]\n",
      " [0.93261918 0.92831052 1.         0.99100411 0.78813027]\n",
      " [0.92410362 0.93187636 0.99100411 1.         0.78033837]\n",
      " [0.85104269 0.84701106 0.78813027 0.78033837 1.        ]]\n",
      "[[1.0, 0.995388976738565, 0.9326191792302938, 0.9241036153746479, 0.8510426856367314], [0.995388976738565, 1.0, 0.9283105200413218, 0.9318763623062234, 0.8470110646755853], [0.9326191792302938, 0.9283105200413218, 1.0, 0.991004111642955, 0.7881302685225136], [0.9241036153746479, 0.9318763623062234, 0.991004111642955, 1.0, 0.7803383724097152], [0.8510426856367314, 0.8470110646755853, 0.7881302685225136, 0.7803383724097152, 1.0]]\n",
      "['14d_mean_wind_from_direction_Degrees_Clockwise_from_north', '14d_cumulative_wind_from_direction_Degrees_Clockwise_from_north', '21d_mean_wind_from_direction_Degrees_Clockwise_from_north', '21d_cumulative_wind_from_direction_Degrees_Clockwise_from_north', 'PC 6']\n",
      "[[ 1.          0.82149038  0.6674184   0.57035447  0.58689249]\n",
      " [ 0.82149038  1.          0.73630248  0.41502467  0.42915121]\n",
      " [ 0.6674184   0.73630248  1.         -0.06944478 -0.04181619]\n",
      " [ 0.57035447  0.41502467 -0.06944478  1.          0.99124306]\n",
      " [ 0.58689249  0.42915121 -0.04181619  0.99124306  1.        ]]\n",
      "[[1.0, 0.8214903843757502, 0.6674183981081826, 0.570354468245778, 0.5868924899564368], [0.8214903843757502, 1.0, 0.7363024761535488, 0.4150246720115135, 0.4291512095152967], [0.6674183981081826, 0.7363024761535488, 1.0, -0.06944478478140133, -0.041816191435524834], [0.570354468245778, 0.4150246720115135, -0.06944478478140133, 1.0, 0.9912430554045142], [0.5868924899564368, 0.4291512095152967, -0.041816191435524834, 0.9912430554045142, 1.0]]\n",
      "['365d_cumulative_wind_speed_m/s', '180d_cumulative_wind_speed_m/s', '365d_mean_wind_speed_m/s', '180d_cumulative_min_air_temperature_K', 'PC 7']\n",
      "[[ 1.          0.29423636  0.01371677 -0.05839484  0.63538759]\n",
      " [ 0.29423636  1.          0.00706578  0.00850626  0.44904874]\n",
      " [ 0.01371677  0.00706578  1.         -0.68591935 -0.14305119]\n",
      " [-0.05839484  0.00850626 -0.68591935  1.          0.00307165]\n",
      " [ 0.63538759  0.44904874 -0.14305119  0.00307165  1.        ]]\n",
      "[[1.0, 0.29423635995063124, 0.013716765759152158, -0.058394840876111215, 0.6353875944257807], [0.29423635995063124, 1.0, 0.00706577818319415, 0.00850625836244249, 0.4490487369288041], [0.013716765759152158, 0.00706577818319415, 1.0, -0.6859193483769476, -0.14305118581349946], [-0.058394840876111215, 0.00850625836244249, -0.6859193483769476, 1.0, 0.0030716504687709487], [0.6353875944257807, 0.4490487369288041, -0.14305118581349946, 0.0030716504687709487, 1.0]]\n",
      "['365d_min_max_air_temperature_K', '365d_mean_max_air_temperature_K', '180d_std_wind_from_direction_Degrees_Clockwise_from_north', '180d_mean_surface_downwelling_shortwave_flux_in_air_W_m-2', 'PC 8']\n",
      "[[1.         0.85524925 0.73617331 0.72541363 0.11307955]\n",
      " [0.85524925 1.         0.61146385 0.87399393 0.13706432]\n",
      " [0.73617331 0.61146385 1.         0.52390871 0.07412083]\n",
      " [0.72541363 0.87399393 0.52390871 1.         0.15858914]\n",
      " [0.11307955 0.13706432 0.07412083 0.15858914 1.        ]]\n",
      "[[1.0, 0.8552492474565891, 0.7361733112975832, 0.7254136334208436, 0.11307954768242727], [0.8552492474565891, 1.0, 0.6114638462900926, 0.8739939253887139, 0.13706431565440744], [0.7361733112975832, 0.6114638462900926, 1.0, 0.5239087140021373, 0.0741208285636533], [0.7254136334208436, 0.8739939253887139, 0.5239087140021373, 1.0, 0.15858913696629828], [0.11307954768242727, 0.13706431565440744, 0.0741208285636533, 0.15858913696629828, 1.0]]\n",
      "['14d_std_potential_evapotranspiration_mm', '21d_std_potential_evapotranspiration_mm', '7d_std_potential_evapotranspiration_mm', '30d_std_potential_evapotranspiration_mm', 'PC 9']\n",
      "[[ 1.          0.85515474 -0.12500297  0.56491023 -0.62105275]\n",
      " [ 0.85515474  1.         -0.14860792  0.56243126 -0.55051983]\n",
      " [-0.12500297 -0.14860792  1.         -0.23900317  0.09550261]\n",
      " [ 0.56491023  0.56243126 -0.23900317  1.         -0.57029798]\n",
      " [-0.62105275 -0.55051983  0.09550261 -0.57029798  1.        ]]\n",
      "[[1.0, 0.8551547434364215, -0.12500296932738794, 0.5649102302677743, -0.6210527489035084], [0.8551547434364215, 1.0, -0.14860792139129186, 0.5624312634086995, -0.5505198347032592], [-0.12500296932738794, -0.14860792139129186, 1.0, -0.23900317335228718, 0.09550261314882413], [0.5649102302677743, 0.5624312634086995, -0.23900317335228718, 1.0, -0.5702979784624956], [-0.6210527489035084, -0.5505198347032592, 0.09550261314882413, -0.5702979784624956, 1.0]]\n",
      "['365d_max_wind_from_direction_Degrees_Clockwise_from_north', '180d_max_wind_from_direction_Degrees_Clockwise_from_north', '365d_mean_min_air_temperature_K', '365d_std_wind_from_direction_Degrees_Clockwise_from_north', 'PC 10']\n",
      "[[ 1.          0.81698258  0.77528485 -0.09913194  0.59339704]\n",
      " [ 0.81698258  1.          0.69627994 -0.12277339  0.73026033]\n",
      " [ 0.77528485  0.69627994  1.         -0.13191175  0.81344131]\n",
      " [-0.09913194 -0.12277339 -0.13191175  1.         -0.17066378]\n",
      " [ 0.59339704  0.73026033  0.81344131 -0.17066378  1.        ]]\n",
      "[[1.0, 0.816982575362526, 0.7752848515114458, -0.09913194034667952, 0.5933970439724503], [0.816982575362526, 1.0, 0.6962799363496631, -0.12277338704071325, 0.7302603316141871], [0.7752848515114458, 0.6962799363496631, 1.0, -0.1319117499981193, 0.813441307458816], [-0.09913194034667952, -0.12277338704071325, -0.1319117499981193, 1.0, -0.17066377869312443], [0.5933970439724503, 0.7302603316141871, 0.813441307458816, -0.17066377869312443, 1.0]]\n",
      "['7d_std_burning_index_g_Unitless', '7d_std_energy_release_component-g_Unitless', '14d_std_burning_index_g_Unitless', '180d_min_wind_speed_m/s', 'PC 11']\n",
      "[[1.         0.99999759 0.95148804 0.94494956 0.79098621]\n",
      " [0.99999759 1.         0.95148128 0.9449461  0.79097985]\n",
      " [0.95148804 0.95148128 1.         0.99734267 0.77264528]\n",
      " [0.94494956 0.9449461  0.99734267 1.         0.76860429]\n",
      " [0.79098621 0.79097985 0.77264528 0.76860429 1.        ]]\n",
      "[[1.0, 0.9999975943711517, 0.9514880438816405, 0.9449495579768616, 0.7909862103098263], [0.9999975943711517, 1.0, 0.9514812849583729, 0.9449460970140288, 0.790979850023524], [0.9514880438816405, 0.9514812849583729, 1.0, 0.9973426668410119, 0.7726452846411236], [0.9449495579768616, 0.9449460970140288, 0.9973426668410119, 1.0, 0.768604288489597], [0.7909862103098263, 0.790979850023524, 0.7726452846411236, 0.768604288489597, 1.0]]\n",
      "['7d_mean_precipitation_amount_mm', '7d_cumulative_precipitation_amount_mm', '7d_std_precipitation_amount_mm', '7d_max_precipitation_amount_mm', 'PC 12']\n",
      "[[ 1.          0.77112226 -0.01394648  0.60406535 -0.02770695]\n",
      " [ 0.77112226  1.          0.12083495  0.84059024  0.13862422]\n",
      " [-0.01394648  0.12083495  1.          0.15574969  0.12413272]\n",
      " [ 0.60406535  0.84059024  0.15574969  1.          0.26303065]\n",
      " [-0.02770695  0.13862422  0.12413272  0.26303065  1.        ]]\n",
      "[[1.0, 0.7711222632183449, -0.013946483641859873, 0.6040653496169058, -0.02770694623022224], [0.7711222632183449, 1.0, 0.12083494924466368, 0.840590236969118, 0.13862422284175785], [-0.013946483641859873, 0.12083494924466368, 1.0, 0.1557496944549437, 0.12413272154291664], [0.6040653496169058, 0.840590236969118, 0.1557496944549437, 1.0, 0.2630306481562784], [-0.02770694623022224, 0.13862422284175785, 0.12413272154291664, 0.2630306481562784, 1.0]]\n",
      "['365d_std_wind_speed_m/s', '180d_std_wind_speed_m/s', '180d_std_surface_downwelling_shortwave_flux_in_air_W_m-2', '180d_max_wind_speed_m/s', 'PC 13']\n",
      "[[ 1.          0.80679832 -0.28808558  0.7323854  -0.02872935]\n",
      " [ 0.80679832  1.         -0.32301271  0.46287005 -0.02330219]\n",
      " [-0.28808558 -0.32301271  1.         -0.17070855  0.56510692]\n",
      " [ 0.7323854   0.46287005 -0.17070855  1.         -0.03619051]\n",
      " [-0.02872935 -0.02330219  0.56510692 -0.03619051  1.        ]]\n",
      "[[1.0, 0.8067983188397333, -0.2880855810841599, 0.7323854012706247, -0.028729354893068073], [0.8067983188397333, 1.0, -0.32301271097682827, 0.4628700547134185, -0.023302185176010733], [-0.2880855810841599, -0.32301271097682827, 1.0, -0.17070854707956726, 0.5651069234708781], [0.7323854012706247, 0.4628700547134185, -0.17070854707956726, 1.0, -0.03619050992075145], [-0.028729354893068073, -0.023302185176010733, 0.5651069234708781, -0.03619050992075145, 1.0]]\n",
      "['60d_std_surface_downwelling_shortwave_flux_in_air_W_m-2', '90d_std_surface_downwelling_shortwave_flux_in_air_W_m-2', '180d_std_specific_humidity_kg/kg', '30d_std_surface_downwelling_shortwave_flux_in_air_W_m-2', 'PC 14']\n",
      "[[ 1.         -0.38045173 -0.31722814  0.77528485 -0.46483175]\n",
      " [-0.38045173  1.          0.83426834 -0.51082671  0.83996156]\n",
      " [-0.31722814  0.83426834  1.         -0.42357242  0.69560047]\n",
      " [ 0.77528485 -0.51082671 -0.42357242  1.         -0.6255723 ]\n",
      " [-0.46483175  0.83996156  0.69560047 -0.6255723   1.        ]]\n",
      "[[1.0, -0.3804517290915933, -0.31722813737148525, 0.7752848515114458, -0.4648317549510917], [-0.3804517290915933, 1.0, 0.8342683436927529, -0.5108267146324232, 0.8399615629494448], [-0.31722813737148525, 0.8342683436927529, 1.0, -0.42357241744634105, 0.6956004705901188], [0.7752848515114458, -0.5108267146324232, -0.42357241744634105, 1.0, -0.6255723013814984], [-0.4648317549510917, 0.8399615629494448, 0.6956004705901188, -0.6255723013814984, 1.0]]\n",
      "['7d_std_burning_index_g_Unitless', '21d_min_burning_index_g_Unitless', '30d_min_burning_index_g_Unitless', '14d_std_burning_index_g_Unitless', 'PC 15']\n",
      "[[ 1.         -0.17414585  0.14337443  0.38812786  0.16557199]\n",
      " [-0.17414585  1.         -0.34459345 -0.08283125 -0.33529702]\n",
      " [ 0.14337443 -0.34459345  1.          0.11861824  0.96908875]\n",
      " [ 0.38812786 -0.08283125  0.11861824  1.          0.1113085 ]\n",
      " [ 0.16557199 -0.33529702  0.96908875  0.1113085   1.        ]]\n",
      "[[1.0, -0.1741458545492266, 0.14337443191797353, 0.38812786295680446, 0.16557198895283934], [-0.1741458545492266, 1.0, -0.3445934482144655, -0.08283125178391595, -0.33529702150006363], [0.14337443191797353, -0.3445934482144655, 1.0, 0.11861824442256647, 0.9690887462468931], [0.38812786295680446, -0.08283125178391595, 0.11861824442256647, 1.0, 0.11130849654202708], [0.16557198895283934, -0.33529702150006363, 0.9690887462468931, 0.11130849654202708, 1.0]]\n",
      "['180d_std_surface_downwelling_shortwave_flux_in_air_W_m-2', '365d_min_burning_index_g_Unitless', '365d_cumulative_max_air_temperature_K', '90d_std_max_air_temperature_K', 'PC 16']\n",
      "[[ 1.         -0.31940655  0.02423911  0.02920409  0.03081481]\n",
      " [-0.31940655  1.         -0.04436024 -0.02477768 -0.11255609]\n",
      " [ 0.02423911 -0.04436024  1.          0.91317581  0.77238662]\n",
      " [ 0.02920409 -0.02477768  0.91317581  1.          0.70326082]\n",
      " [ 0.03081481 -0.11255609  0.77238662  0.70326082  1.        ]]\n",
      "[[1.0, -0.3194065499072046, 0.02423910856252244, 0.029204089167895624, 0.030814812442012937], [-0.3194065499072046, 1.0, -0.04436024243635924, -0.024777684594092696, -0.11255609204079547], [0.02423910856252244, -0.04436024243635924, 1.0, 0.9131758122066838, 0.7723866209210357], [0.029204089167895624, -0.024777684594092696, 0.9131758122066838, 1.0, 0.7032608205334029], [0.030814812442012937, -0.11255609204079547, 0.7723866209210357, 0.7032608205334029, 1.0]]\n",
      "['dead_fuel_moisture_100hr_Percent', '90d_std_potential_evapotranspiration_mm', '30d_min_wind_speed_m/s', '21d_min_wind_speed_m/s', 'PC 17']\n",
      "[[1.         0.47485436 0.49782256 0.44221464 0.73158057]\n",
      " [0.47485436 1.         0.91317581 0.88592215 0.50936905]\n",
      " [0.49782256 0.91317581 1.         0.81255006 0.56348398]\n",
      " [0.44221464 0.88592215 0.81255006 1.         0.44706747]\n",
      " [0.73158057 0.50936905 0.56348398 0.44706747 1.        ]]\n",
      "[[1.0, 0.4748543639497072, 0.4978225555330386, 0.4422146383256671, 0.7315805670942391], [0.4748543639497072, 1.0, 0.9131758122066838, 0.8859221493851309, 0.5093690518990162], [0.4978225555330386, 0.9131758122066838, 1.0, 0.8125500622235747, 0.5634839805262322], [0.4422146383256671, 0.8859221493851309, 0.8125500622235747, 1.0, 0.4470674716916065], [0.7315805670942391, 0.5093690518990162, 0.5634839805262322, 0.4470674716916065, 1.0]]\n",
      "['365d_min_wind_speed_m/s', '21d_min_wind_speed_m/s', '30d_min_wind_speed_m/s', '14d_min_wind_speed_m/s', 'PC 18']\n",
      "[[ 1.          0.04446709 -0.04324675  0.32982617  0.31029808]\n",
      " [ 0.04446709  1.         -0.23019223  0.39941506  0.01840299]\n",
      " [-0.04324675 -0.23019223  1.          0.00473276 -0.5434719 ]\n",
      " [ 0.32982617  0.39941506  0.00473276  1.          0.34404844]\n",
      " [ 0.31029808  0.01840299 -0.5434719   0.34404844  1.        ]]\n",
      "[[1.0, 0.044467094671651795, -0.04324675466324121, 0.3298261663142085, 0.31029807866071246], [0.044467094671651795, 1.0, -0.2301922332403156, 0.39941505894214735, 0.018402988699837527], [-0.04324675466324121, -0.2301922332403156, 1.0, 0.004732760408779275, -0.5434719036129533], [0.3298261663142085, 0.39941505894214735, 0.004732760408779275, 1.0, 0.34404843932809215], [0.31029807866071246, 0.018402988699837527, -0.5434719036129533, 0.34404843932809215, 1.0]]\n",
      "['7d_std_min_air_temperature_K', '90d_std_surface_downwelling_shortwave_flux_in_air_W_m-2', '30d_min_burning_index_g_Unitless', '60d_std_potential_evapotranspiration_mm', 'PC 19']\n",
      "[[ 1.          0.8429897   0.74435882 -0.07313132  0.17328637]\n",
      " [ 0.8429897   1.          0.61496652 -0.09150481  0.14932405]\n",
      " [ 0.74435882  0.61496652  1.         -0.05419248  0.22215483]\n",
      " [-0.07313132 -0.09150481 -0.05419248  1.          0.06807024]\n",
      " [ 0.17328637  0.14932405  0.22215483  0.06807024  1.        ]]\n",
      "[[1.0, 0.8429897005505462, 0.7443588158722435, -0.07313131598742754, 0.17328636786671217], [0.8429897005505462, 1.0, 0.6149665179208473, -0.09150480955219095, 0.14932405093484735], [0.7443588158722435, 0.6149665179208473, 1.0, -0.054192484063874814, 0.22215483466688923], [-0.07313131598742754, -0.09150480955219095, -0.054192484063874814, 1.0, 0.0680702388379542], [0.17328636786671217, 0.14932405093484735, 0.22215483466688923, 0.0680702388379542, 1.0]]\n",
      "['14d_std_surface_downwelling_shortwave_flux_in_air_W_m-2', '21d_std_surface_downwelling_shortwave_flux_in_air_W_m-2', '7d_std_surface_downwelling_shortwave_flux_in_air_W_m-2', '180d_std_surface_downwelling_shortwave_flux_in_air_W_m-2', 'PC 20']"
     ]
    }
   ],
   "source": [
    "import numpy as np\n",
    "for pca_idx, use_cols in top5_correlates.items():\n",
    "    masked_corr = corr[np.ix_(use_cols, use_cols)]\n",
    "    print(masked_corr)\n",
    "    print(masked_corr.tolist())\n",
    "    labels = [col_names[i].split('.')[1][1:-1] for i in use_cols[:-1]] + [\"PC {}\".format(pca_idx - low + 1)]\n",
    "    print(labels)"
   ]
  }
 ],
 "metadata": {
  "kernelspec": {
   "display_name": "PySpark3",
   "language": "",
   "name": "pyspark3kernel"
  },
  "language_info": {
   "codemirror_mode": {
    "name": "python",
    "version": 3
   },
   "mimetype": "text/x-python",
   "name": "pyspark3",
   "pygments_lexer": "python3"
  }
 },
 "nbformat": 4,
 "nbformat_minor": 2
}
