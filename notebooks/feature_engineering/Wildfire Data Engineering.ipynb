{
 "cells": [
  {
   "cell_type": "code",
   "execution_count": 1,
   "metadata": {},
   "outputs": [],
   "source": [
    "import boto3\n",
    "import pandas as pd"
   ]
  },
  {
   "cell_type": "code",
   "execution_count": 2,
   "metadata": {},
   "outputs": [
    {
     "data": {
      "text/plain": [
       "{'ResponseMetadata': {'RequestId': 'DDC8E3B51D25616D',\n",
       "  'HostId': 'xvGtiCnnK5oAQjT5/ohuDzHj+qN07KZ+7CEg9uxYAI3f6GJDeAkEpLQca7b9fFMN64JMyOGdVsA=',\n",
       "  'HTTPStatusCode': 200,\n",
       "  'HTTPHeaders': {'x-amz-id-2': 'xvGtiCnnK5oAQjT5/ohuDzHj+qN07KZ+7CEg9uxYAI3f6GJDeAkEpLQca7b9fFMN64JMyOGdVsA=',\n",
       "   'x-amz-request-id': 'DDC8E3B51D25616D',\n",
       "   'date': 'Sat, 14 Mar 2020 20:03:49 GMT',\n",
       "   'x-amz-bucket-region': 'us-west-1',\n",
       "   'content-type': 'application/xml',\n",
       "   'transfer-encoding': 'chunked',\n",
       "   'server': 'AmazonS3'},\n",
       "  'RetryAttempts': 1},\n",
       " 'IsTruncated': False,\n",
       " 'Marker': '',\n",
       " 'Contents': [{'Key': 'test/',\n",
       "   'LastModified': datetime.datetime(2020, 2, 14, 2, 26, 50, tzinfo=tzutc()),\n",
       "   'ETag': '\"d41d8cd98f00b204e9800998ecf8427e\"',\n",
       "   'Size': 0,\n",
       "   'StorageClass': 'STANDARD',\n",
       "   'Owner': {'DisplayName': 'kcoakley+cohort5group5',\n",
       "    'ID': 'fe3a1755292b139ad5397ba537aa0aff32ef6ebba07fe45dcbe486d81e1ccc11'}},\n",
       "  {'Key': 'wildfire_capstone/gridMet.parquet.gz',\n",
       "   'LastModified': datetime.datetime(2020, 3, 11, 4, 39, 20, tzinfo=tzutc()),\n",
       "   'ETag': '\"0a1c3d699b36c831e1727d8f95774e1d-15\"',\n",
       "   'Size': 82887294,\n",
       "   'StorageClass': 'STANDARD',\n",
       "   'Owner': {'DisplayName': 'kcoakley+cohort5group5',\n",
       "    'ID': 'fe3a1755292b139ad5397ba537aa0aff32ef6ebba07fe45dcbe486d81e1ccc11'}},\n",
       "  {'Key': 'wildfire_capstone/integratedData.parquet.gz',\n",
       "   'LastModified': datetime.datetime(2020, 3, 11, 5, 52, 2, tzinfo=tzutc()),\n",
       "   'ETag': '\"c98da9b69ed92bb2973ae18faea2eea5-17\"',\n",
       "   'Size': 93446818,\n",
       "   'StorageClass': 'STANDARD',\n",
       "   'Owner': {'DisplayName': 'kcoakley+cohort5group5',\n",
       "    'ID': 'fe3a1755292b139ad5397ba537aa0aff32ef6ebba07fe45dcbe486d81e1ccc11'}},\n",
       "  {'Key': 'wildfire_capstone/integratedData.zip',\n",
       "   'LastModified': datetime.datetime(2020, 3, 1, 22, 37, 6, tzinfo=tzutc()),\n",
       "   'ETag': '\"b6cd2382006cb12cea83d94647bc48c2\"',\n",
       "   'Size': 299008543,\n",
       "   'StorageClass': 'STANDARD',\n",
       "   'Owner': {'DisplayName': 'kcoakley+cohort5group5',\n",
       "    'ID': 'fe3a1755292b139ad5397ba537aa0aff32ef6ebba07fe45dcbe486d81e1ccc11'}}],\n",
       " 'Name': 'dse-cohort5-group5',\n",
       " 'Prefix': '',\n",
       " 'MaxKeys': 1000,\n",
       " 'EncodingType': 'url'}"
      ]
     },
     "execution_count": 2,
     "metadata": {},
     "output_type": "execute_result"
    }
   ],
   "source": [
    "s3 = boto3.client(\"s3\")\n",
    "all_objects = s3.list_objects(Bucket='dse-cohort5-group5')\n",
    "all_objects"
   ]
  },
  {
   "cell_type": "code",
   "execution_count": 3,
   "metadata": {},
   "outputs": [],
   "source": [
    "s3.download_file('dse-cohort5-group5', 'wildfire_capstone/gridMet.parquet.gz', 'gridMet.parquet.gz')"
   ]
  },
  {
   "cell_type": "code",
   "execution_count": 4,
   "metadata": {},
   "outputs": [],
   "source": [
    "df = pd.read_parquet('gridMet.parquet.gz')"
   ]
  },
  {
   "cell_type": "code",
   "execution_count": 5,
   "metadata": {
    "scrolled": true
   },
   "outputs": [],
   "source": [
    "df.head()\n",
    "df.reset_index(inplace=True)"
   ]
  },
  {
   "cell_type": "code",
   "execution_count": 6,
   "metadata": {},
   "outputs": [],
   "source": [
    "# Let us create a unique_id\n",
    "df['id_col'] = df.longitude.astype(str)+'_'+df.latitude.astype(str)"
   ]
  },
  {
   "cell_type": "code",
   "execution_count": 7,
   "metadata": {},
   "outputs": [
    {
     "data": {
      "text/plain": [
       "(10676640, 18)"
      ]
     },
     "execution_count": 7,
     "metadata": {},
     "output_type": "execute_result"
    }
   ],
   "source": [
    "df.shape"
   ]
  },
  {
   "cell_type": "code",
   "execution_count": 8,
   "metadata": {},
   "outputs": [
    {
     "data": {
      "text/plain": [
       "'-117.97499996666667_33.56666666666667'"
      ]
     },
     "execution_count": 8,
     "metadata": {},
     "output_type": "execute_result"
    }
   ],
   "source": [
    "df.iloc[0,17]"
   ]
  },
  {
   "cell_type": "code",
   "execution_count": 9,
   "metadata": {},
   "outputs": [],
   "source": [
    "lag_test = df.copy()\n",
    "lag_test.set_index('id_col',inplace=True)"
   ]
  },
  {
   "cell_type": "code",
   "execution_count": 10,
   "metadata": {},
   "outputs": [
    {
     "data": {
      "text/html": [
       "<div>\n",
       "<style scoped>\n",
       "    .dataframe tbody tr th:only-of-type {\n",
       "        vertical-align: middle;\n",
       "    }\n",
       "\n",
       "    .dataframe tbody tr th {\n",
       "        vertical-align: top;\n",
       "    }\n",
       "\n",
       "    .dataframe thead th {\n",
       "        text-align: right;\n",
       "    }\n",
       "</style>\n",
       "<table border=\"1\" class=\"dataframe\">\n",
       "  <thead>\n",
       "    <tr style=\"text-align: right;\">\n",
       "      <th></th>\n",
       "      <th>date</th>\n",
       "      <th>latitude</th>\n",
       "      <th>longitude</th>\n",
       "      <th>precipitation_amount_mm</th>\n",
       "      <th>relative_humidity_%</th>\n",
       "      <th>specific_humidity_kg/kg</th>\n",
       "      <th>surface_downwelling_shortwave_flux_in_air_W m-2</th>\n",
       "      <th>wind_from_direction_Degrees Clockwise from north</th>\n",
       "      <th>wind_speed_m/s</th>\n",
       "      <th>max_air_temperature_K</th>\n",
       "      <th>min_air_temperature_K</th>\n",
       "      <th>burning_index_g_Unitless</th>\n",
       "      <th>dead_fuel_moisture_100hr_Percent</th>\n",
       "      <th>dead_fuel_moisture_1000hr_Percent</th>\n",
       "      <th>energy_release_component-g_Unitless</th>\n",
       "      <th>potential_evapotranspiration_mm</th>\n",
       "      <th>mean_vapor_pressure_deficit_kPa</th>\n",
       "    </tr>\n",
       "    <tr>\n",
       "      <th>id_col</th>\n",
       "      <th></th>\n",
       "      <th></th>\n",
       "      <th></th>\n",
       "      <th></th>\n",
       "      <th></th>\n",
       "      <th></th>\n",
       "      <th></th>\n",
       "      <th></th>\n",
       "      <th></th>\n",
       "      <th></th>\n",
       "      <th></th>\n",
       "      <th></th>\n",
       "      <th></th>\n",
       "      <th></th>\n",
       "      <th></th>\n",
       "      <th></th>\n",
       "      <th></th>\n",
       "    </tr>\n",
       "  </thead>\n",
       "  <tbody>\n",
       "    <tr>\n",
       "      <th>-117.97499996666667_33.56666666666667</th>\n",
       "      <td>1999-01-01</td>\n",
       "      <td>33.566667</td>\n",
       "      <td>-117.975000</td>\n",
       "      <td>0.0</td>\n",
       "      <td>40.3</td>\n",
       "      <td>0.00589</td>\n",
       "      <td>138.0</td>\n",
       "      <td>123.0</td>\n",
       "      <td>1.6</td>\n",
       "      <td>293.1</td>\n",
       "      <td>281.1</td>\n",
       "      <td>24.0</td>\n",
       "      <td>16.0</td>\n",
       "      <td>15.5</td>\n",
       "      <td>34.0</td>\n",
       "      <td>1.7</td>\n",
       "      <td>0.74</td>\n",
       "    </tr>\n",
       "    <tr>\n",
       "      <th>-117.93333330000002_33.56666666666667</th>\n",
       "      <td>1999-01-01</td>\n",
       "      <td>33.566667</td>\n",
       "      <td>-117.933333</td>\n",
       "      <td>0.0</td>\n",
       "      <td>39.8</td>\n",
       "      <td>0.00590</td>\n",
       "      <td>137.2</td>\n",
       "      <td>123.0</td>\n",
       "      <td>1.6</td>\n",
       "      <td>293.1</td>\n",
       "      <td>281.2</td>\n",
       "      <td>24.0</td>\n",
       "      <td>16.0</td>\n",
       "      <td>15.5</td>\n",
       "      <td>35.0</td>\n",
       "      <td>1.7</td>\n",
       "      <td>0.74</td>\n",
       "    </tr>\n",
       "    <tr>\n",
       "      <th>-117.89166663333334_33.56666666666667</th>\n",
       "      <td>1999-01-01</td>\n",
       "      <td>33.566667</td>\n",
       "      <td>-117.891667</td>\n",
       "      <td>0.0</td>\n",
       "      <td>38.2</td>\n",
       "      <td>0.00580</td>\n",
       "      <td>137.2</td>\n",
       "      <td>123.0</td>\n",
       "      <td>1.7</td>\n",
       "      <td>293.2</td>\n",
       "      <td>281.2</td>\n",
       "      <td>26.0</td>\n",
       "      <td>15.2</td>\n",
       "      <td>14.9</td>\n",
       "      <td>37.0</td>\n",
       "      <td>1.7</td>\n",
       "      <td>0.77</td>\n",
       "    </tr>\n",
       "    <tr>\n",
       "      <th>-117.84999996666667_33.56666666666667</th>\n",
       "      <td>1999-01-01</td>\n",
       "      <td>33.566667</td>\n",
       "      <td>-117.850000</td>\n",
       "      <td>0.0</td>\n",
       "      <td>36.4</td>\n",
       "      <td>0.00567</td>\n",
       "      <td>137.3</td>\n",
       "      <td>49.0</td>\n",
       "      <td>1.8</td>\n",
       "      <td>293.3</td>\n",
       "      <td>280.3</td>\n",
       "      <td>27.0</td>\n",
       "      <td>15.0</td>\n",
       "      <td>14.8</td>\n",
       "      <td>38.0</td>\n",
       "      <td>1.8</td>\n",
       "      <td>0.76</td>\n",
       "    </tr>\n",
       "    <tr>\n",
       "      <th>-117.80833330000002_33.56666666666667</th>\n",
       "      <td>1999-01-01</td>\n",
       "      <td>33.566667</td>\n",
       "      <td>-117.808333</td>\n",
       "      <td>0.0</td>\n",
       "      <td>33.8</td>\n",
       "      <td>0.00538</td>\n",
       "      <td>137.3</td>\n",
       "      <td>49.0</td>\n",
       "      <td>1.9</td>\n",
       "      <td>293.2</td>\n",
       "      <td>279.9</td>\n",
       "      <td>29.0</td>\n",
       "      <td>13.3</td>\n",
       "      <td>13.6</td>\n",
       "      <td>43.0</td>\n",
       "      <td>1.9</td>\n",
       "      <td>0.80</td>\n",
       "    </tr>\n",
       "  </tbody>\n",
       "</table>\n",
       "</div>"
      ],
      "text/plain": [
       "                                            date   latitude   longitude  \\\n",
       "id_col                                                                    \n",
       "-117.97499996666667_33.56666666666667 1999-01-01  33.566667 -117.975000   \n",
       "-117.93333330000002_33.56666666666667 1999-01-01  33.566667 -117.933333   \n",
       "-117.89166663333334_33.56666666666667 1999-01-01  33.566667 -117.891667   \n",
       "-117.84999996666667_33.56666666666667 1999-01-01  33.566667 -117.850000   \n",
       "-117.80833330000002_33.56666666666667 1999-01-01  33.566667 -117.808333   \n",
       "\n",
       "                                       precipitation_amount_mm  \\\n",
       "id_col                                                           \n",
       "-117.97499996666667_33.56666666666667                      0.0   \n",
       "-117.93333330000002_33.56666666666667                      0.0   \n",
       "-117.89166663333334_33.56666666666667                      0.0   \n",
       "-117.84999996666667_33.56666666666667                      0.0   \n",
       "-117.80833330000002_33.56666666666667                      0.0   \n",
       "\n",
       "                                       relative_humidity_%  \\\n",
       "id_col                                                       \n",
       "-117.97499996666667_33.56666666666667                 40.3   \n",
       "-117.93333330000002_33.56666666666667                 39.8   \n",
       "-117.89166663333334_33.56666666666667                 38.2   \n",
       "-117.84999996666667_33.56666666666667                 36.4   \n",
       "-117.80833330000002_33.56666666666667                 33.8   \n",
       "\n",
       "                                       specific_humidity_kg/kg  \\\n",
       "id_col                                                           \n",
       "-117.97499996666667_33.56666666666667                  0.00589   \n",
       "-117.93333330000002_33.56666666666667                  0.00590   \n",
       "-117.89166663333334_33.56666666666667                  0.00580   \n",
       "-117.84999996666667_33.56666666666667                  0.00567   \n",
       "-117.80833330000002_33.56666666666667                  0.00538   \n",
       "\n",
       "                                       surface_downwelling_shortwave_flux_in_air_W m-2  \\\n",
       "id_col                                                                                   \n",
       "-117.97499996666667_33.56666666666667                                            138.0   \n",
       "-117.93333330000002_33.56666666666667                                            137.2   \n",
       "-117.89166663333334_33.56666666666667                                            137.2   \n",
       "-117.84999996666667_33.56666666666667                                            137.3   \n",
       "-117.80833330000002_33.56666666666667                                            137.3   \n",
       "\n",
       "                                       wind_from_direction_Degrees Clockwise from north  \\\n",
       "id_col                                                                                    \n",
       "-117.97499996666667_33.56666666666667                                             123.0   \n",
       "-117.93333330000002_33.56666666666667                                             123.0   \n",
       "-117.89166663333334_33.56666666666667                                             123.0   \n",
       "-117.84999996666667_33.56666666666667                                              49.0   \n",
       "-117.80833330000002_33.56666666666667                                              49.0   \n",
       "\n",
       "                                       wind_speed_m/s  max_air_temperature_K  \\\n",
       "id_col                                                                         \n",
       "-117.97499996666667_33.56666666666667             1.6                  293.1   \n",
       "-117.93333330000002_33.56666666666667             1.6                  293.1   \n",
       "-117.89166663333334_33.56666666666667             1.7                  293.2   \n",
       "-117.84999996666667_33.56666666666667             1.8                  293.3   \n",
       "-117.80833330000002_33.56666666666667             1.9                  293.2   \n",
       "\n",
       "                                       min_air_temperature_K  \\\n",
       "id_col                                                         \n",
       "-117.97499996666667_33.56666666666667                  281.1   \n",
       "-117.93333330000002_33.56666666666667                  281.2   \n",
       "-117.89166663333334_33.56666666666667                  281.2   \n",
       "-117.84999996666667_33.56666666666667                  280.3   \n",
       "-117.80833330000002_33.56666666666667                  279.9   \n",
       "\n",
       "                                       burning_index_g_Unitless  \\\n",
       "id_col                                                            \n",
       "-117.97499996666667_33.56666666666667                      24.0   \n",
       "-117.93333330000002_33.56666666666667                      24.0   \n",
       "-117.89166663333334_33.56666666666667                      26.0   \n",
       "-117.84999996666667_33.56666666666667                      27.0   \n",
       "-117.80833330000002_33.56666666666667                      29.0   \n",
       "\n",
       "                                       dead_fuel_moisture_100hr_Percent  \\\n",
       "id_col                                                                    \n",
       "-117.97499996666667_33.56666666666667                              16.0   \n",
       "-117.93333330000002_33.56666666666667                              16.0   \n",
       "-117.89166663333334_33.56666666666667                              15.2   \n",
       "-117.84999996666667_33.56666666666667                              15.0   \n",
       "-117.80833330000002_33.56666666666667                              13.3   \n",
       "\n",
       "                                       dead_fuel_moisture_1000hr_Percent  \\\n",
       "id_col                                                                     \n",
       "-117.97499996666667_33.56666666666667                               15.5   \n",
       "-117.93333330000002_33.56666666666667                               15.5   \n",
       "-117.89166663333334_33.56666666666667                               14.9   \n",
       "-117.84999996666667_33.56666666666667                               14.8   \n",
       "-117.80833330000002_33.56666666666667                               13.6   \n",
       "\n",
       "                                       energy_release_component-g_Unitless  \\\n",
       "id_col                                                                       \n",
       "-117.97499996666667_33.56666666666667                                 34.0   \n",
       "-117.93333330000002_33.56666666666667                                 35.0   \n",
       "-117.89166663333334_33.56666666666667                                 37.0   \n",
       "-117.84999996666667_33.56666666666667                                 38.0   \n",
       "-117.80833330000002_33.56666666666667                                 43.0   \n",
       "\n",
       "                                       potential_evapotranspiration_mm  \\\n",
       "id_col                                                                   \n",
       "-117.97499996666667_33.56666666666667                              1.7   \n",
       "-117.93333330000002_33.56666666666667                              1.7   \n",
       "-117.89166663333334_33.56666666666667                              1.7   \n",
       "-117.84999996666667_33.56666666666667                              1.8   \n",
       "-117.80833330000002_33.56666666666667                              1.9   \n",
       "\n",
       "                                       mean_vapor_pressure_deficit_kPa  \n",
       "id_col                                                                  \n",
       "-117.97499996666667_33.56666666666667                             0.74  \n",
       "-117.93333330000002_33.56666666666667                             0.74  \n",
       "-117.89166663333334_33.56666666666667                             0.77  \n",
       "-117.84999996666667_33.56666666666667                             0.76  \n",
       "-117.80833330000002_33.56666666666667                             0.80  "
      ]
     },
     "execution_count": 10,
     "metadata": {},
     "output_type": "execute_result"
    }
   ],
   "source": [
    "lag_test.head()"
   ]
  },
  {
   "cell_type": "code",
   "execution_count": 11,
   "metadata": {},
   "outputs": [],
   "source": [
    "unique_ids = lag_test.index.unique()"
   ]
  },
  {
   "cell_type": "code",
   "execution_count": 12,
   "metadata": {},
   "outputs": [
    {
     "data": {
      "text/plain": [
       "1392"
      ]
     },
     "execution_count": 12,
     "metadata": {},
     "output_type": "execute_result"
    }
   ],
   "source": [
    "len(unique_ids)"
   ]
  },
  {
   "cell_type": "code",
   "execution_count": 13,
   "metadata": {},
   "outputs": [
    {
     "data": {
      "text/plain": [
       "(10676640, 17)"
      ]
     },
     "execution_count": 13,
     "metadata": {},
     "output_type": "execute_result"
    }
   ],
   "source": [
    "lag_test.shape"
   ]
  },
  {
   "cell_type": "code",
   "execution_count": 14,
   "metadata": {},
   "outputs": [
    {
     "data": {
      "text/plain": [
       "Index(['date', 'latitude', 'longitude', 'precipitation_amount_mm',\n",
       "       'relative_humidity_%', 'specific_humidity_kg/kg',\n",
       "       'surface_downwelling_shortwave_flux_in_air_W m-2',\n",
       "       'wind_from_direction_Degrees Clockwise from north', 'wind_speed_m/s',\n",
       "       'max_air_temperature_K', 'min_air_temperature_K',\n",
       "       'burning_index_g_Unitless', 'dead_fuel_moisture_100hr_Percent',\n",
       "       'dead_fuel_moisture_1000hr_Percent',\n",
       "       'energy_release_component-g_Unitless',\n",
       "       'potential_evapotranspiration_mm', 'mean_vapor_pressure_deficit_kPa',\n",
       "       'id_col'],\n",
       "      dtype='object')"
      ]
     },
     "execution_count": 14,
     "metadata": {},
     "output_type": "execute_result"
    }
   ],
   "source": [
    "df.columns"
   ]
  },
  {
   "cell_type": "markdown",
   "metadata": {},
   "source": [
    "## Experiment with Week Lag.."
   ]
  },
  {
   "cell_type": "code",
   "execution_count": null,
   "metadata": {},
   "outputs": [
    {
     "name": "stderr",
     "output_type": "stream",
     "text": [
      "C:\\Users\\Mike\\AppData\\Local\\Continuum\\anaconda3\\envs\\geo\\lib\\site-packages\\ipykernel_launcher.py:3: FutureWarning: Indexing with multiple keys (implicitly converted to a tuple of keys) will be deprecated, use a list instead.\n",
      "  This is separate from the ipykernel package so we can avoid doing imports until\n",
      "C:\\Users\\Mike\\AppData\\Local\\Continuum\\anaconda3\\envs\\geo\\lib\\site-packages\\ipykernel_launcher.py:7: FutureWarning: Indexing with multiple keys (implicitly converted to a tuple of keys) will be deprecated, use a list instead.\n",
      "  import sys\n",
      "C:\\Users\\Mike\\AppData\\Local\\Continuum\\anaconda3\\envs\\geo\\lib\\site-packages\\ipykernel_launcher.py:12: FutureWarning: Indexing with multiple keys (implicitly converted to a tuple of keys) will be deprecated, use a list instead.\n",
      "  if sys.path[0] == '':\n",
      "C:\\Users\\Mike\\AppData\\Local\\Continuum\\anaconda3\\envs\\geo\\lib\\site-packages\\ipykernel_launcher.py:16: FutureWarning: Indexing with multiple keys (implicitly converted to a tuple of keys) will be deprecated, use a list instead.\n",
      "  app.launch_new_instance()\n"
     ]
    }
   ],
   "source": [
    "# Air Variables:\n",
    "\n",
    "week_dat = lag_test.groupby(['id_col'])['mean_vapor_pressure_deficit_kPa','relative_humidity_%',\n",
    "                                             'specific_humidity_kg/kg','wind_speed_m/s','max_air_temperature_K',\n",
    "                                             'dead_fuel_moisture_100hr_Percent','dead_fuel_moisture_1000hr_Percent']\\\n",
    ".expanding(7).mean().reset_index(0,drop=True)\n",
    "week_dat_max = lag_test.groupby(['id_col'])['mean_vapor_pressure_deficit_kPa','relative_humidity_%',\n",
    "                                             'specific_humidity_kg/kg','wind_speed_m/s','max_air_temperature_K',\n",
    "                                             'dead_fuel_moisture_100hr_Percent','dead_fuel_moisture_1000hr_Percent']\\\n",
    ".expanding(7).max().reset_index(0,drop=True)\n",
    "\n",
    "two_week_dat = lag_test.groupby(['id_col'])['mean_vapor_pressure_deficit_kPa','relative_humidity_%',\n",
    "                                             'specific_humidity_kg/kg','wind_speed_m/s','max_air_temperature_K',\n",
    "                                             'dead_fuel_moisture_100hr_Percent','dead_fuel_moisture_1000hr_Percent']\\\n",
    ".expanding(14).mean().reset_index(0,drop=True)\n",
    "two_week_dat_max = lag_test.groupby(['id_col'])['mean_vapor_pressure_deficit_kPa','relative_humidity_%',\n",
    "                                             'specific_humidity_kg/kg','wind_speed_m/s','max_air_temperature_K',\n",
    "                                             'dead_fuel_moisture_100hr_Percent','dead_fuel_moisture_1000hr_Percent']\\\n",
    ".expanding(14).max().reset_index(0,drop=True)\n",
    "month_dat = lag_test.groupby(['id_col'])['mean_vapor_pressure_deficit_kPa','relative_humidity_%',\n",
    "                                             'specific_humidity_kg/kg','wind_speed_m/s','max_air_temperature_K',\n",
    "                                             'dead_fuel_moisture_100hr_Percent','dead_fuel_moisture_1000hr_Percent']\\\n",
    ".expanding(30).mean().reset_index(0,drop=True)\n",
    "month_dat_max = lag_test.groupby(['id_col'])['mean_vapor_pressure_deficit_kPa','relative_humidity_%',\n",
    "                                             'specific_humidity_kg/kg','wind_speed_m/s','max_air_temperature_K',\n",
    "                                             'dead_fuel_moisture_100hr_Percent','dead_fuel_moisture_1000hr_Percent']\\\n",
    ".expanding(30).max().reset_index(0,drop=True)"
   ]
  },
  {
   "cell_type": "code",
   "execution_count": null,
   "metadata": {},
   "outputs": [],
   "source": [
    "# Longitudinal Variables:\n",
    "\n",
    "six_month_dat = lag_test.groupby(['id_col'])['precipitation_amount_mm','max_air_temperature_K','mean_vapor_pressure_deficit_kPa', \\\n",
    "                                             'dead_fuel_moisture_100hr_Percent','dead_fuel_moisture_1000hr_Percent']\\\n",
    ".expanding(182).mean().reset_index(0,drop=True)\n",
    "six_month_dat_max = lag_test.groupby(['id_col'])['precipitation_amount_mm','max_air_temperature_K','mean_vapor_pressure_deficit_kPa', \\\n",
    "                                             'dead_fuel_moisture_100hr_Percent','dead_fuel_moisture_1000hr_Percent']\\\n",
    ".expanding(182).max().reset_index(0,drop=True)\n",
    "\n",
    "year_dat = lag_test.groupby(['id_col'])['precipitation_amount_mm','max_air_temperature_K','mean_vapor_pressure_deficit_kPa', \\\n",
    "                                             'dead_fuel_moisture_100hr_Percent','dead_fuel_moisture_1000hr_Percent']\\\n",
    ".expanding(365).mean().reset_index(0,drop=True)\n",
    "year_dat_max = lag_test.groupby(['id_col'])['precipitation_amount_mm','max_air_temperature_K','mean_vapor_pressure_deficit_kPa', \\\n",
    "                                             'dead_fuel_moisture_100hr_Percent','dead_fuel_moisture_1000hr_Percent']\\\n",
    ".expanding(365).max().reset_index(0,drop=True)\n"
   ]
  },
  {
   "cell_type": "code",
   "execution_count": null,
   "metadata": {},
   "outputs": [],
   "source": [
    "week_dat.columns = ['mean_wk_vapor_pressure_deficit','mean_wk_relative_humidity','mean_wk_specific_humidity',\n",
    "                    'mean_wk_wind_speed','mean_wk_max_air_temp','mean_wk_dead_fuel_100','mean_wk_dead_ful_1000']\n",
    "week_dat_max.columns = ['max_wk_vapor_pressure_deficit','max_wk_relative_humidity','max_wk_specific_humidity',\n",
    "                    'max_wk_wind_speed','max_wk_max_air_temp','max_wk_dead_fuel_100','max_wk_dead_ful_1000']\n",
    "two_week_dat.columns = ['mean_2wk_vapor_pressure_deficit','mean_2wk_relative_humidity','mean_2wk_specific_humidity',\n",
    "                    'mean_2wk_wind_speed','mean_2wk_max_air_temp','mean_2wk_dead_fuel_100','mean_2wk_dead_ful_1000']\n",
    "two_week_dat_max.columns = ['max_2wk_vapor_pressure_deficit','max_2wk_relative_humidity','max_2wk_specific_humidity',\n",
    "                    'max_2wk_wind_speed','max_2wk_max_air_temp','max_2wk_dead_fuel_100','max_2wk_dead_ful_1000']\n",
    "month_dat.columns = ['mean_mo_vapor_pressure_deficit','mean_mo_relative_humidity','mean_mo_specific_humidity',\n",
    "                    'mean_mo_wind_speed','mean_mo_max_air_temp','mean_mo_dead_fuel_100','mean_mo_dead_ful_1000']\n",
    "month_dat_max.columns = ['max_mo_vapor_pressure_deficit','max_mo_relative_humidity','max_mo_specific_humidity',\n",
    "                    'max_mo_wind_speed','max_mo_max_air_temp','max_mo_dead_fuel_100','max_mo_dead_ful_1000']\n",
    "six_month_dat.columns = ['mean_6mo_precip','mean_6mo_max_air_temp','mean_6mo_mean_vapor_pressure_deficit', \\\n",
    "                                             'mean_6mo_dead_fuel_100','mean_6mo_dead_fuel_1000']\n",
    "six_month_dat_max.columns = ['max_6mo_precip','max_6mo_max_air_temp','max_6mo_mean_vapor_pressure_deficit', \\\n",
    "                                             'max_6mo_dead_fuel_100','max_6mo_dead_fuel_1000']\n",
    "year_dat.columns = ['mean_yr_precip','mean_yr_max_air_temp','mean_yr_mean_vapor_pressure_deficit', \\\n",
    "                                             'mean_yr_dead_fuel_100','mean_yr_dead_fuel_1000']\n",
    "year_dat_max.columns = ['max_yr_precip','max_yr_max_air_temp','max_yr_mean_vapor_pressure_deficit', \\\n",
    "                                             'max_yr_dead_fuel_100','max_yr_dead_fuel_1000']"
   ]
  },
  {
   "cell_type": "code",
   "execution_count": null,
   "metadata": {},
   "outputs": [],
   "source": [
    "week_dat.isnull().sum()\n",
    "week_dat.head(3855681)"
   ]
  },
  {
   "cell_type": "code",
   "execution_count": null,
   "metadata": {},
   "outputs": [],
   "source": [
    "week_dat.isnull().sum()"
   ]
  },
  {
   "cell_type": "code",
   "execution_count": null,
   "metadata": {},
   "outputs": [],
   "source": [
    "week_dat_max.head(3855681)"
   ]
  },
  {
   "cell_type": "code",
   "execution_count": null,
   "metadata": {},
   "outputs": [],
   "source": [
    "all_lag_dat = pd.concat([week_dat,week_dat_max,two_week_dat,two_week_dat_max,month_dat,month_dat_max,six_month_dat,six_month_dat_max,year_dat,year_dat_max],1)"
   ]
  },
  {
   "cell_type": "code",
   "execution_count": null,
   "metadata": {},
   "outputs": [],
   "source": [
    "all_lag_dat.head(3855681)"
   ]
  },
  {
   "cell_type": "code",
   "execution_count": null,
   "metadata": {},
   "outputs": [],
   "source": [
    "all_lag_dat = all_lag_dat[all_lag_dat['mean_wk_vapor_pressure_deficit'].notnull()]"
   ]
  },
  {
   "cell_type": "code",
   "execution_count": null,
   "metadata": {},
   "outputs": [],
   "source": [
    "all_lag_dat.head(30)"
   ]
  },
  {
   "cell_type": "code",
   "execution_count": null,
   "metadata": {},
   "outputs": [],
   "source": [
    "# Is it calculating correctly?\n",
    "lag_test[lag_test.index=='-116.05833330000002_32.56666666666667'][['mean_vapor_pressure_deficit_kPa']].head(20)"
   ]
  },
  {
   "cell_type": "code",
   "execution_count": null,
   "metadata": {},
   "outputs": [],
   "source": [
    "print('Yes, however merge is wrong')"
   ]
  },
  {
   "cell_type": "code",
   "execution_count": null,
   "metadata": {},
   "outputs": [],
   "source": [
    "all_lag_dat.to_parquet('lag.parquet.gzip',\n",
    "              compression='gzip')"
   ]
  },
  {
   "cell_type": "code",
   "execution_count": null,
   "metadata": {},
   "outputs": [],
   "source": []
  }
 ],
 "metadata": {
  "kernelspec": {
   "display_name": "Python 3",
   "language": "python",
   "name": "python3"
  },
  "language_info": {
   "codemirror_mode": {
    "name": "ipython",
    "version": 3
   },
   "file_extension": ".py",
   "mimetype": "text/x-python",
   "name": "python",
   "nbconvert_exporter": "python",
   "pygments_lexer": "ipython3",
   "version": "3.7.6"
  }
 },
 "nbformat": 4,
 "nbformat_minor": 2
}
