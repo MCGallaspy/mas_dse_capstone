{
 "cells": [
  {
   "cell_type": "code",
   "execution_count": null,
   "metadata": {},
   "outputs": [],
   "source": [
    "import boto3\n",
    "import pandas as pd"
   ]
  },
  {
   "cell_type": "code",
   "execution_count": null,
   "metadata": {},
   "outputs": [],
   "source": [
    "s3 = boto3.client(\"s3\")\n",
    "all_objects = s3.list_objects(Bucket='dse-cohort5-group5')\n",
    "all_objects"
   ]
  },
  {
   "cell_type": "code",
   "execution_count": null,
   "metadata": {},
   "outputs": [],
   "source": [
    "s3.download_file('dse-cohort5-group5', 'wildfire_capstone/integratedData.parquet.gz', 'integratedData.parquet.gz')"
   ]
  },
  {
   "cell_type": "code",
   "execution_count": null,
   "metadata": {},
   "outputs": [],
   "source": [
    "df = pd.read_parquet('integratedData.parquet.gz')"
   ]
  },
  {
   "cell_type": "code",
   "execution_count": null,
   "metadata": {},
   "outputs": [],
   "source": [
    "df.head()"
   ]
  },
  {
   "cell_type": "code",
   "execution_count": null,
   "metadata": {},
   "outputs": [],
   "source": [
    "# Let us create a unique_id\n",
    "df['id_col'] = df.longitude.astype(str)+'_'+df.latitude.astype(str)"
   ]
  },
  {
   "cell_type": "code",
   "execution_count": null,
   "metadata": {},
   "outputs": [],
   "source": [
    "df.shape"
   ]
  },
  {
   "cell_type": "code",
   "execution_count": null,
   "metadata": {},
   "outputs": [],
   "source": [
    "df.iloc[0,20]"
   ]
  },
  {
   "cell_type": "code",
   "execution_count": null,
   "metadata": {},
   "outputs": [],
   "source": [
    "lag_test = df.copy()\n",
    "lag_test.set_index('id_col',inplace=True)"
   ]
  },
  {
   "cell_type": "code",
   "execution_count": null,
   "metadata": {},
   "outputs": [],
   "source": [
    "lag_test.head()"
   ]
  },
  {
   "cell_type": "code",
   "execution_count": null,
   "metadata": {},
   "outputs": [],
   "source": [
    "unique_ids = lag_test.index.unique()"
   ]
  },
  {
   "cell_type": "code",
   "execution_count": null,
   "metadata": {},
   "outputs": [],
   "source": [
    "len(unique_ids)"
   ]
  },
  {
   "cell_type": "code",
   "execution_count": null,
   "metadata": {},
   "outputs": [],
   "source": [
    "df.columns"
   ]
  },
  {
   "cell_type": "markdown",
   "metadata": {},
   "source": [
    "## Experiment with Week Lag.."
   ]
  },
  {
   "cell_type": "code",
   "execution_count": null,
   "metadata": {},
   "outputs": [],
   "source": [
    "week_dat = lag_test.groupby(['id_col'])['mean_vapor_pressure_deficit_kPa','relative_humidity_%',\n",
    "                                             'specific_humidity_kg/kg','wind_speed_m/s','max_air_temperature_K',\n",
    "                                             'dead_fuel_moisture_100hr_Percent','dead_fuel_moisture_1000hr_Percent']\\\n",
    ".expanding(7).mean().reset_index(0,drop=True)\n",
    "week_dat_max = lag_test.groupby(['id_col'])['mean_vapor_pressure_deficit_kPa','relative_humidity_%',\n",
    "                                             'specific_humidity_kg/kg','wind_speed_m/s','max_air_temperature_K',\n",
    "                                             'dead_fuel_moisture_100hr_Percent','dead_fuel_moisture_1000hr_Percent']\\\n",
    ".expanding(7).max().reset_index(0,drop=True)"
   ]
  },
  {
   "cell_type": "code",
   "execution_count": null,
   "metadata": {},
   "outputs": [],
   "source": [
    "week_dat.columns = ['mean_wk_vapor_pressure_deficit','mean_wk_relative_humidity','mean_wk_specific_humidity',\n",
    "                    'mean_wk_wind_speed','mean_wk_max_air_temp','mean_wk_dead_fuel_100','mean_wk_dead_ful_1000']\n",
    "week_dat_max.columns = ['max_wk_vapor_pressure_deficit','max_wk_relative_humidity','max_wk_specific_humidity',\n",
    "                    'max_wk_wind_speed','max_wk_max_air_temp','max_wk_dead_fuel_100','max_wk_dead_ful_1000']"
   ]
  },
  {
   "cell_type": "code",
   "execution_count": null,
   "metadata": {},
   "outputs": [],
   "source": [
    "week_dat.head(8)"
   ]
  },
  {
   "cell_type": "code",
   "execution_count": null,
   "metadata": {},
   "outputs": [],
   "source": [
    "week_dat_max.head(8)"
   ]
  },
  {
   "cell_type": "code",
   "execution_count": null,
   "metadata": {},
   "outputs": [],
   "source": [
    "week_dat_m = pd.concat([week_dat,week_dat_max],axis=0)"
   ]
  },
  {
   "cell_type": "code",
   "execution_count": null,
   "metadata": {},
   "outputs": [],
   "source": [
    "week_dat_m.head(8)"
   ]
  },
  {
   "cell_type": "code",
   "execution_count": null,
   "metadata": {},
   "outputs": [],
   "source": [
    "# Is it calculating correctly?\n",
    "lag_test[lag_test.index=='-116.05833330000002_32.56666666666667'][['mean_vapor_pressure_deficit_kPa']].head(20)"
   ]
  },
  {
   "cell_type": "code",
   "execution_count": null,
   "metadata": {},
   "outputs": [],
   "source": [
    "print('Yes, however merge is wrong')"
   ]
  },
  {
   "cell_type": "code",
   "execution_count": null,
   "metadata": {},
   "outputs": [],
   "source": []
  }
 ],
 "metadata": {
  "kernelspec": {
   "display_name": "Python 3",
   "language": "python",
   "name": "python3"
  },
  "language_info": {
   "codemirror_mode": {
    "name": "ipython",
    "version": 3
   },
   "file_extension": ".py",
   "mimetype": "text/x-python",
   "name": "python",
   "nbconvert_exporter": "python",
   "pygments_lexer": "ipython3",
   "version": "3.6.10"
  }
 },
 "nbformat": 4,
 "nbformat_minor": 2
}
