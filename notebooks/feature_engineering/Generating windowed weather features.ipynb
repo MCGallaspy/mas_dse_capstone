{
 "cells": [
  {
   "cell_type": "markdown",
   "metadata": {},
   "source": [
    "# About this notebook\n",
    "\n",
    "This notebook will generate windowed aggregate features from the base integrated dataframe. The windowed features are created by:\n",
    "\n",
    "1. Selecting a window period, e.g. 1 week or 1 year\n",
    "2. Selecting an aggregation function, e.g. max or cumulative\n",
    "3. Applying the function for the given window preceding each row.\n",
    "\n",
    "If you need to download the base dataframe from S3, uncomment and run the cell with the comment `#DOWNLOAD DATA`."
   ]
  },
  {
   "cell_type": "code",
   "execution_count": 1,
   "metadata": {},
   "outputs": [],
   "source": [
    "import pandas as pd\n",
    "from tqdm import tqdm_notebook as tqdm"
   ]
  },
  {
   "cell_type": "code",
   "execution_count": 2,
   "metadata": {},
   "outputs": [],
   "source": [
    "#DOWNLOAD DATA\n",
    "# import boto3\n",
    "# s3 = boto3.client(\"s3\")\n",
    "# all_objects = s3.list_objects(Bucket='dse-cohort5-group5')\n",
    "# display(all_objects)\n",
    "#s3.download_file('dse-cohort5-group5', 'wildfire_capstone/gridMet.parquet.gz', 'gridMet.parquet.gz')"
   ]
  },
  {
   "cell_type": "code",
   "execution_count": 3,
   "metadata": {},
   "outputs": [],
   "source": [
    "df = pd.read_parquet('gridMet.parquet.gz')"
   ]
  },
  {
   "cell_type": "code",
   "execution_count": 4,
   "metadata": {},
   "outputs": [
    {
     "name": "stdout",
     "output_type": "stream",
     "text": [
      "(10676640, 14)\n",
      "(6826300, 16)\n"
     ]
    }
   ],
   "source": [
    "print(df.shape)\n",
    "df = df[~df['precipitation_amount_mm'].isna()]\n",
    "df = df.reset_index()\n",
    "df = df.set_index('date')\n",
    "print(df.shape)"
   ]
  },
  {
   "cell_type": "code",
   "execution_count": 5,
   "metadata": {
    "scrolled": true
   },
   "outputs": [
    {
     "data": {
      "text/html": [
       "<div>\n",
       "<style scoped>\n",
       "    .dataframe tbody tr th:only-of-type {\n",
       "        vertical-align: middle;\n",
       "    }\n",
       "\n",
       "    .dataframe tbody tr th {\n",
       "        vertical-align: top;\n",
       "    }\n",
       "\n",
       "    .dataframe thead th {\n",
       "        text-align: right;\n",
       "    }\n",
       "</style>\n",
       "<table border=\"1\" class=\"dataframe\">\n",
       "  <thead>\n",
       "    <tr style=\"text-align: right;\">\n",
       "      <th></th>\n",
       "      <th>latitude</th>\n",
       "      <th>longitude</th>\n",
       "      <th>precipitation_amount_mm</th>\n",
       "      <th>relative_humidity_%</th>\n",
       "      <th>specific_humidity_kg/kg</th>\n",
       "      <th>surface_downwelling_shortwave_flux_in_air_W m-2</th>\n",
       "      <th>wind_from_direction_Degrees Clockwise from north</th>\n",
       "      <th>wind_speed_m/s</th>\n",
       "      <th>max_air_temperature_K</th>\n",
       "      <th>min_air_temperature_K</th>\n",
       "      <th>burning_index_g_Unitless</th>\n",
       "      <th>dead_fuel_moisture_100hr_Percent</th>\n",
       "      <th>dead_fuel_moisture_1000hr_Percent</th>\n",
       "      <th>energy_release_component-g_Unitless</th>\n",
       "      <th>potential_evapotranspiration_mm</th>\n",
       "      <th>mean_vapor_pressure_deficit_kPa</th>\n",
       "    </tr>\n",
       "    <tr>\n",
       "      <th>date</th>\n",
       "      <th></th>\n",
       "      <th></th>\n",
       "      <th></th>\n",
       "      <th></th>\n",
       "      <th></th>\n",
       "      <th></th>\n",
       "      <th></th>\n",
       "      <th></th>\n",
       "      <th></th>\n",
       "      <th></th>\n",
       "      <th></th>\n",
       "      <th></th>\n",
       "      <th></th>\n",
       "      <th></th>\n",
       "      <th></th>\n",
       "      <th></th>\n",
       "    </tr>\n",
       "  </thead>\n",
       "  <tbody>\n",
       "    <tr>\n",
       "      <th>1999-01-01</th>\n",
       "      <td>33.566667</td>\n",
       "      <td>-117.975000</td>\n",
       "      <td>0.0</td>\n",
       "      <td>40.3</td>\n",
       "      <td>0.00589</td>\n",
       "      <td>138.0</td>\n",
       "      <td>123.0</td>\n",
       "      <td>1.6</td>\n",
       "      <td>293.1</td>\n",
       "      <td>281.1</td>\n",
       "      <td>24.0</td>\n",
       "      <td>16.0</td>\n",
       "      <td>15.5</td>\n",
       "      <td>34.0</td>\n",
       "      <td>1.7</td>\n",
       "      <td>0.74</td>\n",
       "    </tr>\n",
       "    <tr>\n",
       "      <th>1999-01-01</th>\n",
       "      <td>33.566667</td>\n",
       "      <td>-117.933333</td>\n",
       "      <td>0.0</td>\n",
       "      <td>39.8</td>\n",
       "      <td>0.00590</td>\n",
       "      <td>137.2</td>\n",
       "      <td>123.0</td>\n",
       "      <td>1.6</td>\n",
       "      <td>293.1</td>\n",
       "      <td>281.2</td>\n",
       "      <td>24.0</td>\n",
       "      <td>16.0</td>\n",
       "      <td>15.5</td>\n",
       "      <td>35.0</td>\n",
       "      <td>1.7</td>\n",
       "      <td>0.74</td>\n",
       "    </tr>\n",
       "    <tr>\n",
       "      <th>1999-01-01</th>\n",
       "      <td>33.566667</td>\n",
       "      <td>-117.891667</td>\n",
       "      <td>0.0</td>\n",
       "      <td>38.2</td>\n",
       "      <td>0.00580</td>\n",
       "      <td>137.2</td>\n",
       "      <td>123.0</td>\n",
       "      <td>1.7</td>\n",
       "      <td>293.2</td>\n",
       "      <td>281.2</td>\n",
       "      <td>26.0</td>\n",
       "      <td>15.2</td>\n",
       "      <td>14.9</td>\n",
       "      <td>37.0</td>\n",
       "      <td>1.7</td>\n",
       "      <td>0.77</td>\n",
       "    </tr>\n",
       "    <tr>\n",
       "      <th>1999-01-01</th>\n",
       "      <td>33.566667</td>\n",
       "      <td>-117.850000</td>\n",
       "      <td>0.0</td>\n",
       "      <td>36.4</td>\n",
       "      <td>0.00567</td>\n",
       "      <td>137.3</td>\n",
       "      <td>49.0</td>\n",
       "      <td>1.8</td>\n",
       "      <td>293.3</td>\n",
       "      <td>280.3</td>\n",
       "      <td>27.0</td>\n",
       "      <td>15.0</td>\n",
       "      <td>14.8</td>\n",
       "      <td>38.0</td>\n",
       "      <td>1.8</td>\n",
       "      <td>0.76</td>\n",
       "    </tr>\n",
       "    <tr>\n",
       "      <th>1999-01-01</th>\n",
       "      <td>33.566667</td>\n",
       "      <td>-117.808333</td>\n",
       "      <td>0.0</td>\n",
       "      <td>33.8</td>\n",
       "      <td>0.00538</td>\n",
       "      <td>137.3</td>\n",
       "      <td>49.0</td>\n",
       "      <td>1.9</td>\n",
       "      <td>293.2</td>\n",
       "      <td>279.9</td>\n",
       "      <td>29.0</td>\n",
       "      <td>13.3</td>\n",
       "      <td>13.6</td>\n",
       "      <td>43.0</td>\n",
       "      <td>1.9</td>\n",
       "      <td>0.80</td>\n",
       "    </tr>\n",
       "  </tbody>\n",
       "</table>\n",
       "</div>"
      ],
      "text/plain": [
       "             latitude   longitude  precipitation_amount_mm  \\\n",
       "date                                                         \n",
       "1999-01-01  33.566667 -117.975000                      0.0   \n",
       "1999-01-01  33.566667 -117.933333                      0.0   \n",
       "1999-01-01  33.566667 -117.891667                      0.0   \n",
       "1999-01-01  33.566667 -117.850000                      0.0   \n",
       "1999-01-01  33.566667 -117.808333                      0.0   \n",
       "\n",
       "            relative_humidity_%  specific_humidity_kg/kg  \\\n",
       "date                                                       \n",
       "1999-01-01                 40.3                  0.00589   \n",
       "1999-01-01                 39.8                  0.00590   \n",
       "1999-01-01                 38.2                  0.00580   \n",
       "1999-01-01                 36.4                  0.00567   \n",
       "1999-01-01                 33.8                  0.00538   \n",
       "\n",
       "            surface_downwelling_shortwave_flux_in_air_W m-2  \\\n",
       "date                                                          \n",
       "1999-01-01                                            138.0   \n",
       "1999-01-01                                            137.2   \n",
       "1999-01-01                                            137.2   \n",
       "1999-01-01                                            137.3   \n",
       "1999-01-01                                            137.3   \n",
       "\n",
       "            wind_from_direction_Degrees Clockwise from north  wind_speed_m/s  \\\n",
       "date                                                                           \n",
       "1999-01-01                                             123.0             1.6   \n",
       "1999-01-01                                             123.0             1.6   \n",
       "1999-01-01                                             123.0             1.7   \n",
       "1999-01-01                                              49.0             1.8   \n",
       "1999-01-01                                              49.0             1.9   \n",
       "\n",
       "            max_air_temperature_K  min_air_temperature_K  \\\n",
       "date                                                       \n",
       "1999-01-01                  293.1                  281.1   \n",
       "1999-01-01                  293.1                  281.2   \n",
       "1999-01-01                  293.2                  281.2   \n",
       "1999-01-01                  293.3                  280.3   \n",
       "1999-01-01                  293.2                  279.9   \n",
       "\n",
       "            burning_index_g_Unitless  dead_fuel_moisture_100hr_Percent  \\\n",
       "date                                                                     \n",
       "1999-01-01                      24.0                              16.0   \n",
       "1999-01-01                      24.0                              16.0   \n",
       "1999-01-01                      26.0                              15.2   \n",
       "1999-01-01                      27.0                              15.0   \n",
       "1999-01-01                      29.0                              13.3   \n",
       "\n",
       "            dead_fuel_moisture_1000hr_Percent  \\\n",
       "date                                            \n",
       "1999-01-01                               15.5   \n",
       "1999-01-01                               15.5   \n",
       "1999-01-01                               14.9   \n",
       "1999-01-01                               14.8   \n",
       "1999-01-01                               13.6   \n",
       "\n",
       "            energy_release_component-g_Unitless  \\\n",
       "date                                              \n",
       "1999-01-01                                 34.0   \n",
       "1999-01-01                                 35.0   \n",
       "1999-01-01                                 37.0   \n",
       "1999-01-01                                 38.0   \n",
       "1999-01-01                                 43.0   \n",
       "\n",
       "            potential_evapotranspiration_mm  mean_vapor_pressure_deficit_kPa  \n",
       "date                                                                          \n",
       "1999-01-01                              1.7                             0.74  \n",
       "1999-01-01                              1.7                             0.74  \n",
       "1999-01-01                              1.7                             0.77  \n",
       "1999-01-01                              1.8                             0.76  \n",
       "1999-01-01                              1.9                             0.80  "
      ]
     },
     "execution_count": 5,
     "metadata": {},
     "output_type": "execute_result"
    }
   ],
   "source": [
    "cols = [c for c in df][2:]\n",
    "df.head()"
   ]
  },
  {
   "cell_type": "code",
   "execution_count": 6,
   "metadata": {},
   "outputs": [
    {
     "data": {
      "text/plain": [
       "['precipitation_amount_mm',\n",
       " 'relative_humidity_%',\n",
       " 'specific_humidity_kg/kg',\n",
       " 'surface_downwelling_shortwave_flux_in_air_W m-2',\n",
       " 'wind_from_direction_Degrees Clockwise from north',\n",
       " 'wind_speed_m/s',\n",
       " 'max_air_temperature_K',\n",
       " 'min_air_temperature_K',\n",
       " 'burning_index_g_Unitless',\n",
       " 'dead_fuel_moisture_100hr_Percent',\n",
       " 'dead_fuel_moisture_1000hr_Percent',\n",
       " 'energy_release_component-g_Unitless',\n",
       " 'potential_evapotranspiration_mm',\n",
       " 'mean_vapor_pressure_deficit_kPa']"
      ]
     },
     "execution_count": 6,
     "metadata": {},
     "output_type": "execute_result"
    }
   ],
   "source": [
    "cols"
   ]
  },
  {
   "cell_type": "code",
   "execution_count": 7,
   "metadata": {},
   "outputs": [
    {
     "data": {
      "text/plain": [
       "['7d', '14d', '21d', '30d', '60d', '90d', '180d', '365d']"
      ]
     },
     "execution_count": 7,
     "metadata": {},
     "output_type": "execute_result"
    }
   ],
   "source": [
    "windows = ['7d', '14d', '21d', '30d', '60d', '90d', '180d', '365d']\n",
    "windows"
   ]
  },
  {
   "cell_type": "code",
   "execution_count": 8,
   "metadata": {},
   "outputs": [
    {
     "name": "stdout",
     "output_type": "stream",
     "text": [
      "(6826300, 14)\n"
     ]
    },
    {
     "name": "stderr",
     "output_type": "stream",
     "text": [
      "C:\\Users\\Mike\\AppData\\Local\\Continuum\\anaconda3\\envs\\geo\\lib\\site-packages\\ipykernel_launcher.py:3: TqdmDeprecationWarning: This function will be removed in tqdm==5.0.0\n",
      "Please use `tqdm.notebook.tqdm` instead of `tqdm.tqdm_notebook`\n",
      "  This is separate from the ipykernel package so we can avoid doing imports until\n"
     ]
    },
    {
     "data": {
      "application/vnd.jupyter.widget-view+json": {
       "model_id": "e0c92563539e420c9a0570104d9852b3",
       "version_major": 2,
       "version_minor": 0
      },
      "text/plain": [
       "HBox(children=(FloatProgress(value=0.0, max=8.0), HTML(value='')))"
      ]
     },
     "metadata": {},
     "output_type": "display_data"
    },
    {
     "name": "stdout",
     "output_type": "stream",
     "text": [
      "(6826300, 28)\n",
      "(6826300, 42)\n",
      "(6826300, 56)\n",
      "(6826300, 70)\n",
      "(6826300, 84)\n",
      "(6826300, 98)\n",
      "(6826300, 112)\n",
      "(6826300, 126)\n",
      "\n"
     ]
    }
   ],
   "source": [
    "result = df.reset_index().set_index(['date', 'latitude', 'longitude'])\n",
    "print(result.shape)\n",
    "for window in tqdm(windows):\n",
    "    name_map = {n: \"{}_mean_{}\".format(window, n) for n in cols}\n",
    "    tmp = df\n",
    "    tmp = tmp.groupby(['latitude', 'longitude'])\n",
    "    tmp = tmp.rolling(window).mean(skipna=True)\n",
    "    tmp = tmp.rename(columns=name_map)\n",
    "    result = result.join(\n",
    "        tmp.drop(['latitude', 'longitude'], axis=1).reset_index()\\\n",
    "        .set_index(['date', 'latitude', 'longitude'])\n",
    "    )\n",
    "    print(result.shape)\n",
    "result.to_parquet('mean.parquet.gz', compression='gzip')"
   ]
  },
  {
   "cell_type": "code",
   "execution_count": 9,
   "metadata": {},
   "outputs": [
    {
     "name": "stdout",
     "output_type": "stream",
     "text": [
      "(6826300, 14)\n"
     ]
    },
    {
     "name": "stderr",
     "output_type": "stream",
     "text": [
      "C:\\Users\\Mike\\AppData\\Local\\Continuum\\anaconda3\\envs\\geo\\lib\\site-packages\\ipykernel_launcher.py:3: TqdmDeprecationWarning: This function will be removed in tqdm==5.0.0\n",
      "Please use `tqdm.notebook.tqdm` instead of `tqdm.tqdm_notebook`\n",
      "  This is separate from the ipykernel package so we can avoid doing imports until\n"
     ]
    },
    {
     "data": {
      "application/vnd.jupyter.widget-view+json": {
       "model_id": "52673a1af3964a6cabace6c6b8a7c729",
       "version_major": 2,
       "version_minor": 0
      },
      "text/plain": [
       "HBox(children=(FloatProgress(value=0.0, max=8.0), HTML(value='')))"
      ]
     },
     "metadata": {},
     "output_type": "display_data"
    },
    {
     "name": "stdout",
     "output_type": "stream",
     "text": [
      "(6826300, 28)\n",
      "(6826300, 42)\n",
      "(6826300, 56)\n",
      "(6826300, 70)\n",
      "(6826300, 84)\n",
      "(6826300, 98)\n",
      "(6826300, 112)\n",
      "(6826300, 126)\n",
      "\n"
     ]
    }
   ],
   "source": [
    "result = df.reset_index().set_index(['date', 'latitude', 'longitude'])\n",
    "print(result.shape)\n",
    "for window in tqdm(windows):\n",
    "    name_map = {n: \"{}_max_{}\".format(window, n) for n in cols}\n",
    "    tmp = df\n",
    "    tmp = tmp.groupby(['latitude', 'longitude'])\n",
    "    tmp = tmp.rolling(window).max(skipna=True)\n",
    "    tmp = tmp.rename(columns=name_map)\n",
    "    result = result.join(\n",
    "        tmp.drop(['latitude', 'longitude'], axis=1).reset_index()\\\n",
    "        .set_index(['date', 'latitude', 'longitude'])\n",
    "    )\n",
    "    print(result.shape)\n",
    "result.to_parquet('max.parquet.gz', compression='gzip')"
   ]
  },
  {
   "cell_type": "code",
   "execution_count": 10,
   "metadata": {},
   "outputs": [
    {
     "name": "stdout",
     "output_type": "stream",
     "text": [
      "(6826300, 14)\n"
     ]
    },
    {
     "name": "stderr",
     "output_type": "stream",
     "text": [
      "C:\\Users\\Mike\\AppData\\Local\\Continuum\\anaconda3\\envs\\geo\\lib\\site-packages\\ipykernel_launcher.py:3: TqdmDeprecationWarning: This function will be removed in tqdm==5.0.0\n",
      "Please use `tqdm.notebook.tqdm` instead of `tqdm.tqdm_notebook`\n",
      "  This is separate from the ipykernel package so we can avoid doing imports until\n"
     ]
    },
    {
     "data": {
      "application/vnd.jupyter.widget-view+json": {
       "model_id": "dfa6ad475d504ca0926e37d0e1aa9c90",
       "version_major": 2,
       "version_minor": 0
      },
      "text/plain": [
       "HBox(children=(FloatProgress(value=0.0, max=8.0), HTML(value='')))"
      ]
     },
     "metadata": {},
     "output_type": "display_data"
    },
    {
     "name": "stdout",
     "output_type": "stream",
     "text": [
      "(6826300, 28)\n",
      "(6826300, 42)\n",
      "(6826300, 56)\n",
      "(6826300, 70)\n",
      "(6826300, 84)\n",
      "(6826300, 98)\n",
      "(6826300, 112)\n",
      "(6826300, 126)\n",
      "\n"
     ]
    }
   ],
   "source": [
    "result = df.reset_index().set_index(['date', 'latitude', 'longitude'])\n",
    "print(result.shape)\n",
    "for window in tqdm(windows):\n",
    "    name_map = {n: \"{}_cumulative_{}\".format(window, n) for n in cols}\n",
    "    tmp = df\n",
    "    tmp = tmp.groupby(['latitude', 'longitude'])\n",
    "    tmp = tmp.rolling(window).sum(skipna=True)\n",
    "    tmp = tmp.rename(columns=name_map)\n",
    "    result = result.join(\n",
    "        tmp.drop(['latitude', 'longitude'], axis=1).reset_index()\\\n",
    "        .set_index(['date', 'latitude', 'longitude'])\n",
    "    )\n",
    "    print(result.shape)\n",
    "result.to_parquet('cumulative.parquet.gz', compression='gzip')"
   ]
  },
  {
   "cell_type": "code",
   "execution_count": 11,
   "metadata": {},
   "outputs": [
    {
     "name": "stdout",
     "output_type": "stream",
     "text": [
      "(6826300, 14)\n"
     ]
    },
    {
     "name": "stderr",
     "output_type": "stream",
     "text": [
      "C:\\Users\\Mike\\AppData\\Local\\Continuum\\anaconda3\\envs\\geo\\lib\\site-packages\\ipykernel_launcher.py:3: TqdmDeprecationWarning: This function will be removed in tqdm==5.0.0\n",
      "Please use `tqdm.notebook.tqdm` instead of `tqdm.tqdm_notebook`\n",
      "  This is separate from the ipykernel package so we can avoid doing imports until\n"
     ]
    },
    {
     "data": {
      "application/vnd.jupyter.widget-view+json": {
       "model_id": "1c69a345b7634615aa23f7487c35898f",
       "version_major": 2,
       "version_minor": 0
      },
      "text/plain": [
       "HBox(children=(FloatProgress(value=0.0, max=8.0), HTML(value='')))"
      ]
     },
     "metadata": {},
     "output_type": "display_data"
    },
    {
     "name": "stdout",
     "output_type": "stream",
     "text": [
      "(6826300, 28)\n",
      "(6826300, 42)\n",
      "(6826300, 56)\n",
      "(6826300, 70)\n",
      "(6826300, 84)\n",
      "(6826300, 98)\n",
      "(6826300, 112)\n",
      "(6826300, 126)\n",
      "\n"
     ]
    }
   ],
   "source": [
    "result = df.reset_index().set_index(['date', 'latitude', 'longitude'])\n",
    "print(result.shape)\n",
    "for window in tqdm(windows):\n",
    "    name_map = {n: \"{}_min_{}\".format(window, n) for n in cols}\n",
    "    tmp = df\n",
    "    tmp = tmp.groupby(['latitude', 'longitude'])\n",
    "    tmp = tmp.rolling(window).min(skipna=True)\n",
    "    tmp = tmp.rename(columns=name_map)\n",
    "    result = result.join(\n",
    "        tmp.drop(['latitude', 'longitude'], axis=1).reset_index()\\\n",
    "        .set_index(['date', 'latitude', 'longitude'])\n",
    "    )\n",
    "    print(result.shape)\n",
    "result.to_parquet('min.parquet.gz', compression='gzip')"
   ]
  },
  {
   "cell_type": "code",
   "execution_count": 12,
   "metadata": {},
   "outputs": [
    {
     "name": "stdout",
     "output_type": "stream",
     "text": [
      "(6826300, 14)\n"
     ]
    },
    {
     "name": "stderr",
     "output_type": "stream",
     "text": [
      "C:\\Users\\Mike\\AppData\\Local\\Continuum\\anaconda3\\envs\\geo\\lib\\site-packages\\ipykernel_launcher.py:3: TqdmDeprecationWarning: This function will be removed in tqdm==5.0.0\n",
      "Please use `tqdm.notebook.tqdm` instead of `tqdm.tqdm_notebook`\n",
      "  This is separate from the ipykernel package so we can avoid doing imports until\n"
     ]
    },
    {
     "data": {
      "application/vnd.jupyter.widget-view+json": {
       "model_id": "2c202551b36a4e67b4bc96e191df6b90",
       "version_major": 2,
       "version_minor": 0
      },
      "text/plain": [
       "HBox(children=(FloatProgress(value=0.0, max=8.0), HTML(value='')))"
      ]
     },
     "metadata": {},
     "output_type": "display_data"
    },
    {
     "name": "stdout",
     "output_type": "stream",
     "text": [
      "(6826300, 28)\n",
      "(6826300, 42)\n",
      "(6826300, 56)\n",
      "(6826300, 70)\n",
      "(6826300, 84)\n",
      "(6826300, 98)\n",
      "(6826300, 112)\n",
      "(6826300, 126)\n",
      "\n"
     ]
    }
   ],
   "source": [
    "result = df.reset_index().set_index(['date', 'latitude', 'longitude'])\n",
    "print(result.shape)\n",
    "for window in tqdm(windows):\n",
    "    name_map = {n: \"{}_std_{}\".format(window, n) for n in cols}\n",
    "    tmp = df\n",
    "    tmp = tmp.groupby(['latitude', 'longitude'])\n",
    "    tmp = tmp.rolling(window).std(skipna=True)\n",
    "    tmp = tmp.rename(columns=name_map)\n",
    "    result = result.join(\n",
    "        tmp.drop(['latitude', 'longitude'], axis=1).reset_index()\\\n",
    "        .set_index(['date', 'latitude', 'longitude'])\n",
    "    )\n",
    "    print(result.shape)\n",
    "result.to_parquet('std.parquet.gz', compression='gzip')"
   ]
  },
  {
   "cell_type": "code",
   "execution_count": 31,
   "metadata": {},
   "outputs": [],
   "source": [
    "# Uncomment to free resources if needed\n",
    "# del df\n",
    "# del tmp\n",
    "# del result"
   ]
  },
  {
   "cell_type": "code",
   "execution_count": null,
   "metadata": {},
   "outputs": [
    {
     "name": "stdout",
     "output_type": "stream",
     "text": [
      "Redundant cols: ['precipitation_amount_mm', 'relative_humidity_%', 'specific_humidity_kg/kg', 'surface_downwelling_shortwave_flux_in_air_W m-2', 'wind_from_direction_Degrees Clockwise from north', 'wind_speed_m/s', 'max_air_temperature_K', 'min_air_temperature_K', 'burning_index_g_Unitless', 'dead_fuel_moisture_100hr_Percent', 'dead_fuel_moisture_1000hr_Percent', 'energy_release_component-g_Unitless', 'potential_evapotranspiration_mm', 'mean_vapor_pressure_deficit_kPa']\n"
     ]
    },
    {
     "name": "stderr",
     "output_type": "stream",
     "text": [
      "C:\\Users\\Mike\\AppData\\Local\\Continuum\\anaconda3\\envs\\geo\\lib\\site-packages\\ipykernel_launcher.py:7: TqdmDeprecationWarning: This function will be removed in tqdm==5.0.0\n",
      "Please use `tqdm.notebook.tqdm` instead of `tqdm.tqdm_notebook`\n",
      "  import sys\n"
     ]
    },
    {
     "data": {
      "application/vnd.jupyter.widget-view+json": {
       "model_id": "029605a1cc6644608648c44e16150b8c",
       "version_major": 2,
       "version_minor": 0
      },
      "text/plain": [
       "HBox(children=(FloatProgress(value=0.0, max=3.0), HTML(value='')))"
      ]
     },
     "metadata": {},
     "output_type": "display_data"
    },
    {
     "name": "stdout",
     "output_type": "stream",
     "text": [
      "Writing to: s3://dse-cohort5-group5/wildfire_capstone/timeLaggedGridMetFeatures/mean.parquet.gz\n"
     ]
    }
   ],
   "source": [
    "%%time\n",
    "import boto3\n",
    "import pandas as pd\n",
    "s3_url = 's3://dse-cohort5-group5/wildfire_capstone/timeLaggedGridMetFeatures/{fname}'\n",
    "pd.options.display.max_columns = None\n",
    "print(\"Redundant cols:\", cols)\n",
    "files = ['min.parquet.gz', 'max.parquet.gz', 'mean.parquet.gz', 'cumulative.parquet.gz', 'std.parquet.gz']\n",
    "for file in tqdm(files[2:]):\n",
    "    result = pd.read_parquet(file).drop(cols, axis=1) # Drop cols containing the base features\n",
    "    print(\"Writing to:\", s3_url.format(fname=file))\n",
    "    result.to_parquet(s3_url.format(fname=file), compression='gzip')\n",
    "    del result"
   ]
  },
  {
   "cell_type": "code",
   "execution_count": 40,
   "metadata": {},
   "outputs": [
    {
     "data": {
      "text/plain": [
       "{'ResponseMetadata': {'RequestId': '2EDD279BD0B5CA56',\n",
       "  'HostId': 'UI5AznYX9E2/LXbAmfIMtNKFx/0THzWRcKiEFQkpCaWC4A407s8JKpqnb5MADejI60rXWM5jFwc=',\n",
       "  'HTTPStatusCode': 200,\n",
       "  'HTTPHeaders': {'x-amz-id-2': 'UI5AznYX9E2/LXbAmfIMtNKFx/0THzWRcKiEFQkpCaWC4A407s8JKpqnb5MADejI60rXWM5jFwc=',\n",
       "   'x-amz-request-id': '2EDD279BD0B5CA56',\n",
       "   'date': 'Sat, 04 Apr 2020 01:43:20 GMT',\n",
       "   'x-amz-bucket-region': 'us-west-1',\n",
       "   'content-type': 'application/xml',\n",
       "   'transfer-encoding': 'chunked',\n",
       "   'server': 'AmazonS3'},\n",
       "  'RetryAttempts': 1},\n",
       " 'IsTruncated': False,\n",
       " 'Marker': '',\n",
       " 'Contents': [{'Key': 'test/',\n",
       "   'LastModified': datetime.datetime(2020, 2, 14, 2, 26, 50, tzinfo=tzutc()),\n",
       "   'ETag': '\"d41d8cd98f00b204e9800998ecf8427e\"',\n",
       "   'Size': 0,\n",
       "   'StorageClass': 'STANDARD',\n",
       "   'Owner': {'DisplayName': 'kcoakley+cohort5group5',\n",
       "    'ID': 'fe3a1755292b139ad5397ba537aa0aff32ef6ebba07fe45dcbe486d81e1ccc11'}},\n",
       "  {'Key': 'wildfire_capstone/gridMet.parquet.gz',\n",
       "   'LastModified': datetime.datetime(2020, 3, 11, 4, 39, 20, tzinfo=tzutc()),\n",
       "   'ETag': '\"0a1c3d699b36c831e1727d8f95774e1d-15\"',\n",
       "   'Size': 82887294,\n",
       "   'StorageClass': 'STANDARD',\n",
       "   'Owner': {'DisplayName': 'kcoakley+cohort5group5',\n",
       "    'ID': 'fe3a1755292b139ad5397ba537aa0aff32ef6ebba07fe45dcbe486d81e1ccc11'}},\n",
       "  {'Key': 'wildfire_capstone/integratedData.parquet.gz',\n",
       "   'LastModified': datetime.datetime(2020, 3, 11, 5, 52, 2, tzinfo=tzutc()),\n",
       "   'ETag': '\"c98da9b69ed92bb2973ae18faea2eea5-17\"',\n",
       "   'Size': 93446818,\n",
       "   'StorageClass': 'STANDARD',\n",
       "   'Owner': {'DisplayName': 'kcoakley+cohort5group5',\n",
       "    'ID': 'fe3a1755292b139ad5397ba537aa0aff32ef6ebba07fe45dcbe486d81e1ccc11'}},\n",
       "  {'Key': 'wildfire_capstone/integratedData.zip',\n",
       "   'LastModified': datetime.datetime(2020, 3, 1, 22, 37, 6, tzinfo=tzutc()),\n",
       "   'ETag': '\"b6cd2382006cb12cea83d94647bc48c2\"',\n",
       "   'Size': 299008543,\n",
       "   'StorageClass': 'STANDARD',\n",
       "   'Owner': {'DisplayName': 'kcoakley+cohort5group5',\n",
       "    'ID': 'fe3a1755292b139ad5397ba537aa0aff32ef6ebba07fe45dcbe486d81e1ccc11'}},\n",
       "  {'Key': 'wildfire_capstone/timeLaggedGridMetFeatures.parquet.gz',\n",
       "   'LastModified': datetime.datetime(2020, 4, 3, 21, 12, 39, tzinfo=tzutc()),\n",
       "   'ETag': '\"6190abb18398e513a286ff2786071f85-4\"',\n",
       "   'Size': 17069409,\n",
       "   'StorageClass': 'STANDARD',\n",
       "   'Owner': {'DisplayName': 'kcoakley+cohort5group5',\n",
       "    'ID': 'fe3a1755292b139ad5397ba537aa0aff32ef6ebba07fe45dcbe486d81e1ccc11'}},\n",
       "  {'Key': 'wildfire_capstone/timeLaggedGridMetFeatures/max.parquet.gz',\n",
       "   'LastModified': datetime.datetime(2020, 4, 3, 21, 43, 54, tzinfo=tzutc()),\n",
       "   'ETag': '\"8a8074c87bf8b75924a1b9479130de10-40\"',\n",
       "   'Size': 213745413,\n",
       "   'StorageClass': 'STANDARD',\n",
       "   'Owner': {'DisplayName': 'kcoakley+cohort5group5',\n",
       "    'ID': 'fe3a1755292b139ad5397ba537aa0aff32ef6ebba07fe45dcbe486d81e1ccc11'}},\n",
       "  {'Key': 'wildfire_capstone/timeLaggedGridMetFeatures/mean.parquet.gz',\n",
       "   'LastModified': datetime.datetime(2020, 4, 3, 21, 59, 50, tzinfo=tzutc()),\n",
       "   'ETag': '\"8054d9139dc1ef9a880cda4c4a874e27-351\"',\n",
       "   'Size': 1950891969,\n",
       "   'StorageClass': 'STANDARD',\n",
       "   'Owner': {'DisplayName': 'kcoakley+cohort5group5',\n",
       "    'ID': 'fe3a1755292b139ad5397ba537aa0aff32ef6ebba07fe45dcbe486d81e1ccc11'}},\n",
       "  {'Key': 'wildfire_capstone/timeLaggedGridMetFeatures/min.parquet.gz',\n",
       "   'LastModified': datetime.datetime(2020, 4, 3, 21, 30, 27, tzinfo=tzutc()),\n",
       "   'ETag': '\"bef46e5ee2a492837cceb7d93c2583c2-34\"',\n",
       "   'Size': 182129735,\n",
       "   'StorageClass': 'STANDARD',\n",
       "   'Owner': {'DisplayName': 'kcoakley+cohort5group5',\n",
       "    'ID': 'fe3a1755292b139ad5397ba537aa0aff32ef6ebba07fe45dcbe486d81e1ccc11'}}],\n",
       " 'Name': 'dse-cohort5-group5',\n",
       " 'Prefix': '',\n",
       " 'MaxKeys': 1000,\n",
       " 'EncodingType': 'url'}"
      ]
     },
     "metadata": {},
     "output_type": "display_data"
    }
   ],
   "source": [
    "s3 = boto3.client(\"s3\")\n",
    "all_objects = s3.list_objects(Bucket='dse-cohort5-group5')\n",
    "display(all_objects)"
   ]
  }
 ],
 "metadata": {
  "kernelspec": {
   "display_name": "Python 3",
   "language": "python",
   "name": "python3"
  },
  "language_info": {
   "codemirror_mode": {
    "name": "ipython",
    "version": 3
   },
   "file_extension": ".py",
   "mimetype": "text/x-python",
   "name": "python",
   "nbconvert_exporter": "python",
   "pygments_lexer": "ipython3",
   "version": "3.7.6"
  }
 },
 "nbformat": 4,
 "nbformat_minor": 2
}
