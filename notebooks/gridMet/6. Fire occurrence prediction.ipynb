{
 "cells": [
  {
   "cell_type": "markdown",
   "metadata": {},
   "source": [
    "# About this notebook\n",
    "\n",
    "This notebook explores classifers for fire occurrence."
   ]
  },
  {
   "cell_type": "code",
   "execution_count": 1,
   "metadata": {},
   "outputs": [],
   "source": [
    "import pandas as pd\n",
    "import numpy as np\n",
    "from sklearn.metrics import precision_recall_fscore_support"
   ]
  },
  {
   "cell_type": "code",
   "execution_count": 2,
   "metadata": {},
   "outputs": [
    {
     "name": "stdout",
     "output_type": "stream",
     "text": [
      "Wall time: 692 ms\n"
     ]
    }
   ],
   "source": [
    "%%time\n",
    "df = pd.read_parquet('integratedData.parquet.gz')\n",
    "df.date = pd.to_numeric(df.date)\n",
    "df.fire_occurred = df.fire_occurred.astype(int)"
   ]
  },
  {
   "cell_type": "code",
   "execution_count": 3,
   "metadata": {},
   "outputs": [
    {
     "name": "stdout",
     "output_type": "stream",
     "text": [
      "(6501450, 20)\n"
     ]
    },
    {
     "data": {
      "text/html": [
       "<div>\n",
       "<style scoped>\n",
       "    .dataframe tbody tr th:only-of-type {\n",
       "        vertical-align: middle;\n",
       "    }\n",
       "\n",
       "    .dataframe tbody tr th {\n",
       "        vertical-align: top;\n",
       "    }\n",
       "\n",
       "    .dataframe thead th {\n",
       "        text-align: right;\n",
       "    }\n",
       "</style>\n",
       "<table border=\"1\" class=\"dataframe\">\n",
       "  <thead>\n",
       "    <tr style=\"text-align: right;\">\n",
       "      <th></th>\n",
       "      <th>date</th>\n",
       "      <th>precipitation_amount_mm</th>\n",
       "      <th>relative_humidity_%</th>\n",
       "      <th>specific_humidity_kg/kg</th>\n",
       "      <th>surface_downwelling_shortwave_flux_in_air_W m-2</th>\n",
       "      <th>wind_from_direction_Degrees Clockwise from north</th>\n",
       "      <th>wind_speed_m/s</th>\n",
       "      <th>max_air_temperature_K</th>\n",
       "      <th>min_air_temperature_K</th>\n",
       "      <th>burning_index_g_Unitless</th>\n",
       "      <th>dead_fuel_moisture_100hr_Percent</th>\n",
       "      <th>dead_fuel_moisture_1000hr_Percent</th>\n",
       "      <th>energy_release_component-g_Unitless</th>\n",
       "      <th>potential_evapotranspiration_mm</th>\n",
       "      <th>mean_vapor_pressure_deficit_kPa</th>\n",
       "      <th>fire_occurred</th>\n",
       "      <th>acres_burned</th>\n",
       "      <th>fire_name</th>\n",
       "      <th>longitude</th>\n",
       "      <th>latitude</th>\n",
       "    </tr>\n",
       "  </thead>\n",
       "  <tbody>\n",
       "    <tr>\n",
       "      <th>0</th>\n",
       "      <td>946684800000000000</td>\n",
       "      <td>0.0</td>\n",
       "      <td>40.5</td>\n",
       "      <td>0.00600</td>\n",
       "      <td>139.7</td>\n",
       "      <td>222.0</td>\n",
       "      <td>2.1</td>\n",
       "      <td>292.0</td>\n",
       "      <td>282.2</td>\n",
       "      <td>31.0</td>\n",
       "      <td>12.3</td>\n",
       "      <td>12.1</td>\n",
       "      <td>48.0</td>\n",
       "      <td>1.8</td>\n",
       "      <td>0.69</td>\n",
       "      <td>0</td>\n",
       "      <td>NaN</td>\n",
       "      <td>None</td>\n",
       "      <td>-117.975000</td>\n",
       "      <td>33.566667</td>\n",
       "    </tr>\n",
       "    <tr>\n",
       "      <th>1</th>\n",
       "      <td>946684800000000000</td>\n",
       "      <td>0.0</td>\n",
       "      <td>40.9</td>\n",
       "      <td>0.00593</td>\n",
       "      <td>136.6</td>\n",
       "      <td>222.0</td>\n",
       "      <td>2.1</td>\n",
       "      <td>291.9</td>\n",
       "      <td>282.2</td>\n",
       "      <td>32.0</td>\n",
       "      <td>12.2</td>\n",
       "      <td>12.0</td>\n",
       "      <td>48.0</td>\n",
       "      <td>1.8</td>\n",
       "      <td>0.70</td>\n",
       "      <td>0</td>\n",
       "      <td>NaN</td>\n",
       "      <td>None</td>\n",
       "      <td>-117.933333</td>\n",
       "      <td>33.566667</td>\n",
       "    </tr>\n",
       "    <tr>\n",
       "      <th>2</th>\n",
       "      <td>946684800000000000</td>\n",
       "      <td>0.0</td>\n",
       "      <td>41.2</td>\n",
       "      <td>0.00580</td>\n",
       "      <td>133.2</td>\n",
       "      <td>222.0</td>\n",
       "      <td>2.3</td>\n",
       "      <td>292.1</td>\n",
       "      <td>282.1</td>\n",
       "      <td>33.0</td>\n",
       "      <td>11.8</td>\n",
       "      <td>11.5</td>\n",
       "      <td>50.0</td>\n",
       "      <td>1.9</td>\n",
       "      <td>0.72</td>\n",
       "      <td>0</td>\n",
       "      <td>NaN</td>\n",
       "      <td>None</td>\n",
       "      <td>-117.891667</td>\n",
       "      <td>33.566667</td>\n",
       "    </tr>\n",
       "    <tr>\n",
       "      <th>3</th>\n",
       "      <td>946684800000000000</td>\n",
       "      <td>0.0</td>\n",
       "      <td>40.8</td>\n",
       "      <td>0.00577</td>\n",
       "      <td>129.8</td>\n",
       "      <td>218.0</td>\n",
       "      <td>2.4</td>\n",
       "      <td>292.0</td>\n",
       "      <td>281.4</td>\n",
       "      <td>34.0</td>\n",
       "      <td>11.8</td>\n",
       "      <td>11.4</td>\n",
       "      <td>50.0</td>\n",
       "      <td>1.9</td>\n",
       "      <td>0.69</td>\n",
       "      <td>0</td>\n",
       "      <td>NaN</td>\n",
       "      <td>None</td>\n",
       "      <td>-117.850000</td>\n",
       "      <td>33.566667</td>\n",
       "    </tr>\n",
       "    <tr>\n",
       "      <th>4</th>\n",
       "      <td>946684800000000000</td>\n",
       "      <td>0.0</td>\n",
       "      <td>38.2</td>\n",
       "      <td>0.00547</td>\n",
       "      <td>126.5</td>\n",
       "      <td>218.0</td>\n",
       "      <td>2.5</td>\n",
       "      <td>292.6</td>\n",
       "      <td>281.0</td>\n",
       "      <td>37.0</td>\n",
       "      <td>10.7</td>\n",
       "      <td>10.5</td>\n",
       "      <td>55.0</td>\n",
       "      <td>2.1</td>\n",
       "      <td>0.78</td>\n",
       "      <td>0</td>\n",
       "      <td>NaN</td>\n",
       "      <td>None</td>\n",
       "      <td>-117.808333</td>\n",
       "      <td>33.566667</td>\n",
       "    </tr>\n",
       "  </tbody>\n",
       "</table>\n",
       "</div>"
      ],
      "text/plain": [
       "                 date  precipitation_amount_mm  relative_humidity_%  \\\n",
       "0  946684800000000000                      0.0                 40.5   \n",
       "1  946684800000000000                      0.0                 40.9   \n",
       "2  946684800000000000                      0.0                 41.2   \n",
       "3  946684800000000000                      0.0                 40.8   \n",
       "4  946684800000000000                      0.0                 38.2   \n",
       "\n",
       "   specific_humidity_kg/kg  surface_downwelling_shortwave_flux_in_air_W m-2  \\\n",
       "0                  0.00600                                            139.7   \n",
       "1                  0.00593                                            136.6   \n",
       "2                  0.00580                                            133.2   \n",
       "3                  0.00577                                            129.8   \n",
       "4                  0.00547                                            126.5   \n",
       "\n",
       "   wind_from_direction_Degrees Clockwise from north  wind_speed_m/s  \\\n",
       "0                                             222.0             2.1   \n",
       "1                                             222.0             2.1   \n",
       "2                                             222.0             2.3   \n",
       "3                                             218.0             2.4   \n",
       "4                                             218.0             2.5   \n",
       "\n",
       "   max_air_temperature_K  min_air_temperature_K  burning_index_g_Unitless  \\\n",
       "0                  292.0                  282.2                      31.0   \n",
       "1                  291.9                  282.2                      32.0   \n",
       "2                  292.1                  282.1                      33.0   \n",
       "3                  292.0                  281.4                      34.0   \n",
       "4                  292.6                  281.0                      37.0   \n",
       "\n",
       "   dead_fuel_moisture_100hr_Percent  dead_fuel_moisture_1000hr_Percent  \\\n",
       "0                              12.3                               12.1   \n",
       "1                              12.2                               12.0   \n",
       "2                              11.8                               11.5   \n",
       "3                              11.8                               11.4   \n",
       "4                              10.7                               10.5   \n",
       "\n",
       "   energy_release_component-g_Unitless  potential_evapotranspiration_mm  \\\n",
       "0                                 48.0                              1.8   \n",
       "1                                 48.0                              1.8   \n",
       "2                                 50.0                              1.9   \n",
       "3                                 50.0                              1.9   \n",
       "4                                 55.0                              2.1   \n",
       "\n",
       "   mean_vapor_pressure_deficit_kPa  fire_occurred  acres_burned fire_name  \\\n",
       "0                             0.69              0           NaN      None   \n",
       "1                             0.70              0           NaN      None   \n",
       "2                             0.72              0           NaN      None   \n",
       "3                             0.69              0           NaN      None   \n",
       "4                             0.78              0           NaN      None   \n",
       "\n",
       "    longitude   latitude  \n",
       "0 -117.975000  33.566667  \n",
       "1 -117.933333  33.566667  \n",
       "2 -117.891667  33.566667  \n",
       "3 -117.850000  33.566667  \n",
       "4 -117.808333  33.566667  "
      ]
     },
     "execution_count": 3,
     "metadata": {},
     "output_type": "execute_result"
    }
   ],
   "source": [
    "print(df.shape)\n",
    "df.head()"
   ]
  },
  {
   "cell_type": "code",
   "execution_count": 4,
   "metadata": {},
   "outputs": [
    {
     "data": {
      "text/plain": [
       "0    6499707\n",
       "1       1743\n",
       "Name: fire_occurred, dtype: int64"
      ]
     },
     "execution_count": 4,
     "metadata": {},
     "output_type": "execute_result"
    }
   ],
   "source": [
    "df.fire_occurred.value_counts()"
   ]
  },
  {
   "cell_type": "markdown",
   "metadata": {},
   "source": [
    "## Baseline\n",
    "\n",
    "Fire occurrence is very rare. We'll evaluate using classwise precision and recall. The baseline will be to never predict that a fire occurs."
   ]
  },
  {
   "cell_type": "code",
   "execution_count": 9,
   "metadata": {},
   "outputs": [],
   "source": [
    "def pretty_print_results(actual, predicted):\n",
    "    precision, recall, fscore, support = precision_recall_fscore_support(\n",
    "        actual,\n",
    "        predicted,\n",
    "        zero_division=0.)\n",
    "    res_df = pd.DataFrame(data={\n",
    "        \"precision\": precision,\n",
    "        \"recall\": recall,\n",
    "        \"fscore\": fscore,\n",
    "        \"support\": support,\n",
    "    }, index=[\"No fire\", \"Fire\"])\n",
    "    print(res_df)"
   ]
  },
  {
   "cell_type": "code",
   "execution_count": 6,
   "metadata": {},
   "outputs": [
    {
     "name": "stdout",
     "output_type": "stream",
     "text": [
      "         precision  recall    fscore  support\n",
      "No fire   0.999732     1.0  0.999866  6499707\n",
      "Fire      0.000000     0.0  0.000000     1743\n"
     ]
    },
    {
     "name": "stderr",
     "output_type": "stream",
     "text": [
      "C:\\Users\\Mike\\AppData\\Local\\Continuum\\anaconda3\\envs\\geo\\lib\\site-packages\\sklearn\\metrics\\_classification.py:1272: UndefinedMetricWarning: Precision and F-score are ill-defined and being set to 0.0 in labels with no predicted samples. Use `zero_division` parameter to control this behavior.\n",
      "  _warn_prf(average, modifier, msg_start, len(result))\n"
     ]
    }
   ],
   "source": [
    "shape = (len(df),)\n",
    "pred = np.zeros(shape)\n",
    "pretty_print_results(df.fire_occurred, pred)"
   ]
  },
  {
   "cell_type": "markdown",
   "metadata": {},
   "source": [
    "# SVM\n",
    "\n",
    "The following section explores support vector machine (SVM) classifiers."
   ]
  },
  {
   "cell_type": "code",
   "execution_count": 10,
   "metadata": {},
   "outputs": [
    {
     "data": {
      "application/vnd.jupyter.widget-view+json": {
       "model_id": "42633c46604b45189193556cce6ea162",
       "version_major": 2,
       "version_minor": 0
      },
      "text/plain": [
       "HBox(children=(FloatProgress(value=1.0, bar_style='info', max=1.0), HTML(value='')))"
      ]
     },
     "metadata": {},
     "output_type": "display_data"
    },
    {
     "name": "stdout",
     "output_type": "stream",
     "text": [
      "Fitting split...\n"
     ]
    },
    {
     "name": "stderr",
     "output_type": "stream",
     "text": [
      "[Parallel(n_jobs=8)]: Using backend ThreadingBackend with 8 concurrent workers.\n"
     ]
    },
    {
     "name": "stdout",
     "output_type": "stream",
     "text": [
      "convergence after 12 epochs took 33 seconds\n"
     ]
    },
    {
     "name": "stderr",
     "output_type": "stream",
     "text": [
      "[Parallel(n_jobs=8)]: Done   1 out of   1 | elapsed:   33.5s finished\n"
     ]
    },
    {
     "name": "stdout",
     "output_type": "stream",
     "text": [
      "         precision  recall    fscore  support\n",
      "No fire   0.999732     1.0  0.999866  2166569\n",
      "Fire      0.000000     0.0  0.000000      581\n",
      "Fitting split...\n"
     ]
    },
    {
     "name": "stderr",
     "output_type": "stream",
     "text": [
      "[Parallel(n_jobs=8)]: Using backend ThreadingBackend with 8 concurrent workers.\n"
     ]
    },
    {
     "name": "stdout",
     "output_type": "stream",
     "text": [
      "convergence after 8 epochs took 22 seconds\n"
     ]
    },
    {
     "name": "stderr",
     "output_type": "stream",
     "text": [
      "[Parallel(n_jobs=8)]: Done   1 out of   1 | elapsed:   22.1s finished\n"
     ]
    },
    {
     "name": "stdout",
     "output_type": "stream",
     "text": [
      "         precision  recall    fscore  support\n",
      "No fire   0.999732     1.0  0.999866  2166569\n",
      "Fire      0.000000     0.0  0.000000      581\n",
      "Fitting split...\n"
     ]
    },
    {
     "name": "stderr",
     "output_type": "stream",
     "text": [
      "[Parallel(n_jobs=8)]: Using backend ThreadingBackend with 8 concurrent workers.\n"
     ]
    },
    {
     "name": "stdout",
     "output_type": "stream",
     "text": [
      "convergence after 15 epochs took 41 seconds\n"
     ]
    },
    {
     "name": "stderr",
     "output_type": "stream",
     "text": [
      "[Parallel(n_jobs=8)]: Done   1 out of   1 | elapsed:   41.5s finished\n"
     ]
    },
    {
     "name": "stdout",
     "output_type": "stream",
     "text": [
      "         precision  recall    fscore  support\n",
      "No fire   0.999732     1.0  0.999866  2166569\n",
      "Fire      0.000000     0.0  0.000000      581\n",
      "\n",
      "Wall time: 1min 46s\n"
     ]
    }
   ],
   "source": [
    "%%time\n",
    "from sklearn.svm import SVC\n",
    "from sklearn.svm import LinearSVC\n",
    "from sklearn.linear_model import LogisticRegression\n",
    "from sklearn.model_selection import StratifiedKFold\n",
    "from tqdm.notebook import tqdm\n",
    "\n",
    "features = [\n",
    " 'date',\n",
    " 'precipitation_amount_mm',\n",
    " 'relative_humidity_%',\n",
    " 'specific_humidity_kg/kg',\n",
    " 'surface_downwelling_shortwave_flux_in_air_W m-2',\n",
    " 'wind_from_direction_Degrees Clockwise from north',\n",
    " 'wind_speed_m/s',\n",
    " 'max_air_temperature_K',\n",
    " 'min_air_temperature_K',\n",
    " 'burning_index_g_Unitless',\n",
    " 'dead_fuel_moisture_100hr_Percent',\n",
    " 'dead_fuel_moisture_1000hr_Percent',\n",
    " 'energy_release_component-g_Unitless',\n",
    " 'potential_evapotranspiration_mm',\n",
    " 'mean_vapor_pressure_deficit_kPa',\n",
    "# 'fire_occurred',\n",
    "# 'acres_burned',\n",
    "# 'fire_name',\n",
    " 'longitude',\n",
    " 'latitude',\n",
    "]\n",
    "\n",
    "X, y = df[features], df.fire_occurred\n",
    "skf = StratifiedKFold(n_splits=3, random_state=42, shuffle=True)\n",
    "for train_index, test_index in tqdm(skf.split(X, y)):\n",
    "    print(\"Fitting split...\")\n",
    "    X_train, X_test = X.iloc[train_index], X.iloc[test_index]\n",
    "    y_train, y_test = y.iloc[train_index], y.iloc[test_index]\n",
    "    model = LogisticRegression(random_state=42, verbose=1, solver='sag', n_jobs=8)\n",
    "    model.fit(X_train, y_train)\n",
    "    y_pred = model.predict(X_test)\n",
    "    pretty_print_results(y_test, y_pred)"
   ]
  },
  {
   "cell_type": "markdown",
   "metadata": {},
   "source": [
    "### Results\n",
    "\n",
    "Logistic regression isn't able to predict fire occurrences."
   ]
  },
  {
   "cell_type": "markdown",
   "metadata": {},
   "source": [
    "## Decision tree classifier and boosted decision tree classifier"
   ]
  },
  {
   "cell_type": "code",
   "execution_count": 13,
   "metadata": {},
   "outputs": [
    {
     "data": {
      "application/vnd.jupyter.widget-view+json": {
       "model_id": "ba6b4881776547ec8797099282199d08",
       "version_major": 2,
       "version_minor": 0
      },
      "text/plain": [
       "HBox(children=(FloatProgress(value=1.0, bar_style='info', max=1.0), HTML(value='')))"
      ]
     },
     "metadata": {},
     "output_type": "display_data"
    },
    {
     "name": "stdout",
     "output_type": "stream",
     "text": [
      "Fitting split...\n",
      "         precision    recall    fscore  support\n",
      "No fire   0.999832  0.999967  0.999899  2166569\n",
      "Fire      0.750865  0.373494  0.498851      581\n",
      "Fitting split...\n",
      "         precision    recall    fscore  support\n",
      "No fire   0.999838  0.999940  0.999889  2166569\n",
      "Fire      0.638889  0.395869  0.488842      581\n",
      "Fitting split...\n",
      "         precision    recall    fscore  support\n",
      "No fire   0.999828  0.999962  0.999895  2166569\n",
      "Fire      0.715753  0.359725  0.478809      581\n",
      "\n",
      "Wall time: 1min 57s\n"
     ]
    }
   ],
   "source": [
    "%%time\n",
    "from sklearn.tree import DecisionTreeClassifier\n",
    "from sklearn.model_selection import StratifiedKFold\n",
    "from tqdm.notebook import tqdm\n",
    "\n",
    "features = [\n",
    " 'date',\n",
    " 'precipitation_amount_mm',\n",
    " 'relative_humidity_%',\n",
    " 'specific_humidity_kg/kg',\n",
    " 'surface_downwelling_shortwave_flux_in_air_W m-2',\n",
    " 'wind_from_direction_Degrees Clockwise from north',\n",
    " 'wind_speed_m/s',\n",
    " 'max_air_temperature_K',\n",
    " 'min_air_temperature_K',\n",
    " 'burning_index_g_Unitless',\n",
    " 'dead_fuel_moisture_100hr_Percent',\n",
    " 'dead_fuel_moisture_1000hr_Percent',\n",
    " 'energy_release_component-g_Unitless',\n",
    " 'potential_evapotranspiration_mm',\n",
    " 'mean_vapor_pressure_deficit_kPa',\n",
    "# 'fire_occurred',\n",
    "# 'acres_burned',\n",
    "# 'fire_name',\n",
    " 'longitude',\n",
    " 'latitude',\n",
    "]\n",
    "\n",
    "X, y = df[features], df.fire_occurred\n",
    "skf = StratifiedKFold(n_splits=3, random_state=42, shuffle=True)\n",
    "for train_index, test_index in tqdm(skf.split(X, y)):\n",
    "    print(\"Fitting split...\")\n",
    "    X_train, X_test = X.iloc[train_index], X.iloc[test_index]\n",
    "    y_train, y_test = y.iloc[train_index], y.iloc[test_index]\n",
    "    model = DecisionTreeClassifier(random_state=42, max_depth=10)\n",
    "    model.fit(X_train, y_train)\n",
    "    y_pred = model.predict(X_test)\n",
    "    pretty_print_results(y_test, y_pred)"
   ]
  },
  {
   "cell_type": "code",
   "execution_count": 16,
   "metadata": {},
   "outputs": [
    {
     "data": {
      "application/vnd.jupyter.widget-view+json": {
       "model_id": "2a7b8dd9373d4e3db4d195dc01145e03",
       "version_major": 2,
       "version_minor": 0
      },
      "text/plain": [
       "HBox(children=(FloatProgress(value=1.0, bar_style='info', max=1.0), HTML(value='')))"
      ]
     },
     "metadata": {},
     "output_type": "display_data"
    },
    {
     "name": "stdout",
     "output_type": "stream",
     "text": [
      "Fitting split...\n",
      "         precision  recall    fscore  support\n",
      "No fire   0.999732     1.0  0.999866  2166569\n",
      "Fire      0.000000     0.0  0.000000      581\n",
      "Fitting split...\n",
      "         precision  recall    fscore  support\n",
      "No fire   0.999732     1.0  0.999866  2166569\n",
      "Fire      0.000000     0.0  0.000000      581\n",
      "Fitting split...\n",
      "         precision  recall    fscore  support\n",
      "No fire   0.999732     1.0  0.999866  2166569\n",
      "Fire      0.000000     0.0  0.000000      581\n",
      "\n",
      "Wall time: 26.4 s\n"
     ]
    }
   ],
   "source": [
    "%%time\n",
    "from sklearn.tree import DecisionTreeClassifier\n",
    "from sklearn.model_selection import StratifiedKFold\n",
    "from tqdm.notebook import tqdm\n",
    "\n",
    "features = [\n",
    " 'date',\n",
    " 'precipitation_amount_mm',\n",
    " 'relative_humidity_%',\n",
    " 'specific_humidity_kg/kg',\n",
    " 'surface_downwelling_shortwave_flux_in_air_W m-2',\n",
    " 'wind_from_direction_Degrees Clockwise from north',\n",
    " 'wind_speed_m/s',\n",
    " 'max_air_temperature_K',\n",
    " 'min_air_temperature_K',\n",
    " 'burning_index_g_Unitless',\n",
    " 'dead_fuel_moisture_100hr_Percent',\n",
    " 'dead_fuel_moisture_1000hr_Percent',\n",
    " 'energy_release_component-g_Unitless',\n",
    " 'potential_evapotranspiration_mm',\n",
    " 'mean_vapor_pressure_deficit_kPa',\n",
    "# 'fire_occurred',\n",
    "# 'acres_burned',\n",
    "# 'fire_name',\n",
    " 'longitude',\n",
    " 'latitude',\n",
    "]\n",
    "\n",
    "X, y = df[features], df.fire_occurred\n",
    "skf = StratifiedKFold(n_splits=3, random_state=42, shuffle=True)\n",
    "for train_index, test_index in tqdm(skf.split(X, y)):\n",
    "    print(\"Fitting split...\")\n",
    "    X_train, X_test = X.iloc[train_index], X.iloc[test_index]\n",
    "    y_train, y_test = y.iloc[train_index], y.iloc[test_index]\n",
    "    model = DecisionTreeClassifier(max_depth=1)\n",
    "    model.fit(X_train, y_train)\n",
    "    y_pred = model.predict(X_test)\n",
    "    pretty_print_results(y_test, y_pred)"
   ]
  },
  {
   "cell_type": "code",
   "execution_count": 19,
   "metadata": {},
   "outputs": [
    {
     "name": "stdout",
     "output_type": "stream",
     "text": [
      "\n"
     ]
    },
    {
     "data": {
      "application/vnd.jupyter.widget-view+json": {
       "model_id": "ab92193fd65f41aab9e18a1f088e963b",
       "version_major": 2,
       "version_minor": 0
      },
      "text/plain": [
       "HBox(children=(FloatProgress(value=1.0, bar_style='info', max=1.0), HTML(value='')))"
      ]
     },
     "metadata": {},
     "output_type": "display_data"
    },
    {
     "name": "stdout",
     "output_type": "stream",
     "text": [
      "Fitting split...\n",
      "         precision    recall    fscore  support\n",
      "No fire   0.999742  0.999980  0.999861  2166569\n",
      "Fire      0.328125  0.036145  0.065116      581\n",
      "Fitting split...\n",
      "         precision    recall    fscore  support\n",
      "No fire   0.999741  0.999986  0.999863  2166569\n",
      "Fire      0.392157  0.034423  0.063291      581\n",
      "Fitting split...\n",
      "         precision    recall    fscore  support\n",
      "No fire   0.999738  0.999981  0.999859  2166569\n",
      "Fire      0.250000  0.024096  0.043956      581\n",
      "\n",
      "Wall time: 21min 49s\n"
     ]
    }
   ],
   "source": [
    "%%time\n",
    "from sklearn.tree import DecisionTreeClassifier\n",
    "from sklearn.ensemble import AdaBoostClassifier\n",
    "from sklearn.model_selection import StratifiedKFold\n",
    "from tqdm.notebook import tqdm\n",
    "\n",
    "features = [\n",
    " 'date',\n",
    " 'precipitation_amount_mm',\n",
    " 'relative_humidity_%',\n",
    " 'specific_humidity_kg/kg',\n",
    " 'surface_downwelling_shortwave_flux_in_air_W m-2',\n",
    " 'wind_from_direction_Degrees Clockwise from north',\n",
    " 'wind_speed_m/s',\n",
    " 'max_air_temperature_K',\n",
    " 'min_air_temperature_K',\n",
    " 'burning_index_g_Unitless',\n",
    " 'dead_fuel_moisture_100hr_Percent',\n",
    " 'dead_fuel_moisture_1000hr_Percent',\n",
    " 'energy_release_component-g_Unitless',\n",
    " 'potential_evapotranspiration_mm',\n",
    " 'mean_vapor_pressure_deficit_kPa',\n",
    "# 'fire_occurred',\n",
    "# 'acres_burned',\n",
    "# 'fire_name',\n",
    " 'longitude',\n",
    " 'latitude',\n",
    "]\n",
    "\n",
    "X, y = df[features], df.fire_occurred\n",
    "weak_estimator = DecisionTreeClassifier(max_depth=1)\n",
    "skf = StratifiedKFold(n_splits=3, random_state=42, shuffle=True)\n",
    "for train_index, test_index in tqdm(skf.split(X, y)):\n",
    "    print(\"Fitting split...\")\n",
    "    X_train, X_test = X.iloc[train_index], X.iloc[test_index]\n",
    "    y_train, y_test = y.iloc[train_index], y.iloc[test_index]\n",
    "    model = AdaBoostClassifier(base_estimator=weak_estimator, n_estimators=50)\n",
    "    model.fit(X_train, y_train)\n",
    "    y_pred = model.predict(X_test)\n",
    "    pretty_print_results(y_test, y_pred)"
   ]
  }
 ],
 "metadata": {
  "kernelspec": {
   "display_name": "Python 3",
   "language": "python",
   "name": "python3"
  },
  "language_info": {
   "codemirror_mode": {
    "name": "ipython",
    "version": 3
   },
   "file_extension": ".py",
   "mimetype": "text/x-python",
   "name": "python",
   "nbconvert_exporter": "python",
   "pygments_lexer": "ipython3",
   "version": "3.7.6"
  }
 },
 "nbformat": 4,
 "nbformat_minor": 4
}
