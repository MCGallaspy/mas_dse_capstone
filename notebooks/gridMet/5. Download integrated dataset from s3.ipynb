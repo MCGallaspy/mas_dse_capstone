{
 "cells": [
  {
   "cell_type": "markdown",
   "metadata": {},
   "source": [
    "# About this notebook\n",
    "\n",
    "This notebook demonstrates downloading the integrated gridMet/geoMAC dataset for San Diego county generated in notebook `4. Integrate fire perimeters with gridMet data`."
   ]
  },
  {
   "cell_type": "code",
   "execution_count": 1,
   "metadata": {},
   "outputs": [],
   "source": [
    "import boto3\n",
    "import pandas as pd\n",
    "import geopandas as gpd"
   ]
  },
  {
   "cell_type": "code",
   "execution_count": 2,
   "metadata": {},
   "outputs": [
    {
     "data": {
      "text/plain": [
       "{'ResponseMetadata': {'RequestId': 'BA48D956AB35AED6',\n",
       "  'HostId': '7xju2N+XdbhNFNc/KE6e8PjleL7pAOQqDOQ0nSDspT1DWYsJnt5g0lPqGCKHKw4HSj5Gi+n64nE=',\n",
       "  'HTTPStatusCode': 200,\n",
       "  'HTTPHeaders': {'x-amz-id-2': '7xju2N+XdbhNFNc/KE6e8PjleL7pAOQqDOQ0nSDspT1DWYsJnt5g0lPqGCKHKw4HSj5Gi+n64nE=',\n",
       "   'x-amz-request-id': 'BA48D956AB35AED6',\n",
       "   'date': 'Sun, 01 Mar 2020 23:03:02 GMT',\n",
       "   'x-amz-bucket-region': 'us-west-1',\n",
       "   'content-type': 'application/xml',\n",
       "   'transfer-encoding': 'chunked',\n",
       "   'server': 'AmazonS3'},\n",
       "  'RetryAttempts': 1},\n",
       " 'IsTruncated': False,\n",
       " 'Marker': '',\n",
       " 'Contents': [{'Key': 'test/',\n",
       "   'LastModified': datetime.datetime(2020, 2, 14, 2, 26, 50, tzinfo=tzutc()),\n",
       "   'ETag': '\"d41d8cd98f00b204e9800998ecf8427e\"',\n",
       "   'Size': 0,\n",
       "   'StorageClass': 'STANDARD',\n",
       "   'Owner': {'DisplayName': 'kcoakley+cohort5group5',\n",
       "    'ID': 'fe3a1755292b139ad5397ba537aa0aff32ef6ebba07fe45dcbe486d81e1ccc11'}},\n",
       "  {'Key': 'wildfire_capstone/gridMet.parquet.gz',\n",
       "   'LastModified': datetime.datetime(2020, 2, 23, 3, 0, 57, tzinfo=tzutc()),\n",
       "   'ETag': '\"f08ba11e474d90412483d31fea369f78-15\"',\n",
       "   'Size': 79074435,\n",
       "   'StorageClass': 'STANDARD',\n",
       "   'Owner': {'DisplayName': 'kcoakley+cohort5group5',\n",
       "    'ID': 'fe3a1755292b139ad5397ba537aa0aff32ef6ebba07fe45dcbe486d81e1ccc11'}},\n",
       "  {'Key': 'wildfire_capstone/integratedData.zip',\n",
       "   'LastModified': datetime.datetime(2020, 3, 1, 22, 37, 6, tzinfo=tzutc()),\n",
       "   'ETag': '\"b6cd2382006cb12cea83d94647bc48c2\"',\n",
       "   'Size': 299008543,\n",
       "   'StorageClass': 'STANDARD',\n",
       "   'Owner': {'DisplayName': 'kcoakley+cohort5group5',\n",
       "    'ID': 'fe3a1755292b139ad5397ba537aa0aff32ef6ebba07fe45dcbe486d81e1ccc11'}}],\n",
       " 'Name': 'dse-cohort5-group5',\n",
       " 'Prefix': '',\n",
       " 'MaxKeys': 1000,\n",
       " 'EncodingType': 'url'}"
      ]
     },
     "execution_count": 2,
     "metadata": {},
     "output_type": "execute_result"
    }
   ],
   "source": [
    "s3 = boto3.client(\"s3\")\n",
    "all_objects = s3.list_objects(Bucket='dse-cohort5-group5')\n",
    "all_objects"
   ]
  },
  {
   "cell_type": "code",
   "execution_count": 3,
   "metadata": {},
   "outputs": [
    {
     "name": "stdout",
     "output_type": "stream",
     "text": [
      "Wall time: 3min 52s\n"
     ]
    }
   ],
   "source": [
    "%%time\n",
    "s3.download_file('dse-cohort5-group5', 'wildfire_capstone/integratedData.zip', 'integratedData.zip')"
   ]
  },
  {
   "cell_type": "code",
   "execution_count": 4,
   "metadata": {},
   "outputs": [
    {
     "name": "stdout",
     "output_type": "stream",
     "text": [
      "Wall time: 14.4 s\n"
     ]
    }
   ],
   "source": [
    "%%time\n",
    "import zipfile\n",
    "with zipfile.ZipFile(\"integratedData.zip\", mode=\"r\") as zf:\n",
    "    zf.extractall()"
   ]
  },
  {
   "cell_type": "code",
   "execution_count": 2,
   "metadata": {},
   "outputs": [
    {
     "name": "stdout",
     "output_type": "stream",
     "text": [
      "(6501450, 19)\n"
     ]
    },
    {
     "data": {
      "text/html": [
       "<div>\n",
       "<style scoped>\n",
       "    .dataframe tbody tr th:only-of-type {\n",
       "        vertical-align: middle;\n",
       "    }\n",
       "\n",
       "    .dataframe tbody tr th {\n",
       "        vertical-align: top;\n",
       "    }\n",
       "\n",
       "    .dataframe thead th {\n",
       "        text-align: right;\n",
       "    }\n",
       "</style>\n",
       "<table border=\"1\" class=\"dataframe\">\n",
       "  <thead>\n",
       "    <tr style=\"text-align: right;\">\n",
       "      <th></th>\n",
       "      <th>date</th>\n",
       "      <th>precipitat</th>\n",
       "      <th>relative_h</th>\n",
       "      <th>specific_h</th>\n",
       "      <th>surface_do</th>\n",
       "      <th>wind_from_</th>\n",
       "      <th>wind_speed</th>\n",
       "      <th>max_air_te</th>\n",
       "      <th>min_air_te</th>\n",
       "      <th>burning_in</th>\n",
       "      <th>dead_fuel_</th>\n",
       "      <th>dead_fue_1</th>\n",
       "      <th>energy_rel</th>\n",
       "      <th>potential_</th>\n",
       "      <th>mean_vapor</th>\n",
       "      <th>fire_occur</th>\n",
       "      <th>acres_burn</th>\n",
       "      <th>fire_name</th>\n",
       "      <th>geometry</th>\n",
       "    </tr>\n",
       "  </thead>\n",
       "  <tbody>\n",
       "    <tr>\n",
       "      <th>0</th>\n",
       "      <td>2000-01-01</td>\n",
       "      <td>0.0</td>\n",
       "      <td>40.5</td>\n",
       "      <td>0.00600</td>\n",
       "      <td>139.7</td>\n",
       "      <td>222.0</td>\n",
       "      <td>2.1</td>\n",
       "      <td>292.0</td>\n",
       "      <td>282.2</td>\n",
       "      <td>31.0</td>\n",
       "      <td>12.3</td>\n",
       "      <td>12.1</td>\n",
       "      <td>48.0</td>\n",
       "      <td>1.8</td>\n",
       "      <td>0.69</td>\n",
       "      <td>0</td>\n",
       "      <td>NaN</td>\n",
       "      <td>None</td>\n",
       "      <td>POLYGON ((-117.97500 33.56667, -117.97500 33.6...</td>\n",
       "    </tr>\n",
       "    <tr>\n",
       "      <th>1</th>\n",
       "      <td>2000-01-01</td>\n",
       "      <td>0.0</td>\n",
       "      <td>40.9</td>\n",
       "      <td>0.00593</td>\n",
       "      <td>136.6</td>\n",
       "      <td>222.0</td>\n",
       "      <td>2.1</td>\n",
       "      <td>291.9</td>\n",
       "      <td>282.2</td>\n",
       "      <td>32.0</td>\n",
       "      <td>12.2</td>\n",
       "      <td>12.0</td>\n",
       "      <td>48.0</td>\n",
       "      <td>1.8</td>\n",
       "      <td>0.70</td>\n",
       "      <td>0</td>\n",
       "      <td>NaN</td>\n",
       "      <td>None</td>\n",
       "      <td>POLYGON ((-117.93333 33.56667, -117.93333 33.6...</td>\n",
       "    </tr>\n",
       "    <tr>\n",
       "      <th>2</th>\n",
       "      <td>2000-01-01</td>\n",
       "      <td>0.0</td>\n",
       "      <td>41.2</td>\n",
       "      <td>0.00580</td>\n",
       "      <td>133.2</td>\n",
       "      <td>222.0</td>\n",
       "      <td>2.3</td>\n",
       "      <td>292.1</td>\n",
       "      <td>282.1</td>\n",
       "      <td>33.0</td>\n",
       "      <td>11.8</td>\n",
       "      <td>11.5</td>\n",
       "      <td>50.0</td>\n",
       "      <td>1.9</td>\n",
       "      <td>0.72</td>\n",
       "      <td>0</td>\n",
       "      <td>NaN</td>\n",
       "      <td>None</td>\n",
       "      <td>POLYGON ((-117.89167 33.56667, -117.89167 33.6...</td>\n",
       "    </tr>\n",
       "    <tr>\n",
       "      <th>3</th>\n",
       "      <td>2000-01-01</td>\n",
       "      <td>0.0</td>\n",
       "      <td>40.8</td>\n",
       "      <td>0.00577</td>\n",
       "      <td>129.8</td>\n",
       "      <td>218.0</td>\n",
       "      <td>2.4</td>\n",
       "      <td>292.0</td>\n",
       "      <td>281.4</td>\n",
       "      <td>34.0</td>\n",
       "      <td>11.8</td>\n",
       "      <td>11.4</td>\n",
       "      <td>50.0</td>\n",
       "      <td>1.9</td>\n",
       "      <td>0.69</td>\n",
       "      <td>0</td>\n",
       "      <td>NaN</td>\n",
       "      <td>None</td>\n",
       "      <td>POLYGON ((-117.85000 33.56667, -117.85000 33.6...</td>\n",
       "    </tr>\n",
       "    <tr>\n",
       "      <th>4</th>\n",
       "      <td>2000-01-01</td>\n",
       "      <td>0.0</td>\n",
       "      <td>38.2</td>\n",
       "      <td>0.00547</td>\n",
       "      <td>126.5</td>\n",
       "      <td>218.0</td>\n",
       "      <td>2.5</td>\n",
       "      <td>292.6</td>\n",
       "      <td>281.0</td>\n",
       "      <td>37.0</td>\n",
       "      <td>10.7</td>\n",
       "      <td>10.5</td>\n",
       "      <td>55.0</td>\n",
       "      <td>2.1</td>\n",
       "      <td>0.78</td>\n",
       "      <td>0</td>\n",
       "      <td>NaN</td>\n",
       "      <td>None</td>\n",
       "      <td>POLYGON ((-117.80833 33.56667, -117.80833 33.6...</td>\n",
       "    </tr>\n",
       "  </tbody>\n",
       "</table>\n",
       "</div>"
      ],
      "text/plain": [
       "         date  precipitat  relative_h  specific_h  surface_do  wind_from_  \\\n",
       "0  2000-01-01         0.0        40.5     0.00600       139.7       222.0   \n",
       "1  2000-01-01         0.0        40.9     0.00593       136.6       222.0   \n",
       "2  2000-01-01         0.0        41.2     0.00580       133.2       222.0   \n",
       "3  2000-01-01         0.0        40.8     0.00577       129.8       218.0   \n",
       "4  2000-01-01         0.0        38.2     0.00547       126.5       218.0   \n",
       "\n",
       "   wind_speed  max_air_te  min_air_te  burning_in  dead_fuel_  dead_fue_1  \\\n",
       "0         2.1       292.0       282.2        31.0        12.3        12.1   \n",
       "1         2.1       291.9       282.2        32.0        12.2        12.0   \n",
       "2         2.3       292.1       282.1        33.0        11.8        11.5   \n",
       "3         2.4       292.0       281.4        34.0        11.8        11.4   \n",
       "4         2.5       292.6       281.0        37.0        10.7        10.5   \n",
       "\n",
       "   energy_rel  potential_  mean_vapor  fire_occur  acres_burn fire_name  \\\n",
       "0        48.0         1.8        0.69           0         NaN      None   \n",
       "1        48.0         1.8        0.70           0         NaN      None   \n",
       "2        50.0         1.9        0.72           0         NaN      None   \n",
       "3        50.0         1.9        0.69           0         NaN      None   \n",
       "4        55.0         2.1        0.78           0         NaN      None   \n",
       "\n",
       "                                            geometry  \n",
       "0  POLYGON ((-117.97500 33.56667, -117.97500 33.6...  \n",
       "1  POLYGON ((-117.93333 33.56667, -117.93333 33.6...  \n",
       "2  POLYGON ((-117.89167 33.56667, -117.89167 33.6...  \n",
       "3  POLYGON ((-117.85000 33.56667, -117.85000 33.6...  \n",
       "4  POLYGON ((-117.80833 33.56667, -117.80833 33.6...  "
      ]
     },
     "execution_count": 2,
     "metadata": {},
     "output_type": "execute_result"
    }
   ],
   "source": [
    "df = gpd.read_file(\"integratedData.shp\")\n",
    "print(df.shape)\n",
    "df.head()"
   ]
  }
 ],
 "metadata": {
  "kernelspec": {
   "display_name": "Python 3",
   "language": "python",
   "name": "python3"
  },
  "language_info": {
   "codemirror_mode": {
    "name": "ipython",
    "version": 3
   },
   "file_extension": ".py",
   "mimetype": "text/x-python",
   "name": "python",
   "nbconvert_exporter": "python",
   "pygments_lexer": "ipython3",
   "version": "3.7.6"
  }
 },
 "nbformat": 4,
 "nbformat_minor": 4
}
