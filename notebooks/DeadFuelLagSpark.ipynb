{
 "cells": [
  {
   "cell_type": "code",
   "execution_count": 1,
   "metadata": {},
   "outputs": [],
   "source": [
    "from pyspark.sql import SparkSession\n",
    "from pyspark.sql.window import Window\n",
    "import pyspark.sql.functions as F\n",
    "spark = SparkSession.builder.appName('DeadFuelLag').getOrCreate()"
   ]
  },
  {
   "cell_type": "code",
   "execution_count": 15,
   "metadata": {},
   "outputs": [],
   "source": [
    "# import pandas as pd\n",
    "# df = pd.read_parquet('gridMet.parquet.gz')\n",
    "# #df[\"surface_downwelling_shortwave_flux_in_air_W_m-2\"] = df[\"surface_downwelling_shortwave_flux_in_air_W m-2\"]\n",
    "# #del df[\"surface_downwelling_shortwave_flux_in_air_W m-2\"]\n",
    "# df[\"wind_from_direction_Degrees_Clockwise_from_north\"] = df[\"wind_from_direction_Degrees Clockwise_from_north\"]\n",
    "# del df[\"wind_from_direction_Degrees Clockwise_from_north\"]\n",
    "# df.to_parquet('gridMet.parquet.gz')"
   ]
  },
  {
   "cell_type": "code",
   "execution_count": 14,
   "metadata": {},
   "outputs": [],
   "source": [
    "df = spark.read.parquet(\"gridMet.parquet.gz\").where(F.col(\"precipitation_amount_mm\").isNotNull())"
   ]
  },
  {
   "cell_type": "code",
   "execution_count": 15,
   "metadata": {},
   "outputs": [
    {
     "name": "stdout",
     "output_type": "stream",
     "text": [
      "root\n",
      " |-- precipitation_amount_mm: double (nullable = true)\n",
      " |-- relative_humidity_%: double (nullable = true)\n",
      " |-- specific_humidity_kg/kg: double (nullable = true)\n",
      " |-- wind_speed_m/s: double (nullable = true)\n",
      " |-- max_air_temperature_K: double (nullable = true)\n",
      " |-- min_air_temperature_K: double (nullable = true)\n",
      " |-- burning_index_g_Unitless: double (nullable = true)\n",
      " |-- dead_fuel_moisture_100hr_Percent: double (nullable = true)\n",
      " |-- dead_fuel_moisture_1000hr_Percent: double (nullable = true)\n",
      " |-- energy_release_component-g_Unitless: double (nullable = true)\n",
      " |-- potential_evapotranspiration_mm: double (nullable = true)\n",
      " |-- mean_vapor_pressure_deficit_kPa: double (nullable = true)\n",
      " |-- surface_downwelling_shortwave_flux_in_air_W_m-2: double (nullable = true)\n",
      " |-- wind_from_direction_Degrees_Clockwise_from_north: double (nullable = true)\n",
      " |-- date: timestamp (nullable = true)\n",
      " |-- latitude: double (nullable = true)\n",
      " |-- longitude: double (nullable = true)\n",
      "\n"
     ]
    }
   ],
   "source": [
    "df.printSchema()"
   ]
  },
  {
   "cell_type": "code",
   "execution_count": 20,
   "metadata": {},
   "outputs": [],
   "source": [
    "windowSpec = Window.partitionBy(F.col(\"latitude\"), F.col(\"longitude\")).orderBy(F.col(\"date\").desc())\n",
    "df = df.withColumnRenamed(\"surface_downwelling_shortwave_flux_in_air_W_m-2\",\"surface_downwelling_shortwave_flux_in_air_W m-2\")\n",
    "df = df.withColumn(\"cumLag\", F.lit(0))\n",
    "for i in range(1,8):\n",
    "    df = df.withColumn(\"lag-\"+str(i),F.col(\"dead_fuel_moisture_1000hr_Percent\")- F.lag(F.col(\"dead_fuel_moisture_1000hr_Percent\"), i).over(windowSpec))\n",
    "    df = df.withColumn(\"cumLag\", F.when((F.col(\"lag-\"+str(i))<= 0) & (F.col(\"cumLag\") == i-1), i ).otherwise(F.col(\"cumLag\")))\n",
    "df = df.withColumn(\"lag-Test\",F.lag(F.col(\"dead_fuel_moisture_1000hr_Percent\")).over(windowSpec))"
   ]
  },
  {
   "cell_type": "code",
   "execution_count": 24,
   "metadata": {},
   "outputs": [],
   "source": [
    "df = df.withColumn( \"movingAvg\",F.avg(F.col(\"dead_fuel_moisture_1000hr_Percent\")).over(windowSpec.rowsBetween(-7,0)))"
   ]
  },
  {
   "cell_type": "code",
   "execution_count": 25,
   "metadata": {},
   "outputs": [
    {
     "data": {
      "text/plain": [
       "[Row(precipitation_amount_mm=0.0, relative_humidity_%=27.200000000000003, specific_humidity_kg/kg=0.005090000000000001, wind_speed_m/s=1.8, max_air_temperature_K=292.6, min_air_temperature_K=274.2, burning_index_g_Unitless=17.0, dead_fuel_moisture_100hr_Percent=19.1, dead_fuel_moisture_1000hr_Percent=22.1, energy_release_component-g_Unitless=19.0, potential_evapotranspiration_mm=1.7000000000000002, mean_vapor_pressure_deficit_kPa=0.67, surface_downwelling_shortwave_flux_in_air_W m-2=121.4, wind_from_direction_Degrees_Clockwise_from_north=92.0, date=datetime.datetime(2019, 12, 30, 16, 0), latitude=33.025000000000006, longitude=-116.97499996666667, cumLag=0, lag-1=None, lag-2=None, lag-3=None, lag-4=None, lag-5=None, lag-6=None, lag-7=None, lag-Test=None, movingAvg=22.1),\n",
       " Row(precipitation_amount_mm=0.0, relative_humidity_%=52.900000000000006, specific_humidity_kg/kg=0.005960000000000001, wind_speed_m/s=2.6, max_air_temperature_K=286.8, min_air_temperature_K=279.9, burning_index_g_Unitless=16.0, dead_fuel_moisture_100hr_Percent=19.5, dead_fuel_moisture_1000hr_Percent=22.200000000000003, energy_release_component-g_Unitless=16.0, potential_evapotranspiration_mm=1.4000000000000001, mean_vapor_pressure_deficit_kPa=0.35000000000000003, surface_downwelling_shortwave_flux_in_air_W m-2=107.9, wind_from_direction_Degrees_Clockwise_from_north=81.0, date=datetime.datetime(2019, 12, 29, 16, 0), latitude=33.025000000000006, longitude=-116.97499996666667, cumLag=0, lag-1=0.10000000000000142, lag-2=None, lag-3=None, lag-4=None, lag-5=None, lag-6=None, lag-7=None, lag-Test=22.1, movingAvg=22.150000000000002),\n",
       " Row(precipitation_amount_mm=0.0, relative_humidity_%=36.6, specific_humidity_kg/kg=0.005180000000000001, wind_speed_m/s=2.2, max_air_temperature_K=289.3, min_air_temperature_K=275.6, burning_index_g_Unitless=16.0, dead_fuel_moisture_100hr_Percent=20.8, dead_fuel_moisture_1000hr_Percent=22.5, energy_release_component-g_Unitless=16.0, potential_evapotranspiration_mm=1.5, mean_vapor_pressure_deficit_kPa=0.48, surface_downwelling_shortwave_flux_in_air_W m-2=117.30000000000001, wind_from_direction_Degrees_Clockwise_from_north=127.0, date=datetime.datetime(2019, 12, 28, 16, 0), latitude=33.025000000000006, longitude=-116.97499996666667, cumLag=0, lag-1=0.29999999999999716, lag-2=0.3999999999999986, lag-3=None, lag-4=None, lag-5=None, lag-6=None, lag-7=None, lag-Test=22.200000000000003, movingAvg=22.26666666666667),\n",
       " Row(precipitation_amount_mm=0.0, relative_humidity_%=38.900000000000006, specific_humidity_kg/kg=0.0049700000000000005, wind_speed_m/s=1.7000000000000002, max_air_temperature_K=287.9, min_air_temperature_K=275.2, burning_index_g_Unitless=15.0, dead_fuel_moisture_100hr_Percent=21.700000000000003, dead_fuel_moisture_1000hr_Percent=22.700000000000003, energy_release_component-g_Unitless=15.0, potential_evapotranspiration_mm=1.3, mean_vapor_pressure_deficit_kPa=0.42, surface_downwelling_shortwave_flux_in_air_W m-2=144.4, wind_from_direction_Degrees_Clockwise_from_north=237.0, date=datetime.datetime(2019, 12, 27, 16, 0), latitude=33.025000000000006, longitude=-116.97499996666667, cumLag=0, lag-1=0.20000000000000284, lag-2=0.5, lag-3=0.6000000000000014, lag-4=None, lag-5=None, lag-6=None, lag-7=None, lag-Test=22.5, movingAvg=22.375000000000004),\n",
       " Row(precipitation_amount_mm=0.0, relative_humidity_%=48.1, specific_humidity_kg/kg=0.00561, wind_speed_m/s=2.8000000000000003, max_air_temperature_K=287.1, min_air_temperature_K=275.2, burning_index_g_Unitless=16.0, dead_fuel_moisture_100hr_Percent=22.8, dead_fuel_moisture_1000hr_Percent=22.5, energy_release_component-g_Unitless=14.0, potential_evapotranspiration_mm=1.3, mean_vapor_pressure_deficit_kPa=0.28, surface_downwelling_shortwave_flux_in_air_W m-2=138.8, wind_from_direction_Degrees_Clockwise_from_north=320.0, date=datetime.datetime(2019, 12, 26, 16, 0), latitude=33.025000000000006, longitude=-116.97499996666667, cumLag=2, lag-1=-0.20000000000000284, lag-2=0.0, lag-3=0.29999999999999716, lag-4=0.3999999999999986, lag-5=None, lag-6=None, lag-7=None, lag-Test=22.700000000000003, movingAvg=22.400000000000002),\n",
       " Row(precipitation_amount_mm=9.3, relative_humidity_%=68.8, specific_humidity_kg/kg=0.0062900000000000005, wind_speed_m/s=5.4, max_air_temperature_K=284.2, min_air_temperature_K=275.2, burning_index_g_Unitless=0.0, dead_fuel_moisture_100hr_Percent=24.3, dead_fuel_moisture_1000hr_Percent=22.3, energy_release_component-g_Unitless=5.0, potential_evapotranspiration_mm=0.6000000000000001, mean_vapor_pressure_deficit_kPa=0.04, surface_downwelling_shortwave_flux_in_air_W m-2=88.10000000000001, wind_from_direction_Degrees_Clockwise_from_north=205.0, date=datetime.datetime(2019, 12, 25, 16, 0), latitude=33.025000000000006, longitude=-116.97499996666667, cumLag=3, lag-1=-0.1999999999999993, lag-2=-0.40000000000000213, lag-3=-0.1999999999999993, lag-4=0.09999999999999787, lag-5=0.1999999999999993, lag-6=None, lag-7=None, lag-Test=22.5, movingAvg=22.383333333333336),\n",
       " Row(precipitation_amount_mm=28.6, relative_humidity_%=72.9, specific_humidity_kg/kg=0.00649, wind_speed_m/s=5.0, max_air_temperature_K=283.9, min_air_temperature_K=279.9, burning_index_g_Unitless=0.0, dead_fuel_moisture_100hr_Percent=22.900000000000002, dead_fuel_moisture_1000hr_Percent=21.5, energy_release_component-g_Unitless=7.0, potential_evapotranspiration_mm=1.0, mean_vapor_pressure_deficit_kPa=0.13, surface_downwelling_shortwave_flux_in_air_W m-2=103.10000000000001, wind_from_direction_Degrees_Clockwise_from_north=186.0, date=datetime.datetime(2019, 12, 24, 16, 0), latitude=33.025000000000006, longitude=-116.97499996666667, cumLag=6, lag-1=-0.8000000000000007, lag-2=-1.0, lag-3=-1.2000000000000028, lag-4=-1.0, lag-5=-0.7000000000000028, lag-6=-0.6000000000000014, lag-7=None, lag-Test=22.3, movingAvg=22.25714285714286),\n",
       " Row(precipitation_amount_mm=3.4000000000000004, relative_humidity_%=65.4, specific_humidity_kg/kg=0.0071, wind_speed_m/s=3.4000000000000004, max_air_temperature_K=286.7, min_air_temperature_K=279.8, burning_index_g_Unitless=0.0, dead_fuel_moisture_100hr_Percent=20.200000000000003, dead_fuel_moisture_1000hr_Percent=20.5, energy_release_component-g_Unitless=11.0, potential_evapotranspiration_mm=1.0, mean_vapor_pressure_deficit_kPa=0.17, surface_downwelling_shortwave_flux_in_air_W m-2=82.2, wind_from_direction_Degrees_Clockwise_from_north=188.0, date=datetime.datetime(2019, 12, 23, 16, 0), latitude=33.025000000000006, longitude=-116.97499996666667, cumLag=7, lag-1=-1.0, lag-2=-1.8000000000000007, lag-3=-2.0, lag-4=-2.200000000000003, lag-5=-2.0, lag-6=-1.7000000000000028, lag-7=-1.6000000000000014, lag-Test=21.5, movingAvg=22.0375),\n",
       " Row(precipitation_amount_mm=15.0, relative_humidity_%=76.0, specific_humidity_kg/kg=0.007690000000000001, wind_speed_m/s=5.7, max_air_temperature_K=285.9, min_air_temperature_K=281.4, burning_index_g_Unitless=0.0, dead_fuel_moisture_100hr_Percent=18.900000000000002, dead_fuel_moisture_1000hr_Percent=20.1, energy_release_component-g_Unitless=11.0, potential_evapotranspiration_mm=0.7000000000000001, mean_vapor_pressure_deficit_kPa=0.09, surface_downwelling_shortwave_flux_in_air_W m-2=35.4, wind_from_direction_Degrees_Clockwise_from_north=49.0, date=datetime.datetime(2019, 12, 22, 16, 0), latitude=33.025000000000006, longitude=-116.97499996666667, cumLag=7, lag-1=-0.3999999999999986, lag-2=-1.3999999999999986, lag-3=-2.1999999999999993, lag-4=-2.3999999999999986, lag-5=-2.6000000000000014, lag-6=-2.3999999999999986, lag-7=-2.1000000000000014, lag-Test=20.5, movingAvg=21.787499999999998),\n",
       " Row(precipitation_amount_mm=5.0, relative_humidity_%=42.300000000000004, specific_humidity_kg/kg=0.00644, wind_speed_m/s=5.300000000000001, max_air_temperature_K=290.9, min_air_temperature_K=280.6, burning_index_g_Unitless=0.0, dead_fuel_moisture_100hr_Percent=13.9, dead_fuel_moisture_1000hr_Percent=18.6, energy_release_component-g_Unitless=20.0, potential_evapotranspiration_mm=2.3000000000000003, mean_vapor_pressure_deficit_kPa=0.54, surface_downwelling_shortwave_flux_in_air_W m-2=130.20000000000002, wind_from_direction_Degrees_Clockwise_from_north=16.0, date=datetime.datetime(2019, 12, 21, 16, 0), latitude=33.025000000000006, longitude=-116.97499996666667, cumLag=7, lag-1=-1.5, lag-2=-1.8999999999999986, lag-3=-2.8999999999999986, lag-4=-3.6999999999999993, lag-5=-3.8999999999999986, lag-6=-4.100000000000001, lag-7=-3.8999999999999986, lag-Test=20.1, movingAvg=21.3375),\n",
       " Row(precipitation_amount_mm=0.0, relative_humidity_%=13.5, specific_humidity_kg/kg=0.00394, wind_speed_m/s=2.9000000000000004, max_air_temperature_K=296.0, min_air_temperature_K=279.9, burning_index_g_Unitless=30.0, dead_fuel_moisture_100hr_Percent=10.8, dead_fuel_moisture_1000hr_Percent=18.400000000000002, energy_release_component-g_Unitless=36.0, potential_evapotranspiration_mm=3.1, mean_vapor_pressure_deficit_kPa=1.28, surface_downwelling_shortwave_flux_in_air_W m-2=140.4, wind_from_direction_Degrees_Clockwise_from_north=39.0, date=datetime.datetime(2019, 12, 20, 16, 0), latitude=33.025000000000006, longitude=-116.97499996666667, cumLag=7, lag-1=-0.1999999999999993, lag-2=-1.6999999999999993, lag-3=-2.099999999999998, lag-4=-3.099999999999998, lag-5=-3.8999999999999986, lag-6=-4.099999999999998, lag-7=-4.300000000000001, lag-Test=18.6, movingAvg=20.825),\n",
       " Row(precipitation_amount_mm=0.0, relative_humidity_%=9.600000000000001, specific_humidity_kg/kg=0.0032500000000000003, wind_speed_m/s=2.6, max_air_temperature_K=295.9, min_air_temperature_K=278.5, burning_index_g_Unitless=28.0, dead_fuel_moisture_100hr_Percent=12.100000000000001, dead_fuel_moisture_1000hr_Percent=18.900000000000002, energy_release_component-g_Unitless=35.0, potential_evapotranspiration_mm=2.9000000000000004, mean_vapor_pressure_deficit_kPa=1.33, surface_downwelling_shortwave_flux_in_air_W m-2=144.20000000000002, wind_from_direction_Degrees_Clockwise_from_north=134.0, date=datetime.datetime(2019, 12, 19, 16, 0), latitude=33.025000000000006, longitude=-116.97499996666667, cumLag=0, lag-1=0.5, lag-2=0.3000000000000007, lag-3=-1.1999999999999993, lag-4=-1.5999999999999979, lag-5=-2.599999999999998, lag-6=-3.3999999999999986, lag-7=-3.599999999999998, lag-Test=18.400000000000002, movingAvg=20.35),\n",
       " Row(precipitation_amount_mm=0.0, relative_humidity_%=27.400000000000002, specific_humidity_kg/kg=0.0046300000000000004, wind_speed_m/s=3.3000000000000003, max_air_temperature_K=291.0, min_air_temperature_K=273.2, burning_index_g_Unitless=26.0, dead_fuel_moisture_100hr_Percent=14.4, dead_fuel_moisture_1000hr_Percent=19.400000000000002, energy_release_component-g_Unitless=29.0, potential_evapotranspiration_mm=2.2, mean_vapor_pressure_deficit_kPa=0.61, surface_downwelling_shortwave_flux_in_air_W m-2=143.8, wind_from_direction_Degrees_Clockwise_from_north=244.0, date=datetime.datetime(2019, 12, 18, 16, 0), latitude=33.025000000000006, longitude=-116.97499996666667, cumLag=0, lag-1=0.5, lag-2=1.0, lag-3=0.8000000000000007, lag-4=-0.6999999999999993, lag-5=-1.0999999999999979, lag-6=-2.099999999999998, lag-7=-2.8999999999999986, lag-Test=18.900000000000002, movingAvg=19.962500000000002),\n",
       " Row(precipitation_amount_mm=0.0, relative_humidity_%=21.0, specific_humidity_kg/kg=0.0034300000000000003, wind_speed_m/s=2.8000000000000003, max_air_temperature_K=289.3, min_air_temperature_K=273.4, burning_index_g_Unitless=26.0, dead_fuel_moisture_100hr_Percent=12.5, dead_fuel_moisture_1000hr_Percent=19.6, energy_release_component-g_Unitless=31.0, potential_evapotranspiration_mm=2.1, mean_vapor_pressure_deficit_kPa=0.7000000000000001, surface_downwelling_shortwave_flux_in_air_W m-2=134.8, wind_from_direction_Degrees_Clockwise_from_north=202.0, date=datetime.datetime(2019, 12, 17, 16, 0), latitude=33.025000000000006, longitude=-116.97499996666667, cumLag=0, lag-1=0.1999999999999993, lag-2=0.6999999999999993, lag-3=1.1999999999999993, lag-4=1.0, lag-5=-0.5, lag-6=-0.8999999999999986, lag-7=-1.8999999999999986, lag-Test=19.400000000000002, movingAvg=19.625),\n",
       " Row(precipitation_amount_mm=0.0, relative_humidity_%=6.9, specific_humidity_kg/kg=0.0020900000000000003, wind_speed_m/s=4.5, max_air_temperature_K=291.2, min_air_temperature_K=279.8, burning_index_g_Unitless=33.0, dead_fuel_moisture_100hr_Percent=12.5, dead_fuel_moisture_1000hr_Percent=20.3, energy_release_component-g_Unitless=31.0, potential_evapotranspiration_mm=3.9000000000000004, mean_vapor_pressure_deficit_kPa=1.2, surface_downwelling_shortwave_flux_in_air_W m-2=142.5, wind_from_direction_Degrees_Clockwise_from_north=91.0, date=datetime.datetime(2019, 12, 16, 16, 0), latitude=33.025000000000006, longitude=-116.97499996666667, cumLag=0, lag-1=0.6999999999999993, lag-2=0.8999999999999986, lag-3=1.3999999999999986, lag-4=1.8999999999999986, lag-5=1.6999999999999993, lag-6=0.1999999999999993, lag-7=-0.1999999999999993, lag-Test=19.6, movingAvg=19.475000000000005),\n",
       " Row(precipitation_amount_mm=0.0, relative_humidity_%=18.400000000000002, specific_humidity_kg/kg=0.00318, wind_speed_m/s=4.3, max_air_temperature_K=289.5, min_air_temperature_K=281.8, burning_index_g_Unitless=28.0, dead_fuel_moisture_100hr_Percent=16.0, dead_fuel_moisture_1000hr_Percent=21.1, energy_release_component-g_Unitless=25.0, potential_evapotranspiration_mm=3.3000000000000003, mean_vapor_pressure_deficit_kPa=1.0, surface_downwelling_shortwave_flux_in_air_W m-2=146.20000000000002, wind_from_direction_Degrees_Clockwise_from_north=132.0, date=datetime.datetime(2019, 12, 15, 16, 0), latitude=33.025000000000006, longitude=-116.97499996666667, cumLag=0, lag-1=0.8000000000000007, lag-2=1.5, lag-3=1.6999999999999993, lag-4=2.1999999999999993, lag-5=2.6999999999999993, lag-6=2.5, lag-7=1.0, lag-Test=20.3, movingAvg=19.550000000000004),\n",
       " Row(precipitation_amount_mm=0.0, relative_humidity_%=58.300000000000004, specific_humidity_kg/kg=0.007050000000000001, wind_speed_m/s=5.300000000000001, max_air_temperature_K=288.1, min_air_temperature_K=274.4, burning_index_g_Unitless=24.0, dead_fuel_moisture_100hr_Percent=20.200000000000003, dead_fuel_moisture_1000hr_Percent=21.5, energy_release_component-g_Unitless=17.0, potential_evapotranspiration_mm=1.0, mean_vapor_pressure_deficit_kPa=0.09, surface_downwelling_shortwave_flux_in_air_W m-2=141.4, wind_from_direction_Degrees_Clockwise_from_north=300.0, date=datetime.datetime(2019, 12, 14, 16, 0), latitude=33.025000000000006, longitude=-116.97499996666667, cumLag=0, lag-1=0.3999999999999986, lag-2=1.1999999999999993, lag-3=1.8999999999999986, lag-4=2.099999999999998, lag-5=2.599999999999998, lag-6=3.099999999999998, lag-7=2.8999999999999986, lag-Test=21.1, movingAvg=19.725),\n",
       " Row(precipitation_amount_mm=0.30000000000000004, relative_humidity_%=72.10000000000001, specific_humidity_kg/kg=0.008700000000000001, wind_speed_m/s=2.0, max_air_temperature_K=288.5, min_air_temperature_K=282.0, burning_index_g_Unitless=14.0, dead_fuel_moisture_100hr_Percent=20.1, dead_fuel_moisture_1000hr_Percent=21.6, energy_release_component-g_Unitless=14.0, potential_evapotranspiration_mm=1.0, mean_vapor_pressure_deficit_kPa=0.09, surface_downwelling_shortwave_flux_in_air_W m-2=125.30000000000001, wind_from_direction_Degrees_Clockwise_from_north=226.0, date=datetime.datetime(2019, 12, 13, 16, 0), latitude=33.025000000000006, longitude=-116.97499996666667, cumLag=0, lag-1=0.10000000000000142, lag-2=0.5, lag-3=1.3000000000000007, lag-4=2.0, lag-5=2.1999999999999993, lag-6=2.6999999999999993, lag-7=3.1999999999999993, lag-Test=21.5, movingAvg=20.1),\n",
       " Row(precipitation_amount_mm=0.0, relative_humidity_%=37.4, specific_humidity_kg/kg=0.008270000000000001, wind_speed_m/s=1.5, max_air_temperature_K=296.5, min_air_temperature_K=279.7, burning_index_g_Unitless=16.0, dead_fuel_moisture_100hr_Percent=19.400000000000002, dead_fuel_moisture_1000hr_Percent=21.400000000000002, energy_release_component-g_Unitless=19.0, potential_evapotranspiration_mm=1.7000000000000002, mean_vapor_pressure_deficit_kPa=0.64, surface_downwelling_shortwave_flux_in_air_W m-2=139.1, wind_from_direction_Degrees_Clockwise_from_north=209.0, date=datetime.datetime(2019, 12, 12, 16, 0), latitude=33.025000000000006, longitude=-116.97499996666667, cumLag=2, lag-1=-0.1999999999999993, lag-2=-0.09999999999999787, lag-3=0.3000000000000007, lag-4=1.1000000000000014, lag-5=1.8000000000000007, lag-6=2.0, lag-7=2.5, lag-Test=21.6, movingAvg=20.475),\n",
       " Row(precipitation_amount_mm=0.0, relative_humidity_%=36.6, specific_humidity_kg/kg=0.00723, wind_speed_m/s=1.6, max_air_temperature_K=294.6, min_air_temperature_K=279.2, burning_index_g_Unitless=16.0, dead_fuel_moisture_100hr_Percent=19.700000000000003, dead_fuel_moisture_1000hr_Percent=21.400000000000002, energy_release_component-g_Unitless=19.0, potential_evapotranspiration_mm=1.6, mean_vapor_pressure_deficit_kPa=0.63, surface_downwelling_shortwave_flux_in_air_W m-2=136.70000000000002, wind_from_direction_Degrees_Clockwise_from_north=299.0, date=datetime.datetime(2019, 12, 11, 16, 0), latitude=33.025000000000006, longitude=-116.97499996666667, cumLag=3, lag-1=0.0, lag-2=-0.1999999999999993, lag-3=-0.09999999999999787, lag-4=0.3000000000000007, lag-5=1.1000000000000014, lag-6=1.8000000000000007, lag-7=2.0, lag-Test=21.400000000000002, movingAvg=20.7875)]"
      ]
     },
     "execution_count": 25,
     "metadata": {},
     "output_type": "execute_result"
    }
   ],
   "source": [
    "df.take(20)"
   ]
  },
  {
   "cell_type": "code",
   "execution_count": null,
   "metadata": {},
   "outputs": [],
   "source": []
  },
  {
   "cell_type": "code",
   "execution_count": null,
   "metadata": {},
   "outputs": [],
   "source": []
  }
 ],
 "metadata": {
  "kernelspec": {
   "display_name": "Python 3",
   "language": "python",
   "name": "python3"
  },
  "language_info": {
   "codemirror_mode": {
    "name": "ipython",
    "version": 3
   },
   "file_extension": ".py",
   "mimetype": "text/x-python",
   "name": "python",
   "nbconvert_exporter": "python",
   "pygments_lexer": "ipython3",
   "version": "3.7.4"
  }
 },
 "nbformat": 4,
 "nbformat_minor": 2
}
