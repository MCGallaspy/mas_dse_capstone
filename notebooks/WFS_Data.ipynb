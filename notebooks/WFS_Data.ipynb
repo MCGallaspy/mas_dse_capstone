{
 "cells": [
  {
   "cell_type": "code",
   "execution_count": 1,
   "metadata": {},
   "outputs": [],
   "source": [
    "%matplotlib inline\n",
    "import geopandas as gpd\n",
    "from requests import Request\n",
    "from owslib.wfs import WebFeatureService\n",
    "import urllib.parse\n"
   ]
  },
  {
   "cell_type": "code",
   "execution_count": 2,
   "metadata": {},
   "outputs": [],
   "source": [
    "url = \"https://firemap.sdsc.edu/geoserver/WIFIRE/ows?service=WFS&version=1.0.0&request=GetFeature&typeName=WIFIRE%3Aview_historical_fires&maxFeatures={}&cql_filter={}&outputFormat=application%2Fjson\""
   ]
  },
  {
   "cell_type": "code",
   "execution_count": 3,
   "metadata": {},
   "outputs": [
    {
     "name": "stdout",
     "output_type": "stream",
     "text": [
      "https://firemap.sdsc.edu/geoserver/WIFIRE/ows?service=WFS&version=1.0.0&request=GetFeature&typeName=WIFIRE%3Aview_historical_fires&maxFeatures=10000&cql_filter=perimeter_timestamp%3E2006-12-31%20AND%20perimeter_timestamp%3C2007-12-31&outputFormat=application%2Fjson\n"
     ]
    }
   ],
   "source": [
    "# Read data from URL\n",
    "max_data_size = 10000\n",
    "cql_filter=\"perimeter_timestamp>2006-12-31 AND perimeter_timestamp<2007-12-31\"\n",
    "print(url.format(max_data_size,urllib.parse.quote(cql_filter)))\n",
    "data = gpd.read_file(url.format(max_data_size,urllib.parse.quote(cql_filter)))"
   ]
  },
  {
   "cell_type": "code",
   "execution_count": 10,
   "metadata": {},
   "outputs": [
    {
     "data": {
      "text/html": [
       "<div>\n",
       "<style scoped>\n",
       "    .dataframe tbody tr th:only-of-type {\n",
       "        vertical-align: middle;\n",
       "    }\n",
       "\n",
       "    .dataframe tbody tr th {\n",
       "        vertical-align: top;\n",
       "    }\n",
       "\n",
       "    .dataframe thead th {\n",
       "        text-align: right;\n",
       "    }\n",
       "</style>\n",
       "<table border=\"1\" class=\"dataframe\">\n",
       "  <thead>\n",
       "    <tr style=\"text-align: right;\">\n",
       "      <th></th>\n",
       "      <th>id</th>\n",
       "      <th>year</th>\n",
       "      <th>fire_name</th>\n",
       "      <th>agency</th>\n",
       "      <th>acres</th>\n",
       "      <th>mapmethod</th>\n",
       "      <th>inciwebid</th>\n",
       "      <th>alarm_date</th>\n",
       "      <th>cont_date</th>\n",
       "      <th>comments</th>\n",
       "      <th>complex_name</th>\n",
       "      <th>perimeter_timestamp</th>\n",
       "      <th>cause</th>\n",
       "      <th>geometry</th>\n",
       "    </tr>\n",
       "  </thead>\n",
       "  <tbody>\n",
       "    <tr>\n",
       "      <td>0</td>\n",
       "      <td>view_historical_fires.fid--28c4e4c5_17020fcf19...</td>\n",
       "      <td>2007</td>\n",
       "      <td>Cottonwood Creek</td>\n",
       "      <td>State agency</td>\n",
       "      <td>8113.976</td>\n",
       "      <td>None</td>\n",
       "      <td>None</td>\n",
       "      <td>None</td>\n",
       "      <td>None</td>\n",
       "      <td>No Fire Number found</td>\n",
       "      <td>None</td>\n",
       "      <td>2007-07-19</td>\n",
       "      <td>None</td>\n",
       "      <td>MULTIPOLYGON (((-117.05286 45.93849, -117.0560...</td>\n",
       "    </tr>\n",
       "    <tr>\n",
       "      <td>1</td>\n",
       "      <td>view_historical_fires.fid--28c4e4c5_17020fcf19...</td>\n",
       "      <td>2007</td>\n",
       "      <td>Hepworth Complex</td>\n",
       "      <td>State agency</td>\n",
       "      <td>38504.912</td>\n",
       "      <td>None</td>\n",
       "      <td>None</td>\n",
       "      <td>None</td>\n",
       "      <td>None</td>\n",
       "      <td>None</td>\n",
       "      <td>None</td>\n",
       "      <td>2007-07-19</td>\n",
       "      <td>None</td>\n",
       "      <td>MULTIPOLYGON (((-114.99180 41.38624, -114.9916...</td>\n",
       "    </tr>\n",
       "    <tr>\n",
       "      <td>2</td>\n",
       "      <td>view_historical_fires.fid--28c4e4c5_17020fcf19...</td>\n",
       "      <td>2007</td>\n",
       "      <td>Tongue Complex</td>\n",
       "      <td>BLM</td>\n",
       "      <td>84.266</td>\n",
       "      <td>None</td>\n",
       "      <td>None</td>\n",
       "      <td>None</td>\n",
       "      <td>None</td>\n",
       "      <td>None</td>\n",
       "      <td>None</td>\n",
       "      <td>2007-07-06</td>\n",
       "      <td>None</td>\n",
       "      <td>MULTIPOLYGON (((-116.87478 42.26096, -116.8764...</td>\n",
       "    </tr>\n",
       "    <tr>\n",
       "      <td>3</td>\n",
       "      <td>view_historical_fires.fid--28c4e4c5_17020fcf19...</td>\n",
       "      <td>2007</td>\n",
       "      <td>Tongue Complex</td>\n",
       "      <td>BLM</td>\n",
       "      <td>9324.297</td>\n",
       "      <td>None</td>\n",
       "      <td>None</td>\n",
       "      <td>None</td>\n",
       "      <td>None</td>\n",
       "      <td>None</td>\n",
       "      <td>None</td>\n",
       "      <td>2007-07-08</td>\n",
       "      <td>None</td>\n",
       "      <td>MULTIPOLYGON (((-116.85625 42.25515, -116.8574...</td>\n",
       "    </tr>\n",
       "    <tr>\n",
       "      <td>4</td>\n",
       "      <td>view_historical_fires.fid--28c4e4c5_17020fcf19...</td>\n",
       "      <td>2007</td>\n",
       "      <td>Winecup Complex</td>\n",
       "      <td>BLM</td>\n",
       "      <td>142055.185</td>\n",
       "      <td>None</td>\n",
       "      <td>None</td>\n",
       "      <td>None</td>\n",
       "      <td>None</td>\n",
       "      <td>FireCode DSN7</td>\n",
       "      <td>None</td>\n",
       "      <td>2007-07-22</td>\n",
       "      <td>None</td>\n",
       "      <td>MULTIPOLYGON (((-114.05409 41.91623, -114.0529...</td>\n",
       "    </tr>\n",
       "  </tbody>\n",
       "</table>\n",
       "</div>"
      ],
      "text/plain": [
       "                                                  id  year         fire_name  \\\n",
       "0  view_historical_fires.fid--28c4e4c5_17020fcf19...  2007  Cottonwood Creek   \n",
       "1  view_historical_fires.fid--28c4e4c5_17020fcf19...  2007  Hepworth Complex   \n",
       "2  view_historical_fires.fid--28c4e4c5_17020fcf19...  2007    Tongue Complex   \n",
       "3  view_historical_fires.fid--28c4e4c5_17020fcf19...  2007    Tongue Complex   \n",
       "4  view_historical_fires.fid--28c4e4c5_17020fcf19...  2007   Winecup Complex   \n",
       "\n",
       "         agency       acres mapmethod inciwebid alarm_date cont_date  \\\n",
       "0  State agency    8113.976      None      None       None      None   \n",
       "1  State agency   38504.912      None      None       None      None   \n",
       "2           BLM      84.266      None      None       None      None   \n",
       "3           BLM    9324.297      None      None       None      None   \n",
       "4           BLM  142055.185      None      None       None      None   \n",
       "\n",
       "               comments complex_name perimeter_timestamp cause  \\\n",
       "0  No Fire Number found         None          2007-07-19  None   \n",
       "1                  None         None          2007-07-19  None   \n",
       "2                  None         None          2007-07-06  None   \n",
       "3                  None         None          2007-07-08  None   \n",
       "4         FireCode DSN7         None          2007-07-22  None   \n",
       "\n",
       "                                            geometry  \n",
       "0  MULTIPOLYGON (((-117.05286 45.93849, -117.0560...  \n",
       "1  MULTIPOLYGON (((-114.99180 41.38624, -114.9916...  \n",
       "2  MULTIPOLYGON (((-116.87478 42.26096, -116.8764...  \n",
       "3  MULTIPOLYGON (((-116.85625 42.25515, -116.8574...  \n",
       "4  MULTIPOLYGON (((-114.05409 41.91623, -114.0529...  "
      ]
     },
     "execution_count": 10,
     "metadata": {},
     "output_type": "execute_result"
    }
   ],
   "source": [
    "data.head()"
   ]
  },
  {
   "cell_type": "code",
   "execution_count": 12,
   "metadata": {},
   "outputs": [
    {
     "data": {
      "text/plain": [
       "0    POINT (-117.02574 45.95853)\n",
       "1    POINT (-115.06003 41.32634)\n",
       "2    POINT (-116.87542 42.26576)\n",
       "3    POINT (-116.86096 42.30960)\n",
       "4    POINT (-114.13619 41.76080)\n",
       "dtype: geometry"
      ]
     },
     "execution_count": 12,
     "metadata": {},
     "output_type": "execute_result"
    }
   ],
   "source": [
    "data.to_crs({'init': 'epsg:4326'}).head()[\"geometry\"].centroid"
   ]
  },
  {
   "cell_type": "code",
   "execution_count": null,
   "metadata": {},
   "outputs": [],
   "source": []
  },
  {
   "cell_type": "code",
   "execution_count": 18,
   "metadata": {},
   "outputs": [
    {
     "data": {
      "text/plain": [
       "'2012-06-16'"
      ]
     },
     "execution_count": 18,
     "metadata": {},
     "output_type": "execute_result"
    }
   ],
   "source": [
    "data[\"perimeter_timestamp\"].max()"
   ]
  },
  {
   "cell_type": "code",
   "execution_count": null,
   "metadata": {},
   "outputs": [],
   "source": []
  },
  {
   "cell_type": "code",
   "execution_count": 56,
   "metadata": {},
   "outputs": [
    {
     "name": "stdout",
     "output_type": "stream",
     "text": [
      "0\n",
      "1\n",
      "2\n",
      "3\n",
      "4\n",
      "5\n",
      "6\n",
      "7\n",
      "8\n",
      "9\n",
      "10\n",
      "11\n",
      "12\n",
      "13\n",
      "14\n",
      "15\n"
     ]
    },
    {
     "name": "stderr",
     "output_type": "stream",
     "text": [
      "C:\\Users\\marty\\Anaconda3\\lib\\site-packages\\pandas\\core\\frame.py:7123: FutureWarning: Sorting because non-concatenation axis is not aligned. A future version\n",
      "of pandas will change to not sort by default.\n",
      "\n",
      "To accept the future behavior, pass 'sort=False'.\n",
      "\n",
      "To retain the current behavior and silence the warning, pass 'sort=True'.\n",
      "\n",
      "  sort=sort,\n"
     ]
    }
   ],
   "source": [
    "count = 0\n",
    "fire_data = None\n",
    "date_range = 2005\n",
    "while True:\n",
    "    max_data_size = 20000\n",
    "    cql_filter=\"perimeter_timestamp>{}-12-31 AND perimeter_timestamp<{}-12-31\".format(str(date_range), str(date_range+1))\n",
    "    #print(url.format(max_data_size,urllib.parse.quote(cql_filter)))\n",
    "    \n",
    "    new_data =  gpd.read_file(url.format(max_data_size,urllib.parse.quote(cql_filter)))\n",
    "    print(count)\n",
    "    \n",
    "    if count == 0:\n",
    "        fire_data = new_data\n",
    "    else:\n",
    "        fire_data = fire_data.append(new_data)\n",
    "    if new_data.shape[0]==0:\n",
    "        break\n",
    "    date_range = date_range + 1\n",
    "    count += 1\n",
    "    "
   ]
  },
  {
   "cell_type": "code",
   "execution_count": 58,
   "metadata": {},
   "outputs": [
    {
     "data": {
      "text/plain": [
       "Human           636\n",
       "Natural         442\n",
       "Unknown         112\n",
       "Undetermined      3\n",
       "Name: cause, dtype: int64"
      ]
     },
     "execution_count": 58,
     "metadata": {},
     "output_type": "execute_result"
    }
   ],
   "source": [
    "fire_data[\"cause\"].value_counts()"
   ]
  },
  {
   "cell_type": "code",
   "execution_count": 39,
   "metadata": {},
   "outputs": [
    {
     "data": {
      "text/plain": [
       "0.0"
      ]
     },
     "execution_count": 39,
     "metadata": {},
     "output_type": "execute_result"
    }
   ],
   "source": [
    "fire_data['acres'].min()"
   ]
  },
  {
   "cell_type": "code",
   "execution_count": 57,
   "metadata": {},
   "outputs": [
    {
     "data": {
      "text/plain": [
       "<matplotlib.axes._subplots.AxesSubplot at 0x2d54949d648>"
      ]
     },
     "execution_count": 57,
     "metadata": {},
     "output_type": "execute_result"
    },
    {
     "data": {
      "image/png": "[encoded data removed]",
      "text/plain": [
       "<Figure size 432x288 with 1 Axes>"
      ]
     },
     "metadata": {
      "needs_background": "light"
     },
     "output_type": "display_data"
    }
   ],
   "source": [
    "fire_data['acres'].hist(bins=20)"
   ]
  },
  {
   "cell_type": "code",
   "execution_count": null,
   "metadata": {},
   "outputs": [],
   "source": []
  }
 ],
 "metadata": {
  "kernelspec": {
   "display_name": "Python 3",
   "language": "python",
   "name": "python3"
  },
  "language_info": {
   "codemirror_mode": {
    "name": "ipython",
    "version": 3
   },
   "file_extension": ".py",
   "mimetype": "text/x-python",
   "name": "python",
   "nbconvert_exporter": "python",
   "pygments_lexer": "ipython3",
   "version": "3.7.4"
  }
 },
 "nbformat": 4,
 "nbformat_minor": 2
}
