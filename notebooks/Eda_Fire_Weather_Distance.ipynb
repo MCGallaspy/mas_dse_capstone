{
 "cells": [
  {
   "cell_type": "code",
   "execution_count": 1,
   "metadata": {},
   "outputs": [],
   "source": [
    "%matplotlib inline\n",
    "import numpy as np\n",
    "import pandas as pd\n",
    "import geopandas as gpd\n",
    "from matplotlib import pyplot as plt\n",
    "#import contextily as ctx"
   ]
  },
  {
   "cell_type": "code",
   "execution_count": 2,
   "metadata": {},
   "outputs": [
    {
     "name": "stdout",
     "output_type": "stream",
     "text": [
      "(92531, 14)\n",
      "(92474, 14)\n"
     ]
    }
   ],
   "source": [
    "perimeters = gpd.read_file('hist.shp')\n",
    "print(perimeters.shape)\n",
    "perimeters = perimeters[~perimeters.year.isna()]\n",
    "perimeters.year = perimeters.year.astype(int)\n",
    "print(perimeters.shape)\n"
   ]
  },
  {
   "cell_type": "code",
   "execution_count": 3,
   "metadata": {},
   "outputs": [],
   "source": [
    "# Latitude and longitude bounding box for San Diego county\n",
    "from shapely.geometry import Point\n",
    "MIN_LAT, MAX_LAT = 32.4, 33.6\n",
    "MIN_LONG, MAX_LONG = -118, -116\n",
    "sd_perimeters = perimeters.cx[MIN_LONG:MAX_LONG, MIN_LAT:MAX_LAT]"
   ]
  },
  {
   "cell_type": "code",
   "execution_count": 4,
   "metadata": {},
   "outputs": [
    {
     "data": {
      "text/plain": [
       "(2004, 14)"
      ]
     },
     "execution_count": 4,
     "metadata": {},
     "output_type": "execute_result"
    }
   ],
   "source": [
    "sd_perimeters.shape"
   ]
  },
  {
   "cell_type": "code",
   "execution_count": 54,
   "metadata": {},
   "outputs": [
    {
     "data": {
      "text/html": [
       "<div>\n",
       "<style scoped>\n",
       "    .dataframe tbody tr th:only-of-type {\n",
       "        vertical-align: middle;\n",
       "    }\n",
       "\n",
       "    .dataframe tbody tr th {\n",
       "        vertical-align: top;\n",
       "    }\n",
       "\n",
       "    .dataframe thead th {\n",
       "        text-align: right;\n",
       "    }\n",
       "</style>\n",
       "<table border=\"1\" class=\"dataframe\">\n",
       "  <thead>\n",
       "    <tr style=\"text-align: right;\">\n",
       "      <th></th>\n",
       "      <th>id</th>\n",
       "      <th>year</th>\n",
       "      <th>fire_name</th>\n",
       "      <th>agency</th>\n",
       "      <th>acres</th>\n",
       "      <th>mapmethod</th>\n",
       "      <th>inciwebid</th>\n",
       "      <th>alarm_date</th>\n",
       "      <th>cont_date</th>\n",
       "      <th>comments</th>\n",
       "      <th>complex_na</th>\n",
       "      <th>perimeter_</th>\n",
       "      <th>cause</th>\n",
       "      <th>geometry</th>\n",
       "    </tr>\n",
       "  </thead>\n",
       "  <tbody>\n",
       "    <tr>\n",
       "      <th>230</th>\n",
       "      <td>view_historical_fires.fid--6c64548_17013a0304a...</td>\n",
       "      <td>2006</td>\n",
       "      <td>Bonny</td>\n",
       "      <td>BLM</td>\n",
       "      <td>35.437000</td>\n",
       "      <td>None</td>\n",
       "      <td>None</td>\n",
       "      <td>None</td>\n",
       "      <td>None</td>\n",
       "      <td>None</td>\n",
       "      <td>None</td>\n",
       "      <td>2006-06-06</td>\n",
       "      <td>None</td>\n",
       "      <td>POLYGON ((-116.74407 33.46589, -116.74390 33.4...</td>\n",
       "    </tr>\n",
       "    <tr>\n",
       "      <th>272</th>\n",
       "      <td>view_historical_fires.fid--6c64548_17013a0304a...</td>\n",
       "      <td>2006</td>\n",
       "      <td>BORDER 15</td>\n",
       "      <td>CDF</td>\n",
       "      <td>19.854897</td>\n",
       "      <td>None</td>\n",
       "      <td>None</td>\n",
       "      <td>None</td>\n",
       "      <td>None</td>\n",
       "      <td>GPS Ground; No entry in FireCode</td>\n",
       "      <td>None</td>\n",
       "      <td>2006-07-15</td>\n",
       "      <td>None</td>\n",
       "      <td>POLYGON ((-116.60122 32.57950, -116.60096 32.5...</td>\n",
       "    </tr>\n",
       "    <tr>\n",
       "      <th>285</th>\n",
       "      <td>view_historical_fires.fid--6c64548_17013a0304a...</td>\n",
       "      <td>2006</td>\n",
       "      <td>CAMINO</td>\n",
       "      <td>CDF</td>\n",
       "      <td>2.808180</td>\n",
       "      <td>None</td>\n",
       "      <td>None</td>\n",
       "      <td>None</td>\n",
       "      <td>None</td>\n",
       "      <td>No entry in FireCode</td>\n",
       "      <td>None</td>\n",
       "      <td>2006-02-09</td>\n",
       "      <td>None</td>\n",
       "      <td>POLYGON ((-117.17085 33.26876, -117.17082 33.2...</td>\n",
       "    </tr>\n",
       "    <tr>\n",
       "      <th>589</th>\n",
       "      <td>view_historical_fires.fid--6c64548_17013a0304a...</td>\n",
       "      <td>2006</td>\n",
       "      <td>Horse Fire</td>\n",
       "      <td>USFS</td>\n",
       "      <td>7041.781000</td>\n",
       "      <td>None</td>\n",
       "      <td>None</td>\n",
       "      <td>None</td>\n",
       "      <td>None</td>\n",
       "      <td>None</td>\n",
       "      <td>None</td>\n",
       "      <td>2006-07-24</td>\n",
       "      <td>None</td>\n",
       "      <td>POLYGON ((-116.66902 32.75694, -116.66814 32.7...</td>\n",
       "    </tr>\n",
       "    <tr>\n",
       "      <th>673</th>\n",
       "      <td>view_historical_fires.fid--6c64548_17013a0304a...</td>\n",
       "      <td>2006</td>\n",
       "      <td>Cottonwood</td>\n",
       "      <td>BLM</td>\n",
       "      <td>24.682000</td>\n",
       "      <td>None</td>\n",
       "      <td>None</td>\n",
       "      <td>None</td>\n",
       "      <td>None</td>\n",
       "      <td>None</td>\n",
       "      <td>None</td>\n",
       "      <td>2006-05-03</td>\n",
       "      <td>None</td>\n",
       "      <td>POLYGON ((-116.33607 32.80524, -116.33629 32.8...</td>\n",
       "    </tr>\n",
       "  </tbody>\n",
       "</table>\n",
       "</div>"
      ],
      "text/plain": [
       "                                                    id  year   fire_name  \\\n",
       "230  view_historical_fires.fid--6c64548_17013a0304a...  2006       Bonny   \n",
       "272  view_historical_fires.fid--6c64548_17013a0304a...  2006   BORDER 15   \n",
       "285  view_historical_fires.fid--6c64548_17013a0304a...  2006      CAMINO   \n",
       "589  view_historical_fires.fid--6c64548_17013a0304a...  2006  Horse Fire   \n",
       "673  view_historical_fires.fid--6c64548_17013a0304a...  2006  Cottonwood   \n",
       "\n",
       "    agency        acres mapmethod inciwebid alarm_date cont_date  \\\n",
       "230    BLM    35.437000      None      None       None      None   \n",
       "272    CDF    19.854897      None      None       None      None   \n",
       "285    CDF     2.808180      None      None       None      None   \n",
       "589   USFS  7041.781000      None      None       None      None   \n",
       "673    BLM    24.682000      None      None       None      None   \n",
       "\n",
       "                             comments complex_na  perimeter_ cause  \\\n",
       "230                              None       None  2006-06-06  None   \n",
       "272  GPS Ground; No entry in FireCode       None  2006-07-15  None   \n",
       "285              No entry in FireCode       None  2006-02-09  None   \n",
       "589                              None       None  2006-07-24  None   \n",
       "673                              None       None  2006-05-03  None   \n",
       "\n",
       "                                              geometry  \n",
       "230  POLYGON ((-116.74407 33.46589, -116.74390 33.4...  \n",
       "272  POLYGON ((-116.60122 32.57950, -116.60096 32.5...  \n",
       "285  POLYGON ((-117.17085 33.26876, -117.17082 33.2...  \n",
       "589  POLYGON ((-116.66902 32.75694, -116.66814 32.7...  \n",
       "673  POLYGON ((-116.33607 32.80524, -116.33629 32.8...  "
      ]
     },
     "execution_count": 54,
     "metadata": {},
     "output_type": "execute_result"
    }
   ],
   "source": [
    "sd_perimeters.head()"
   ]
  },
  {
   "cell_type": "code",
   "execution_count": 5,
   "metadata": {},
   "outputs": [],
   "source": [
    "res_intersection = gpd.overlay(sd_perimeters, sd_perimeters, how='intersection')"
   ]
  },
  {
   "cell_type": "code",
   "execution_count": 6,
   "metadata": {},
   "outputs": [
    {
     "data": {
      "text/plain": [
       "(23360, 27)"
      ]
     },
     "execution_count": 6,
     "metadata": {},
     "output_type": "execute_result"
    }
   ],
   "source": [
    "res_intersection.shape"
   ]
  },
  {
   "cell_type": "code",
   "execution_count": 7,
   "metadata": {},
   "outputs": [
    {
     "data": {
      "text/html": [
       "<div>\n",
       "<style scoped>\n",
       "    .dataframe tbody tr th:only-of-type {\n",
       "        vertical-align: middle;\n",
       "    }\n",
       "\n",
       "    .dataframe tbody tr th {\n",
       "        vertical-align: top;\n",
       "    }\n",
       "\n",
       "    .dataframe thead th {\n",
       "        text-align: right;\n",
       "    }\n",
       "</style>\n",
       "<table border=\"1\" class=\"dataframe\">\n",
       "  <thead>\n",
       "    <tr style=\"text-align: right;\">\n",
       "      <th></th>\n",
       "      <th>id_1</th>\n",
       "      <th>year_1</th>\n",
       "      <th>fire_name_1</th>\n",
       "      <th>agency_1</th>\n",
       "      <th>acres_1</th>\n",
       "      <th>mapmethod_1</th>\n",
       "      <th>inciwebid_1</th>\n",
       "      <th>alarm_date_1</th>\n",
       "      <th>cont_date_1</th>\n",
       "      <th>comments_1</th>\n",
       "      <th>...</th>\n",
       "      <th>acres_2</th>\n",
       "      <th>mapmethod_2</th>\n",
       "      <th>inciwebid_2</th>\n",
       "      <th>alarm_date_2</th>\n",
       "      <th>cont_date_2</th>\n",
       "      <th>comments_2</th>\n",
       "      <th>complex_na_2</th>\n",
       "      <th>perimeter__2</th>\n",
       "      <th>cause_2</th>\n",
       "      <th>geometry</th>\n",
       "    </tr>\n",
       "  </thead>\n",
       "  <tbody>\n",
       "    <tr>\n",
       "      <th>0</th>\n",
       "      <td>view_historical_fires.fid--6c64548_17013a0304a...</td>\n",
       "      <td>2006</td>\n",
       "      <td>Bonny</td>\n",
       "      <td>BLM</td>\n",
       "      <td>35.437000</td>\n",
       "      <td>None</td>\n",
       "      <td>None</td>\n",
       "      <td>None</td>\n",
       "      <td>None</td>\n",
       "      <td>None</td>\n",
       "      <td>...</td>\n",
       "      <td>35.437000</td>\n",
       "      <td>None</td>\n",
       "      <td>None</td>\n",
       "      <td>None</td>\n",
       "      <td>None</td>\n",
       "      <td>None</td>\n",
       "      <td>None</td>\n",
       "      <td>2006-06-06</td>\n",
       "      <td>None</td>\n",
       "      <td>POLYGON ((-116.74407 33.46589, -116.74390 33.4...</td>\n",
       "    </tr>\n",
       "    <tr>\n",
       "      <th>1</th>\n",
       "      <td>view_historical_fires.fid--6c64548_17013b48366...</td>\n",
       "      <td>2006</td>\n",
       "      <td>BONNY</td>\n",
       "      <td>BLM</td>\n",
       "      <td>35.437191</td>\n",
       "      <td>None</td>\n",
       "      <td>None</td>\n",
       "      <td>2006-06-01</td>\n",
       "      <td>2006-06-03</td>\n",
       "      <td>None</td>\n",
       "      <td>...</td>\n",
       "      <td>35.437000</td>\n",
       "      <td>None</td>\n",
       "      <td>None</td>\n",
       "      <td>None</td>\n",
       "      <td>None</td>\n",
       "      <td>None</td>\n",
       "      <td>None</td>\n",
       "      <td>2006-06-06</td>\n",
       "      <td>None</td>\n",
       "      <td>POLYGON ((-116.74161 33.46726, -116.74161 33.4...</td>\n",
       "    </tr>\n",
       "    <tr>\n",
       "      <th>2</th>\n",
       "      <td>view_historical_fires.fid--6c64548_17013a0304a...</td>\n",
       "      <td>2006</td>\n",
       "      <td>Bonny</td>\n",
       "      <td>BLM</td>\n",
       "      <td>35.437000</td>\n",
       "      <td>None</td>\n",
       "      <td>None</td>\n",
       "      <td>None</td>\n",
       "      <td>None</td>\n",
       "      <td>None</td>\n",
       "      <td>...</td>\n",
       "      <td>35.437191</td>\n",
       "      <td>None</td>\n",
       "      <td>None</td>\n",
       "      <td>2006-06-01</td>\n",
       "      <td>2006-06-03</td>\n",
       "      <td>None</td>\n",
       "      <td>None</td>\n",
       "      <td>None</td>\n",
       "      <td>14</td>\n",
       "      <td>POLYGON ((-116.74407 33.46589, -116.74390 33.4...</td>\n",
       "    </tr>\n",
       "    <tr>\n",
       "      <th>3</th>\n",
       "      <td>view_historical_fires.fid--6c64548_17013b48366...</td>\n",
       "      <td>2006</td>\n",
       "      <td>BONNY</td>\n",
       "      <td>BLM</td>\n",
       "      <td>35.437191</td>\n",
       "      <td>None</td>\n",
       "      <td>None</td>\n",
       "      <td>2006-06-01</td>\n",
       "      <td>2006-06-03</td>\n",
       "      <td>None</td>\n",
       "      <td>...</td>\n",
       "      <td>35.437191</td>\n",
       "      <td>None</td>\n",
       "      <td>None</td>\n",
       "      <td>2006-06-01</td>\n",
       "      <td>2006-06-03</td>\n",
       "      <td>None</td>\n",
       "      <td>None</td>\n",
       "      <td>None</td>\n",
       "      <td>14</td>\n",
       "      <td>POLYGON ((-116.74407 33.46589, -116.74390 33.4...</td>\n",
       "    </tr>\n",
       "    <tr>\n",
       "      <th>4</th>\n",
       "      <td>view_historical_fires.fid--6c64548_17013a0304a...</td>\n",
       "      <td>2006</td>\n",
       "      <td>BORDER 15</td>\n",
       "      <td>CDF</td>\n",
       "      <td>19.854897</td>\n",
       "      <td>None</td>\n",
       "      <td>None</td>\n",
       "      <td>None</td>\n",
       "      <td>None</td>\n",
       "      <td>GPS Ground; No entry in FireCode</td>\n",
       "      <td>...</td>\n",
       "      <td>19.854897</td>\n",
       "      <td>None</td>\n",
       "      <td>None</td>\n",
       "      <td>None</td>\n",
       "      <td>None</td>\n",
       "      <td>GPS Ground; No entry in FireCode</td>\n",
       "      <td>None</td>\n",
       "      <td>2006-07-15</td>\n",
       "      <td>None</td>\n",
       "      <td>POLYGON ((-116.60122 32.57950, -116.60096 32.5...</td>\n",
       "    </tr>\n",
       "  </tbody>\n",
       "</table>\n",
       "<p>5 rows × 27 columns</p>\n",
       "</div>"
      ],
      "text/plain": [
       "                                                id_1  year_1 fire_name_1  \\\n",
       "0  view_historical_fires.fid--6c64548_17013a0304a...    2006       Bonny   \n",
       "1  view_historical_fires.fid--6c64548_17013b48366...    2006       BONNY   \n",
       "2  view_historical_fires.fid--6c64548_17013a0304a...    2006       Bonny   \n",
       "3  view_historical_fires.fid--6c64548_17013b48366...    2006       BONNY   \n",
       "4  view_historical_fires.fid--6c64548_17013a0304a...    2006   BORDER 15   \n",
       "\n",
       "  agency_1    acres_1 mapmethod_1 inciwebid_1 alarm_date_1 cont_date_1  \\\n",
       "0      BLM  35.437000        None        None         None        None   \n",
       "1      BLM  35.437191        None        None   2006-06-01  2006-06-03   \n",
       "2      BLM  35.437000        None        None         None        None   \n",
       "3      BLM  35.437191        None        None   2006-06-01  2006-06-03   \n",
       "4      CDF  19.854897        None        None         None        None   \n",
       "\n",
       "                         comments_1  ...    acres_2 mapmethod_2 inciwebid_2  \\\n",
       "0                              None  ...  35.437000        None        None   \n",
       "1                              None  ...  35.437000        None        None   \n",
       "2                              None  ...  35.437191        None        None   \n",
       "3                              None  ...  35.437191        None        None   \n",
       "4  GPS Ground; No entry in FireCode  ...  19.854897        None        None   \n",
       "\n",
       "  alarm_date_2  cont_date_2                        comments_2 complex_na_2  \\\n",
       "0         None         None                              None         None   \n",
       "1         None         None                              None         None   \n",
       "2   2006-06-01   2006-06-03                              None         None   \n",
       "3   2006-06-01   2006-06-03                              None         None   \n",
       "4         None         None  GPS Ground; No entry in FireCode         None   \n",
       "\n",
       "   perimeter__2 cause_2                                           geometry  \n",
       "0    2006-06-06    None  POLYGON ((-116.74407 33.46589, -116.74390 33.4...  \n",
       "1    2006-06-06    None  POLYGON ((-116.74161 33.46726, -116.74161 33.4...  \n",
       "2          None      14  POLYGON ((-116.74407 33.46589, -116.74390 33.4...  \n",
       "3          None      14  POLYGON ((-116.74407 33.46589, -116.74390 33.4...  \n",
       "4    2006-07-15    None  POLYGON ((-116.60122 32.57950, -116.60096 32.5...  \n",
       "\n",
       "[5 rows x 27 columns]"
      ]
     },
     "execution_count": 7,
     "metadata": {},
     "output_type": "execute_result"
    }
   ],
   "source": [
    "res_intersection.head()"
   ]
  },
  {
   "cell_type": "code",
   "execution_count": 55,
   "metadata": {},
   "outputs": [],
   "source": [
    "rs = res_intersection.copy()\n",
    "rs = rs[rs[\"year_1\"]>rs[\"year_2\"]]"
   ]
  },
  {
   "cell_type": "code",
   "execution_count": 64,
   "metadata": {},
   "outputs": [
    {
     "data": {
      "text/plain": [
       "(9618, 27)"
      ]
     },
     "execution_count": 64,
     "metadata": {},
     "output_type": "execute_result"
    }
   ],
   "source": [
    "rs.shape"
   ]
  },
  {
   "cell_type": "code",
   "execution_count": 26,
   "metadata": {},
   "outputs": [],
   "source": [
    "orgGridDf = pd.read_parquet('gridMet.parquet.gz').reset_index()"
   ]
  },
  {
   "cell_type": "code",
   "execution_count": 27,
   "metadata": {},
   "outputs": [],
   "source": [
    "gridCoor = orgGridDf[[\"latitude\",\"longitude\"]].drop_duplicates()"
   ]
  },
  {
   "cell_type": "code",
   "execution_count": 29,
   "metadata": {},
   "outputs": [
    {
     "data": {
      "text/plain": [
       "(1392, 2)"
      ]
     },
     "execution_count": 29,
     "metadata": {},
     "output_type": "execute_result"
    }
   ],
   "source": [
    "gridCoor.shape"
   ]
  },
  {
   "cell_type": "code",
   "execution_count": 30,
   "metadata": {},
   "outputs": [],
   "source": [
    "gridCompare = gpd.GeoDataFrame(gridCoor, geometry=gpd.points_from_xy(gridCoor.longitude, gridCoor.latitude))"
   ]
  },
  {
   "cell_type": "code",
   "execution_count": 24,
   "metadata": {},
   "outputs": [],
   "source": [
    "gridCoor = gridDf[[\"latitude\",\"longitude\"]].drop_duplicates()"
   ]
  },
  {
   "cell_type": "code",
   "execution_count": 25,
   "metadata": {},
   "outputs": [
    {
     "data": {
      "text/plain": [
       "(1392, 2)"
      ]
     },
     "execution_count": 25,
     "metadata": {},
     "output_type": "execute_result"
    }
   ],
   "source": [
    "gridCoor"
   ]
  },
  {
   "cell_type": "code",
   "execution_count": 105,
   "metadata": {},
   "outputs": [],
   "source": [
    "overlapFire = rs.iloc[0]\n",
    "coords = gridCompare.iloc[gridCompare.distance(overlapFire[\"geometry\"].centroid).idxmin()]\n",
    "lat = coords[\"latitude\"]\n",
    "long = coords[\"longitude\"]"
   ]
  },
  {
   "cell_type": "code",
   "execution_count": 106,
   "metadata": {},
   "outputs": [],
   "source": [
    "closeStationDf = orgGridDf[(orgGridDf[\"latitude\"]==lat)&(orgGridDf[\"longitude\"]==long)]"
   ]
  },
  {
   "cell_type": "code",
   "execution_count": 107,
   "metadata": {},
   "outputs": [],
   "source": [
    "mask1 = closeStationDf.date.dt.year == overlapFire.year_1\n",
    "mask2 = closeStationDf.date.dt.year == overlapFire.year_2"
   ]
  },
  {
   "cell_type": "code",
   "execution_count": 108,
   "metadata": {},
   "outputs": [
    {
     "data": {
      "text/plain": [
       "Index(['date', 'latitude', 'longitude', 'precipitation_amount_mm',\n",
       "       'relative_humidity_%', 'specific_humidity_kg/kg',\n",
       "       'surface_downwelling_shortwave_flux_in_air_W m-2',\n",
       "       'wind_from_direction_Degrees Clockwise from north', 'wind_speed_m/s',\n",
       "       'max_air_temperature_K', 'min_air_temperature_K',\n",
       "       'burning_index_g_Unitless', 'dead_fuel_moisture_100hr_Percent',\n",
       "       'dead_fuel_moisture_1000hr_Percent',\n",
       "       'energy_release_component-g_Unitless',\n",
       "       'potential_evapotranspiration_mm', 'mean_vapor_pressure_deficit_kPa'],\n",
       "      dtype='object')"
      ]
     },
     "execution_count": 108,
     "metadata": {},
     "output_type": "execute_result"
    }
   ],
   "source": [
    "closeStationDf.columns"
   ]
  },
  {
   "cell_type": "code",
   "execution_count": 109,
   "metadata": {},
   "outputs": [
    {
     "name": "stdout",
     "output_type": "stream",
     "text": [
      "2007-10-25\n"
     ]
    },
    {
     "data": {
      "text/plain": [
       "<matplotlib.lines.Line2D at 0x201504a54e0>"
      ]
     },
     "execution_count": 109,
     "metadata": {},
     "output_type": "execute_result"
    },
    {
     "data": {
      "image/png": "[encoded data removed]",
      "text/plain": [
       "<Figure size 432x288 with 1 Axes>"
      ]
     },
     "metadata": {
      "needs_background": "light"
     },
     "output_type": "display_data"
    }
   ],
   "source": [
    "print(overlapFire.perimeter__1)\n",
    "plt = closeStationDf[mask1].plot(x='date',\n",
    "                      y='dead_fuel_moisture_100hr_Percent',\n",
    "                      c='DarkBlue')\n",
    "\n",
    "plt.axvline(overlapFire.perimeter__1, color=\"red\", linestyle=\"--\")"
   ]
  },
  {
   "cell_type": "code",
   "execution_count": 110,
   "metadata": {},
   "outputs": [
    {
     "name": "stdout",
     "output_type": "stream",
     "text": [
      "2006-07-15\n"
     ]
    },
    {
     "data": {
      "text/plain": [
       "<matplotlib.lines.Line2D at 0x20150539710>"
      ]
     },
     "execution_count": 110,
     "metadata": {},
     "output_type": "execute_result"
    },
    {
     "data": {
      "image/png": "[encoded data removed]",
      "text/plain": [
       "<Figure size 432x288 with 1 Axes>"
      ]
     },
     "metadata": {
      "needs_background": "light"
     },
     "output_type": "display_data"
    }
   ],
   "source": [
    "print(overlapFire.perimeter__2)\n",
    "plt = closeStationDf[mask2].plot(x='date',\n",
    "                      y='dead_fuel_moisture_100hr_Percent',\n",
    "                      c='DarkBlue')\n",
    "plt.axvline(overlapFire.perimeter__2, color=\"red\", linestyle=\"--\")"
   ]
  },
  {
   "cell_type": "code",
   "execution_count": 111,
   "metadata": {},
   "outputs": [
    {
     "data": {
      "text/plain": [
       "id_1            view_historical_fires.fid--6c64548_17013a0304a...\n",
       "year_1                                                       2007\n",
       "fire_name_1                                                Harris\n",
       "agency_1                                             State agency\n",
       "acres_1                                                   65333.8\n",
       "mapmethod_1                                                  None\n",
       "inciwebid_1                                                  None\n",
       "alarm_date_1                                                 None\n",
       "cont_date_1                                                  None\n",
       "comments_1                                                   None\n",
       "complex_na_1                                                 None\n",
       "perimeter__1                                           2007-10-25\n",
       "cause_1                                                      None\n",
       "id_2            view_historical_fires.fid--6c64548_17013a0304a...\n",
       "year_2                                                       2006\n",
       "fire_name_2                                             BORDER 15\n",
       "agency_2                                                      CDF\n",
       "acres_2                                                   19.8549\n",
       "mapmethod_2                                                  None\n",
       "inciwebid_2                                                  None\n",
       "alarm_date_2                                                 None\n",
       "cont_date_2                                                  None\n",
       "comments_2                       GPS Ground; No entry in FireCode\n",
       "complex_na_2                                                 None\n",
       "perimeter__2                                           2006-07-15\n",
       "cause_2                                                      None\n",
       "geometry        POLYGON ((-116.60121705 32.57950155, -116.6009...\n",
       "Name: 5, dtype: object"
      ]
     },
     "execution_count": 111,
     "metadata": {},
     "output_type": "execute_result"
    }
   ],
   "source": [
    "overlapFire"
   ]
  },
  {
   "cell_type": "code",
   "execution_count": null,
   "metadata": {},
   "outputs": [],
   "source": []
  }
 ],
 "metadata": {
  "kernelspec": {
   "display_name": "Python 3",
   "language": "python",
   "name": "python3"
  },
  "language_info": {
   "codemirror_mode": {
    "name": "ipython",
    "version": 3
   },
   "file_extension": ".py",
   "mimetype": "text/x-python",
   "name": "python",
   "nbconvert_exporter": "python",
   "pygments_lexer": "ipython3",
   "version": "3.7.3"
  }
 },
 "nbformat": 4,
 "nbformat_minor": 2
}
